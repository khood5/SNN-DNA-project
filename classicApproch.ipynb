{
 "cells": [
  {
   "cell_type": "code",
   "execution_count": 2,
   "metadata": {},
   "outputs": [],
   "source": [
    "import pandas as pd\n",
    "import os\n",
    "import h5py\n",
    "import numpy as np\n",
    "import matplotlib.pyplot as plt\n",
    "import torch\n",
    "from torch.utils.data import Dataset, DataLoader\n",
    "import IPython.display as display\n",
    "from matplotlib import animation"
   ]
  },
  {
   "cell_type": "code",
   "execution_count": 3,
   "metadata": {},
   "outputs": [
    {
     "data": {
      "text/plain": [
       "(array([[  1.  ,  14.15],\n",
       "        [  1.  ,  14.4 ],\n",
       "        [  1.  ,  18.8 ],\n",
       "        [  1.  ,  20.55],\n",
       "        [  1.  ,  22.9 ],\n",
       "        [  1.  ,  25.6 ],\n",
       "        [  1.  ,  27.2 ],\n",
       "        [  1.  ,  31.45],\n",
       "        [  1.  ,  33.45],\n",
       "        [  1.  ,  36.05],\n",
       "        [  1.  ,  36.25],\n",
       "        [  1.  ,  36.65],\n",
       "        [  1.  ,  37.05],\n",
       "        [  1.  ,  37.2 ],\n",
       "        [  1.  ,  39.15],\n",
       "        [  1.  ,  41.3 ],\n",
       "        [  1.  ,  42.8 ],\n",
       "        [  1.  ,  47.4 ],\n",
       "        [  1.  ,  57.1 ],\n",
       "        [  1.  ,  60.1 ],\n",
       "        [  1.  ,  62.85],\n",
       "        [  1.  , 118.1 ],\n",
       "        [  1.  , 128.55],\n",
       "        [  1.  , 143.4 ],\n",
       "        [  1.  , 144.25],\n",
       "        [  1.  , 147.85],\n",
       "        [  1.  , 148.45],\n",
       "        [  1.  , 154.05],\n",
       "        [  1.  , 161.15],\n",
       "        [  1.  , 164.25],\n",
       "        [  1.  , 181.6 ],\n",
       "        [  1.  , 192.65],\n",
       "        [  1.  , 199.6 ],\n",
       "        [  1.  , 203.95],\n",
       "        [  1.  , 204.9 ],\n",
       "        [  1.  , 205.3 ],\n",
       "        [  1.  , 205.6 ],\n",
       "        [  1.  , 205.85],\n",
       "        [  1.  , 216.65],\n",
       "        [  1.  , 235.55],\n",
       "        [  1.  , 265.85],\n",
       "        [  1.  , 277.6 ],\n",
       "        [  1.  , 289.8 ]]),\n",
       " array([[1.00000e+00, 1.41500e+01],\n",
       "        [1.00000e+00, 1.44000e+01],\n",
       "        [1.00000e+00, 1.88000e+01],\n",
       "        [1.00000e+00, 2.05500e+01],\n",
       "        [1.00000e+00, 2.29000e+01],\n",
       "        [1.00000e+00, 2.56000e+01],\n",
       "        [1.00000e+00, 2.72000e+01],\n",
       "        [1.00000e+00, 3.14500e+01],\n",
       "        [1.00000e+00, 3.34500e+01],\n",
       "        [1.00000e+00, 3.60500e+01],\n",
       "        [1.00000e+00, 3.62500e+01],\n",
       "        [1.00000e+00, 3.66500e+01],\n",
       "        [1.00000e+00, 3.70500e+01],\n",
       "        [1.00000e+00, 3.72000e+01],\n",
       "        [1.00000e+00, 3.91500e+01],\n",
       "        [1.00000e+00, 4.13000e+01],\n",
       "        [1.00000e+00, 4.28000e+01],\n",
       "        [1.00000e+00, 4.74000e+01],\n",
       "        [1.00000e+00, 5.71000e+01],\n",
       "        [1.00000e+00, 6.01000e+01],\n",
       "        [1.00000e+00, 6.28500e+01],\n",
       "        [1.00000e+00, 1.18100e+02],\n",
       "        [1.00000e+00, 1.28550e+02],\n",
       "        [1.00000e+00, 1.43400e+02],\n",
       "        [1.00000e+00, 1.44250e+02],\n",
       "        [1.00000e+00, 1.47850e+02],\n",
       "        [1.00000e+00, 1.48450e+02],\n",
       "        [1.00000e+00, 1.54050e+02],\n",
       "        [1.00000e+00, 1.61150e+02],\n",
       "        [1.00000e+00, 1.64250e+02],\n",
       "        [1.00000e+00, 1.81600e+02],\n",
       "        [1.00000e+00, 1.92650e+02],\n",
       "        [1.00000e+00, 1.99600e+02],\n",
       "        [1.00000e+00, 2.03950e+02],\n",
       "        [1.00000e+00, 2.04900e+02],\n",
       "        [1.00000e+00, 2.05300e+02],\n",
       "        [1.00000e+00, 2.05600e+02],\n",
       "        [1.00000e+00, 2.05850e+02],\n",
       "        [1.00000e+00, 2.16650e+02],\n",
       "        [1.00000e+00, 2.35550e+02],\n",
       "        [1.00000e+00, 2.65850e+02],\n",
       "        [1.00000e+00, 2.77600e+02],\n",
       "        [1.00000e+00, 2.89800e+02],\n",
       "        [1.00000e+00, 3.22550e+02],\n",
       "        [1.00000e+00, 3.30700e+02],\n",
       "        [1.00000e+00, 3.41550e+02],\n",
       "        [1.00000e+00, 3.43150e+02],\n",
       "        [1.00000e+00, 3.52300e+02],\n",
       "        [1.00000e+00, 3.64200e+02],\n",
       "        [1.00000e+00, 3.65500e+02],\n",
       "        [1.00000e+00, 3.73800e+02],\n",
       "        [1.00000e+00, 3.87300e+02],\n",
       "        [1.00000e+00, 3.96550e+02],\n",
       "        [1.00000e+00, 4.27050e+02],\n",
       "        [1.00000e+00, 4.27450e+02],\n",
       "        [1.00000e+00, 4.27500e+02],\n",
       "        [1.00000e+00, 4.52100e+02],\n",
       "        [1.00000e+00, 4.75550e+02],\n",
       "        [1.00000e+00, 4.78750e+02],\n",
       "        [1.00000e+00, 4.83850e+02],\n",
       "        [1.00000e+00, 4.84150e+02],\n",
       "        [1.00000e+00, 5.14100e+02],\n",
       "        [1.00000e+00, 5.19350e+02],\n",
       "        [1.00000e+00, 5.30950e+02],\n",
       "        [1.00000e+00, 5.45950e+02],\n",
       "        [1.00000e+00, 5.60800e+02],\n",
       "        [1.00000e+00, 5.61000e+02],\n",
       "        [1.00000e+00, 5.95000e+02],\n",
       "        [1.00000e+00, 6.02400e+02],\n",
       "        [1.00000e+00, 6.02750e+02],\n",
       "        [1.00000e+00, 6.03050e+02],\n",
       "        [1.00000e+00, 6.03200e+02],\n",
       "        [1.00000e+00, 6.04550e+02],\n",
       "        [1.00000e+00, 6.05350e+02],\n",
       "        [1.00000e+00, 6.20200e+02],\n",
       "        [1.00000e+00, 6.20350e+02],\n",
       "        [1.00000e+00, 6.20400e+02],\n",
       "        [1.00000e+00, 6.25300e+02],\n",
       "        [1.00000e+00, 6.47950e+02],\n",
       "        [1.00000e+00, 6.96500e+02],\n",
       "        [1.00000e+00, 7.05500e+02],\n",
       "        [1.00000e+00, 7.24450e+02],\n",
       "        [1.00000e+00, 8.12700e+02],\n",
       "        [1.00000e+00, 8.14500e+02],\n",
       "        [1.00000e+00, 8.21900e+02],\n",
       "        [1.00000e+00, 8.22100e+02],\n",
       "        [1.00000e+00, 8.40900e+02],\n",
       "        [1.00000e+00, 8.62750e+02],\n",
       "        [1.00000e+00, 8.77300e+02],\n",
       "        [1.00000e+00, 8.77450e+02],\n",
       "        [1.00000e+00, 8.82550e+02],\n",
       "        [1.00000e+00, 8.97300e+02],\n",
       "        [1.00000e+00, 9.09400e+02],\n",
       "        [1.00000e+00, 9.18550e+02],\n",
       "        [1.00000e+00, 9.20300e+02],\n",
       "        [1.00000e+00, 9.20600e+02],\n",
       "        [1.00000e+00, 9.25350e+02],\n",
       "        [1.00000e+00, 9.26050e+02],\n",
       "        [1.00000e+00, 9.44550e+02],\n",
       "        [1.00000e+00, 9.48450e+02],\n",
       "        [1.00000e+00, 9.70700e+02],\n",
       "        [1.00000e+00, 1.00355e+03],\n",
       "        [1.00000e+00, 1.00990e+03],\n",
       "        [1.00000e+00, 1.05100e+03],\n",
       "        [1.00000e+00, 1.05820e+03],\n",
       "        [1.00000e+00, 1.10060e+03],\n",
       "        [1.00000e+00, 1.11845e+03],\n",
       "        [1.00000e+00, 1.16495e+03]]))"
      ]
     },
     "execution_count": 3,
     "metadata": {},
     "output_type": "execute_result"
    }
   ],
   "source": [
    "class expermentDataloader(Dataset):\n",
    "    def __init__(\n",
    "        self,\n",
    "        index_file: str, \n",
    "        data_path: str,\n",
    "    ):\n",
    "        self.root_dir = data_path\n",
    "        self.expermentSikeTrainsIndex = pd.read_csv(index_file,header=None) # self.landmarks_frame = pd.read_csv(csv_file)\n",
    "        self.spikeTrains = [\n",
    "            f\"{os.path.join(self.expermentSikeTrainsIndex.iloc[i, 0])}\" for i in range(len(self.expermentSikeTrainsIndex)) \n",
    "        ]\n",
    "        self.targets = [\n",
    "            f\"{os.path.join(self.expermentSikeTrainsIndex.iloc[i, 1])}\" for i in range(len(self.expermentSikeTrainsIndex)) \n",
    "        ]\n",
    "\n",
    "    def __getitem__(self, index):\n",
    "        inputCSVlines = pd.read_csv(os.path.join(self.root_dir,self.spikeTrains[index])).to_numpy()\n",
    "        targetCSVLines = pd.read_csv(os.path.join(self.root_dir,self.targets[index])).to_numpy()\n",
    "        return np.array(list(inputCSVlines)), np.array(list(targetCSVLines))\n",
    "\n",
    "    def __len__(self):\n",
    "        return len(self.expermentSikeTrainsIndex)\n",
    "    \n",
    "indexFile5mm = \"./Prepocessing/data/test/output/index.csv\"\n",
    "PathTo5mmSpikeTrains = \"./Prepocessing/data/test/output\"\n",
    "\n",
    "trainingData = expermentDataloader(indexFile5mm,PathTo5mmSpikeTrains)\n",
    "\n",
    "# print(len(trainingData[0][0][0]))\n",
    "# print(len(trainingData[0][1][0]))\n",
    "trainingData[0]"
   ]
  },
  {
   "cell_type": "code",
   "execution_count": 4,
   "metadata": {},
   "outputs": [],
   "source": [
    "input = trainingData[0][0]\n",
    "target = trainingData[0][1]"
   ]
  },
  {
   "cell_type": "code",
   "execution_count": 5,
   "metadata": {},
   "outputs": [],
   "source": [
    "%matplotlib inline\n",
    "import matplotlib.pyplot as plt"
   ]
  },
  {
   "cell_type": "code",
   "execution_count": 6,
   "metadata": {},
   "outputs": [
    {
     "data": {
      "text/plain": [
       "array([1., 1., 1., 1., 1., 1., 1., 1., 1., 1., 1., 1., 1., 1., 1., 1., 1.,\n",
       "       1., 1., 1., 1., 1., 1., 1., 1., 1., 1., 1., 1., 1., 1., 1., 1., 1.,\n",
       "       1., 1., 1., 1., 1., 1., 1., 1., 1.])"
      ]
     },
     "execution_count": 6,
     "metadata": {},
     "output_type": "execute_result"
    }
   ],
   "source": [
    "input[:,0]"
   ]
  },
  {
   "cell_type": "code",
   "execution_count": 7,
   "metadata": {},
   "outputs": [
    {
     "data": {
      "text/plain": [
       "[<matplotlib.lines.Line2D at 0x7f3ec93e7a30>]"
      ]
     },
     "execution_count": 7,
     "metadata": {},
     "output_type": "execute_result"
    },
    {
     "data": {
      "image/png": "[encoded data removed]",
      "text/plain": [
       "<Figure size 640x480 with 1 Axes>"
      ]
     },
     "metadata": {},
     "output_type": "display_data"
    }
   ],
   "source": [
    "plt.plot(input[:,1], input[:,0], 'o', color='black')"
   ]
  },
  {
   "cell_type": "code",
   "execution_count": 8,
   "metadata": {},
   "outputs": [
    {
     "data": {
      "text/plain": [
       "[<matplotlib.lines.Line2D at 0x7f3ec94d7370>]"
      ]
     },
     "execution_count": 8,
     "metadata": {},
     "output_type": "execute_result"
    },
    {
     "data": {
      "image/png": "[encoded data removed]",
      "text/plain": [
       "<Figure size 640x480 with 1 Axes>"
      ]
     },
     "metadata": {},
     "output_type": "display_data"
    }
   ],
   "source": [
    "plt.plot(target[:,1], target[:,0], 'o', color='black')"
   ]
  },
  {
   "cell_type": "code",
   "execution_count": 11,
   "metadata": {},
   "outputs": [
    {
     "data": {
      "text/plain": [
       "43.0"
      ]
     },
     "execution_count": 11,
     "metadata": {},
     "output_type": "execute_result"
    }
   ],
   "source": [
    "np.sum(target[:,0])"
   ]
  },
  {
   "cell_type": "code",
   "execution_count": 13,
   "metadata": {},
   "outputs": [],
   "source": [
    "import torch\n",
    "from torch import nn"
   ]
  },
  {
   "cell_type": "code",
   "execution_count": 16,
   "metadata": {},
   "outputs": [
    {
     "data": {
      "text/plain": [
       "Sequential(\n",
       "  (0): Linear(in_features=43, out_features=1, bias=True)\n",
       "  (1): ReLU()\n",
       ")"
      ]
     },
     "execution_count": 16,
     "metadata": {},
     "output_type": "execute_result"
    }
   ],
   "source": [
    "model = nn.Sequential(\n",
    "          nn.Linear(len(input),1),\n",
    "          nn.ReLU()\n",
    "        )\n",
    "device = torch.device(\"cuda:1\" if torch.cuda.is_available() else \"cpu\")\n",
    "model.to(device)"
   ]
  },
  {
   "cell_type": "code",
   "execution_count": 17,
   "metadata": {},
   "outputs": [],
   "source": [
    "MSE = nn.MSELoss()\n",
    "adam = torch.optim.Adam(model.parameters(),lr=0.00001)"
   ]
  },
  {
   "cell_type": "code",
   "execution_count": 18,
   "metadata": {},
   "outputs": [],
   "source": [
    "# targetPlot = torch.from_numpy(target[:,0]).float()\n",
    "targetTorch = torch.tensor(np.sum(target[:,0])).float().to(device)\n",
    "inputTorch = torch.from_numpy(input[:,1]).float().to(device)"
   ]
  },
  {
   "cell_type": "code",
   "execution_count": 21,
   "metadata": {},
   "outputs": [
    {
     "data": {
      "text/plain": [
       "tensor([ 14.1500,  14.4000,  18.8000,  20.5500,  22.9000,  25.6000,  27.2000,\n",
       "         31.4500,  33.4500,  36.0500,  36.2500,  36.6500,  37.0500,  37.2000,\n",
       "         39.1500,  41.3000,  42.8000,  47.4000,  57.1000,  60.1000,  62.8500,\n",
       "        118.1000, 128.5500, 143.4000, 144.2500, 147.8500, 148.4500, 154.0500,\n",
       "        161.1500, 164.2500, 181.6000, 192.6500, 199.6000, 203.9500, 204.9000,\n",
       "        205.3000, 205.6000, 205.8500, 216.6500, 235.5500, 265.8500, 277.6000,\n",
       "        289.8000], device='cuda:1')"
      ]
     },
     "execution_count": 21,
     "metadata": {},
     "output_type": "execute_result"
    }
   ],
   "source": [
    "inputTorch"
   ]
  },
  {
   "cell_type": "code",
   "execution_count": 25,
   "metadata": {},
   "outputs": [
    {
     "name": "stdout",
     "output_type": "stream",
     "text": [
      "tensor(5.8208e-11, device='cuda:1', grad_fn=<MseLossBackward0>)\r"
     ]
    },
    {
     "name": "stderr",
     "output_type": "stream",
     "text": [
      "/home/khood/anaconda3/envs/dna/lib/python3.10/site-packages/torch/nn/modules/loss.py:536: UserWarning: Using a target size (torch.Size([])) that is different to the input size (torch.Size([1])). This will likely lead to incorrect results due to broadcasting. Please ensure they have the same size.\n",
      "  return F.mse_loss(input, target, reduction=self.reduction)\n"
     ]
    }
   ],
   "source": [
    "for _ in range(100):\n",
    "    \n",
    "    output = model(inputTorch)\n",
    "    loss = MSE(output, targetTorch)\n",
    "    adam.zero_grad()\n",
    "    loss.backward()\n",
    "    adam.step()\n",
    "    outputPlot = output.clone().detach().cpu().numpy()\n",
    "    print(loss,end=\"\\r\")\n",
    "    "
   ]
  },
  {
   "cell_type": "code",
   "execution_count": 24,
   "metadata": {},
   "outputs": [
    {
     "data": {
      "text/plain": [
       "array([108.00001], dtype=float32)"
      ]
     },
     "execution_count": 24,
     "metadata": {},
     "output_type": "execute_result"
    }
   ],
   "source": [
    "outputPlot"
   ]
  },
  {
   "cell_type": "code",
   "execution_count": null,
   "metadata": {},
   "outputs": [],
   "source": [
    "from torch.utils.data import DataLoader\n",
    "batch_size = 10\n",
    "trainingData = expermentDataloader(indexFile5mm,PathTo5mmSpikeTrains)\n",
    "dataset = DataLoader(trainingData, batch_size=batch_size, shuffle=True)"
   ]
  }
 ],
 "metadata": {
  "kernelspec": {
   "display_name": "dna",
   "language": "python",
   "name": "python3"
  },
  "language_info": {
   "codemirror_mode": {
    "name": "ipython",
    "version": 3
   },
   "file_extension": ".py",
   "mimetype": "text/x-python",
   "name": "python",
   "nbconvert_exporter": "python",
   "pygments_lexer": "ipython3",
   "version": "3.10.9"
  },
  "orig_nbformat": 4
 },
 "nbformat": 4,
 "nbformat_minor": 2
}
