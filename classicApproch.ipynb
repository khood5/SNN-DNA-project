{
 "cells": [
  {
   "cell_type": "code",
   "execution_count": 1,
   "metadata": {},
   "outputs": [
    {
     "data": {
      "text/plain": [
       "device(type='cuda', index=1)"
      ]
     },
     "execution_count": 1,
     "metadata": {},
     "output_type": "execute_result"
    }
   ],
   "source": [
    "import pandas as pd\n",
    "import os\n",
    "import h5py\n",
    "import numpy as np\n",
    "import matplotlib.pyplot as plt\n",
    "import torch\n",
    "from torch.utils.data import Dataset, DataLoader\n",
    "import IPython.display as display\n",
    "from matplotlib import animation\n",
    "import torch\n",
    "from torch.utils.data import DataLoader\n",
    "import copy\n",
    "from torch import nn\n",
    "%matplotlib inline\n",
    "import matplotlib.pyplot as plt\n",
    "import random\n",
    "from dnaDataloader import expermentDataloader\n",
    "from dnaDataloader import addData\n",
    "device = torch.device(\"cuda:1\" if torch.cuda.is_available() else \"cpu\")\n",
    "batch_size = 10\n",
    "device"
   ]
  },
  {
   "cell_type": "code",
   "execution_count": 2,
   "metadata": {},
   "outputs": [
    {
     "name": "stdout",
     "output_type": "stream",
     "text": [
      "100\n",
      "55\n"
     ]
    }
   ],
   "source": [
    "dataPath = \"/home/khood/GitHub/SNN-DNA-project/Prepocessing/data/allData\"\n",
    "dataPathIndex = \"/home/khood/GitHub/SNN-DNA-project/Prepocessing/data/allData/index.csv\"\n",
    "\n",
    "trainingData = expermentDataloader(dataPathIndex,dataPath, startIndex=0, endIndex=100)\n",
    "testData = expermentDataloader(dataPathIndex,dataPath, startIndex=101, endIndex=156)\n",
    "data, target = trainingData[0]\n",
    "print(len(trainingData))\n",
    "print(len(testData))"
   ]
  },
  {
   "cell_type": "code",
   "execution_count": 3,
   "metadata": {},
   "outputs": [
    {
     "name": "stdout",
     "output_type": "stream",
     "text": [
      "197\n"
     ]
    },
    {
     "data": {
      "text/plain": [
       "array([339])"
      ]
     },
     "execution_count": 3,
     "metadata": {},
     "output_type": "execute_result"
    }
   ],
   "source": [
    "print(np.sum(data))\n",
    "target"
   ]
  },
  {
   "cell_type": "code",
   "execution_count": 4,
   "metadata": {},
   "outputs": [
    {
     "data": {
      "text/plain": [
       "12000"
      ]
     },
     "execution_count": 4,
     "metadata": {},
     "output_type": "execute_result"
    }
   ],
   "source": [
    "len(trainingData[0][0])"
   ]
  },
  {
   "cell_type": "code",
   "execution_count": 5,
   "metadata": {},
   "outputs": [
    {
     "data": {
      "text/plain": [
       "12000"
      ]
     },
     "execution_count": 5,
     "metadata": {},
     "output_type": "execute_result"
    }
   ],
   "source": [
    "len(trainingData[1][0])"
   ]
  },
  {
   "cell_type": "code",
   "execution_count": 6,
   "metadata": {},
   "outputs": [
    {
     "data": {
      "text/plain": [
       "[<matplotlib.lines.Line2D at 0x7fe93a30c940>]"
      ]
     },
     "execution_count": 6,
     "metadata": {},
     "output_type": "execute_result"
    },
    {
     "data": {
      "image/png": "[encoded data removed]",
      "text/plain": [
       "<Figure size 640x480 with 1 Axes>"
      ]
     },
     "metadata": {},
     "output_type": "display_data"
    }
   ],
   "source": [
    "plt.plot(list(range(len(trainingData[0][0]))), trainingData[0][0], 'o', color='black')"
   ]
  },
  {
   "cell_type": "code",
   "execution_count": 7,
   "metadata": {},
   "outputs": [
    {
     "data": {
      "text/plain": [
       "array([339])"
      ]
     },
     "execution_count": 7,
     "metadata": {},
     "output_type": "execute_result"
    }
   ],
   "source": [
    "target"
   ]
  },
  {
   "cell_type": "code",
   "execution_count": 8,
   "metadata": {},
   "outputs": [
    {
     "data": {
      "text/plain": [
       "array([0, 0, 0, ..., 0, 0, 0])"
      ]
     },
     "execution_count": 8,
     "metadata": {},
     "output_type": "execute_result"
    }
   ],
   "source": [
    "data"
   ]
  },
  {
   "cell_type": "code",
   "execution_count": 9,
   "metadata": {},
   "outputs": [
    {
     "name": "stdout",
     "output_type": "stream",
     "text": [
      "datasetlow:56\n",
      "datasetmedium:16\n",
      "datasetHigh:84\n",
      "Total: 156\n",
      "Training dataset size: 126\n",
      "Testing dataset size: 18\n",
      "Valid dataset size: 12\n",
      "Total: 156\n",
      "number train batches:13\n",
      "number test batches:2\n",
      "number valid batches:2\n"
     ]
    }
   ],
   "source": [
    "datasetlow = expermentDataloader(\n",
    "    \"/home/khood/GitHub/SNN-DNA-project/Prepocessing/data/seperatedData/low/index.csv\",\n",
    "    \"/home/khood/GitHub/SNN-DNA-project/Prepocessing/data/seperatedData/low\", \n",
    ")\n",
    "datasetmedium = expermentDataloader(\n",
    "    \"/home/khood/GitHub/SNN-DNA-project/Prepocessing/data/seperatedData/medium/index.csv\",\n",
    "    \"/home/khood/GitHub/SNN-DNA-project/Prepocessing/data/seperatedData/medium\", \n",
    "    # startIndex=0, endIndex=60\n",
    ")\n",
    "datasetHigh = expermentDataloader(\n",
    "    \"/home/khood/GitHub/SNN-DNA-project/Prepocessing/data/seperatedData/high/index.csv\",\n",
    "    \"/home/khood/GitHub/SNN-DNA-project/Prepocessing/data/seperatedData/high\", \n",
    "    # startIndex=0, endIndex=-1\n",
    ")\n",
    "\n",
    "print(f\"datasetlow:{len(datasetlow)}\")\n",
    "print(f\"datasetmedium:{len(datasetmedium)}\")\n",
    "print(f\"datasetHigh:{len(datasetHigh)}\")\n",
    "print(f\"Total: {len(datasetlow) + len(datasetmedium) + len(datasetHigh)}\")\n",
    "\n",
    "rawData = [datasetlow[i] for i in list(range(len(datasetlow)))]\n",
    "rawData = rawData + [datasetmedium[i] for i in list(range(len(datasetmedium)))]\n",
    "rawData = rawData + [datasetHigh[i] for i in list(range(len(datasetHigh)))]\n",
    "rawData = [[k,v] for k,v in rawData]\n",
    "datasetlow = rawData[:len(datasetlow)]\n",
    "datasetmedium = rawData[len(datasetlow):len(datasetlow)+len(datasetmedium)]\n",
    "datasetHigh = rawData[len(datasetlow)+len(datasetmedium):]\n",
    "trainData = []\n",
    "testValid = []\n",
    "\n",
    "addData(trainData, testValid, datasetlow, rhsSize=int(len(datasetlow)*0.2))\n",
    "addData(trainData, testValid, datasetmedium, rhsSize=int(len(datasetmedium)*0.2))\n",
    "addData(trainData, testValid, datasetHigh, rhsSize=int(len(datasetHigh)*0.2))\n",
    "\n",
    "testData = []\n",
    "validData = []\n",
    "addData(testData, validData, testValid, rhsSize=int(len(testValid)*0.6))\n",
    "\n",
    "trainData = [([np.array(i).flatten(), np.array(t)]) for i,t in trainData]\n",
    "testData = [([np.array(i).flatten(), np.array(t)]) for i,t in testData]\n",
    "validData = [([np.array(i).flatten(), np.array(t)]) for i,t in validData]\n",
    "\n",
    "trainDataset = DataLoader(trainData, batch_size=batch_size, shuffle=True)\n",
    "testDataset = DataLoader(testData, batch_size=batch_size, shuffle=True)\n",
    "validDataset = DataLoader(validData, batch_size=batch_size, shuffle=True)\n",
    "print(f\"Training dataset size: {len(trainData)}\")\n",
    "print(f\"Testing dataset size: {len(validData)}\")\n",
    "print(f\"Valid dataset size: {len(testData)}\")\n",
    "print(f\"Total: {len(trainData) + len(validData) + len(testData)}\")\n",
    "print(f\"number train batches:{len(trainDataset)}\")\n",
    "print(f\"number test batches:{len(testDataset)}\")\n",
    "print(f\"number valid batches:{len(validDataset)}\")\n",
    "featIn = len(trainData[0][0])\n",
    "assert (len(datasetlow) + len(datasetmedium) + len(datasetHigh)) == (len(trainData) + len(validData) + len(testData))"
   ]
  },
  {
   "cell_type": "code",
   "execution_count": 10,
   "metadata": {},
   "outputs": [
    {
     "data": {
      "text/plain": [
       "[array([0, 0, 0, ..., 0, 0, 0]), array([34])]"
      ]
     },
     "execution_count": 10,
     "metadata": {},
     "output_type": "execute_result"
    }
   ],
   "source": [
    "featIn = len(trainData[0][0])\n",
    "trainData[0]"
   ]
  },
  {
   "cell_type": "code",
   "execution_count": 11,
   "metadata": {},
   "outputs": [
    {
     "data": {
      "text/plain": [
       "12000"
      ]
     },
     "execution_count": 11,
     "metadata": {},
     "output_type": "execute_result"
    }
   ],
   "source": [
    "featIn"
   ]
  },
  {
   "cell_type": "code",
   "execution_count": 12,
   "metadata": {},
   "outputs": [
    {
     "data": {
      "text/plain": [
       "device(type='cuda', index=1)"
      ]
     },
     "execution_count": 12,
     "metadata": {},
     "output_type": "execute_result"
    }
   ],
   "source": [
    "device"
   ]
  },
  {
   "cell_type": "code",
   "execution_count": 13,
   "metadata": {},
   "outputs": [
    {
     "name": "stdout",
     "output_type": "stream",
     "text": [
      "training...\n",
      "        epoch: 52/100\t         loss:44078.599609375\t         accuracy:0.275         \u001b\u001b\r"
     ]
    },
    {
     "ename": "KeyboardInterrupt",
     "evalue": "",
     "output_type": "error",
     "traceback": [
      "\u001b[0;31m---------------------------------------------------------------------------\u001b[0m",
      "\u001b[0;31mKeyboardInterrupt\u001b[0m                         Traceback (most recent call last)",
      "Cell \u001b[0;32mIn[13], line 24\u001b[0m\n\u001b[1;32m     21\u001b[0m \u001b[39m# avgLoss = []\u001b[39;00m\n\u001b[1;32m     22\u001b[0m \u001b[39m# currentAcc = []\u001b[39;00m\n\u001b[1;32m     23\u001b[0m \u001b[39mfor\u001b[39;00m i, (inputs, targets) \u001b[39min\u001b[39;00m \u001b[39menumerate\u001b[39m(trainDataset):\n\u001b[0;32m---> 24\u001b[0m     inputs, targets\u001b[39m=\u001b[39m inputs\u001b[39m.\u001b[39;49mfloat()\u001b[39m.\u001b[39;49mto(device), targets\u001b[39m.\u001b[39mfloat()\u001b[39m.\u001b[39mto(device)\n\u001b[1;32m     25\u001b[0m     outputs \u001b[39m=\u001b[39m model(inputs)\n\u001b[1;32m     26\u001b[0m     loss \u001b[39m=\u001b[39m MSE(outputs, targets)\n",
      "\u001b[0;31mKeyboardInterrupt\u001b[0m: "
     ]
    }
   ],
   "source": [
    "model = nn.Sequential(\n",
    "          nn.Linear(featIn,12000),\n",
    "          nn.ReLU(),\n",
    "          nn.Linear(12000,24000),\n",
    "          nn.ReLU(),\n",
    "          nn.Linear(24000,24000),\n",
    "          nn.ReLU(),\n",
    "          nn.Linear(24000,1),\n",
    "        )\n",
    "model.to(device)\n",
    "MSE = nn.MSELoss(reduction = 'sum')\n",
    "adam = torch.optim.Adam(model.parameters(),lr=0.000001)\n",
    "\n",
    "em = 20\n",
    "epochs = 100\n",
    "losses = []\n",
    "accs = []\n",
    "print(\"training...\")\n",
    "for e in range(epochs): \n",
    "    model.train()\n",
    "    # avgLoss = []\n",
    "    # currentAcc = []\n",
    "    for i, (inputs, targets) in enumerate(trainDataset):\n",
    "        inputs, targets= inputs.float().to(device), targets.float().to(device)\n",
    "        outputs = model(inputs)\n",
    "        loss = MSE(outputs, targets)\n",
    "        adam.zero_grad()\n",
    "        loss.backward()\n",
    "        adam.step()\n",
    "        \n",
    "        # outputPlot = outputs.clone().detach().cpu().numpy()\n",
    "        # targetsPlot = targets.clone().detach().cpu().numpy()\n",
    "        # avgLoss.append(float(loss.clone().detach().cpu().numpy()))\n",
    "        # totalCorrect = torch.sum(torch.isclose(outputs.int(), targets.int(), atol=em))\n",
    "        # totalCorrect = totalCorrect.clone().detach().cpu().numpy()\n",
    "        # accs.append(float(totalCorrect/len(targets)))\n",
    "        # currentAcc.append(float(totalCorrect/len(targets)))\n",
    "        # losses.append(float(loss.clone().detach().cpu().numpy()))\n",
    "    # print(f\"\\\n",
    "    #         epoch: {e}/{epochs}\\t \\\n",
    "    #         loss:{np.sum(avgLoss)/len(avgLoss)}\\t \\\n",
    "    #         accuracy:{np.sum(currentAcc)/len(currentAcc)} \\\n",
    "    #         \",end=\"\\x1b\\r\")\n",
    "        \n",
    "    avgLoss = []\n",
    "    currentAcc = []\n",
    "    model.eval()\n",
    "    for i, (inputs, targets) in enumerate(validDataset):\n",
    "        inputs, targets= inputs.float().to(device), targets.float().to(device)\n",
    "        outputs = model(inputs)\n",
    "        loss = MSE(outputs, targets)\n",
    "        outputPlot = outputs.clone().detach().cpu().numpy()\n",
    "        targetsPlot = targets.clone().detach().cpu().numpy()\n",
    "        avgLoss.append(float(loss.clone().detach().cpu().numpy()))\n",
    "        totalCorrect = torch.sum(torch.isclose(outputs.int(), targets.int(), atol=em))\n",
    "        totalCorrect = totalCorrect.clone().detach().cpu().numpy()\n",
    "        currentAcc.append(float(totalCorrect/len(targets)))\n",
    "        print(f\"\\\n",
    "        epoch: {e}/{epochs}\\t \\\n",
    "        loss:{np.sum(avgLoss)/len(avgLoss)}\\t \\\n",
    "        accuracy:{np.sum(currentAcc)/len(currentAcc)} \\\n",
    "        \",end=\"\\x1b\\r\")\n",
    "    accs.append(float(np.sum(currentAcc)/len(currentAcc)))\n",
    "    losses.append(float(np.sum(avgLoss)/len(avgLoss)))"
   ]
  },
  {
   "cell_type": "code",
   "execution_count": 14,
   "metadata": {},
   "outputs": [
    {
     "name": "stdout",
     "output_type": "stream",
     "text": [
      "saved to ./Models/working_with_just_the_values_no_experment_setup_03.05.2023_15-14-54-372780.pt\n"
     ]
    }
   ],
   "source": [
    "from datetime import datetime\n",
    "title = \"working with just the values no experment setup\"\n",
    "dt_string = datetime.now().strftime(\"%d.%m.%Y_%H-%M-%S-%f\")\n",
    "modelPath = f\"./Models/{title.replace(' ', '_')}_{dt_string}.pt\"\n",
    "torch.save(model.state_dict(),modelPath)\n",
    "print(f\"saved to {modelPath}\")\n"
   ]
  },
  {
   "cell_type": "code",
   "execution_count": 15,
   "metadata": {},
   "outputs": [
    {
     "data": {
      "text/plain": [
       "70"
      ]
     },
     "execution_count": 15,
     "metadata": {},
     "output_type": "execute_result"
    },
    {
     "data": {
      "image/png": "[encoded data removed]",
      "text/plain": [
       "<Figure size 2000x500 with 2 Axes>"
      ]
     },
     "metadata": {},
     "output_type": "display_data"
    }
   ],
   "source": [
    "defultePlotSize = plt.rcParams['figure.figsize']\n",
    "plt.rcParams['figure.figsize'] = [20, 5]\n",
    "plt.subplot(1, 2, 1)\n",
    "plt.title('accuracy vs epochs')\n",
    "plt.plot(list(range(len(accs))), accs, '-', color='black', )\n",
    "plt.subplot(1, 2, 2)\n",
    "plt.title('losse vs epochs')\n",
    "plt.plot(list(range(len(losses))), losses, '-', color='black')\n",
    "plt.rcParams['figure.figsize'] = defultePlotSize\n",
    "epochs*len(validDataset)"
   ]
  },
  {
   "cell_type": "code",
   "execution_count": 16,
   "metadata": {},
   "outputs": [
    {
     "name": "stdout",
     "output_type": "stream",
     "text": [
      "test...\n",
      "    accuracy:0.16399999999999998     \u001b\r"
     ]
    }
   ],
   "source": [
    "em =20\n",
    "epochs = 100\n",
    "accs = []\n",
    "model.eval()\n",
    "print(\"test...\")\n",
    "for e in range(epochs): \n",
    "    avgLoss = []\n",
    "    currentAcc = []\n",
    "    for i, (inputs, targets) in enumerate(testDataset):\n",
    "        inputs, targets= inputs.float().to(device), targets.float().to(device)\n",
    "        outputs = model(inputs)\n",
    "        if(len(outputs) == batch_size):\n",
    "            outputPlot = outputs.clone().detach().cpu().numpy()\n",
    "            targetsPlot = targets.clone().detach().cpu().numpy()\n",
    "            totalCorrect = torch.sum(torch.isclose(outputs.int(), targets.int(), atol=em))\n",
    "            totalCorrect = totalCorrect.clone().detach().cpu().numpy()\n",
    "            currentAcc.append(float(totalCorrect/len(targets)))\n",
    "            accs.append(float(totalCorrect/len(targets)))\n",
    "\n",
    "print(f\"\\\n",
    "    accuracy:{np.sum(accs)/len(accs)} \\\n",
    "    \",end=\"\\x1b\\r\")"
   ]
  },
  {
   "cell_type": "code",
   "execution_count": 17,
   "metadata": {},
   "outputs": [
    {
     "data": {
      "text/plain": [
       "200"
      ]
     },
     "execution_count": 17,
     "metadata": {},
     "output_type": "execute_result"
    },
    {
     "data": {
      "image/png": "[encoded data removed]",
      "text/plain": [
       "<Figure size 2000x500 with 2 Axes>"
      ]
     },
     "metadata": {},
     "output_type": "display_data"
    }
   ],
   "source": [
    "defultePlotSize = plt.rcParams['figure.figsize']\n",
    "plt.rcParams['figure.figsize'] = [20, 5]\n",
    "plt.subplot(1, 2, 1)\n",
    "plt.title('accuracy vs epochs')\n",
    "plt.plot(list(range(len(accs))), accs, '-', color='black', )\n",
    "plt.subplot(1, 2, 2)\n",
    "plt.title('losse vs epochs')\n",
    "plt.plot(list(range(len(losses))), losses, '-', color='black')\n",
    "plt.rcParams['figure.figsize'] = defultePlotSize\n",
    "epochs*len(validDataset)"
   ]
  },
  {
   "cell_type": "code",
   "execution_count": 18,
   "metadata": {},
   "outputs": [
    {
     "data": {
      "text/plain": [
       "[<matplotlib.lines.Line2D at 0x7fdd5815a530>]"
      ]
     },
     "execution_count": 18,
     "metadata": {},
     "output_type": "execute_result"
    },
    {
     "data": {
      "image/png": "[encoded data removed]",
      "text/plain": [
       "<Figure size 640x480 with 1 Axes>"
      ]
     },
     "metadata": {},
     "output_type": "display_data"
    }
   ],
   "source": [
    "plt.plot(list(range(len(outputPlot))), outputPlot, 'o', color='black')\n",
    "plt.plot(list(range(len(targetsPlot))), targetsPlot, 'o', color='green')"
   ]
  },
  {
   "cell_type": "code",
   "execution_count": 19,
   "metadata": {},
   "outputs": [
    {
     "data": {
      "text/plain": [
       "device(type='cuda', index=1)"
      ]
     },
     "execution_count": 19,
     "metadata": {},
     "output_type": "execute_result"
    }
   ],
   "source": [
    "device"
   ]
  },
  {
   "cell_type": "code",
   "execution_count": 20,
   "metadata": {},
   "outputs": [
    {
     "data": {
      "text/plain": [
       "Sequential(\n",
       "  (0): Linear(in_features=12000, out_features=12000, bias=True)\n",
       "  (1): ReLU()\n",
       "  (2): Linear(in_features=12000, out_features=24000, bias=True)\n",
       "  (3): ReLU()\n",
       "  (4): Linear(in_features=24000, out_features=24000, bias=True)\n",
       "  (5): ReLU()\n",
       "  (6): Linear(in_features=24000, out_features=1, bias=True)\n",
       ")"
      ]
     },
     "execution_count": 20,
     "metadata": {},
     "output_type": "execute_result"
    }
   ],
   "source": [
    "model = nn.Sequential(\n",
    "          nn.Linear(featIn,12000),\n",
    "          nn.ReLU(),\n",
    "          nn.Linear(12000,24000),\n",
    "          nn.ReLU(),\n",
    "          nn.Linear(24000,24000),\n",
    "          nn.ReLU(),\n",
    "          nn.Linear(24000,1),\n",
    "        )\n",
    "PATH = modelPath\n",
    "model.load_state_dict(torch.load(PATH))\n",
    "model.to(device)\n",
    "model.eval()"
   ]
  },
  {
   "attachments": {},
   "cell_type": "markdown",
   "metadata": {},
   "source": [
    "#### High\n",
    "----"
   ]
  },
  {
   "cell_type": "code",
   "execution_count": 21,
   "metadata": {},
   "outputs": [],
   "source": [
    "# testHigh = [i for i in testData if i[0][-2] in [9,5]]\n",
    "# print(len(testHigh))\n",
    "# testDatasetHigh = DataLoader(testHigh, batch_size=len(testHigh), shuffle=True)\n",
    "# testHigh"
   ]
  },
  {
   "cell_type": "code",
   "execution_count": 22,
   "metadata": {},
   "outputs": [],
   "source": [
    "# len(testHigh)"
   ]
  },
  {
   "cell_type": "code",
   "execution_count": 23,
   "metadata": {},
   "outputs": [],
   "source": [
    "# em =137\n",
    "# epochs = 100\n",
    "# accs = []\n",
    "# print(\"test...\")\n",
    "# for e in range(epochs): \n",
    "#     avgLoss = []\n",
    "#     currentAcc = []\n",
    "#     for i, (inputs, targets) in enumerate(testDatasetHigh):\n",
    "#         inputs, targets= inputs.float().to(device), targets.float().to(device)\n",
    "#         outputs = model(inputs)\n",
    "#         outputPlot = outputs.clone().detach().cpu().numpy()\n",
    "#         targetsPlot = targets.clone().detach().cpu().numpy()\n",
    "#         totalCorrect = torch.sum(torch.isclose(outputs.int(), targets.int(), atol=em))\n",
    "#         totalCorrect = totalCorrect.clone().detach().cpu().numpy()\n",
    "#         currentAcc.append(float(totalCorrect/len(targets)))\n",
    "#         accs.append(float(totalCorrect/len(targets)))\n",
    "\n",
    "# print(f\"\\\n",
    "#     accuracy:{np.sum(accs)/len(accs)} \\\n",
    "#     \",end=\"\\x1b\\r\")"
   ]
  },
  {
   "cell_type": "code",
   "execution_count": 24,
   "metadata": {},
   "outputs": [],
   "source": [
    "# plt.plot(list(range(len(outputPlot))), outputPlot, 'o', color='black', label=\"predicted\")\n",
    "# plt.plot(list(range(len(targetsPlot))), targetsPlot, 'o', color='green', label=\"actual\")\n",
    "# plt.xticks(ticks=list(range(len(outputPlot))), labels=list(range(len(outputPlot))))\n",
    "# plt.xlabel('test case')\n",
    "# plt.ylabel('number of reactions')\n",
    "# plt.title('high reactivity')\n",
    "# plt.legend(loc='upper right')"
   ]
  },
  {
   "attachments": {},
   "cell_type": "markdown",
   "metadata": {},
   "source": [
    "#### medium\n",
    "----"
   ]
  },
  {
   "cell_type": "code",
   "execution_count": 25,
   "metadata": {},
   "outputs": [],
   "source": [
    "# testmedium = [i for i in testData if i[0][-2] in [3.0]]\n",
    "# testDatasetmedium = DataLoader(testmedium, batch_size=len(testmedium), shuffle=True)\n",
    "# testmedium"
   ]
  },
  {
   "cell_type": "code",
   "execution_count": 26,
   "metadata": {},
   "outputs": [],
   "source": [
    "\n",
    "# em =45\n",
    "# epochs = 100\n",
    "# accs = []\n",
    "# print(\"test...\")\n",
    "# for e in range(epochs): \n",
    "    \n",
    "#     avgLoss = []\n",
    "#     currentAcc = []\n",
    "#     for i, (inputs, targets) in enumerate(testDatasetmedium):\n",
    "#         inputs, targets= inputs.float().to(device), targets.float().to(device)\n",
    "#         outputs = model(inputs)\n",
    "#         outputPlot = outputs.clone().detach().cpu().numpy()\n",
    "#         targetsPlot = targets.clone().detach().cpu().numpy()\n",
    "#         totalCorrect = torch.sum(torch.isclose(outputs.int(), targets.int(), atol=em))\n",
    "#         totalCorrect = totalCorrect.clone().detach().cpu().numpy()\n",
    "#         currentAcc.append(float(totalCorrect/len(targets)))\n",
    "#         accs.append(float(totalCorrect/len(targets)))\n",
    "\n",
    "# print(f\"\\\n",
    "#     accuracy:{np.sum(accs)/len(accs)} \\\n",
    "#     \",end=\"\\x1b\\r\")"
   ]
  },
  {
   "cell_type": "code",
   "execution_count": 27,
   "metadata": {},
   "outputs": [],
   "source": [
    "# plt.plot(list(range(len(outputPlot))), outputPlot, 'o', color='black', label=\"predicted\")\n",
    "# plt.plot(list(range(len(targetsPlot))), targetsPlot, 'o', color='green', label=\"actual\")\n",
    "# plt.xticks(ticks=list(range(len(outputPlot))), labels=list(range(len(outputPlot))))\n",
    "# plt.xlabel('test case')\n",
    "# plt.ylabel('number of reactions')\n",
    "# plt.title('medium reactivity')\n",
    "# plt.legend(loc='upper right')"
   ]
  },
  {
   "attachments": {},
   "cell_type": "markdown",
   "metadata": {},
   "source": [
    "#### low\n",
    "----"
   ]
  },
  {
   "cell_type": "code",
   "execution_count": 28,
   "metadata": {},
   "outputs": [],
   "source": [
    "\n",
    "# testLow = [i for i in testData if i[0][-2] in [2.0,1.5]]\n",
    "# testDatasetLow = DataLoader(testLow, batch_size=len(testLow), shuffle=True)\n",
    "# len(testLow)"
   ]
  },
  {
   "cell_type": "code",
   "execution_count": 29,
   "metadata": {},
   "outputs": [],
   "source": [
    "\n",
    "# em =20\n",
    "# epochs = 100\n",
    "# accs = []\n",
    "# print(\"test...\")\n",
    "# for e in range(epochs): \n",
    "#     avgLoss = []\n",
    "#     currentAcc = []\n",
    "#     for i, (inputs, targets) in enumerate(testDatasetLow):\n",
    "#         inputs, targets= inputs.float().to(device), targets.float().to(device)\n",
    "#         outputs = model(inputs)\n",
    "#         outputPlot = outputs.clone().detach().cpu().numpy()\n",
    "#         targetsPlot = targets.clone().detach().cpu().numpy()\n",
    "#         totalCorrect = torch.sum(torch.isclose(outputs.int(), targets.int(), atol=em))\n",
    "#         totalCorrect = totalCorrect.clone().detach().cpu().numpy()\n",
    "#         currentAcc.append(float(totalCorrect/len(targets)))\n",
    "#         accs.append(float(totalCorrect/len(targets)))\n",
    "\n",
    "# print(f\"\\\n",
    "#     accuracy:{np.sum(accs)/len(accs)} \\\n",
    "#     \",end=\"\\x1b\\r\")"
   ]
  },
  {
   "cell_type": "code",
   "execution_count": 30,
   "metadata": {},
   "outputs": [],
   "source": [
    "# plt.plot(list(range(len(outputPlot))), outputPlot, 'o', color='black', label=\"predicted\")\n",
    "# plt.plot(list(range(len(targetsPlot))), targetsPlot, 'o', color='green', label=\"actual\")\n",
    "# plt.xticks(ticks=list(range(len(outputPlot))), labels=list(range(len(outputPlot))))\n",
    "# plt.xlabel('test case')\n",
    "# plt.ylabel('number of reactions')\n",
    "# plt.title('low reactivity')\n",
    "# plt.legend(loc='upper right')"
   ]
  },
  {
   "attachments": {},
   "cell_type": "markdown",
   "metadata": {},
   "source": [
    "#### large dataset\n",
    "----"
   ]
  },
  {
   "cell_type": "code",
   "execution_count": 31,
   "metadata": {},
   "outputs": [],
   "source": [
    "modelPath = \"./Models/working_with_just_the_values_no_experment_setup_01.05.2023_15-47-12-842709.pt\""
   ]
  },
  {
   "cell_type": "code",
   "execution_count": 32,
   "metadata": {},
   "outputs": [
    {
     "data": {
      "text/plain": [
       "Sequential(\n",
       "  (0): Linear(in_features=12000, out_features=12000, bias=True)\n",
       "  (1): ReLU()\n",
       "  (2): Linear(in_features=12000, out_features=24000, bias=True)\n",
       "  (3): ReLU()\n",
       "  (4): Linear(in_features=24000, out_features=24000, bias=True)\n",
       "  (5): ReLU()\n",
       "  (6): Linear(in_features=24000, out_features=1, bias=True)\n",
       ")"
      ]
     },
     "execution_count": 32,
     "metadata": {},
     "output_type": "execute_result"
    }
   ],
   "source": [
    "model = nn.Sequential(\n",
    "          nn.Linear(featIn,12000),\n",
    "          nn.ReLU(),\n",
    "          nn.Linear(12000,24000),\n",
    "          nn.ReLU(),\n",
    "          nn.Linear(24000,24000),\n",
    "          nn.ReLU(),\n",
    "          nn.Linear(24000,1),\n",
    "        )\n",
    "model.load_state_dict(torch.load(modelPath))\n",
    "model.to(device)\n",
    "model.eval()"
   ]
  },
  {
   "cell_type": "code",
   "execution_count": 33,
   "metadata": {},
   "outputs": [
    {
     "name": "stdout",
     "output_type": "stream",
     "text": [
      "datasetLarge:3862\n"
     ]
    }
   ],
   "source": [
    "datasetLarge = expermentDataloader(\n",
    "    \"/home/khood/GitHub/SNN-DNA-project/Prepocessing/large_dataset/allData/index.csv\",\n",
    "    \"/home/khood/GitHub/SNN-DNA-project/Prepocessing/large_dataset/allData/\", \n",
    ")\n",
    "print(f\"datasetLarge:{len(datasetLarge)}\")"
   ]
  },
  {
   "cell_type": "code",
   "execution_count": 39,
   "metadata": {},
   "outputs": [
    {
     "name": "stdout",
     "output_type": "stream",
     "text": [
      "Training dataset size: 7112\n",
      "Testing dataset size: 494\n",
      "Valid dataset size: 330\n",
      "Total: 7936\n",
      "number train batches:712\n",
      "number test batches:33\n",
      "number valid batches:50\n"
     ]
    }
   ],
   "source": [
    "rawData = [datasetLarge[i] for i in list(range(len(datasetLarge)))]\n",
    "\n",
    "\n",
    "addData(trainData, testValid, rawData, rhsSize=int(len(rawData)*0.2))\n",
    "testData = []\n",
    "validData = []\n",
    "addData(testData, validData, testValid, rhsSize=int(len(testValid)*0.6))\n",
    "\n",
    "trainDataset = DataLoader(trainData, batch_size=batch_size, shuffle=True)\n",
    "testDataset = DataLoader(testData, batch_size=batch_size, shuffle=True)\n",
    "validDataset = DataLoader(validData, batch_size=batch_size, shuffle=True)\n",
    "print(f\"Training dataset size: {len(trainData)}\")\n",
    "print(f\"Testing dataset size: {len(validData)}\")\n",
    "print(f\"Valid dataset size: {len(testData)}\")\n",
    "print(f\"Total: {len(trainData) + len(validData) + len(testData)}\")\n",
    "print(f\"number train batches:{len(trainDataset)}\")\n",
    "print(f\"number test batches:{len(testDataset)}\")\n",
    "print(f\"number valid batches:{len(validDataset)}\")"
   ]
  },
  {
   "cell_type": "code",
   "execution_count": 1,
   "metadata": {},
   "outputs": [
    {
     "ename": "NameError",
     "evalue": "name 'nn' is not defined",
     "output_type": "error",
     "traceback": [
      "\u001b[0;31m---------------------------------------------------------------------------\u001b[0m",
      "\u001b[0;31mNameError\u001b[0m                                 Traceback (most recent call last)",
      "Cell \u001b[0;32mIn[1], line 1\u001b[0m\n\u001b[0;32m----> 1\u001b[0m model \u001b[39m=\u001b[39m nn\u001b[39m.\u001b[39mSequential(\n\u001b[1;32m      2\u001b[0m           nn\u001b[39m.\u001b[39mLinear(featIn,\u001b[39m12000\u001b[39m),\n\u001b[1;32m      3\u001b[0m           nn\u001b[39m.\u001b[39mReLU(),\n\u001b[1;32m      4\u001b[0m           nn\u001b[39m.\u001b[39mLinear(\u001b[39m12000\u001b[39m,\u001b[39m24000\u001b[39m),\n\u001b[1;32m      5\u001b[0m           nn\u001b[39m.\u001b[39mReLU(),\n\u001b[1;32m      6\u001b[0m           nn\u001b[39m.\u001b[39mLinear(\u001b[39m24000\u001b[39m,\u001b[39m24000\u001b[39m),\n\u001b[1;32m      7\u001b[0m           nn\u001b[39m.\u001b[39mReLU(),\n\u001b[1;32m      8\u001b[0m           nn\u001b[39m.\u001b[39mLinear(\u001b[39m24000\u001b[39m,\u001b[39m1\u001b[39m),\n\u001b[1;32m      9\u001b[0m         )\n\u001b[1;32m     10\u001b[0m model\u001b[39m.\u001b[39mto(device)\n\u001b[1;32m     11\u001b[0m MSE \u001b[39m=\u001b[39m nn\u001b[39m.\u001b[39mMSELoss(reduction \u001b[39m=\u001b[39m \u001b[39m'\u001b[39m\u001b[39msum\u001b[39m\u001b[39m'\u001b[39m)\n",
      "\u001b[0;31mNameError\u001b[0m: name 'nn' is not defined"
     ]
    }
   ],
   "source": [
    "model = nn.Sequential(\n",
    "          nn.Linear(featIn,12000),\n",
    "          nn.ReLU(),\n",
    "          nn.Linear(12000,24000),\n",
    "          nn.ReLU(),\n",
    "          nn.Linear(24000,24000),\n",
    "          nn.ReLU(),\n",
    "          nn.Linear(24000,1),\n",
    "        )\n",
    "model.to(device)\n",
    "MSE = nn.MSELoss(reduction = 'sum')\n",
    "adam = torch.optim.Adam(model.parameters(),lr=0.000001)\n",
    "\n",
    "em = 20\n",
    "epochs = 100\n",
    "losses = []\n",
    "accs = []\n",
    "print(\"training...\")\n",
    "for e in range(epochs): \n",
    "    model.train()\n",
    "    for i, (inputs, targets) in enumerate(trainDataset):\n",
    "        inputs, targets= inputs.float().to(device), targets.float().to(device)\n",
    "        outputs = model(inputs)\n",
    "        loss = MSE(outputs, targets)\n",
    "        adam.zero_grad()\n",
    "        loss.backward()\n",
    "        adam.step()\n",
    "        \n",
    "    avgLoss = []\n",
    "    currentAcc = []\n",
    "    model.eval()\n",
    "    for i, (inputs, targets) in enumerate(validDataset):\n",
    "        inputs, targets= inputs.float().to(device), targets.float().to(device)\n",
    "        outputs = model(inputs)\n",
    "        loss = MSE(outputs, targets)\n",
    "        outputPlot = outputs.clone().detach().cpu().numpy()\n",
    "        targetsPlot = targets.clone().detach().cpu().numpy()\n",
    "        avgLoss.append(float(loss.clone().detach().cpu().numpy()))\n",
    "        totalCorrect = torch.sum(torch.isclose(outputs.int(), targets.int(), atol=em))\n",
    "        totalCorrect = totalCorrect.clone().detach().cpu().numpy()\n",
    "        currentAcc.append(float(totalCorrect/len(targets)))\n",
    "        print(f\"\\\n",
    "        epoch: {e}/{epochs}\\t \\\n",
    "        loss:{np.sum(avgLoss)/len(avgLoss)}\\t \\\n",
    "        accuracy:{np.sum(currentAcc)/len(currentAcc)} \\\n",
    "        \",end=\"\\x1b\\r\")\n",
    "    accs.append(float(np.sum(currentAcc)/len(currentAcc)))\n",
    "    losses.append(float(np.sum(avgLoss)/len(avgLoss)))"
   ]
  },
  {
   "cell_type": "code",
   "execution_count": null,
   "metadata": {},
   "outputs": [],
   "source": [
    "defultePlotSize = plt.rcParams['figure.figsize']\n",
    "plt.rcParams['figure.figsize'] = [20, 5]\n",
    "plt.subplot(1, 2, 1)\n",
    "plt.title('accuracy vs epochs')\n",
    "plt.plot(list(range(len(accs))), accs, '-', color='black', )\n",
    "plt.subplot(1, 2, 2)\n",
    "plt.title('losse vs epochs')\n",
    "plt.plot(list(range(len(losses))), losses, '-', color='black')\n",
    "plt.rcParams['figure.figsize'] = defultePlotSize\n",
    "epochs*len(validDataset)"
   ]
  },
  {
   "cell_type": "code",
   "execution_count": null,
   "metadata": {},
   "outputs": [],
   "source": [
    "from datetime import datetime\n",
    "title = \"working with large dataset\"\n",
    "dt_string = datetime.now().strftime(\"%d.%m.%Y_%H-%M-%S-%f\")\n",
    "modelPath = f\"./Models/{title.replace(' ', '_')}_{dt_string}.pt\"\n",
    "torch.save(model.state_dict(),modelPath)\n",
    "print(f\"saved to {modelPath}\")"
   ]
  },
  {
   "cell_type": "code",
   "execution_count": 36,
   "metadata": {},
   "outputs": [
    {
     "name": "stdout",
     "output_type": "stream",
     "text": [
      "test...\n",
      "    accuracy:0.48057512953367876     \u001b\r"
     ]
    },
    {
     "data": {
      "text/plain": [
       "[<matplotlib.lines.Line2D at 0x7fdd505fff70>]"
      ]
     },
     "execution_count": 36,
     "metadata": {},
     "output_type": "execute_result"
    },
    {
     "data": {
      "image/png": "[encoded data removed]",
      "text/plain": [
       "<Figure size 640x480 with 1 Axes>"
      ]
     },
     "metadata": {},
     "output_type": "display_data"
    }
   ],
   "source": [
    "em =40\n",
    "epochs = 50\n",
    "accs = []\n",
    "model.eval()\n",
    "print(\"test...\")\n",
    "for e in range(epochs): \n",
    "    avgLoss = []\n",
    "    currentAcc = []\n",
    "    for i, (inputs, targets) in enumerate(largeDataset):\n",
    "        inputs, targets= inputs.float().to(device), targets.float().to(device)\n",
    "        outputs = model(inputs)\n",
    "        if(len(outputs) == batch_size):\n",
    "            outputPlot = outputs.clone().detach().cpu().numpy()\n",
    "            targetsPlot = targets.clone().detach().cpu().numpy()\n",
    "            totalCorrect = torch.sum(torch.isclose(outputs.int(), targets.int(), atol=em))\n",
    "            totalCorrect = totalCorrect.clone().detach().cpu().numpy()\n",
    "            currentAcc.append(float(totalCorrect/len(targets)))\n",
    "            accs.append(float(totalCorrect/len(targets)))\n",
    "\n",
    "print(f\"\\\n",
    "    accuracy:{np.sum(accs)/len(accs)} \\\n",
    "    \",end=\"\\x1b\\r\")\n",
    "\n",
    "plt.plot(list(range(len(outputPlot))), outputPlot, 'o', color='black')\n",
    "plt.plot(list(range(len(targetsPlot))), targetsPlot, 'o', color='green')"
   ]
  }
 ],
 "metadata": {
  "kernelspec": {
   "display_name": "dna",
   "language": "python",
   "name": "python3"
  },
  "language_info": {
   "codemirror_mode": {
    "name": "ipython",
    "version": 3
   },
   "file_extension": ".py",
   "mimetype": "text/x-python",
   "name": "python",
   "nbconvert_exporter": "python",
   "pygments_lexer": "ipython3",
   "version": "3.10.9"
  },
  "orig_nbformat": 4,
  "vscode": {
   "interpreter": {
    "hash": "366a53c283de3ac239fad2923e36904e6cb28c586fdc23988bad2bc80f7d8984"
   }
  }
 },
 "nbformat": 4,
 "nbformat_minor": 2
}
