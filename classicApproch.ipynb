{
 "cells": [
  {
   "cell_type": "code",
   "execution_count": 1,
   "metadata": {},
   "outputs": [],
   "source": [
    "import pandas as pd\n",
    "import os\n",
    "import h5py\n",
    "import numpy as np\n",
    "import matplotlib.pyplot as plt\n",
    "import torch\n",
    "from torch.utils.data import Dataset, DataLoader\n",
    "import IPython.display as display\n",
    "from matplotlib import animation\n",
    "import torch\n",
    "import copy\n",
    "from torch import nn\n",
    "%matplotlib inline\n",
    "import matplotlib.pyplot as plt\n",
    "device = torch.device(\"cuda:0\" if torch.cuda.is_available() else \"cpu\")"
   ]
  },
  {
   "cell_type": "code",
   "execution_count": 2,
   "metadata": {},
   "outputs": [],
   "source": [
    "class expermentDataloader(Dataset):\n",
    "    def __init__(\n",
    "        self,\n",
    "        index_file: str, \n",
    "        data_path: str,\n",
    "        startIndex = 0,\n",
    "        endIndex = -1\n",
    "    ):\n",
    "        self.root_dir = data_path\n",
    "        self.expermentSikeTrainsIndex = np.array(pd.read_csv(index_file,header=None))[startIndex:endIndex]\n",
    "        self.spikeTrains = [\n",
    "            f\"{os.path.join(self.expermentSikeTrainsIndex[i][0])}\" for i in range(len(self.expermentSikeTrainsIndex)) \n",
    "        ]\n",
    "        self.targets = self.expermentSikeTrainsIndex[:, 1]\n",
    "\n",
    "    def __getitem__(self, index):\n",
    "        inputCSVlines = pd.read_csv(os.path.join(self.root_dir,self.spikeTrains[index])).to_numpy()\n",
    "        targetCSVLines = self.targets[index]\n",
    "        return inputCSVlines.flatten(), np.array([targetCSVLines])\n",
    "\n",
    "    def __len__(self):\n",
    "        return len(self.expermentSikeTrainsIndex)\n",
    "\n",
    "dataPath = \"/home/khood/GitHub/SNN-DNA-project/Prepocessing/data/allData\"\n",
    "dataPathIndex = \"/home/khood/GitHub/SNN-DNA-project/Prepocessing/data/allData/index.csv\"\n",
    "\n",
    "# trainingData = expermentDataloader(dataPathIndex,dataPath, startIndex=0, endIndex=156)\n",
    "trainingData = expermentDataloader(dataPathIndex,dataPath, startIndex=0, endIndex=100)\n",
    "testData = expermentDataloader(dataPathIndex,dataPath, startIndex=101, endIndex=156)\n",
    "# input = trainingData[0][0]\n",
    "# target = trainingData[0][1]\n",
    "data, target = trainingData[0]\n",
    "# data, target = testData[0]"
   ]
  },
  {
   "cell_type": "code",
   "execution_count": 40,
   "metadata": {},
   "outputs": [
    {
     "name": "stdout",
     "output_type": "stream",
     "text": [
      "100\n",
      "33\n"
     ]
    }
   ],
   "source": [
    "print(len(trainingData))\n",
    "print(len(testData))"
   ]
  },
  {
   "cell_type": "code",
   "execution_count": 4,
   "metadata": {},
   "outputs": [
    {
     "name": "stdout",
     "output_type": "stream",
     "text": [
      "197\n"
     ]
    },
    {
     "data": {
      "text/plain": [
       "array([339])"
      ]
     },
     "execution_count": 4,
     "metadata": {},
     "output_type": "execute_result"
    }
   ],
   "source": [
    "print(np.sum(data))\n",
    "target"
   ]
  },
  {
   "cell_type": "code",
   "execution_count": 5,
   "metadata": {},
   "outputs": [
    {
     "data": {
      "text/plain": [
       "11999"
      ]
     },
     "execution_count": 5,
     "metadata": {},
     "output_type": "execute_result"
    }
   ],
   "source": [
    "len(trainingData[0][0])"
   ]
  },
  {
   "cell_type": "code",
   "execution_count": 6,
   "metadata": {},
   "outputs": [
    {
     "data": {
      "text/plain": [
       "11999"
      ]
     },
     "execution_count": 6,
     "metadata": {},
     "output_type": "execute_result"
    }
   ],
   "source": [
    "len(trainingData[1][0])"
   ]
  },
  {
   "cell_type": "code",
   "execution_count": 3,
   "metadata": {},
   "outputs": [
    {
     "data": {
      "text/plain": [
       "[<matplotlib.lines.Line2D at 0x7efce1dea8f0>]"
      ]
     },
     "execution_count": 3,
     "metadata": {},
     "output_type": "execute_result"
    },
    {
     "data": {
      "image/png": "[encoded data removed]",
      "text/plain": [
       "<Figure size 640x480 with 1 Axes>"
      ]
     },
     "metadata": {},
     "output_type": "display_data"
    }
   ],
   "source": [
    "plt.plot(list(range(len(trainingData[0][0]))), trainingData[0][0], 'o', color='black')"
   ]
  },
  {
   "cell_type": "code",
   "execution_count": 4,
   "metadata": {},
   "outputs": [
    {
     "data": {
      "text/plain": [
       "array([339])"
      ]
     },
     "execution_count": 4,
     "metadata": {},
     "output_type": "execute_result"
    }
   ],
   "source": [
    "target"
   ]
  },
  {
   "cell_type": "code",
   "execution_count": 5,
   "metadata": {},
   "outputs": [
    {
     "data": {
      "text/plain": [
       "array([0, 0, 0, ..., 0, 0, 0])"
      ]
     },
     "execution_count": 5,
     "metadata": {},
     "output_type": "execute_result"
    }
   ],
   "source": [
    "data"
   ]
  },
  {
   "cell_type": "code",
   "execution_count": 10,
   "metadata": {},
   "outputs": [],
   "source": [
    "# model = nn.Sequential(\n",
    "#           nn.Linear(len(data),len(data)),\n",
    "#           nn.ReLU(),\n",
    "#           nn.Linear(len(data),len(data)),\n",
    "#           nn.ReLU(),\n",
    "#           nn.Linear(len(data),1),\n",
    "#           nn.ReLU()\n",
    "#         )\n",
    "# model.to(device)"
   ]
  },
  {
   "cell_type": "code",
   "execution_count": 11,
   "metadata": {},
   "outputs": [],
   "source": [
    "# MSE = nn.MSELoss()\n",
    "# adam = torch.optim.Adam(model.parameters(),lr=0.00001)"
   ]
  },
  {
   "cell_type": "code",
   "execution_count": 12,
   "metadata": {},
   "outputs": [],
   "source": [
    "# targetPlot = torch.from_numpy(target[:,0]).float()\n",
    "# targetTorch = torch.tensor(target).float().to(device)\n",
    "# inputTorch = torch.from_numpy(data).float().to(device)"
   ]
  },
  {
   "cell_type": "code",
   "execution_count": 13,
   "metadata": {},
   "outputs": [],
   "source": [
    "# for _ in range(50):\n",
    "#     output = model(inputTorch)\n",
    "#     loss = MSE(output, targetTorch)\n",
    "#     adam.zero_grad()\n",
    "#     loss.backward()\n",
    "#     adam.step()\n",
    "#     outputPlot = output.clone().detach().cpu().numpy()\n",
    "#     print(loss,end=\"\\r\")\n",
    "    "
   ]
  },
  {
   "cell_type": "code",
   "execution_count": 14,
   "metadata": {},
   "outputs": [],
   "source": [
    "# outputPlot"
   ]
  },
  {
   "cell_type": "code",
   "execution_count": 91,
   "metadata": {},
   "outputs": [
    {
     "name": "stdout",
     "output_type": "stream",
     "text": [
      "datasetlow:56\n",
      "datasetmedium:16\n",
      "datasetHigh:83\n",
      "Training dataset size: 122\n",
      "Testing dataset size: 16\n",
      "Validating dataset size: 17\n",
      "number train batches:13\n",
      "number test batches:2\n",
      "number valid batches:2\n"
     ]
    }
   ],
   "source": [
    "from torch.utils.data import DataLoader\n",
    "from sklearn import preprocessing \n",
    "batch_size = 10\n",
    "datasetlow = expermentDataloader(\n",
    "    \"/home/khood/GitHub/SNN-DNA-project/Prepocessing/data/seperatedData/low/index.csv\",\n",
    "    \"/home/khood/GitHub/SNN-DNA-project/Prepocessing/data/seperatedData/low\", \n",
    "    startIndex=0, endIndex=70\n",
    ")\n",
    "datasetmedium = expermentDataloader(\n",
    "    \"/home/khood/GitHub/SNN-DNA-project/Prepocessing/data/seperatedData/medium/index.csv\",\n",
    "    \"/home/khood/GitHub/SNN-DNA-project/Prepocessing/data/seperatedData/medium\", \n",
    "    startIndex=0, endIndex=60)\n",
    "\n",
    "datasetHigh = expermentDataloader(\n",
    "    \"/home/khood/GitHub/SNN-DNA-project/Prepocessing/data/seperatedData/high/index.csv\",\n",
    "    \"/home/khood/GitHub/SNN-DNA-project/Prepocessing/data/seperatedData/high\", \n",
    "    startIndex=0, endIndex=-1\n",
    ")\n",
    "\n",
    "print(f\"datasetlow:{len(datasetlow)}\")\n",
    "print(f\"datasetmedium:{len(datasetmedium)}\")\n",
    "print(f\"datasetHigh:{len(datasetHigh)}\")\n",
    "def addData(trainData: list, testData: list, expermentDataset: expermentDataloader, cutoffIndex=None):\n",
    "    cutoffIndex = int(len(expermentDataset)*0.9) if cutoffIndex == None else cutoffIndex\n",
    "    \n",
    "    # print(f\"using {len(range(cutoffIndex))} of {len(expermentDataset)} for set a\")\n",
    "    for i in range(cutoffIndex):\n",
    "        trainData.append(expermentDataset[i])\n",
    "\n",
    "    # print(f\"using {len(range(cutoffIndex, len(expermentDataset)))} of {len(expermentDataset)} for set b\")\n",
    "    for i in range(cutoffIndex, len(expermentDataset)):\n",
    "        testData.append(expermentDataset[i])\n",
    "\n",
    "rawData = []\n",
    "addData(rawData, [], datasetlow, cutoffIndex=len(datasetlow))\n",
    "addData(rawData, [], datasetmedium, cutoffIndex=len(datasetmedium))\n",
    "addData(rawData, [], datasetHigh, cutoffIndex=len(datasetHigh))\n",
    "rawData = [[k,v] for k,v in rawData]\n",
    "magnetSettings = [1.5] * 27 # 1.5mm_35.14pN\n",
    "magnetSettings += [2] * 28  # 2mm_22.6pN\n",
    "magnetSettings += [3] * 16  # 3mm_9.24pN\n",
    "magnetSettings += [5] * 63  # 5mm_1.46pN\n",
    "magnetSettings += [9] * 21  # 9mm_0.002pN\n",
    "magnetSettings = [[i] for i in magnetSettings]\n",
    "\n",
    "forceSettings = [35.14] * 27  # 1.5mm_35.14pN\n",
    "forceSettings += [22.6] * 28  # 2mm_22.6pN\n",
    "forceSettings += [9.24] * 16  # 3mm_9.24pN\n",
    "forceSettings += [1.46] * 63  # 5mm_1.46pN\n",
    "forceSettings += [0.002] * 21 # 9mm_0.002pN\n",
    "forceSettings = [[i] for i in forceSettings]\n",
    "\n",
    "trains, targets = list(map(list, zip(*rawData)))\n",
    "# trains = [np.sum(i) for i in trains]\n",
    "# trains = [[i] for i in trains]\n",
    "# trains = preprocessing.normalize(trains,axis=0)\n",
    "# targets = preprocessing.normalize(targets,axis=0)\n",
    "tmp = list(zip(trains,magnetSettings,forceSettings))\n",
    "tmp = list(list(i[0]) + list(i[1]) + list(i[2]) for i in tmp)\n",
    "rawData = (list(zip(tmp,targets)))\n",
    "datasetlow = rawData[:len(datasetlow)]\n",
    "datasetmedium = rawData[len(datasetlow):len(datasetlow)+len(datasetmedium)]\n",
    "datasetHigh = rawData[len(datasetlow)+len(datasetmedium):]\n",
    "trainData = []\n",
    "testData = []\n",
    "validData = []\n",
    "\n",
    "addData(trainData, testData, datasetlow, cutoffIndex=int(len(datasetlow)*0.8))\n",
    "addData(trainData, testData, datasetmedium, cutoffIndex=int(len(datasetmedium)*0.8))\n",
    "addData(trainData, testData, datasetHigh, cutoffIndex=int(len(datasetHigh)*0.8))\n",
    "tmp = copy.deepcopy(testData)\n",
    "testData = []\n",
    "addData(testData, validData, tmp, cutoffIndex=int(len(tmp)*0.5))\n",
    "# trains, magnetSettings, forceSettings, targets = list(map(list, zip(*trainData)))\n",
    "# trains = preprocessing.normalize(trains)\n",
    "# magnetSettings = preprocessing.normalize(magnetSettings)\n",
    "# forceSettings = preprocessing.normalize(forceSettings)\n",
    "# targets = preprocessing.normalize(targets)\n",
    "\n",
    "trainData = [([np.array(i).flatten(), np.array(t)]) for i,t in trainData]\n",
    "testData = [([np.array(i).flatten(), np.array(t)]) for i,t in testData]\n",
    "validData = [([np.array(i).flatten(), np.array(t)]) for i,t in validData]\n",
    "\n",
    "trainDataset = DataLoader(trainData, batch_size=batch_size, shuffle=True)\n",
    "testDataset = DataLoader(testData, batch_size=batch_size, shuffle=True)\n",
    "validDataset = DataLoader(validData, batch_size=batch_size, shuffle=True)\n",
    "print(f\"Training dataset size: {len(trainData)}\")\n",
    "print(f\"Testing dataset size: {len(testData)}\")\n",
    "print(f\"Validating dataset size: {len(validData)}\")\n",
    "print(f\"number train batches:{len(trainDataset)}\")\n",
    "print(f\"number test batches:{len(testDataset)}\")\n",
    "print(f\"number valid batches:{len(validDataset)}\")"
   ]
  },
  {
   "cell_type": "code",
   "execution_count": 92,
   "metadata": {},
   "outputs": [
    {
     "data": {
      "text/plain": [
       "[array([ 0.  ,  0.  ,  0.  , ...,  0.  ,  1.5 , 35.14]), array([34])]"
      ]
     },
     "execution_count": 92,
     "metadata": {},
     "output_type": "execute_result"
    }
   ],
   "source": [
    "featIn = len(trainData[0][0])\n",
    "trainData[0]"
   ]
  },
  {
   "cell_type": "code",
   "execution_count": 80,
   "metadata": {},
   "outputs": [
    {
     "data": {
      "text/plain": [
       "device(type='cuda', index=0)"
      ]
     },
     "execution_count": 80,
     "metadata": {},
     "output_type": "execute_result"
    }
   ],
   "source": [
    "device"
   ]
  },
  {
   "cell_type": "code",
   "execution_count": 95,
   "metadata": {},
   "outputs": [
    {
     "name": "stdout",
     "output_type": "stream",
     "text": [
      "training...\n",
      "        epoch: 72/1500\t         loss:48725.935546875\t         accuracy:0.17142857142857143         \u001b\u001b\r"
     ]
    },
    {
     "ename": "KeyboardInterrupt",
     "evalue": "",
     "output_type": "error",
     "traceback": [
      "\u001b[0;31m---------------------------------------------------------------------------\u001b[0m",
      "\u001b[0;31mKeyboardInterrupt\u001b[0m                         Traceback (most recent call last)",
      "Cell \u001b[0;32mIn[95], line 26\u001b[0m\n\u001b[1;32m     24\u001b[0m currentAcc \u001b[39m=\u001b[39m []\n\u001b[1;32m     25\u001b[0m \u001b[39mfor\u001b[39;00m i, (inputs, targets) \u001b[39min\u001b[39;00m \u001b[39menumerate\u001b[39m(trainDataset):\n\u001b[0;32m---> 26\u001b[0m     inputs, targets\u001b[39m=\u001b[39m inputs\u001b[39m.\u001b[39;49mfloat()\u001b[39m.\u001b[39;49mto(device), targets\u001b[39m.\u001b[39mfloat()\u001b[39m.\u001b[39mto(device)\n\u001b[1;32m     27\u001b[0m     outputs \u001b[39m=\u001b[39m model(inputs)\n\u001b[1;32m     28\u001b[0m     loss \u001b[39m=\u001b[39m MSE(outputs, targets)\n",
      "\u001b[0;31mKeyboardInterrupt\u001b[0m: "
     ]
    }
   ],
   "source": [
    "model = nn.Sequential(\n",
    "          nn.Linear(featIn,16000),\n",
    "          nn.ReLU(),\n",
    "          nn.Linear(16000,16000),\n",
    "          nn.ReLU(),\n",
    "          nn.Linear(16000,16000),\n",
    "          nn.ReLU(),\n",
    "          nn.Linear(16000,16000),\n",
    "          nn.ReLU(),\n",
    "          nn.Linear(16000,1),\n",
    "        )\n",
    "model.to(device)\n",
    "MSE = nn.MSELoss(reduction = 'sum')\n",
    "adam = torch.optim.Adam(model.parameters(),lr=0.000001)\n",
    "\n",
    "em = 20\n",
    "epochs = 250\n",
    "losses = []\n",
    "accs = []\n",
    "print(\"training...\")\n",
    "for e in range(epochs): \n",
    "    model.train()\n",
    "    avgLoss = []\n",
    "    currentAcc = []\n",
    "    for i, (inputs, targets) in enumerate(trainDataset):\n",
    "        inputs, targets= inputs.float().to(device), targets.float().to(device)\n",
    "        outputs = model(inputs)\n",
    "        loss = MSE(outputs, targets)\n",
    "        adam.zero_grad()\n",
    "        loss.backward()\n",
    "        adam.step()\n",
    "        \n",
    "    #     outputPlot = outputs.clone().detach().cpu().numpy()\n",
    "    #     targetsPlot = targets.clone().detach().cpu().numpy()\n",
    "    #     avgLoss.append(float(loss.clone().detach().cpu().numpy()))\n",
    "    #     totalCorrect = torch.sum(torch.isclose(outputs.int(), targets.int(), atol=em))\n",
    "    #     totalCorrect = totalCorrect.clone().detach().cpu().numpy()\n",
    "    #     accs.append(float(totalCorrect/len(targets)))\n",
    "    #     currentAcc.append(float(totalCorrect/len(targets)))\n",
    "    #     losses.append(float(loss.clone().detach().cpu().numpy()))\n",
    "    # print(f\"\\\n",
    "    #         epoch: {e}/{epochs}\\t \\\n",
    "    #         loss:{np.sum(avgLoss)/len(avgLoss)}\\t \\\n",
    "    #         accuracy:{np.sum(currentAcc)/len(currentAcc)} \\\n",
    "    #         \",end=\"\\x1b\\r\")\n",
    "        \n",
    "    avgLoss = []\n",
    "    currentAcc = []\n",
    "    model.eval()\n",
    "    for i, (inputs, targets) in enumerate(validDataset):\n",
    "        inputs, targets= inputs.float().to(device), targets.float().to(device)\n",
    "        outputs = model(inputs)\n",
    "        loss = MSE(outputs, targets)\n",
    "        outputPlot = outputs.clone().detach().cpu().numpy()\n",
    "        targetsPlot = targets.clone().detach().cpu().numpy()\n",
    "        avgLoss.append(float(loss.clone().detach().cpu().numpy()))\n",
    "        totalCorrect = torch.sum(torch.isclose(outputs.int(), targets.int(), atol=em))\n",
    "        totalCorrect = totalCorrect.clone().detach().cpu().numpy()\n",
    "        accs.append(float(totalCorrect/len(targets)))\n",
    "        currentAcc.append(float(totalCorrect/len(targets)))\n",
    "        losses.append(float(loss.clone().detach().cpu().numpy()))\n",
    "        print(f\"\\\n",
    "        epoch: {e}/{epochs}\\t \\\n",
    "        loss:{np.sum(avgLoss)/len(avgLoss)}\\t \\\n",
    "        accuracy:{np.sum(currentAcc)/len(currentAcc)} \\\n",
    "        \",end=\"\\x1b\\r\")"
   ]
  },
  {
   "cell_type": "code",
   "execution_count": 52,
   "metadata": {},
   "outputs": [
    {
     "data": {
      "text/plain": [
       "300"
      ]
     },
     "execution_count": 52,
     "metadata": {},
     "output_type": "execute_result"
    },
    {
     "data": {
      "image/png": "[encoded data removed]",
      "text/plain": [
       "<Figure size 640x480 with 1 Axes>"
      ]
     },
     "metadata": {},
     "output_type": "display_data"
    }
   ],
   "source": [
    "# plt.plot(list(range(len(accs))), accs, '-', color='black')\n",
    "plt.plot(list(range(len(losses))), losses, '-', color='black')\n",
    "len(accs)"
   ]
  },
  {
   "cell_type": "code",
   "execution_count": 96,
   "metadata": {},
   "outputs": [
    {
     "name": "stdout",
     "output_type": "stream",
     "text": [
      "test...\n",
      "    accuracy:0.7539999999999999     \u001b\r"
     ]
    }
   ],
   "source": [
    "em =20\n",
    "epochs = 100\n",
    "accs = []\n",
    "model.eval()\n",
    "print(\"test...\")\n",
    "for e in range(epochs): \n",
    "    avgLoss = []\n",
    "    currentAcc = []\n",
    "    for i, (inputs, targets) in enumerate(testDataset):\n",
    "        inputs, targets= inputs.float().to(device), targets.float().to(device)\n",
    "        outputs = model(inputs)\n",
    "        if(len(outputs) == batch_size):\n",
    "            outputPlot = outputs.clone().detach().cpu().numpy()\n",
    "            targetsPlot = targets.clone().detach().cpu().numpy()\n",
    "            totalCorrect = torch.sum(torch.isclose(outputs.int(), targets.int(), atol=em))\n",
    "            totalCorrect = totalCorrect.clone().detach().cpu().numpy()\n",
    "            currentAcc.append(float(totalCorrect/len(targets)))\n",
    "            accs.append(float(totalCorrect/len(targets)))\n",
    "\n",
    "print(f\"\\\n",
    "    accuracy:{np.sum(accs)/len(accs)} \\\n",
    "    \",end=\"\\x1b\\r\")"
   ]
  },
  {
   "cell_type": "code",
   "execution_count": 84,
   "metadata": {},
   "outputs": [
    {
     "data": {
      "text/plain": [
       "[<matplotlib.lines.Line2D at 0x7f0d503c6200>]"
      ]
     },
     "execution_count": 84,
     "metadata": {},
     "output_type": "execute_result"
    },
    {
     "data": {
      "image/png": "[encoded data removed]",
      "text/plain": [
       "<Figure size 640x480 with 1 Axes>"
      ]
     },
     "metadata": {},
     "output_type": "display_data"
    }
   ],
   "source": [
    "plt.plot(list(range(len(losses))), losses, '-', color='black')"
   ]
  },
  {
   "cell_type": "code",
   "execution_count": 85,
   "metadata": {},
   "outputs": [
    {
     "data": {
      "text/plain": [
       "[<matplotlib.lines.Line2D at 0x7f0d50251fc0>]"
      ]
     },
     "execution_count": 85,
     "metadata": {},
     "output_type": "execute_result"
    },
    {
     "data": {
      "image/png": "[encoded data removed]",
      "text/plain": [
       "<Figure size 640x480 with 1 Axes>"
      ]
     },
     "metadata": {},
     "output_type": "display_data"
    }
   ],
   "source": [
    "plt.plot(list(range(len(accs))), accs, '-', color='black')"
   ]
  },
  {
   "cell_type": "code",
   "execution_count": 65,
   "metadata": {},
   "outputs": [
    {
     "data": {
      "text/plain": [
       "[<matplotlib.lines.Line2D at 0x7f0d945dca30>]"
      ]
     },
     "execution_count": 65,
     "metadata": {},
     "output_type": "execute_result"
    },
    {
     "data": {
      "image/png": "[encoded data removed]",
      "text/plain": [
       "<Figure size 640x480 with 1 Axes>"
      ]
     },
     "metadata": {},
     "output_type": "display_data"
    }
   ],
   "source": [
    "plt.plot(list(range(len(outputPlot))), outputPlot, 'o', color='black')\n",
    "plt.plot(list(range(len(targetsPlot))), targetsPlot, 'o', color='green')"
   ]
  },
  {
   "attachments": {},
   "cell_type": "markdown",
   "metadata": {},
   "source": [
    "#### High\n",
    "----"
   ]
  },
  {
   "cell_type": "code",
   "execution_count": 51,
   "metadata": {},
   "outputs": [],
   "source": [
    "dataPath = \"/home/khood/GitHub/SNN-DNA-project/Prepocessing/data/seperatedData/high\"\n",
    "dataPathIndex = \"/home/khood/GitHub/SNN-DNA-project/Prepocessing/data/seperatedData/high/index.csv\"\n",
    "\n",
    "datasetHigh = expermentDataloader(dataPathIndex,dataPath, startIndex=0, endIndex=-1)\n",
    "testDatasetHigh = DataLoader(datasetHigh, batch_size=batch_size, shuffle=True)"
   ]
  },
  {
   "cell_type": "code",
   "execution_count": 35,
   "metadata": {},
   "outputs": [
    {
     "data": {
      "text/plain": [
       "20"
      ]
     },
     "execution_count": 35,
     "metadata": {},
     "output_type": "execute_result"
    }
   ],
   "source": [
    "len(datasetHigh)"
   ]
  },
  {
   "cell_type": "code",
   "execution_count": 86,
   "metadata": {},
   "outputs": [
    {
     "name": "stdout",
     "output_type": "stream",
     "text": [
      "test...\n"
     ]
    },
    {
     "ename": "NameError",
     "evalue": "name 'testDatasetHigh' is not defined",
     "output_type": "error",
     "traceback": [
      "\u001b[0;31m---------------------------------------------------------------------------\u001b[0m",
      "\u001b[0;31mNameError\u001b[0m                                 Traceback (most recent call last)",
      "Cell \u001b[0;32mIn[86], line 8\u001b[0m\n\u001b[1;32m      6\u001b[0m avgLoss \u001b[39m=\u001b[39m []\n\u001b[1;32m      7\u001b[0m currentAcc \u001b[39m=\u001b[39m []\n\u001b[0;32m----> 8\u001b[0m \u001b[39mfor\u001b[39;00m i, (inputs, targets) \u001b[39min\u001b[39;00m \u001b[39menumerate\u001b[39m(testDatasetHigh):\n\u001b[1;32m      9\u001b[0m     inputs, targets\u001b[39m=\u001b[39m inputs\u001b[39m.\u001b[39mfloat()\u001b[39m.\u001b[39mto(device), targets\u001b[39m.\u001b[39mfloat()\u001b[39m.\u001b[39mto(device)\n\u001b[1;32m     10\u001b[0m     outputs \u001b[39m=\u001b[39m model(inputs)\n",
      "\u001b[0;31mNameError\u001b[0m: name 'testDatasetHigh' is not defined"
     ]
    }
   ],
   "source": [
    "em =1\n",
    "epochs = 100\n",
    "accs = []\n",
    "print(\"test...\")\n",
    "for e in range(epochs): \n",
    "    avgLoss = []\n",
    "    currentAcc = []\n",
    "    for i, (inputs, targets) in enumerate(testDatasetHigh):\n",
    "        inputs, targets= inputs.float().to(device), targets.float().to(device)\n",
    "        outputs = model(inputs)\n",
    "        outputPlot = outputs.clone().detach().cpu().numpy()\n",
    "        targetsPlot = targets.clone().detach().cpu().numpy()\n",
    "        totalCorrect = torch.sum(torch.isclose(outputs.int(), targets.int(), atol=em))\n",
    "        totalCorrect = totalCorrect.clone().detach().cpu().numpy()\n",
    "        currentAcc.append(float(totalCorrect/len(targets)))\n",
    "        accs.append(float(totalCorrect/len(targets)))\n",
    "\n",
    "print(f\"\\\n",
    "    accuracy:{np.sum(accs)/len(accs)} \\\n",
    "    \",end=\"\\x1b\\r\")"
   ]
  },
  {
   "cell_type": "code",
   "execution_count": 54,
   "metadata": {},
   "outputs": [
    {
     "data": {
      "text/plain": [
       "[<matplotlib.lines.Line2D at 0x7f90d83bc1f0>]"
      ]
     },
     "execution_count": 54,
     "metadata": {},
     "output_type": "execute_result"
    },
    {
     "data": {
      "image/png": "[encoded data removed]",
      "text/plain": [
       "<Figure size 640x480 with 1 Axes>"
      ]
     },
     "metadata": {},
     "output_type": "display_data"
    }
   ],
   "source": [
    "plt.plot(list(range(len(outputPlot))), outputPlot, 'o', color='black')\n",
    "plt.plot(list(range(len(targetsPlot))), targetsPlot, 'o', color='green')"
   ]
  },
  {
   "attachments": {},
   "cell_type": "markdown",
   "metadata": {},
   "source": [
    "#### medium\n",
    "----"
   ]
  },
  {
   "cell_type": "code",
   "execution_count": 39,
   "metadata": {},
   "outputs": [
    {
     "data": {
      "text/plain": [
       "60"
      ]
     },
     "execution_count": 39,
     "metadata": {},
     "output_type": "execute_result"
    }
   ],
   "source": [
    "dataPath = \"/home/khood/GitHub/SNN-DNA-project/Prepocessing/data/seperatedData/medium\"\n",
    "dataPathIndex = \"/home/khood/GitHub/SNN-DNA-project/Prepocessing/data/seperatedData/medium/index.csv\"\n",
    "\n",
    "datasetmedium = expermentDataloader(dataPathIndex,dataPath, startIndex=0, endIndex=60)\n",
    "testDatasetmedium = DataLoader(datasetmedium, batch_size=10, shuffle=True)\n",
    "len(datasetmedium)"
   ]
  },
  {
   "cell_type": "code",
   "execution_count": 51,
   "metadata": {},
   "outputs": [
    {
     "name": "stdout",
     "output_type": "stream",
     "text": [
      "test...\n",
      "    accuracy:0.95     \u001b\r"
     ]
    }
   ],
   "source": [
    "\n",
    "em =1\n",
    "epochs = 100\n",
    "accs = []\n",
    "print(\"test...\")\n",
    "for e in range(epochs): \n",
    "    \n",
    "    avgLoss = []\n",
    "    currentAcc = []\n",
    "    for i, (inputs, targets) in enumerate(testDatasetmedium):\n",
    "        inputs, targets= inputs.float().to(device), targets.float().to(device)\n",
    "        outputs = model(inputs)\n",
    "        outputPlot = outputs.clone().detach().cpu().numpy()\n",
    "        targetsPlot = targets.clone().detach().cpu().numpy()\n",
    "        totalCorrect = torch.sum(torch.isclose(outputs.int(), targets.int(), atol=em))\n",
    "        totalCorrect = totalCorrect.clone().detach().cpu().numpy()\n",
    "        currentAcc.append(float(totalCorrect/len(targets)))\n",
    "        accs.append(float(totalCorrect/len(targets)))\n",
    "\n",
    "print(f\"\\\n",
    "    accuracy:{np.sum(accs)/len(accs)} \\\n",
    "    \",end=\"\\x1b\\r\")"
   ]
  },
  {
   "cell_type": "code",
   "execution_count": 52,
   "metadata": {},
   "outputs": [
    {
     "data": {
      "text/plain": [
       "[<matplotlib.lines.Line2D at 0x7f90d8328d30>]"
      ]
     },
     "execution_count": 52,
     "metadata": {},
     "output_type": "execute_result"
    },
    {
     "data": {
      "image/png": "[encoded data removed]",
      "text/plain": [
       "<Figure size 640x480 with 1 Axes>"
      ]
     },
     "metadata": {},
     "output_type": "display_data"
    }
   ],
   "source": [
    "plt.plot(list(range(len(outputPlot))), outputPlot, 'o', color='black')\n",
    "plt.plot(list(range(len(targetsPlot))), targetsPlot, 'o', color='green')"
   ]
  },
  {
   "attachments": {},
   "cell_type": "markdown",
   "metadata": {},
   "source": [
    "#### low\n",
    "----"
   ]
  },
  {
   "cell_type": "code",
   "execution_count": 44,
   "metadata": {},
   "outputs": [
    {
     "data": {
      "text/plain": [
       "70"
      ]
     },
     "execution_count": 44,
     "metadata": {},
     "output_type": "execute_result"
    }
   ],
   "source": [
    "\n",
    "testDatasetlow = DataLoader(datasetHigh, batch_size=batch_size, shuffle=True)\n",
    "len(datasetlow)"
   ]
  },
  {
   "cell_type": "code",
   "execution_count": 49,
   "metadata": {},
   "outputs": [
    {
     "name": "stdout",
     "output_type": "stream",
     "text": [
      "test...\n",
      "    accuracy:1.0     \u001b\r"
     ]
    }
   ],
   "source": [
    "\n",
    "em =1\n",
    "epochs = 100\n",
    "accs = []\n",
    "print(\"test...\")\n",
    "for e in range(epochs): \n",
    "    avgLoss = []\n",
    "    currentAcc = []\n",
    "    for i, (inputs, targets) in enumerate(testDatasetlow):\n",
    "        inputs, targets= inputs.float().to(device), targets.float().to(device)\n",
    "        outputs = model(inputs)\n",
    "        outputPlot = outputs.clone().detach().cpu().numpy()\n",
    "        targetsPlot = targets.clone().detach().cpu().numpy()\n",
    "        totalCorrect = torch.sum(torch.isclose(outputs.int(), targets.int(), atol=em))\n",
    "        totalCorrect = totalCorrect.clone().detach().cpu().numpy()\n",
    "        currentAcc.append(float(totalCorrect/len(targets)))\n",
    "        accs.append(float(totalCorrect/len(targets)))\n",
    "\n",
    "print(f\"\\\n",
    "    accuracy:{np.sum(accs)/len(accs)} \\\n",
    "    \",end=\"\\x1b\\r\")"
   ]
  },
  {
   "cell_type": "code",
   "execution_count": 50,
   "metadata": {},
   "outputs": [
    {
     "data": {
      "text/plain": [
       "[<matplotlib.lines.Line2D at 0x7f90d8459f60>]"
      ]
     },
     "execution_count": 50,
     "metadata": {},
     "output_type": "execute_result"
    },
    {
     "data": {
      "image/png": "[encoded data removed]",
      "text/plain": [
       "<Figure size 640x480 with 1 Axes>"
      ]
     },
     "metadata": {},
     "output_type": "display_data"
    }
   ],
   "source": [
    "plt.plot(list(range(len(outputPlot))), outputPlot, 'o', color='black')\n",
    "plt.plot(list(range(len(targetsPlot))), targetsPlot, 'o', color='green')"
   ]
  }
 ],
 "metadata": {
  "kernelspec": {
   "display_name": "dna",
   "language": "python",
   "name": "python3"
  },
  "language_info": {
   "codemirror_mode": {
    "name": "ipython",
    "version": 3
   },
   "file_extension": ".py",
   "mimetype": "text/x-python",
   "name": "python",
   "nbconvert_exporter": "python",
   "pygments_lexer": "ipython3",
   "version": "3.10.9"
  },
  "orig_nbformat": 4,
  "vscode": {
   "interpreter": {
    "hash": "366a53c283de3ac239fad2923e36904e6cb28c586fdc23988bad2bc80f7d8984"
   }
  }
 },
 "nbformat": 4,
 "nbformat_minor": 2
}
