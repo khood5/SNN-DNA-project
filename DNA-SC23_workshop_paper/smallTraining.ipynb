{
 "cells": [
  {
   "cell_type": "code",
   "execution_count": 1,
   "metadata": {},
   "outputs": [
    {
     "data": {
      "text/plain": [
       "device(type='cuda', index=0)"
      ]
     },
     "execution_count": 1,
     "metadata": {},
     "output_type": "execute_result"
    }
   ],
   "source": [
    "import torch\n",
    "import json\n",
    "import os\n",
    "import random\n",
    "import numpy as np\n",
    "import torch\n",
    "import torch.multiprocessing as mp\n",
    "import torch\n",
    "from torch.utils.data import DataLoader\n",
    "import copy\n",
    "from torch import nn\n",
    "%matplotlib inline\n",
    "import matplotlib.pyplot as plt\n",
    "from dnaDataloader import expermentDataloader\n",
    "from dnaDataloader import addData\n",
    "from dnaModelUtil import train\n",
    "device = torch.device(\"cuda:0\" if torch.cuda.is_available() else \"cpu\")\n",
    "cpu = torch.device(\"cpu\")\n",
    "batch_size = 25\n",
    "device"
   ]
  },
  {
   "cell_type": "code",
   "execution_count": 2,
   "metadata": {},
   "outputs": [],
   "source": [
    "try:\n",
    "   mp.set_start_method('spawn')\n",
    "except RuntimeError:\n",
    "   pass # throws error if run twice without resetting the kernal, if its already set we dont care that this errors"
   ]
  },
  {
   "attachments": {},
   "cell_type": "markdown",
   "metadata": {},
   "source": [
    "## Eval with small traing sets\n",
    "The goal here is to eval the model while training on small sets of data. That is how well can MLP learn from 100-200 examples of single-molecule experiments.\n",
    "A verity of samples have been provided anf preprocessed (converted from excel to csv and had empty frames added) to the folder <pre>/home/khood/GitHub/SNN-DNA-project/Prepocessing/sorted</pre>"
   ]
  },
  {
   "cell_type": "code",
   "execution_count": 3,
   "metadata": {},
   "outputs": [
    {
     "data": {
      "text/plain": [
       "6"
      ]
     },
     "execution_count": 3,
     "metadata": {},
     "output_type": "execute_result"
    }
   ],
   "source": [
    "folders = [d[0] for d in os.walk(\"/users/kent/student/khood5/GitHub/SNN-DNA-project/Prepocessing/sorted\")][1:] # remove first one is it is \"/home/khood/GitHub/SNN-DNA-project/Prepocessing/sorted\"\n",
    "len(folders)"
   ]
  },
  {
   "cell_type": "code",
   "execution_count": 4,
   "metadata": {},
   "outputs": [],
   "source": [
    "datasets = []\n",
    "featIn = 0\n",
    "for d in folders:\n",
    "    data = expermentDataloader(\n",
    "        f\"{d}/index.csv\",\n",
    "        f\"{d}\", \n",
    "    )\n",
    "    rawData = [d for d in data]\n",
    "    featIn = len(rawData[0][0])\n",
    "    trainValidData = []\n",
    "    testData = []\n",
    "    addData(testData, trainValidData, rawData, rhsSize=300)\n",
    "\n",
    "\n",
    "    np.random.shuffle(trainValidData)\n",
    "    trainData = []\n",
    "    validData = []\n",
    "    addData(trainData, validData, trainValidData, rhsSize=int(len(trainValidData)*(1/3)))\n",
    "\n",
    "    datasets.append({\"name\": f\"{os.path.basename(d)}\", \n",
    "                     \"train\":DataLoader(trainData, batch_size=batch_size, shuffle=True) , \n",
    "                     \"valid\":DataLoader(validData, batch_size=batch_size, shuffle=True) , \n",
    "                     \"test\":DataLoader(testData, batch_size=len(testData), shuffle=True) ,\n",
    "                     \"model\": {}}\n",
    "                    )"
   ]
  },
  {
   "cell_type": "code",
   "execution_count": 5,
   "metadata": {},
   "outputs": [
    {
     "name": "stdout",
     "output_type": "stream",
     "text": [
      "datasets:\n",
      "{'name': '50_nM_AR_600', 'train': <torch.utils.data.dataloader.DataLoader object at 0x7f70accfbc40>, 'valid': <torch.utils.data.dataloader.DataLoader object at 0x7f70accfbeb0>, 'test': <torch.utils.data.dataloader.DataLoader object at 0x7f71fb0227a0>, 'model': {}}\n",
      "{'name': '1200_nM_AR_600', 'train': <torch.utils.data.dataloader.DataLoader object at 0x7f71fb074e50>, 'valid': <torch.utils.data.dataloader.DataLoader object at 0x7f70a5f4be80>, 'test': <torch.utils.data.dataloader.DataLoader object at 0x7f70a5f49600>, 'model': {}}\n",
      "{'name': '800_nM_AR_600', 'train': <torch.utils.data.dataloader.DataLoader object at 0x7f70a5f24370>, 'valid': <torch.utils.data.dataloader.DataLoader object at 0x7f70a5f0bc70>, 'test': <torch.utils.data.dataloader.DataLoader object at 0x7f70a5f6f310>, 'model': {}}\n",
      "{'name': '1800_nM_AR_600', 'train': <torch.utils.data.dataloader.DataLoader object at 0x7f70a5f6c250>, 'valid': <torch.utils.data.dataloader.DataLoader object at 0x7f70a5f25840>, 'test': <torch.utils.data.dataloader.DataLoader object at 0x7f70a5fbc160>, 'model': {}}\n",
      "{'name': '100_nM_AR_600', 'train': <torch.utils.data.dataloader.DataLoader object at 0x7f70a5f6fe80>, 'valid': <torch.utils.data.dataloader.DataLoader object at 0x7f70a5f94250>, 'test': <torch.utils.data.dataloader.DataLoader object at 0x7f70a5df7f40>, 'model': {}}\n",
      "{'name': '400_nM_AR_600', 'train': <torch.utils.data.dataloader.DataLoader object at 0x7f70a5df4100>, 'valid': <torch.utils.data.dataloader.DataLoader object at 0x7f70a5f94220>, 'test': <torch.utils.data.dataloader.DataLoader object at 0x7f70a5e02aa0>, 'model': {}}\n",
      "6\n",
      "featIn: 12000\n"
     ]
    }
   ],
   "source": [
    "print(f\"datasets:\")\n",
    "for d in datasets:\n",
    "    print(d)\n",
    "print(f\"{len(datasets)}\")\n",
    "print(f\"featIn: {featIn}\")"
   ]
  },
  {
   "cell_type": "code",
   "execution_count": 6,
   "metadata": {},
   "outputs": [
    {
     "name": "stdout",
     "output_type": "stream",
     "text": [
      "-- 50_nM_AR_600 --\n",
      "train: 8\n",
      "valid: 4\n",
      "test : 1\n",
      "-- 1200_nM_AR_600 --\n",
      "train: 8\n",
      "valid: 4\n",
      "test : 1\n",
      "-- 800_nM_AR_600 --\n",
      "train: 8\n",
      "valid: 4\n",
      "test : 1\n",
      "-- 1800_nM_AR_600 --\n",
      "train: 8\n",
      "valid: 4\n",
      "test : 1\n",
      "-- 100_nM_AR_600 --\n",
      "train: 8\n",
      "valid: 4\n",
      "test : 1\n",
      "-- 400_nM_AR_600 --\n",
      "train: 8\n",
      "valid: 4\n",
      "test : 1\n"
     ]
    }
   ],
   "source": [
    "for d in datasets:\n",
    "    print(f\"-- {d['name']} --\")\n",
    "    print(f\"train: {len(d['train'])}\")\n",
    "    print(f\"valid: {len(d['valid'])}\")\n",
    "    print(f\"test : {len(d['test'])}\")"
   ]
  },
  {
   "cell_type": "code",
   "execution_count": 7,
   "metadata": {},
   "outputs": [],
   "source": [
    "manager = mp.Manager()\n",
    "return_dict = manager.dict()"
   ]
  },
  {
   "cell_type": "code",
   "execution_count": 8,
   "metadata": {},
   "outputs": [
    {
     "data": {
      "text/plain": [
       "[<Process name='Process-2' parent=3485204 initial>,\n",
       " <Process name='Process-3' parent=3485204 initial>,\n",
       " <Process name='Process-4' parent=3485204 initial>,\n",
       " <Process name='Process-5' parent=3485204 initial>,\n",
       " <Process name='Process-6' parent=3485204 initial>,\n",
       " <Process name='Process-7' parent=3485204 initial>,\n",
       " <Process name='Process-8' parent=3485204 initial>,\n",
       " <Process name='Process-9' parent=3485204 initial>,\n",
       " <Process name='Process-10' parent=3485204 initial>,\n",
       " <Process name='Process-11' parent=3485204 initial>,\n",
       " <Process name='Process-12' parent=3485204 initial>,\n",
       " <Process name='Process-13' parent=3485204 initial>,\n",
       " <Process name='Process-14' parent=3485204 initial>,\n",
       " <Process name='Process-15' parent=3485204 initial>,\n",
       " <Process name='Process-16' parent=3485204 initial>,\n",
       " <Process name='Process-17' parent=3485204 initial>,\n",
       " <Process name='Process-18' parent=3485204 initial>,\n",
       " <Process name='Process-19' parent=3485204 initial>,\n",
       " <Process name='Process-20' parent=3485204 initial>,\n",
       " <Process name='Process-21' parent=3485204 initial>,\n",
       " <Process name='Process-22' parent=3485204 initial>,\n",
       " <Process name='Process-23' parent=3485204 initial>,\n",
       " <Process name='Process-24' parent=3485204 initial>,\n",
       " <Process name='Process-25' parent=3485204 initial>,\n",
       " <Process name='Process-26' parent=3485204 initial>,\n",
       " <Process name='Process-27' parent=3485204 initial>,\n",
       " <Process name='Process-28' parent=3485204 initial>,\n",
       " <Process name='Process-29' parent=3485204 initial>,\n",
       " <Process name='Process-30' parent=3485204 initial>,\n",
       " <Process name='Process-31' parent=3485204 initial>,\n",
       " <Process name='Process-32' parent=3485204 initial>,\n",
       " <Process name='Process-33' parent=3485204 initial>,\n",
       " <Process name='Process-34' parent=3485204 initial>,\n",
       " <Process name='Process-35' parent=3485204 initial>,\n",
       " <Process name='Process-36' parent=3485204 initial>,\n",
       " <Process name='Process-37' parent=3485204 initial>,\n",
       " <Process name='Process-38' parent=3485204 initial>,\n",
       " <Process name='Process-39' parent=3485204 initial>,\n",
       " <Process name='Process-40' parent=3485204 initial>,\n",
       " <Process name='Process-41' parent=3485204 initial>,\n",
       " <Process name='Process-42' parent=3485204 initial>,\n",
       " <Process name='Process-43' parent=3485204 initial>,\n",
       " <Process name='Process-44' parent=3485204 initial>,\n",
       " <Process name='Process-45' parent=3485204 initial>,\n",
       " <Process name='Process-46' parent=3485204 initial>,\n",
       " <Process name='Process-47' parent=3485204 initial>,\n",
       " <Process name='Process-48' parent=3485204 initial>,\n",
       " <Process name='Process-49' parent=3485204 initial>,\n",
       " <Process name='Process-50' parent=3485204 initial>,\n",
       " <Process name='Process-51' parent=3485204 initial>,\n",
       " <Process name='Process-52' parent=3485204 initial>,\n",
       " <Process name='Process-53' parent=3485204 initial>,\n",
       " <Process name='Process-54' parent=3485204 initial>,\n",
       " <Process name='Process-55' parent=3485204 initial>,\n",
       " <Process name='Process-56' parent=3485204 initial>,\n",
       " <Process name='Process-57' parent=3485204 initial>,\n",
       " <Process name='Process-58' parent=3485204 initial>,\n",
       " <Process name='Process-59' parent=3485204 initial>,\n",
       " <Process name='Process-60' parent=3485204 initial>,\n",
       " <Process name='Process-61' parent=3485204 initial>,\n",
       " <Process name='Process-62' parent=3485204 initial>,\n",
       " <Process name='Process-63' parent=3485204 initial>,\n",
       " <Process name='Process-64' parent=3485204 initial>,\n",
       " <Process name='Process-65' parent=3485204 initial>,\n",
       " <Process name='Process-66' parent=3485204 initial>,\n",
       " <Process name='Process-67' parent=3485204 initial>]"
      ]
     },
     "execution_count": 8,
     "metadata": {},
     "output_type": "execute_result"
    }
   ],
   "source": [
    "processes = []\n",
    "devices = [torch.device(\"cuda:0\")]\n",
    "epochs = 10000\n",
    "for error_margin in range(10,21):\n",
    "    for d in datasets:\n",
    "        processes.append(mp.Process(target=train, args=(d[\"train\"], d[\"valid\"], f\"{d['name']}_{error_margin}\", featIn, return_dict, epochs, error_margin, devices[0])))\n",
    "        devices.append(devices.pop(0))\n",
    "    \n",
    "processes"
   ]
  },
  {
   "cell_type": "code",
   "execution_count": 9,
   "metadata": {},
   "outputs": [
    {
     "name": "stdout",
     "output_type": "stream",
     "text": [
      "{}\n"
     ]
    }
   ],
   "source": [
    "print(return_dict)"
   ]
  },
  {
   "cell_type": "code",
   "execution_count": 10,
   "metadata": {},
   "outputs": [
    {
     "name": "stdout",
     "output_type": "stream",
     "text": [
      "training 50_nM_AR_600_10 on cuda:0...\n",
      "training 1200_nM_AR_600_10 on cuda:0...\n",
      "training 800_nM_AR_600_10 on cuda:0...\n",
      "training 1800_nM_AR_600_10 on cuda:0...\n",
      "training 100_nM_AR_600_10 on cuda:0...\n",
      "training 400_nM_AR_600_10 on cuda:0...\n",
      "training 50_nM_AR_600_11 on cuda:0...\n",
      "training 1200_nM_AR_600_11 on cuda:0...\n",
      "training 800_nM_AR_600_11 on cuda:0...\n",
      "training 1800_nM_AR_600_11 on cuda:0...\n",
      "training 100_nM_AR_600_11 on cuda:0...\n",
      "training 400_nM_AR_600_11 on cuda:0...\n",
      "training 50_nM_AR_600_12 on cuda:0...\n",
      "training 1200_nM_AR_600_12 on cuda:0...\n",
      "training 800_nM_AR_600_12 on cuda:0...\n",
      "training 1800_nM_AR_600_12 on cuda:0...\n",
      "training 100_nM_AR_600_12 on cuda:0...\n",
      "training 400_nM_AR_600_12 on cuda:0...\n",
      "training 50_nM_AR_600_13 on cuda:0...\n",
      "training 1200_nM_AR_600_13 on cuda:0...\n",
      "training 800_nM_AR_600_13 on cuda:0...\n",
      "training 1800_nM_AR_600_13 on cuda:0...\n",
      "training 100_nM_AR_600_13 on cuda:0...\n",
      "training 400_nM_AR_600_13 on cuda:0...\n",
      "training 50_nM_AR_600_14 on cuda:0...\n",
      "training 1200_nM_AR_600_14 on cuda:0...\n",
      "training 800_nM_AR_600_14 on cuda:0...\n",
      "training 1800_nM_AR_600_14 on cuda:0...\n",
      "training 100_nM_AR_600_14 on cuda:0...\n",
      "training 400_nM_AR_600_14 on cuda:0...\n",
      "training 50_nM_AR_600_15 on cuda:0...\n",
      "training 1200_nM_AR_600_15 on cuda:0...\n",
      "training 800_nM_AR_600_15 on cuda:0...\n",
      "training 1800_nM_AR_600_15 on cuda:0...\n",
      "training 100_nM_AR_600_15 on cuda:0...\n",
      "training 400_nM_AR_600_15 on cuda:0...\n",
      "training 50_nM_AR_600_16 on cuda:0...\n",
      "training 1200_nM_AR_600_16 on cuda:0...\n",
      "training 800_nM_AR_600_16 on cuda:0...\n",
      "training 1800_nM_AR_600_16 on cuda:0...\n",
      "training 100_nM_AR_600_16 on cuda:0...\n",
      "training 400_nM_AR_600_16 on cuda:0...\n",
      "training 50_nM_AR_600_17 on cuda:0...\n",
      "training 1200_nM_AR_600_17 on cuda:0...\n",
      "training 800_nM_AR_600_17 on cuda:0...\n",
      "training 1800_nM_AR_600_17 on cuda:0...\n",
      "training 100_nM_AR_600_17 on cuda:0...\n",
      "training 400_nM_AR_600_17 on cuda:0...\n",
      "training 50_nM_AR_600_18 on cuda:0...\n",
      "training 1200_nM_AR_600_18 on cuda:0...\n",
      "training 800_nM_AR_600_18 on cuda:0...\n",
      "training 1800_nM_AR_600_18 on cuda:0...\n",
      "training 100_nM_AR_600_18 on cuda:0...\n",
      "training 400_nM_AR_600_18 on cuda:0...\n",
      "training 50_nM_AR_600_19 on cuda:0...\n",
      "training 1200_nM_AR_600_19 on cuda:0...\n",
      "training 800_nM_AR_600_19 on cuda:0...\n",
      "training 1800_nM_AR_600_19 on cuda:0...\n",
      "training 100_nM_AR_600_19 on cuda:0...\n",
      "training 400_nM_AR_600_19 on cuda:0...\n",
      "training 50_nM_AR_600_20 on cuda:0...\n",
      "training 1200_nM_AR_600_20 on cuda:0...\n",
      "training 800_nM_AR_600_20 on cuda:0...\n",
      "training 1800_nM_AR_600_20 on cuda:0...\n",
      "training 100_nM_AR_600_20 on cuda:0...\n",
      "training 400_nM_AR_600_20 on cuda:0...\n",
      "{'50_nM_AR_600_10': {'path': './Models/smallTrain/50_nM_AR_600_10.pt', 'acc': 0.5900000000000001}, '1200_nM_AR_600_10': {'path': './Models/smallTrain/1200_nM_AR_600_10.pt', 'acc': 0.39}, '800_nM_AR_600_10': {'path': './Models/smallTrain/800_nM_AR_600_10.pt', 'acc': 0.26}, '1800_nM_AR_600_10': {'path': './Models/smallTrain/1800_nM_AR_600_10.pt', 'acc': 0.24000000000000002}, '100_nM_AR_600_10': {'path': './Models/smallTrain/100_nM_AR_600_10.pt', 'acc': 0.53}, '400_nM_AR_600_10': {'path': './Models/smallTrain/400_nM_AR_600_10.pt', 'acc': 0.27}, '50_nM_AR_600_11': {'path': './Models/smallTrain/50_nM_AR_600_11.pt', 'acc': 0.63}, '1200_nM_AR_600_11': {'path': './Models/smallTrain/1200_nM_AR_600_11.pt', 'acc': 0.41000000000000003}, '800_nM_AR_600_11': {'path': './Models/smallTrain/800_nM_AR_600_11.pt', 'acc': 0.31000000000000005}, '1800_nM_AR_600_11': {'path': './Models/smallTrain/1800_nM_AR_600_11.pt', 'acc': 0.27}, '100_nM_AR_600_11': {'path': './Models/smallTrain/100_nM_AR_600_11.pt', 'acc': 0.56}, '400_nM_AR_600_11': {'path': './Models/smallTrain/400_nM_AR_600_11.pt', 'acc': 0.26}, '50_nM_AR_600_12': {'path': './Models/smallTrain/50_nM_AR_600_12.pt', 'acc': 0.64}, '1200_nM_AR_600_12': {'path': './Models/smallTrain/1200_nM_AR_600_12.pt', 'acc': 0.45999999999999996}, '800_nM_AR_600_12': {'path': './Models/smallTrain/800_nM_AR_600_12.pt', 'acc': 0.33}, '1800_nM_AR_600_12': {'path': './Models/smallTrain/1800_nM_AR_600_12.pt', 'acc': 0.33}, '100_nM_AR_600_12': {'path': './Models/smallTrain/100_nM_AR_600_12.pt', 'acc': 0.5900000000000001}, '400_nM_AR_600_12': {'path': './Models/smallTrain/400_nM_AR_600_12.pt', 'acc': 0.3}, '50_nM_AR_600_13': {'path': './Models/smallTrain/50_nM_AR_600_13.pt', 'acc': 0.6500000000000001}, '1200_nM_AR_600_13': {'path': './Models/smallTrain/1200_nM_AR_600_13.pt', 'acc': 0.47000000000000003}, '800_nM_AR_600_13': {'path': './Models/smallTrain/800_nM_AR_600_13.pt', 'acc': 0.34}, '1800_nM_AR_600_13': {'path': './Models/smallTrain/1800_nM_AR_600_13.pt', 'acc': 0.35000000000000003}, '100_nM_AR_600_13': {'path': './Models/smallTrain/100_nM_AR_600_13.pt', 'acc': 0.6400000000000001}, '400_nM_AR_600_13': {'path': './Models/smallTrain/400_nM_AR_600_13.pt', 'acc': 0.30000000000000004}, '50_nM_AR_600_14': {'path': './Models/smallTrain/50_nM_AR_600_14.pt', 'acc': 0.66}, '1200_nM_AR_600_14': {'path': './Models/smallTrain/1200_nM_AR_600_14.pt', 'acc': 0.48000000000000004}, '800_nM_AR_600_14': {'path': './Models/smallTrain/800_nM_AR_600_14.pt', 'acc': 0.37000000000000005}, '1800_nM_AR_600_14': {'path': './Models/smallTrain/1800_nM_AR_600_14.pt', 'acc': 0.4}, '100_nM_AR_600_14': {'path': './Models/smallTrain/100_nM_AR_600_14.pt', 'acc': 0.66}, '400_nM_AR_600_14': {'path': './Models/smallTrain/400_nM_AR_600_14.pt', 'acc': 0.33}, '50_nM_AR_600_15': {'path': './Models/smallTrain/50_nM_AR_600_15.pt', 'acc': 0.66}, '1200_nM_AR_600_15': {'path': './Models/smallTrain/1200_nM_AR_600_15.pt', 'acc': 0.49000000000000005}, '800_nM_AR_600_15': {'path': './Models/smallTrain/800_nM_AR_600_15.pt', 'acc': 0.4}, '1800_nM_AR_600_15': {'path': './Models/smallTrain/1800_nM_AR_600_15.pt', 'acc': 0.43000000000000005}, '100_nM_AR_600_15': {'path': './Models/smallTrain/100_nM_AR_600_15.pt', 'acc': 0.67}, '400_nM_AR_600_15': {'path': './Models/smallTrain/400_nM_AR_600_15.pt', 'acc': 0.33}, '50_nM_AR_600_16': {'path': './Models/smallTrain/50_nM_AR_600_16.pt', 'acc': 0.68}, '1200_nM_AR_600_16': {'path': './Models/smallTrain/1200_nM_AR_600_16.pt', 'acc': 0.51}, '800_nM_AR_600_16': {'path': './Models/smallTrain/800_nM_AR_600_16.pt', 'acc': 0.41000000000000003}, '1800_nM_AR_600_16': {'path': './Models/smallTrain/1800_nM_AR_600_16.pt', 'acc': 0.44}, '100_nM_AR_600_16': {'path': './Models/smallTrain/100_nM_AR_600_16.pt', 'acc': 0.6900000000000001}, '400_nM_AR_600_16': {'path': './Models/smallTrain/400_nM_AR_600_16.pt', 'acc': 0.37000000000000005}, '50_nM_AR_600_17': {'path': './Models/smallTrain/50_nM_AR_600_17.pt', 'acc': 0.6900000000000001}, '1200_nM_AR_600_17': {'path': './Models/smallTrain/1200_nM_AR_600_17.pt', 'acc': 0.53}, '800_nM_AR_600_17': {'path': './Models/smallTrain/800_nM_AR_600_17.pt', 'acc': 0.43000000000000005}, '1800_nM_AR_600_17': {'path': './Models/smallTrain/1800_nM_AR_600_17.pt', 'acc': 0.47000000000000003}, '100_nM_AR_600_17': {'path': './Models/smallTrain/100_nM_AR_600_17.pt', 'acc': 0.7000000000000001}, '400_nM_AR_600_17': {'path': './Models/smallTrain/400_nM_AR_600_17.pt', 'acc': 0.41}, '50_nM_AR_600_18': {'path': './Models/smallTrain/50_nM_AR_600_18.pt', 'acc': 0.7000000000000001}, '1200_nM_AR_600_18': {'path': './Models/smallTrain/1200_nM_AR_600_18.pt', 'acc': 0.53}, '800_nM_AR_600_18': {'path': './Models/smallTrain/800_nM_AR_600_18.pt', 'acc': 0.43000000000000005}, '1800_nM_AR_600_18': {'path': './Models/smallTrain/1800_nM_AR_600_18.pt', 'acc': 0.5}, '100_nM_AR_600_18': {'path': './Models/smallTrain/100_nM_AR_600_18.pt', 'acc': 0.7100000000000001}, '400_nM_AR_600_18': {'path': './Models/smallTrain/400_nM_AR_600_18.pt', 'acc': 0.43000000000000005}, '50_nM_AR_600_19': {'path': './Models/smallTrain/50_nM_AR_600_19.pt', 'acc': 0.7100000000000001}, '1200_nM_AR_600_19': {'path': './Models/smallTrain/1200_nM_AR_600_19.pt', 'acc': 0.55}, '800_nM_AR_600_19': {'path': './Models/smallTrain/800_nM_AR_600_19.pt', 'acc': 0.43000000000000005}, '1800_nM_AR_600_19': {'path': './Models/smallTrain/1800_nM_AR_600_19.pt', 'acc': 0.51}, '100_nM_AR_600_19': {'path': './Models/smallTrain/100_nM_AR_600_19.pt', 'acc': 0.7100000000000001}, '400_nM_AR_600_19': {'path': './Models/smallTrain/400_nM_AR_600_19.pt', 'acc': 0.45000000000000007}, '50_nM_AR_600_20': {'path': './Models/smallTrain/50_nM_AR_600_20.pt', 'acc': 0.7100000000000001}, '1200_nM_AR_600_20': {'path': './Models/smallTrain/1200_nM_AR_600_20.pt', 'acc': 0.56}, '800_nM_AR_600_20': {'path': './Models/smallTrain/800_nM_AR_600_20.pt', 'acc': 0.45}, '1800_nM_AR_600_20': {'path': './Models/smallTrain/1800_nM_AR_600_20.pt', 'acc': 0.53}, '100_nM_AR_600_20': {'path': './Models/smallTrain/100_nM_AR_600_20.pt', 'acc': 0.7300000000000001}, '400_nM_AR_600_20': {'path': './Models/smallTrain/400_nM_AR_600_20.pt', 'acc': 0.45}}\n"
     ]
    }
   ],
   "source": [
    "processesList = list(range(len(processes)))\n",
    "\n",
    "while processesList:\n",
    "    run = processesList[:1]\n",
    "    processesList = processesList[1:]\n",
    "    for i in run:\n",
    "        processes[i].start()\n",
    "    for i in run:\n",
    "        processes[i].join()\n",
    "        processes[i].terminate()\n",
    "print(return_dict)"
   ]
  },
  {
   "cell_type": "code",
   "execution_count": 11,
   "metadata": {},
   "outputs": [],
   "source": [
    "results = dict(return_dict)\n",
    "with open(\"./Models/smallTrain/results.json\", 'w') as file:\n",
    "    json_object = json.dumps(results, indent=4)\n",
    "    file.write(json_object)"
   ]
  }
 ],
 "metadata": {
  "kernelspec": {
   "display_name": "dna",
   "language": "python",
   "name": "python3"
  },
  "language_info": {
   "codemirror_mode": {
    "name": "ipython",
    "version": 3
   },
   "file_extension": ".py",
   "mimetype": "text/x-python",
   "name": "python",
   "nbconvert_exporter": "python",
   "pygments_lexer": "ipython3",
   "version": "3.10.12"
  },
  "orig_nbformat": 4
 },
 "nbformat": 4,
 "nbformat_minor": 2
}
