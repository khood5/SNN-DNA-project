{
 "cells": [
  {
   "cell_type": "code",
   "execution_count": 2,
   "metadata": {},
   "outputs": [],
   "source": [
    "import json\n",
    "import numpy as np"
   ]
  },
  {
   "cell_type": "code",
   "execution_count": 3,
   "metadata": {},
   "outputs": [],
   "source": [
    "with open(\"/Users/kendrichood/Desktop/RNN10Min/rnn_test_acc.json\",'r') as f:\n",
    "    data = json.load(f)"
   ]
  },
  {
   "cell_type": "code",
   "execution_count": 4,
   "metadata": {},
   "outputs": [
    {
     "data": {
      "text/plain": [
       "dict_keys(['50_nM_AR_600.pt_moe10', '50_nM_AR_600.pt_moe11', '50_nM_AR_600.pt_moe12', '50_nM_AR_600.pt_moe13', '50_nM_AR_600.pt_moe14', '50_nM_AR_600.pt_moe15', '50_nM_AR_600.pt_moe16', '50_nM_AR_600.pt_moe17', '50_nM_AR_600.pt_moe18', '50_nM_AR_600.pt_moe19', '50_nM_AR_600.pt_moe20', '1200_nM_AR_600.pt_moe10', '1200_nM_AR_600.pt_moe11', '1200_nM_AR_600.pt_moe12', '1200_nM_AR_600.pt_moe13', '1200_nM_AR_600.pt_moe14', '1200_nM_AR_600.pt_moe15', '1200_nM_AR_600.pt_moe16', '1200_nM_AR_600.pt_moe17', '1200_nM_AR_600.pt_moe18', '1200_nM_AR_600.pt_moe19', '1200_nM_AR_600.pt_moe20', '800_nM_AR_600.pt_moe10', '800_nM_AR_600.pt_moe11', '800_nM_AR_600.pt_moe12', '800_nM_AR_600.pt_moe13', '800_nM_AR_600.pt_moe14', '800_nM_AR_600.pt_moe15', '800_nM_AR_600.pt_moe16', '800_nM_AR_600.pt_moe17', '800_nM_AR_600.pt_moe18', '800_nM_AR_600.pt_moe19', '800_nM_AR_600.pt_moe20', '1800_nM_AR_600.pt_moe10', '1800_nM_AR_600.pt_moe11', '1800_nM_AR_600.pt_moe12', '1800_nM_AR_600.pt_moe13', '1800_nM_AR_600.pt_moe14', '1800_nM_AR_600.pt_moe15', '1800_nM_AR_600.pt_moe16', '1800_nM_AR_600.pt_moe17', '1800_nM_AR_600.pt_moe18', '1800_nM_AR_600.pt_moe19', '1800_nM_AR_600.pt_moe20', '100_nM_AR_600.pt_moe10', '100_nM_AR_600.pt_moe11', '100_nM_AR_600.pt_moe12', '100_nM_AR_600.pt_moe13', '100_nM_AR_600.pt_moe14', '100_nM_AR_600.pt_moe15', '100_nM_AR_600.pt_moe16', '100_nM_AR_600.pt_moe17', '100_nM_AR_600.pt_moe18', '100_nM_AR_600.pt_moe19', '100_nM_AR_600.pt_moe20', '400_nM_AR_600.pt_moe10', '400_nM_AR_600.pt_moe11', '400_nM_AR_600.pt_moe12', '400_nM_AR_600.pt_moe13', '400_nM_AR_600.pt_moe14', '400_nM_AR_600.pt_moe15', '400_nM_AR_600.pt_moe16', '400_nM_AR_600.pt_moe17', '400_nM_AR_600.pt_moe18', '400_nM_AR_600.pt_moe19', '400_nM_AR_600.pt_moe20'])"
      ]
     },
     "execution_count": 4,
     "metadata": {},
     "output_type": "execute_result"
    }
   ],
   "source": [
    "data.keys()"
   ]
  },
  {
   "cell_type": "code",
   "execution_count": 5,
   "metadata": {},
   "outputs": [
    {
     "data": {
      "text/plain": [
       "['50_nM_AR_600',\n",
       " '1200_nM_AR_600',\n",
       " '800_nM_AR_600',\n",
       " '1800_nM_AR_600',\n",
       " '100_nM_AR_600',\n",
       " '400_nM_AR_600']"
      ]
     },
     "execution_count": 5,
     "metadata": {},
     "output_type": "execute_result"
    }
   ],
   "source": [
    "data.keys()\n",
    "datasets = []\n",
    "for k in data.keys():\n",
    "    setName = k.split('.')[0]\n",
    "    if setName not in datasets:\n",
    "        datasets.append(setName)\n",
    "datasets"
   ]
  },
  {
   "cell_type": "code",
   "execution_count": 6,
   "metadata": {},
   "outputs": [
    {
     "data": {
      "text/plain": [
       "dict_keys(['outputPlot', 'targetPlot', 'acc'])"
      ]
     },
     "execution_count": 6,
     "metadata": {},
     "output_type": "execute_result"
    }
   ],
   "source": [
    "data[\"50_nM_AR_600.pt_moe10\"].keys()"
   ]
  },
  {
   "cell_type": "code",
   "execution_count": 7,
   "metadata": {},
   "outputs": [
    {
     "data": {
      "text/plain": [
       "{'50_nM_AR_600': {'10': 0.5823389021479713,\n",
       "  '11': 0.6443914081145584,\n",
       "  '12': 0.6968973747016707,\n",
       "  '13': 0.7422434367541766,\n",
       "  '14': 0.7565632458233891,\n",
       "  '15': 0.7708830548926014,\n",
       "  '16': 0.7828162291169452,\n",
       "  '17': 0.7923627684964201,\n",
       "  '18': 0.8042959427207638,\n",
       "  '19': 0.8114558472553699,\n",
       "  '20': 0.8162291169451074},\n",
       " '1200_nM_AR_600': {'10': 0.1700404858299595,\n",
       "  '11': 0.18016194331983806,\n",
       "  '12': 0.1862348178137652,\n",
       "  '13': 0.20647773279352227,\n",
       "  '14': 0.22874493927125505,\n",
       "  '15': 0.242914979757085,\n",
       "  '16': 0.2550607287449393,\n",
       "  '17': 0.2773279352226721,\n",
       "  '18': 0.2894736842105263,\n",
       "  '19': 0.3097165991902834,\n",
       "  '20': 0.32793522267206476},\n",
       " '800_nM_AR_600': {'10': 0.14772727272727273,\n",
       "  '11': 0.16287878787878787,\n",
       "  '12': 0.17424242424242425,\n",
       "  '13': 0.20075757575757575,\n",
       "  '14': 0.22348484848484848,\n",
       "  '15': 0.24621212121212122,\n",
       "  '16': 0.2727272727272727,\n",
       "  '17': 0.29924242424242425,\n",
       "  '18': 0.29924242424242425,\n",
       "  '19': 0.3181818181818182,\n",
       "  '20': 0.3409090909090909},\n",
       " '1800_nM_AR_600': {'10': 0.1326530612244898,\n",
       "  '11': 0.14795918367346939,\n",
       "  '12': 0.17346938775510204,\n",
       "  '13': 0.195578231292517,\n",
       "  '14': 0.21258503401360543,\n",
       "  '15': 0.23129251700680273,\n",
       "  '16': 0.25170068027210885,\n",
       "  '17': 0.2687074829931973,\n",
       "  '18': 0.282312925170068,\n",
       "  '19': 0.304421768707483,\n",
       "  '20': 0.32482993197278914},\n",
       " '100_nM_AR_600': {'10': 0.49748743718592964,\n",
       "  '11': 0.5276381909547738,\n",
       "  '12': 0.5628140703517588,\n",
       "  '13': 0.6030150753768844,\n",
       "  '14': 0.6432160804020101,\n",
       "  '15': 0.6884422110552764,\n",
       "  '16': 0.7236180904522613,\n",
       "  '17': 0.7336683417085427,\n",
       "  '18': 0.7537688442211056,\n",
       "  '19': 0.7788944723618091,\n",
       "  '20': 0.7889447236180904},\n",
       " '400_nM_AR_600': {'10': 0.1864406779661017,\n",
       "  '11': 0.2033898305084746,\n",
       "  '12': 0.22598870056497175,\n",
       "  '13': 0.2542372881355932,\n",
       "  '14': 0.2655367231638418,\n",
       "  '15': 0.2768361581920904,\n",
       "  '16': 0.2937853107344633,\n",
       "  '17': 0.3107344632768362,\n",
       "  '18': 0.3333333333333333,\n",
       "  '19': 0.3389830508474576,\n",
       "  '20': 0.3785310734463277}}"
      ]
     },
     "execution_count": 7,
     "metadata": {},
     "output_type": "execute_result"
    }
   ],
   "source": [
    "accs = {}\n",
    "for setName in datasets:\n",
    "    accs[setName] = {}\n",
    "\n",
    "for k in data.keys():\n",
    "    setName = k.split('.')[0]\n",
    "    moe = k.split('moe')[-1] # moe = margin of error \n",
    "    accs[setName][moe] = data[k][\"acc\"]\n",
    "accs"
   ]
  },
  {
   "cell_type": "code",
   "execution_count": 8,
   "metadata": {},
   "outputs": [
    {
     "data": {
      "text/plain": [
       "{10: [0.5823389021479713,\n",
       "  0.1700404858299595,\n",
       "  0.14772727272727273,\n",
       "  0.1326530612244898,\n",
       "  0.49748743718592964,\n",
       "  0.1864406779661017],\n",
       " 11: [0.6443914081145584,\n",
       "  0.18016194331983806,\n",
       "  0.16287878787878787,\n",
       "  0.14795918367346939,\n",
       "  0.5276381909547738,\n",
       "  0.2033898305084746],\n",
       " 12: [0.6968973747016707,\n",
       "  0.1862348178137652,\n",
       "  0.17424242424242425,\n",
       "  0.17346938775510204,\n",
       "  0.5628140703517588,\n",
       "  0.22598870056497175],\n",
       " 13: [0.7422434367541766,\n",
       "  0.20647773279352227,\n",
       "  0.20075757575757575,\n",
       "  0.195578231292517,\n",
       "  0.6030150753768844,\n",
       "  0.2542372881355932],\n",
       " 14: [0.7565632458233891,\n",
       "  0.22874493927125505,\n",
       "  0.22348484848484848,\n",
       "  0.21258503401360543,\n",
       "  0.6432160804020101,\n",
       "  0.2655367231638418],\n",
       " 15: [0.7708830548926014,\n",
       "  0.242914979757085,\n",
       "  0.24621212121212122,\n",
       "  0.23129251700680273,\n",
       "  0.6884422110552764,\n",
       "  0.2768361581920904],\n",
       " 16: [0.7828162291169452,\n",
       "  0.2550607287449393,\n",
       "  0.2727272727272727,\n",
       "  0.25170068027210885,\n",
       "  0.7236180904522613,\n",
       "  0.2937853107344633],\n",
       " 17: [0.7923627684964201,\n",
       "  0.2773279352226721,\n",
       "  0.29924242424242425,\n",
       "  0.2687074829931973,\n",
       "  0.7336683417085427,\n",
       "  0.3107344632768362],\n",
       " 18: [0.8042959427207638,\n",
       "  0.2894736842105263,\n",
       "  0.29924242424242425,\n",
       "  0.282312925170068,\n",
       "  0.7537688442211056,\n",
       "  0.3333333333333333],\n",
       " 19: [0.8114558472553699,\n",
       "  0.3097165991902834,\n",
       "  0.3181818181818182,\n",
       "  0.304421768707483,\n",
       "  0.7788944723618091,\n",
       "  0.3389830508474576],\n",
       " 20: [0.8162291169451074,\n",
       "  0.32793522267206476,\n",
       "  0.3409090909090909,\n",
       "  0.32482993197278914,\n",
       "  0.7889447236180904,\n",
       "  0.3785310734463277]}"
      ]
     },
     "execution_count": 8,
     "metadata": {},
     "output_type": "execute_result"
    }
   ],
   "source": [
    "acc_by_moe = {i:[] for i in range(10,21)}\n",
    "for setNamein in accs.keys():\n",
    "    for moe in accs[setNamein].keys():\n",
    "        acc_by_moe[int(moe)].append(accs[setNamein][moe])\n",
    "acc_by_moe"
   ]
  },
  {
   "cell_type": "code",
   "execution_count": 9,
   "metadata": {},
   "outputs": [
    {
     "data": {
      "text/plain": [
       "{10: 0.28611463951362076,\n",
       " 11: 0.3110698907416503,\n",
       " 12: 0.33660779590494877,\n",
       " 13: 0.3670515566850449,\n",
       " 14: 0.38835514519315834,\n",
       " 15: 0.4094301736859962,\n",
       " 16: 0.42995138534133176,\n",
       " 17: 0.4470072359900154,\n",
       " 18: 0.4604045256497036,\n",
       " 19: 0.4769422594240369,\n",
       " 20: 0.49622985992724505}"
      ]
     },
     "execution_count": 9,
     "metadata": {},
     "output_type": "execute_result"
    }
   ],
   "source": [
    "for length in acc_by_moe.keys():\n",
    "    acc_by_moe[length] = np.average(acc_by_moe[length])\n",
    "acc_by_moe"
   ]
  },
  {
   "cell_type": "markdown",
   "metadata": {},
   "source": [
    "<b> rnnmodel = RNNModel(featIn=200, capacity=int(700), hiddenLayers=2) </b>\n",
    "\n",
    "<pre>\n",
    "{10: 0.23746741376977207,\n",
    " 11: 0.2589222863308716,\n",
    " 12: 0.2839954815997276,\n",
    " 13: 0.3104146659631241,\n",
    " 14: 0.33547071751811375,\n",
    " 15: 0.359914601670782,\n",
    " 16: 0.3887837891427408,\n",
    " 17: 0.4142383570547292,\n",
    " 18: 0.4438004655389253,\n",
    " 19: 0.4671167903442192,\n",
    " 20: 0.48943746726534226}\n",
    " </pre>"
   ]
  },
  {
   "cell_type": "markdown",
   "metadata": {},
   "source": [
    "### getting 20 em accuracy"
   ]
  },
  {
   "cell_type": "code",
   "execution_count": 10,
   "metadata": {},
   "outputs": [
    {
     "data": {
      "text/plain": [
       "dict_keys(['50_nM_AR_600.pt_moe10', '50_nM_AR_600.pt_moe11', '50_nM_AR_600.pt_moe12', '50_nM_AR_600.pt_moe13', '50_nM_AR_600.pt_moe14', '50_nM_AR_600.pt_moe15', '50_nM_AR_600.pt_moe16', '50_nM_AR_600.pt_moe17', '50_nM_AR_600.pt_moe18', '50_nM_AR_600.pt_moe19', '50_nM_AR_600.pt_moe20', '1200_nM_AR_600.pt_moe10', '1200_nM_AR_600.pt_moe11', '1200_nM_AR_600.pt_moe12', '1200_nM_AR_600.pt_moe13', '1200_nM_AR_600.pt_moe14', '1200_nM_AR_600.pt_moe15', '1200_nM_AR_600.pt_moe16', '1200_nM_AR_600.pt_moe17', '1200_nM_AR_600.pt_moe18', '1200_nM_AR_600.pt_moe19', '1200_nM_AR_600.pt_moe20', '800_nM_AR_600.pt_moe10', '800_nM_AR_600.pt_moe11', '800_nM_AR_600.pt_moe12', '800_nM_AR_600.pt_moe13', '800_nM_AR_600.pt_moe14', '800_nM_AR_600.pt_moe15', '800_nM_AR_600.pt_moe16', '800_nM_AR_600.pt_moe17', '800_nM_AR_600.pt_moe18', '800_nM_AR_600.pt_moe19', '800_nM_AR_600.pt_moe20', '1800_nM_AR_600.pt_moe10', '1800_nM_AR_600.pt_moe11', '1800_nM_AR_600.pt_moe12', '1800_nM_AR_600.pt_moe13', '1800_nM_AR_600.pt_moe14', '1800_nM_AR_600.pt_moe15', '1800_nM_AR_600.pt_moe16', '1800_nM_AR_600.pt_moe17', '1800_nM_AR_600.pt_moe18', '1800_nM_AR_600.pt_moe19', '1800_nM_AR_600.pt_moe20', '100_nM_AR_600.pt_moe10', '100_nM_AR_600.pt_moe11', '100_nM_AR_600.pt_moe12', '100_nM_AR_600.pt_moe13', '100_nM_AR_600.pt_moe14', '100_nM_AR_600.pt_moe15', '100_nM_AR_600.pt_moe16', '100_nM_AR_600.pt_moe17', '100_nM_AR_600.pt_moe18', '100_nM_AR_600.pt_moe19', '100_nM_AR_600.pt_moe20', '400_nM_AR_600.pt_moe10', '400_nM_AR_600.pt_moe11', '400_nM_AR_600.pt_moe12', '400_nM_AR_600.pt_moe13', '400_nM_AR_600.pt_moe14', '400_nM_AR_600.pt_moe15', '400_nM_AR_600.pt_moe16', '400_nM_AR_600.pt_moe17', '400_nM_AR_600.pt_moe18', '400_nM_AR_600.pt_moe19', '400_nM_AR_600.pt_moe20'])"
      ]
     },
     "execution_count": 10,
     "metadata": {},
     "output_type": "execute_result"
    }
   ],
   "source": [
    "with open(\"/Users/kendrichood/Desktop/RNN10Min/rnn_test_acc.json\",'r') as f:\n",
    "    data = json.load(f)\n",
    "data.keys()"
   ]
  },
  {
   "cell_type": "code",
   "execution_count": 12,
   "metadata": {},
   "outputs": [
    {
     "data": {
      "text/plain": [
       "['50_nM_AR_600.pt_moe20',\n",
       " '1200_nM_AR_600.pt_moe20',\n",
       " '800_nM_AR_600.pt_moe20',\n",
       " '1800_nM_AR_600.pt_moe20',\n",
       " '100_nM_AR_600.pt_moe20',\n",
       " '400_nM_AR_600.pt_moe20']"
      ]
     },
     "execution_count": 12,
     "metadata": {},
     "output_type": "execute_result"
    }
   ],
   "source": [
    "em20Sets = []\n",
    "for setName in data:\n",
    "    if \"moe20\" in setName:\n",
    "        em20Sets.append(setName)\n",
    "em20Sets"
   ]
  },
  {
   "cell_type": "code",
   "execution_count": 15,
   "metadata": {},
   "outputs": [
    {
     "data": {
      "text/plain": [
       "dict_keys(['outputPlot', 'targetPlot', 'acc'])"
      ]
     },
     "execution_count": 15,
     "metadata": {},
     "output_type": "execute_result"
    }
   ],
   "source": [
    "data['50_nM_AR_600.pt_moe20'].keys()"
   ]
  },
  {
   "cell_type": "code",
   "execution_count": 17,
   "metadata": {},
   "outputs": [
    {
     "data": {
      "text/plain": [
       "{'50_nM_AR_600.pt_moe20': 0.8162291169451074,\n",
       " '1200_nM_AR_600.pt_moe20': 0.32793522267206476,\n",
       " '800_nM_AR_600.pt_moe20': 0.3409090909090909,\n",
       " '1800_nM_AR_600.pt_moe20': 0.32482993197278914,\n",
       " '100_nM_AR_600.pt_moe20': 0.7889447236180904,\n",
       " '400_nM_AR_600.pt_moe20': 0.3785310734463277}"
      ]
     },
     "execution_count": 17,
     "metadata": {},
     "output_type": "execute_result"
    }
   ],
   "source": [
    "accs = {}\n",
    "for dataset in em20Sets:\n",
    "    accs[dataset] = data[dataset]['acc']\n",
    "accs"
   ]
  },
  {
   "cell_type": "code",
   "execution_count": null,
   "metadata": {},
   "outputs": [],
   "source": []
  }
 ],
 "metadata": {
  "kernelspec": {
   "display_name": "base",
   "language": "python",
   "name": "python3"
  },
  "language_info": {
   "codemirror_mode": {
    "name": "ipython",
    "version": 3
   },
   "file_extension": ".py",
   "mimetype": "text/x-python",
   "name": "python",
   "nbconvert_exporter": "python",
   "pygments_lexer": "ipython3",
   "version": "3.9.7"
  },
  "orig_nbformat": 4
 },
 "nbformat": 4,
 "nbformat_minor": 2
}
