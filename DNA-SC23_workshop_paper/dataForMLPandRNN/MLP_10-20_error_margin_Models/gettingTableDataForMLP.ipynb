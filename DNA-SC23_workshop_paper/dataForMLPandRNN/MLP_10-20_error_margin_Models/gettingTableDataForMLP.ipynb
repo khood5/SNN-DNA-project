{
 "cells": [
  {
   "cell_type": "code",
   "execution_count": 2,
   "metadata": {},
   "outputs": [],
   "source": [
    "import json\n",
    "import numpy as np"
   ]
  },
  {
   "cell_type": "code",
   "execution_count": 3,
   "metadata": {},
   "outputs": [],
   "source": [
    "with open(\"/Users/kendrichood/Desktop/MLP_10-20_error_margin_Models/MLP_10-20_error_margin.json\",'r') as f:\n",
    "    data = json.load(f)"
   ]
  },
  {
   "cell_type": "code",
   "execution_count": 4,
   "metadata": {},
   "outputs": [
    {
     "data": {
      "text/plain": [
       "{'50_nM_AR_600_10': {'path': './Models/smallTrain/50_nM_AR_600_10.pt',\n",
       "  'acc': 0.5900000000000001},\n",
       " '1200_nM_AR_600_10': {'path': './Models/smallTrain/1200_nM_AR_600_10.pt',\n",
       "  'acc': 0.39},\n",
       " '800_nM_AR_600_10': {'path': './Models/smallTrain/800_nM_AR_600_10.pt',\n",
       "  'acc': 0.26},\n",
       " '1800_nM_AR_600_10': {'path': './Models/smallTrain/1800_nM_AR_600_10.pt',\n",
       "  'acc': 0.24000000000000002},\n",
       " '100_nM_AR_600_10': {'path': './Models/smallTrain/100_nM_AR_600_10.pt',\n",
       "  'acc': 0.53},\n",
       " '400_nM_AR_600_10': {'path': './Models/smallTrain/400_nM_AR_600_10.pt',\n",
       "  'acc': 0.27},\n",
       " '50_nM_AR_600_11': {'path': './Models/smallTrain/50_nM_AR_600_11.pt',\n",
       "  'acc': 0.63},\n",
       " '1200_nM_AR_600_11': {'path': './Models/smallTrain/1200_nM_AR_600_11.pt',\n",
       "  'acc': 0.41000000000000003},\n",
       " '800_nM_AR_600_11': {'path': './Models/smallTrain/800_nM_AR_600_11.pt',\n",
       "  'acc': 0.31000000000000005},\n",
       " '1800_nM_AR_600_11': {'path': './Models/smallTrain/1800_nM_AR_600_11.pt',\n",
       "  'acc': 0.27},\n",
       " '100_nM_AR_600_11': {'path': './Models/smallTrain/100_nM_AR_600_11.pt',\n",
       "  'acc': 0.56},\n",
       " '400_nM_AR_600_11': {'path': './Models/smallTrain/400_nM_AR_600_11.pt',\n",
       "  'acc': 0.26},\n",
       " '50_nM_AR_600_12': {'path': './Models/smallTrain/50_nM_AR_600_12.pt',\n",
       "  'acc': 0.64},\n",
       " '1200_nM_AR_600_12': {'path': './Models/smallTrain/1200_nM_AR_600_12.pt',\n",
       "  'acc': 0.45999999999999996},\n",
       " '800_nM_AR_600_12': {'path': './Models/smallTrain/800_nM_AR_600_12.pt',\n",
       "  'acc': 0.33},\n",
       " '1800_nM_AR_600_12': {'path': './Models/smallTrain/1800_nM_AR_600_12.pt',\n",
       "  'acc': 0.33},\n",
       " '100_nM_AR_600_12': {'path': './Models/smallTrain/100_nM_AR_600_12.pt',\n",
       "  'acc': 0.5900000000000001},\n",
       " '400_nM_AR_600_12': {'path': './Models/smallTrain/400_nM_AR_600_12.pt',\n",
       "  'acc': 0.3},\n",
       " '50_nM_AR_600_13': {'path': './Models/smallTrain/50_nM_AR_600_13.pt',\n",
       "  'acc': 0.6500000000000001},\n",
       " '1200_nM_AR_600_13': {'path': './Models/smallTrain/1200_nM_AR_600_13.pt',\n",
       "  'acc': 0.47000000000000003},\n",
       " '800_nM_AR_600_13': {'path': './Models/smallTrain/800_nM_AR_600_13.pt',\n",
       "  'acc': 0.34},\n",
       " '1800_nM_AR_600_13': {'path': './Models/smallTrain/1800_nM_AR_600_13.pt',\n",
       "  'acc': 0.35000000000000003},\n",
       " '100_nM_AR_600_13': {'path': './Models/smallTrain/100_nM_AR_600_13.pt',\n",
       "  'acc': 0.6400000000000001},\n",
       " '400_nM_AR_600_13': {'path': './Models/smallTrain/400_nM_AR_600_13.pt',\n",
       "  'acc': 0.30000000000000004},\n",
       " '50_nM_AR_600_14': {'path': './Models/smallTrain/50_nM_AR_600_14.pt',\n",
       "  'acc': 0.66},\n",
       " '1200_nM_AR_600_14': {'path': './Models/smallTrain/1200_nM_AR_600_14.pt',\n",
       "  'acc': 0.48000000000000004},\n",
       " '800_nM_AR_600_14': {'path': './Models/smallTrain/800_nM_AR_600_14.pt',\n",
       "  'acc': 0.37000000000000005},\n",
       " '1800_nM_AR_600_14': {'path': './Models/smallTrain/1800_nM_AR_600_14.pt',\n",
       "  'acc': 0.4},\n",
       " '100_nM_AR_600_14': {'path': './Models/smallTrain/100_nM_AR_600_14.pt',\n",
       "  'acc': 0.66},\n",
       " '400_nM_AR_600_14': {'path': './Models/smallTrain/400_nM_AR_600_14.pt',\n",
       "  'acc': 0.33},\n",
       " '50_nM_AR_600_15': {'path': './Models/smallTrain/50_nM_AR_600_15.pt',\n",
       "  'acc': 0.66},\n",
       " '1200_nM_AR_600_15': {'path': './Models/smallTrain/1200_nM_AR_600_15.pt',\n",
       "  'acc': 0.49000000000000005},\n",
       " '800_nM_AR_600_15': {'path': './Models/smallTrain/800_nM_AR_600_15.pt',\n",
       "  'acc': 0.4},\n",
       " '1800_nM_AR_600_15': {'path': './Models/smallTrain/1800_nM_AR_600_15.pt',\n",
       "  'acc': 0.43000000000000005},\n",
       " '100_nM_AR_600_15': {'path': './Models/smallTrain/100_nM_AR_600_15.pt',\n",
       "  'acc': 0.67},\n",
       " '400_nM_AR_600_15': {'path': './Models/smallTrain/400_nM_AR_600_15.pt',\n",
       "  'acc': 0.33},\n",
       " '50_nM_AR_600_16': {'path': './Models/smallTrain/50_nM_AR_600_16.pt',\n",
       "  'acc': 0.68},\n",
       " '1200_nM_AR_600_16': {'path': './Models/smallTrain/1200_nM_AR_600_16.pt',\n",
       "  'acc': 0.51},\n",
       " '800_nM_AR_600_16': {'path': './Models/smallTrain/800_nM_AR_600_16.pt',\n",
       "  'acc': 0.41000000000000003},\n",
       " '1800_nM_AR_600_16': {'path': './Models/smallTrain/1800_nM_AR_600_16.pt',\n",
       "  'acc': 0.44},\n",
       " '100_nM_AR_600_16': {'path': './Models/smallTrain/100_nM_AR_600_16.pt',\n",
       "  'acc': 0.6900000000000001},\n",
       " '400_nM_AR_600_16': {'path': './Models/smallTrain/400_nM_AR_600_16.pt',\n",
       "  'acc': 0.37000000000000005},\n",
       " '50_nM_AR_600_17': {'path': './Models/smallTrain/50_nM_AR_600_17.pt',\n",
       "  'acc': 0.6900000000000001},\n",
       " '1200_nM_AR_600_17': {'path': './Models/smallTrain/1200_nM_AR_600_17.pt',\n",
       "  'acc': 0.53},\n",
       " '800_nM_AR_600_17': {'path': './Models/smallTrain/800_nM_AR_600_17.pt',\n",
       "  'acc': 0.43000000000000005},\n",
       " '1800_nM_AR_600_17': {'path': './Models/smallTrain/1800_nM_AR_600_17.pt',\n",
       "  'acc': 0.47000000000000003},\n",
       " '100_nM_AR_600_17': {'path': './Models/smallTrain/100_nM_AR_600_17.pt',\n",
       "  'acc': 0.7000000000000001},\n",
       " '400_nM_AR_600_17': {'path': './Models/smallTrain/400_nM_AR_600_17.pt',\n",
       "  'acc': 0.41},\n",
       " '50_nM_AR_600_18': {'path': './Models/smallTrain/50_nM_AR_600_18.pt',\n",
       "  'acc': 0.7000000000000001},\n",
       " '1200_nM_AR_600_18': {'path': './Models/smallTrain/1200_nM_AR_600_18.pt',\n",
       "  'acc': 0.53},\n",
       " '800_nM_AR_600_18': {'path': './Models/smallTrain/800_nM_AR_600_18.pt',\n",
       "  'acc': 0.43000000000000005},\n",
       " '1800_nM_AR_600_18': {'path': './Models/smallTrain/1800_nM_AR_600_18.pt',\n",
       "  'acc': 0.5},\n",
       " '100_nM_AR_600_18': {'path': './Models/smallTrain/100_nM_AR_600_18.pt',\n",
       "  'acc': 0.7100000000000001},\n",
       " '400_nM_AR_600_18': {'path': './Models/smallTrain/400_nM_AR_600_18.pt',\n",
       "  'acc': 0.43000000000000005},\n",
       " '50_nM_AR_600_19': {'path': './Models/smallTrain/50_nM_AR_600_19.pt',\n",
       "  'acc': 0.7100000000000001},\n",
       " '1200_nM_AR_600_19': {'path': './Models/smallTrain/1200_nM_AR_600_19.pt',\n",
       "  'acc': 0.55},\n",
       " '800_nM_AR_600_19': {'path': './Models/smallTrain/800_nM_AR_600_19.pt',\n",
       "  'acc': 0.43000000000000005},\n",
       " '1800_nM_AR_600_19': {'path': './Models/smallTrain/1800_nM_AR_600_19.pt',\n",
       "  'acc': 0.51},\n",
       " '100_nM_AR_600_19': {'path': './Models/smallTrain/100_nM_AR_600_19.pt',\n",
       "  'acc': 0.7100000000000001},\n",
       " '400_nM_AR_600_19': {'path': './Models/smallTrain/400_nM_AR_600_19.pt',\n",
       "  'acc': 0.45000000000000007},\n",
       " '50_nM_AR_600_20': {'path': './Models/smallTrain/50_nM_AR_600_20.pt',\n",
       "  'acc': 0.7100000000000001},\n",
       " '1200_nM_AR_600_20': {'path': './Models/smallTrain/1200_nM_AR_600_20.pt',\n",
       "  'acc': 0.56},\n",
       " '800_nM_AR_600_20': {'path': './Models/smallTrain/800_nM_AR_600_20.pt',\n",
       "  'acc': 0.45},\n",
       " '1800_nM_AR_600_20': {'path': './Models/smallTrain/1800_nM_AR_600_20.pt',\n",
       "  'acc': 0.53},\n",
       " '100_nM_AR_600_20': {'path': './Models/smallTrain/100_nM_AR_600_20.pt',\n",
       "  'acc': 0.7300000000000001},\n",
       " '400_nM_AR_600_20': {'path': './Models/smallTrain/400_nM_AR_600_20.pt',\n",
       "  'acc': 0.45}}"
      ]
     },
     "execution_count": 4,
     "metadata": {},
     "output_type": "execute_result"
    }
   ],
   "source": [
    "data"
   ]
  },
  {
   "cell_type": "code",
   "execution_count": 5,
   "metadata": {},
   "outputs": [
    {
     "data": {
      "text/plain": [
       "'10'"
      ]
     },
     "execution_count": 5,
     "metadata": {},
     "output_type": "execute_result"
    }
   ],
   "source": [
    "list(data.keys())[0].split(\"_\")[-1]"
   ]
  },
  {
   "cell_type": "code",
   "execution_count": 6,
   "metadata": {},
   "outputs": [],
   "source": [
    "datasetNames = []\n",
    "for k in data.keys():\n",
    "    datasetName = k.split(\"_\")[-1]\n",
    "    datasetNames.append(datasetName)\n",
    "    \n",
    "accs = {}\n",
    "for name in datasetNames:\n",
    "    accs[name] = []"
   ]
  },
  {
   "cell_type": "code",
   "execution_count": 7,
   "metadata": {},
   "outputs": [
    {
     "data": {
      "text/plain": [
       "['14', '17', '10', '13', '15', '19', '12', '11', '18', '20', '16']"
      ]
     },
     "execution_count": 7,
     "metadata": {},
     "output_type": "execute_result"
    }
   ],
   "source": [
    "datasetNames = list(set(datasetNames))\n",
    "datasetNames"
   ]
  },
  {
   "cell_type": "code",
   "execution_count": 8,
   "metadata": {},
   "outputs": [],
   "source": [
    "for k in data.keys():\n",
    "    for name in datasetNames:\n",
    "        if k.endswith(name):\n",
    "            accs[name].append(data[k][\"acc\"])\n",
    "    "
   ]
  },
  {
   "cell_type": "code",
   "execution_count": 9,
   "metadata": {},
   "outputs": [
    {
     "data": {
      "text/plain": [
       "{'10': [0.5900000000000001, 0.39, 0.26, 0.24000000000000002, 0.53, 0.27],\n",
       " '11': [0.63, 0.41000000000000003, 0.31000000000000005, 0.27, 0.56, 0.26],\n",
       " '12': [0.64, 0.45999999999999996, 0.33, 0.33, 0.5900000000000001, 0.3],\n",
       " '13': [0.6500000000000001,\n",
       "  0.47000000000000003,\n",
       "  0.34,\n",
       "  0.35000000000000003,\n",
       "  0.6400000000000001,\n",
       "  0.30000000000000004],\n",
       " '14': [0.66, 0.48000000000000004, 0.37000000000000005, 0.4, 0.66, 0.33],\n",
       " '15': [0.66, 0.49000000000000005, 0.4, 0.43000000000000005, 0.67, 0.33],\n",
       " '16': [0.68,\n",
       "  0.51,\n",
       "  0.41000000000000003,\n",
       "  0.44,\n",
       "  0.6900000000000001,\n",
       "  0.37000000000000005],\n",
       " '17': [0.6900000000000001,\n",
       "  0.53,\n",
       "  0.43000000000000005,\n",
       "  0.47000000000000003,\n",
       "  0.7000000000000001,\n",
       "  0.41],\n",
       " '18': [0.7000000000000001,\n",
       "  0.53,\n",
       "  0.43000000000000005,\n",
       "  0.5,\n",
       "  0.7100000000000001,\n",
       "  0.43000000000000005],\n",
       " '19': [0.7100000000000001,\n",
       "  0.55,\n",
       "  0.43000000000000005,\n",
       "  0.51,\n",
       "  0.7100000000000001,\n",
       "  0.45000000000000007],\n",
       " '20': [0.7100000000000001, 0.56, 0.45, 0.53, 0.7300000000000001, 0.45]}"
      ]
     },
     "execution_count": 9,
     "metadata": {},
     "output_type": "execute_result"
    }
   ],
   "source": [
    "accs"
   ]
  },
  {
   "cell_type": "code",
   "execution_count": 10,
   "metadata": {},
   "outputs": [
    {
     "name": "stdout",
     "output_type": "stream",
     "text": [
      "6\n"
     ]
    }
   ],
   "source": [
    "accLen = len(accs[datasetNames[0]])\n",
    "print(accLen)\n",
    "for d in datasetNames:\n",
    "    if accLen != len(accs[d]):\n",
    "        print(f\"{d}: {len(accs[d])}\")"
   ]
  },
  {
   "cell_type": "code",
   "execution_count": 11,
   "metadata": {},
   "outputs": [
    {
     "data": {
      "text/plain": [
       "{'10': 0.38000000000000006,\n",
       " '11': 0.40666666666666673,\n",
       " '12': 0.4416666666666667,\n",
       " '13': 0.4583333333333333,\n",
       " '14': 0.4833333333333334,\n",
       " '15': 0.49666666666666676,\n",
       " '16': 0.5166666666666667,\n",
       " '17': 0.5383333333333334,\n",
       " '18': 0.55,\n",
       " '19': 0.56,\n",
       " '20': 0.5716666666666667}"
      ]
     },
     "execution_count": 11,
     "metadata": {},
     "output_type": "execute_result"
    }
   ],
   "source": [
    "for k in accs.keys():\n",
    "    accs[k] = np.average(accs[k]) \n",
    "accs"
   ]
  },
  {
   "cell_type": "code",
   "execution_count": 12,
   "metadata": {},
   "outputs": [],
   "source": [
    "with open(\"/Users/kendrichood/Desktop/MLP_10-20_error_margin_Models/MLP_eval_with_test_data.json\",'r') as f:\n",
    "    data = json.load(f)"
   ]
  },
  {
   "cell_type": "code",
   "execution_count": 13,
   "metadata": {},
   "outputs": [
    {
     "data": {
      "text/plain": [
       "dict_keys(['50_nM_AR_600', '1200_nM_AR_600', '800_nM_AR_600', '1800_nM_AR_600', '100_nM_AR_600', '400_nM_AR_600'])"
      ]
     },
     "execution_count": 13,
     "metadata": {},
     "output_type": "execute_result"
    }
   ],
   "source": [
    "data.keys()"
   ]
  },
  {
   "cell_type": "code",
   "execution_count": 14,
   "metadata": {},
   "outputs": [],
   "source": [
    "accs = {}\n",
    "for k in data.keys():\n",
    "    accs[k] = data[k][\"acc\"]"
   ]
  },
  {
   "cell_type": "code",
   "execution_count": 15,
   "metadata": {},
   "outputs": [
    {
     "data": {
      "text/plain": [
       "{'50_nM_AR_600': 0.8186157517899761,\n",
       " '1200_nM_AR_600': 0.6518218623481782,\n",
       " '800_nM_AR_600': 0.7462121212121212,\n",
       " '1800_nM_AR_600': 0.6054421768707483,\n",
       " '100_nM_AR_600': 0.7989949748743719,\n",
       " '400_nM_AR_600': 0.6384180790960452}"
      ]
     },
     "execution_count": 15,
     "metadata": {},
     "output_type": "execute_result"
    }
   ],
   "source": [
    "accs"
   ]
  },
  {
   "cell_type": "code",
   "execution_count": 17,
   "metadata": {},
   "outputs": [
    {
     "data": {
      "text/plain": [
       "dict_keys(['outputPlot', 'targetPlot', 'acc'])"
      ]
     },
     "execution_count": 17,
     "metadata": {},
     "output_type": "execute_result"
    }
   ],
   "source": [
    "example_50_nM_AR_600 = data[\"50_nM_AR_600\"]\n",
    "example_50_nM_AR_600.keys()"
   ]
  },
  {
   "cell_type": "code",
   "execution_count": 18,
   "metadata": {},
   "outputs": [
    {
     "data": {
      "text/plain": [
       "419"
      ]
     },
     "execution_count": 18,
     "metadata": {},
     "output_type": "execute_result"
    }
   ],
   "source": [
    "len(example_50_nM_AR_600[\"outputPlot\"])"
   ]
  },
  {
   "cell_type": "code",
   "execution_count": 22,
   "metadata": {},
   "outputs": [
    {
     "name": "stdout",
     "output_type": "stream",
     "text": [
      "avg:43.721282021242565\n",
      "std: 13.99769871875339\n"
     ]
    }
   ],
   "source": [
    "avg = np.average(example_50_nM_AR_600[\"outputPlot\"])\n",
    "std = np.std(example_50_nM_AR_600[\"outputPlot\"])\n",
    "print(f\"avg:{avg}\")\n",
    "print(f\"std: {std}\")"
   ]
  },
  {
   "cell_type": "code",
   "execution_count": 23,
   "metadata": {},
   "outputs": [
    {
     "name": "stdout",
     "output_type": "stream",
     "text": [
      "avg:54.51551312649165\n",
      "std: 25.58511692430303\n"
     ]
    }
   ],
   "source": [
    "avg = np.average(example_50_nM_AR_600[\"targetPlot\"])\n",
    "std = np.std(example_50_nM_AR_600[\"targetPlot\"])\n",
    "print(f\"avg:{avg}\")\n",
    "print(f\"std: {std}\")"
   ]
  },
  {
   "cell_type": "code",
   "execution_count": 28,
   "metadata": {},
   "outputs": [],
   "source": [
    "for k in data.keys():\n",
    "    with open(f\"./datFiles/{k}.dat\", \"w\") as dataFile:\n",
    "        avg = np.average(data[k][\"outputPlot\"])\n",
    "        std = np.std(data[k][\"outputPlot\"])    \n",
    "        dataFile.write(f\", {avg}, {std}, 0, 0\\n\")\n",
    "        \n",
    "        avg = np.average(data[k][\"targetPlot\"])\n",
    "        std = np.std(data[k][\"targetPlot\"])  \n",
    "        dataFile.write(f\", 0, 0, {avg}, {std}\")"
   ]
  }
 ],
 "metadata": {
  "kernelspec": {
   "display_name": "base",
   "language": "python",
   "name": "python3"
  },
  "language_info": {
   "codemirror_mode": {
    "name": "ipython",
    "version": 3
   },
   "file_extension": ".py",
   "mimetype": "text/x-python",
   "name": "python",
   "nbconvert_exporter": "python",
   "pygments_lexer": "ipython3",
   "version": "3.9.12"
  },
  "orig_nbformat": 4
 },
 "nbformat": 4,
 "nbformat_minor": 2
}
