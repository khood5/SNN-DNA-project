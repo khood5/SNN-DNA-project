{
 "cells": [
  {
   "cell_type": "code",
   "execution_count": 1,
   "metadata": {},
   "outputs": [],
   "source": [
    "import pandas as pd\n",
    "import os\n",
    "import h5py\n",
    "import numpy as np\n",
    "import matplotlib.pyplot as plt\n",
    "import torch\n",
    "from torch.utils.data import Dataset, DataLoader\n",
    "import IPython.display as display\n",
    "from matplotlib import animation\n",
    "import torch\n",
    "import copy\n",
    "from torch import nn\n",
    "%matplotlib inline\n",
    "import matplotlib.pyplot as plt\n",
    "device = torch.device(\"cuda:0\" if torch.cuda.is_available() else \"cpu\")"
   ]
  },
  {
   "cell_type": "code",
   "execution_count": 2,
   "metadata": {},
   "outputs": [],
   "source": [
    "class expermentDataloader(Dataset):\n",
    "    def __init__(\n",
    "        self,\n",
    "        index_file: str, \n",
    "        data_path: str,\n",
    "        startIndex = 0,\n",
    "        endIndex = -1\n",
    "    ):\n",
    "        self.root_dir = data_path\n",
    "        self.expermentSikeTrainsIndex = np.array(pd.read_csv(index_file,header=None))[startIndex:endIndex]\n",
    "        self.spikeTrains = [\n",
    "            f\"{os.path.join(self.expermentSikeTrainsIndex[i][0])}\" for i in range(len(self.expermentSikeTrainsIndex)) \n",
    "        ]\n",
    "        self.targets = self.expermentSikeTrainsIndex[:, 1]\n",
    "\n",
    "    def __getitem__(self, index):\n",
    "        inputCSVlines = pd.read_csv(os.path.join(self.root_dir,self.spikeTrains[index])).to_numpy()\n",
    "        targetCSVLines = self.targets[index]\n",
    "        return inputCSVlines.flatten(), np.array([targetCSVLines])\n",
    "\n",
    "    def __len__(self):\n",
    "        return len(self.expermentSikeTrainsIndex)"
   ]
  },
  {
   "cell_type": "code",
   "execution_count": 3,
   "metadata": {},
   "outputs": [
    {
     "name": "stdout",
     "output_type": "stream",
     "text": [
      "datasetlow:56\n",
      "datasetmedium:16\n",
      "datasetHigh:83\n",
      "Training dataset size: 122\n",
      "Testing dataset size: 33\n",
      "number train batches:13\n",
      "number test batches:4\n"
     ]
    }
   ],
   "source": [
    "from torch.utils.data import DataLoader\n",
    "from sklearn import preprocessing \n",
    "batch_size = 10\n",
    "datasetlow = expermentDataloader(\n",
    "    \"/home/khood/GitHub/SNN-DNA-project/Prepocessing/data/seperatedData/low/index.csv\",\n",
    "    \"/home/khood/GitHub/SNN-DNA-project/Prepocessing/data/seperatedData/low\", \n",
    "    startIndex=0, endIndex=70\n",
    ")\n",
    "datasetmedium = expermentDataloader(\n",
    "    \"/home/khood/GitHub/SNN-DNA-project/Prepocessing/data/seperatedData/medium/index.csv\",\n",
    "    \"/home/khood/GitHub/SNN-DNA-project/Prepocessing/data/seperatedData/medium\", \n",
    "    startIndex=0, endIndex=60)\n",
    "\n",
    "datasetHigh = expermentDataloader(\n",
    "    \"/home/khood/GitHub/SNN-DNA-project/Prepocessing/data/seperatedData/high/index.csv\",\n",
    "    \"/home/khood/GitHub/SNN-DNA-project/Prepocessing/data/seperatedData/high\", \n",
    "    startIndex=0, endIndex=-1\n",
    ")\n",
    "\n",
    "print(f\"datasetlow:{len(datasetlow)}\")\n",
    "print(f\"datasetmedium:{len(datasetmedium)}\")\n",
    "print(f\"datasetHigh:{len(datasetHigh)}\")\n",
    "def addData(trainData: list, testData: list, expermentDataset: expermentDataloader, cutoffIndex=None):\n",
    "    cutoffIndex = int(len(expermentDataset)*0.9) if cutoffIndex == None else cutoffIndex\n",
    "    for i in range(cutoffIndex):\n",
    "        trainData.append(expermentDataset[i])\n",
    "    for i in range(cutoffIndex, len(expermentDataset)):\n",
    "        testData.append(expermentDataset[i])\n",
    "\n",
    "rawData = []\n",
    "addData(rawData, [], datasetlow, cutoffIndex=len(datasetlow))\n",
    "addData(rawData, [], datasetmedium, cutoffIndex=len(datasetmedium))\n",
    "addData(rawData, [], datasetHigh, cutoffIndex=len(datasetHigh))\n",
    "rawData = [[k,v] for k,v in rawData]\n",
    "magnetSettings = [1.5] * 27 # 1.5mm_35.14pN\n",
    "magnetSettings += [2] * 28  # 2mm_22.6pN\n",
    "magnetSettings += [3] * 16  # 3mm_9.24pN\n",
    "magnetSettings += [5] * 63  # 5mm_1.46pN\n",
    "magnetSettings += [9] * 21  # 9mm_0.002pN\n",
    "magnetSettings = [[i] for i in magnetSettings]\n",
    "\n",
    "forceSettings = [35.14] * 27  # 1.5mm_35.14pN\n",
    "forceSettings += [22.6] * 28  # 2mm_22.6pN\n",
    "forceSettings += [9.24] * 16  # 3mm_9.24pN\n",
    "forceSettings += [1.46] * 63  # 5mm_1.46pN\n",
    "forceSettings += [0.002] * 21 # 9mm_0.002pN\n",
    "forceSettings = [[i] for i in forceSettings]\n",
    "\n",
    "trains, targets = list(map(list, zip(*rawData)))\n",
    "tmp = list(zip(trains,magnetSettings,forceSettings))\n",
    "tmp = list(list(i[0]) + list(i[1]) + list(i[2]) for i in tmp)\n",
    "rawData = (list(zip(tmp,targets)))\n",
    "datasetlow = rawData[:len(datasetlow)]\n",
    "datasetmedium = rawData[len(datasetlow):len(datasetlow)+len(datasetmedium)]\n",
    "datasetHigh = rawData[len(datasetlow)+len(datasetmedium):]\n",
    "trainData = []\n",
    "testData = []\n",
    "validData = []\n",
    "\n",
    "addData(trainData, testData, datasetlow, cutoffIndex=int(len(datasetlow)*0.8))\n",
    "addData(trainData, testData, datasetmedium, cutoffIndex=int(len(datasetmedium)*0.8))\n",
    "addData(trainData, testData, datasetHigh, cutoffIndex=int(len(datasetHigh)*0.8))\n",
    "\n",
    "trainData = [([np.array(i).flatten(), np.array(t)]) for i,t in trainData]\n",
    "testData = [([np.array(i).flatten(), np.array(t)]) for i,t in testData]\n",
    "\n",
    "trainDataset = DataLoader(trainData, batch_size=batch_size, shuffle=True)\n",
    "testDataset = DataLoader(testData, batch_size=batch_size, shuffle=True)\n",
    "print(f\"Training dataset size: {len(trainData)}\")\n",
    "print(f\"Testing dataset size: {len(testData)}\")\n",
    "print(f\"number train batches:{len(trainDataset)}\")\n",
    "print(f\"number test batches:{len(testDataset)}\")\n",
    "featIn = len(trainData[0][0])"
   ]
  },
  {
   "cell_type": "code",
   "execution_count": 22,
   "metadata": {},
   "outputs": [
    {
     "data": {
      "text/plain": [
       "66"
      ]
     },
     "execution_count": 22,
     "metadata": {},
     "output_type": "execute_result"
    }
   ],
   "source": [
    "int(len(datasetHigh)*0.8)"
   ]
  },
  {
   "cell_type": "code",
   "execution_count": 4,
   "metadata": {},
   "outputs": [
    {
     "data": {
      "text/plain": [
       "Sequential(\n",
       "  (0): Linear(in_features=12001, out_features=16000, bias=True)\n",
       "  (1): ReLU()\n",
       "  (2): Linear(in_features=16000, out_features=16000, bias=True)\n",
       "  (3): ReLU()\n",
       "  (4): Linear(in_features=16000, out_features=16000, bias=True)\n",
       "  (5): ReLU()\n",
       "  (6): Linear(in_features=16000, out_features=16000, bias=True)\n",
       "  (7): ReLU()\n",
       "  (8): Linear(in_features=16000, out_features=1, bias=True)\n",
       ")"
      ]
     },
     "execution_count": 4,
     "metadata": {},
     "output_type": "execute_result"
    }
   ],
   "source": [
    "model = nn.Sequential(\n",
    "          nn.Linear(featIn,16000),\n",
    "          nn.ReLU(),\n",
    "          nn.Linear(16000,16000),\n",
    "          nn.ReLU(),\n",
    "          nn.Linear(16000,16000),\n",
    "          nn.ReLU(),\n",
    "          nn.Linear(16000,16000),\n",
    "          nn.ReLU(),\n",
    "          nn.Linear(16000,1),\n",
    "        )\n",
    "PATH = \"Models/11.04.2023_01-35-11-455530.pt\"\n",
    "model.load_state_dict(torch.load(PATH))\n",
    "model.to(device)\n",
    "model.eval()"
   ]
  },
  {
   "attachments": {},
   "cell_type": "markdown",
   "metadata": {},
   "source": [
    "#### High\n",
    "----"
   ]
  },
  {
   "cell_type": "code",
   "execution_count": 5,
   "metadata": {},
   "outputs": [
    {
     "data": {
      "text/plain": [
       "[[array([0.  , 0.  , 0.  , ..., 0.  , 5.  , 1.46]), array([20])],\n",
       " [array([0.e+00, 0.e+00, 0.e+00, ..., 0.e+00, 9.e+00, 2.e-03]), array([363])],\n",
       " [array([0.e+00, 0.e+00, 0.e+00, ..., 0.e+00, 9.e+00, 2.e-03]), array([243])],\n",
       " [array([0.e+00, 0.e+00, 0.e+00, ..., 0.e+00, 9.e+00, 2.e-03]), array([375])],\n",
       " [array([0.e+00, 0.e+00, 0.e+00, ..., 0.e+00, 9.e+00, 2.e-03]), array([413])],\n",
       " [array([0.e+00, 0.e+00, 0.e+00, ..., 0.e+00, 9.e+00, 2.e-03]), array([210])],\n",
       " [array([0.e+00, 0.e+00, 0.e+00, ..., 0.e+00, 9.e+00, 2.e-03]), array([155])],\n",
       " [array([0.e+00, 0.e+00, 0.e+00, ..., 0.e+00, 9.e+00, 2.e-03]), array([342])],\n",
       " [array([0.e+00, 0.e+00, 0.e+00, ..., 0.e+00, 9.e+00, 2.e-03]), array([252])],\n",
       " [array([0.e+00, 0.e+00, 0.e+00, ..., 0.e+00, 9.e+00, 2.e-03]), array([55])],\n",
       " [array([0.e+00, 0.e+00, 0.e+00, ..., 0.e+00, 9.e+00, 2.e-03]), array([234])],\n",
       " [array([0.e+00, 0.e+00, 0.e+00, ..., 0.e+00, 9.e+00, 2.e-03]), array([336])],\n",
       " [array([0.e+00, 0.e+00, 0.e+00, ..., 0.e+00, 9.e+00, 2.e-03]), array([248])],\n",
       " [array([0.e+00, 0.e+00, 0.e+00, ..., 0.e+00, 9.e+00, 2.e-03]), array([90])],\n",
       " [array([0.e+00, 0.e+00, 0.e+00, ..., 0.e+00, 9.e+00, 2.e-03]), array([93])],\n",
       " [array([0.e+00, 0.e+00, 0.e+00, ..., 0.e+00, 9.e+00, 2.e-03]), array([228])],\n",
       " [array([0.e+00, 0.e+00, 0.e+00, ..., 0.e+00, 9.e+00, 2.e-03]), array([61])],\n",
       " [array([0.e+00, 0.e+00, 0.e+00, ..., 0.e+00, 9.e+00, 2.e-03]), array([280])]]"
      ]
     },
     "execution_count": 5,
     "metadata": {},
     "output_type": "execute_result"
    }
   ],
   "source": [
    "testHigh = [i for i in testData if i[0][-2] in [9.0, 5.0]]\n",
    "testDatasetHigh = DataLoader(testHigh, batch_size=len(testHigh), shuffle=True)\n",
    "testHigh"
   ]
  },
  {
   "cell_type": "code",
   "execution_count": 6,
   "metadata": {},
   "outputs": [
    {
     "data": {
      "text/plain": [
       "18"
      ]
     },
     "execution_count": 6,
     "metadata": {},
     "output_type": "execute_result"
    }
   ],
   "source": [
    "len(testHigh)"
   ]
  },
  {
   "cell_type": "code",
   "execution_count": 30,
   "metadata": {},
   "outputs": [
    {
     "name": "stdout",
     "output_type": "stream",
     "text": [
      "test...\n",
      "    accuracy:0.5     \u001b\r"
     ]
    }
   ],
   "source": [
    "em =52\n",
    "epochs = 100\n",
    "accs = []\n",
    "print(\"test...\")\n",
    "for e in range(epochs): \n",
    "    avgLoss = []\n",
    "    currentAcc = []\n",
    "    for i, (inputs, targets) in enumerate(testDatasetHigh):\n",
    "        inputs, targets= inputs.float().to(device), targets.float().to(device)\n",
    "        outputs = model(inputs)\n",
    "        outputPlot = outputs.clone().detach().cpu().numpy()\n",
    "        targetsPlot = targets.clone().detach().cpu().numpy()\n",
    "        totalCorrect = torch.sum(torch.isclose(outputs.int(), targets.int(), atol=em))\n",
    "        totalCorrect = totalCorrect.clone().detach().cpu().numpy()\n",
    "        currentAcc.append(float(totalCorrect/len(targets)))\n",
    "        accs.append(float(totalCorrect/len(targets)))\n",
    "\n",
    "print(f\"\\\n",
    "    accuracy:{np.sum(accs)/len(accs)} \\\n",
    "    \",end=\"\\x1b\\r\")"
   ]
  },
  {
   "cell_type": "code",
   "execution_count": 8,
   "metadata": {},
   "outputs": [
    {
     "data": {
      "text/plain": [
       "<matplotlib.legend.Legend at 0x7fe55e784b50>"
      ]
     },
     "execution_count": 8,
     "metadata": {},
     "output_type": "execute_result"
    },
    {
     "data": {
      "image/png": "[encoded data removed]",
      "text/plain": [
       "<Figure size 640x480 with 1 Axes>"
      ]
     },
     "metadata": {},
     "output_type": "display_data"
    }
   ],
   "source": [
    "x_marks = [i + 1 for i in list(range(len(outputPlot)))]\n",
    "plt.plot(x_marks, outputPlot, 'o', color='black', label=\"predicted\")\n",
    "plt.plot(x_marks, targetsPlot, 'o', color='green', label=\"actual\")\n",
    "plt.xticks(ticks=x_marks, labels=x_marks)\n",
    "plt.xlabel('test case')\n",
    "plt.ylabel('number of reactions')\n",
    "plt.title('high reactivity')\n",
    "plt.legend(loc='upper right')"
   ]
  },
  {
   "attachments": {},
   "cell_type": "markdown",
   "metadata": {},
   "source": [
    "#### medium\n",
    "----"
   ]
  },
  {
   "cell_type": "code",
   "execution_count": 9,
   "metadata": {},
   "outputs": [
    {
     "data": {
      "text/plain": [
       "[[array([0.  , 0.  , 0.  , ..., 0.  , 3.  , 9.24]), array([26])],\n",
       " [array([0.  , 0.  , 0.  , ..., 0.  , 3.  , 9.24]), array([153])],\n",
       " [array([0.  , 0.  , 0.  , ..., 0.  , 3.  , 9.24]), array([93])],\n",
       " [array([0.  , 0.  , 0.  , ..., 0.  , 3.  , 9.24]), array([132])]]"
      ]
     },
     "execution_count": 9,
     "metadata": {},
     "output_type": "execute_result"
    }
   ],
   "source": [
    "testmedium = [i for i in testData if i[0][-2] in [3.0]]\n",
    "testDatasetmedium = DataLoader(testmedium, batch_size=len(testmedium), shuffle=True)\n",
    "testmedium"
   ]
  },
  {
   "cell_type": "code",
   "execution_count": 39,
   "metadata": {},
   "outputs": [
    {
     "name": "stdout",
     "output_type": "stream",
     "text": [
      "test...\n",
      "    accuracy:0.75     \u001b\r"
     ]
    }
   ],
   "source": [
    "\n",
    "em =40\n",
    "epochs = 100\n",
    "accs = []\n",
    "print(\"test...\")\n",
    "for e in range(epochs): \n",
    "    \n",
    "    avgLoss = []\n",
    "    currentAcc = []\n",
    "    for i, (inputs, targets) in enumerate(testDatasetmedium):\n",
    "        inputs, targets= inputs.float().to(device), targets.float().to(device)\n",
    "        outputs = model(inputs)\n",
    "        outputPlot = outputs.clone().detach().cpu().numpy()\n",
    "        targetsPlot = targets.clone().detach().cpu().numpy()\n",
    "        totalCorrect = torch.sum(torch.isclose(outputs.int(), targets.int(), atol=em))\n",
    "        totalCorrect = totalCorrect.clone().detach().cpu().numpy()\n",
    "        currentAcc.append(float(totalCorrect/len(targets)))\n",
    "        accs.append(float(totalCorrect/len(targets)))\n",
    "\n",
    "print(f\"\\\n",
    "    accuracy:{np.sum(accs)/len(accs)} \\\n",
    "    \",end=\"\\x1b\\r\")"
   ]
  },
  {
   "cell_type": "code",
   "execution_count": 25,
   "metadata": {},
   "outputs": [
    {
     "data": {
      "text/plain": [
       "<matplotlib.legend.Legend at 0x7fe55c445cc0>"
      ]
     },
     "execution_count": 25,
     "metadata": {},
     "output_type": "execute_result"
    },
    {
     "data": {
      "image/png": "[encoded data removed]",
      "text/plain": [
       "<Figure size 640x480 with 1 Axes>"
      ]
     },
     "metadata": {},
     "output_type": "display_data"
    }
   ],
   "source": [
    "x_marks = [i + 1 for i in list(range(len(outputPlot)))]\n",
    "plt.plot(x_marks, outputPlot, 'o', color='black', label=\"predicted\")\n",
    "plt.plot(x_marks, targetsPlot, 'o', color='green', label=\"actual\")\n",
    "plt.xticks(ticks=x_marks, labels=x_marks)\n",
    "plt.xlabel('test case')\n",
    "plt.ylabel('number of reactions')\n",
    "plt.title('medium reactivity')\n",
    "plt.legend(loc='upper right')"
   ]
  },
  {
   "attachments": {},
   "cell_type": "markdown",
   "metadata": {},
   "source": [
    "#### low\n",
    "----"
   ]
  },
  {
   "cell_type": "code",
   "execution_count": 12,
   "metadata": {},
   "outputs": [
    {
     "data": {
      "text/plain": [
       "11"
      ]
     },
     "execution_count": 12,
     "metadata": {},
     "output_type": "execute_result"
    }
   ],
   "source": [
    "\n",
    "testLow = [i for i in testData if i[0][-2] in [2.0,1.5]]\n",
    "testDatasetLow = DataLoader(testLow, batch_size=len(testLow), shuffle=True)\n",
    "len(testLow)"
   ]
  },
  {
   "cell_type": "code",
   "execution_count": 56,
   "metadata": {},
   "outputs": [
    {
     "name": "stdout",
     "output_type": "stream",
     "text": [
      "test...\n",
      "    accuracy:0.45454545454545436     \u001b\r"
     ]
    }
   ],
   "source": [
    "\n",
    "em =12\n",
    "epochs = 100\n",
    "accs = []\n",
    "print(\"test...\")\n",
    "for e in range(epochs): \n",
    "    avgLoss = []\n",
    "    currentAcc = []\n",
    "    for i, (inputs, targets) in enumerate(testDatasetLow):\n",
    "        inputs, targets= inputs.float().to(device), targets.float().to(device)\n",
    "        outputs = model(inputs)\n",
    "        outputPlot = outputs.clone().detach().cpu().numpy()\n",
    "        targetsPlot = targets.clone().detach().cpu().numpy()\n",
    "        totalCorrect = torch.sum(torch.isclose(outputs.int(), targets.int(), atol=em))\n",
    "        totalCorrect = totalCorrect.clone().detach().cpu().numpy()\n",
    "        currentAcc.append(float(totalCorrect/len(targets)))\n",
    "        accs.append(float(totalCorrect/len(targets)))\n",
    "\n",
    "print(f\"\\\n",
    "    accuracy:{np.sum(accs)/len(accs)} \\\n",
    "    \",end=\"\\x1b\\r\")"
   ]
  },
  {
   "cell_type": "code",
   "execution_count": 14,
   "metadata": {},
   "outputs": [
    {
     "data": {
      "text/plain": [
       "<matplotlib.legend.Legend at 0x7fe55c554760>"
      ]
     },
     "execution_count": 14,
     "metadata": {},
     "output_type": "execute_result"
    },
    {
     "data": {
      "image/png": "[encoded data removed]",
      "text/plain": [
       "<Figure size 640x480 with 1 Axes>"
      ]
     },
     "metadata": {},
     "output_type": "display_data"
    }
   ],
   "source": [
    "x_marks = [i + 1 for i in list(range(len(outputPlot)))]\n",
    "plt.plot(x_marks, outputPlot, 'o', color='black', label=\"predicted\")\n",
    "plt.plot(x_marks, targetsPlot, 'o', color='green', label=\"actual\")\n",
    "plt.xticks(ticks=x_marks, labels=x_marks)\n",
    "plt.xlabel('test case')\n",
    "plt.ylabel('number of reactions')\n",
    "plt.title('low reactivity')\n",
    "plt.legend(loc='upper right')"
   ]
  }
 ],
 "metadata": {
  "kernelspec": {
   "display_name": "dna",
   "language": "python",
   "name": "python3"
  },
  "language_info": {
   "codemirror_mode": {
    "name": "ipython",
    "version": 3
   },
   "file_extension": ".py",
   "mimetype": "text/x-python",
   "name": "python",
   "nbconvert_exporter": "python",
   "pygments_lexer": "ipython3",
   "version": "3.10.9"
  },
  "orig_nbformat": 4,
  "vscode": {
   "interpreter": {
    "hash": "366a53c283de3ac239fad2923e36904e6cb28c586fdc23988bad2bc80f7d8984"
   }
  }
 },
 "nbformat": 4,
 "nbformat_minor": 2
}
