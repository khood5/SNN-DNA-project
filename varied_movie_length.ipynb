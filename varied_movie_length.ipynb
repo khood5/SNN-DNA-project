{
 "cells": [
  {
   "attachments": {},
   "cell_type": "markdown",
   "metadata": {},
   "source": [
    "## testing hyperparams for varied movie length "
   ]
  },
  {
   "cell_type": "code",
   "execution_count": 1,
   "metadata": {},
   "outputs": [
    {
     "data": {
      "text/plain": [
       "device(type='cuda', index=3)"
      ]
     },
     "execution_count": 1,
     "metadata": {},
     "output_type": "execute_result"
    }
   ],
   "source": [
    "import numpy as np\n",
    "import matplotlib.pyplot as plt\n",
    "import torch\n",
    "from torch.utils.data import DataLoader\n",
    "from sklearn import preprocessing\n",
    "import torch\n",
    "from torch.utils.data import DataLoader\n",
    "import copy\n",
    "from torch import nn\n",
    "%matplotlib inline\n",
    "import matplotlib.pyplot as plt\n",
    "from dnaDataloader import expermentDataloader\n",
    "from dnaDataloader import addData\n",
    "from dnaModelUtil import printStats\n",
    "from dnaModelUtil import train\n",
    "from scipy import stats as st\n",
    "import os\n",
    "from datetime import datetime\n",
    "\n",
    "device = torch.device(\"cuda:3\" if torch.cuda.is_available() else \"cpu\")\n",
    "batch_size = 100\n",
    "num_workers = 0\n",
    "device"
   ]
  },
  {
   "cell_type": "code",
   "execution_count": 2,
   "metadata": {},
   "outputs": [],
   "source": [
    "folder = '/home/khood/GitHub/SNN-DNA-project/Prepocessing/sorted/1800_nM_AR_5000'"
   ]
  },
  {
   "cell_type": "code",
   "execution_count": 3,
   "metadata": {},
   "outputs": [],
   "source": [
    "oneMinInFPS = 1200\n",
    "data = expermentDataloader(\n",
    "    f\"{folder}/index.csv\",\n",
    "    f\"{folder}\", \n",
    "    length = 10*oneMinInFPS\n",
    "    # length=36000 # 30 min half movie length \n",
    "    # length=12000 # 10 min movie length \n",
    ")\n",
    "# rawData = [(d[0][20*oneMinInFPS:], d[1])for d in data]\n",
    "rawData = [d for d in data]"
   ]
  },
  {
   "cell_type": "code",
   "execution_count": 4,
   "metadata": {},
   "outputs": [
    {
     "name": "stdout",
     "output_type": "stream",
     "text": [
      "featIn 12000\n"
     ]
    },
    {
     "data": {
      "image/png": "[encoded data removed]",
      "text/plain": [
       "<Figure size 640x480 with 1 Axes>"
      ]
     },
     "metadata": {},
     "output_type": "display_data"
    }
   ],
   "source": [
    "plt.plot(list(range(len(rawData[0][0]))), rawData[0][0], 'o', color='black')\n",
    "featIn = len(rawData[0][0])\n",
    "print(f\"featIn {featIn}\")"
   ]
  },
  {
   "cell_type": "code",
   "execution_count": 5,
   "metadata": {},
   "outputs": [
    {
     "data": {
      "text/plain": [
       "888"
      ]
     },
     "execution_count": 5,
     "metadata": {},
     "output_type": "execute_result"
    }
   ],
   "source": [
    "len(rawData)"
   ]
  },
  {
   "cell_type": "code",
   "execution_count": 6,
   "metadata": {},
   "outputs": [
    {
     "name": "stdout",
     "output_type": "stream",
     "text": [
      "Training dataset size: 200\n",
      "Valid dataset size: 100\n",
      "Testing dataset size: 588\n",
      "Total: 888\n",
      "number train batches:2\n",
      "number valid batches:1\n",
      "number test batches:1\n"
     ]
    },
    {
     "data": {
      "text/plain": [
       "12000"
      ]
     },
     "execution_count": 6,
     "metadata": {},
     "output_type": "execute_result"
    }
   ],
   "source": [
    "featIn = len(rawData[0][0])\n",
    "trainValidData = []\n",
    "testData = []\n",
    "addData(testData, trainValidData, rawData, rhsSize=300)\n",
    "\n",
    "\n",
    "np.random.shuffle(trainValidData)\n",
    "trainData = []\n",
    "validData = []\n",
    "addData(trainData, validData, trainValidData, rhsSize=int(len(trainValidData)*(1/3)))\n",
    "\n",
    "trainDataset = DataLoader(trainData, batch_size=batch_size, shuffle=True, num_workers=num_workers, pin_memory=True) \n",
    "validDataset = DataLoader(validData, batch_size=batch_size, shuffle=True, num_workers=num_workers, pin_memory=True)\n",
    "testDataset = DataLoader(testData, batch_size=len(testData), shuffle=True, num_workers=num_workers, pin_memory=True)\n",
    "print(f\"Training dataset size: {len(trainData)}\")\n",
    "print(f\"Valid dataset size: {len(validData)}\")\n",
    "print(f\"Testing dataset size: {len(testData)}\")\n",
    "print(f\"Total: {len(trainData) + len(validData) + len(testData)}\")\n",
    "print(f\"number train batches:{len(trainDataset)}\")\n",
    "print(f\"number valid batches:{len(validDataset)}\")\n",
    "print(f\"number test batches:{len(testDataset)}\")\n",
    "\n",
    "featIn"
   ]
  },
  {
   "cell_type": "code",
   "execution_count": 7,
   "metadata": {},
   "outputs": [
    {
     "data": {
      "text/plain": [
       "720"
      ]
     },
     "execution_count": 7,
     "metadata": {},
     "output_type": "execute_result"
    }
   ],
   "source": [
    "size = int(featIn*0.06)\n",
    "size"
   ]
  },
  {
   "cell_type": "code",
   "execution_count": 8,
   "metadata": {},
   "outputs": [
    {
     "name": "stdout",
     "output_type": "stream",
     "text": [
      "training...\n",
      "        epoch: 9999/10000\t         Train Loss:2.4322 Valid Loss:4400.1660\t         Train accuracy:1.00 Valid accuracy:0.41         \u001b\u001b\u001b\u001b\r"
     ]
    }
   ],
   "source": [
    "model = nn.Sequential(\n",
    "        nn.Linear(featIn,size),\n",
    "        nn.Tanh(),\n",
    "        nn.Dropout(p=0.2),\n",
    "        nn.Linear(size,size),\n",
    "        nn.Tanh(),\n",
    "        nn.Dropout(p=0.2),\n",
    "        nn.Linear(size,size),\n",
    "        nn.Tanh(),\n",
    "        nn.Linear(size,1),\n",
    "        ).to(device)\n",
    "MSE = nn.MSELoss(reduction = 'mean')\n",
    "adam = torch.optim.Adam(model.parameters(),lr=0.0001,weight_decay=1e-5)\n",
    "\n",
    "em = 20\n",
    "epochs = 10000\n",
    "losses = []\n",
    "accs = []\n",
    "print(\"training...\")\n",
    "for e in range(epochs): \n",
    "    avgLossTrain = []\n",
    "    currentAccTrain = []\n",
    "    model.train()\n",
    "    for i, (inputs, targets) in enumerate(trainDataset):\n",
    "        inputs, targets= inputs.float().to(device), targets.float().to(device)\n",
    "        outputs = model(inputs)\n",
    "        loss = MSE(outputs, targets)\n",
    "        avgLossTrain.append(float(loss.item()))\n",
    "        adam.zero_grad()\n",
    "        loss.backward()\n",
    "        adam.step()\n",
    "        totalCorrect = torch.sum(torch.isclose(outputs.int(), targets.int(), atol=em))\n",
    "        totalCorrect = totalCorrect.item()\n",
    "        currentAccTrain.append(float(totalCorrect/len(targets)))\n",
    "        \n",
    "    avgLoss = []\n",
    "    currentAcc = []\n",
    "    model.eval()\n",
    "    for i, (inputs, targets) in enumerate(validDataset):\n",
    "        inputs, targets= inputs.float().to(device), targets.float().to(device)\n",
    "        outputs = model(inputs)\n",
    "        loss = MSE(outputs, targets)\n",
    "        outputPlot = outputs.clone().detach().cpu().numpy()\n",
    "        targetsPlot = targets.clone().detach().cpu().numpy()\n",
    "        avgLoss.append(float(loss.clone().detach().cpu().numpy()))\n",
    "        totalCorrect = torch.sum(torch.isclose(outputs.int(), targets.int(), atol=em))\n",
    "        totalCorrect = totalCorrect.clone().detach().cpu().numpy()\n",
    "        currentAcc.append(float(totalCorrect/len(targets)))\n",
    "        print(f\"\\\n",
    "        epoch: {e}/{epochs}\\t \\\n",
    "        Train Loss:{'%.4f' % (np.sum(avgLossTrain)/len(avgLossTrain))} Valid Loss:{'%.4f' % (np.sum(avgLoss)/len(avgLoss))}\\t \\\n",
    "        Train accuracy:{'%.2f' % (np.sum(currentAccTrain)/len(currentAccTrain))} Valid accuracy:{'%.2f' % (np.sum(currentAcc)/len(currentAcc))} \\\n",
    "        \",end=\"\\x1b\\r\")\n",
    "    accs.append(float(np.sum(currentAcc)/len(currentAcc)))\n",
    "    losses.append(float(np.sum(avgLoss)/len(avgLoss)))"
   ]
  },
  {
   "cell_type": "code",
   "execution_count": 9,
   "metadata": {},
   "outputs": [
    {
     "data": {
      "text/plain": [
       "10000"
      ]
     },
     "execution_count": 9,
     "metadata": {},
     "output_type": "execute_result"
    },
    {
     "data": {
      "image/png": "[encoded data removed]",
      "text/plain": [
       "<Figure size 2000x500 with 2 Axes>"
      ]
     },
     "metadata": {},
     "output_type": "display_data"
    }
   ],
   "source": [
    "defultePlotSize = plt.rcParams['figure.figsize']\n",
    "plt.rcParams['figure.figsize'] = [20, 5]\n",
    "plt.subplot(1, 2, 1)\n",
    "plt.title('accuracy vs epochs 10min')\n",
    "plt.plot(list(range(len(accs[:]))), accs[:], '-', color='black', )\n",
    "plt.subplot(1, 2, 2)\n",
    "plt.title('losse vs epochs 10min')\n",
    "plt.plot(list(range(len(losses)))[:], losses[:], '-', color='black')\n",
    "plt.rcParams['figure.figsize'] = defultePlotSize\n",
    "epochs*len(validDataset)"
   ]
  },
  {
   "cell_type": "code",
   "execution_count": null,
   "metadata": {},
   "outputs": [
    {
     "name": "stdout",
     "output_type": "stream",
     "text": [
      "saved to ./Models/trying_varied_movie_length_06.06.2023_20-57-22-925357.pt\n"
     ]
    }
   ],
   "source": [
    "title = \"trying varied movie length\"\n",
    "dt_string = datetime.now().strftime(\"%d.%m.%Y_%H-%M-%S-%f\")\n",
    "modelPath = f\"./Models/{title.replace(' ', '_')}_{dt_string}.pt\"\n",
    "torch.save(model.state_dict(),modelPath)\n",
    "print(f\"saved to {modelPath}\")"
   ]
  },
  {
   "cell_type": "code",
   "execution_count": null,
   "metadata": {},
   "outputs": [
    {
     "name": "stdout",
     "output_type": "stream",
     "text": [
      "training 10 on cuda:1...\n",
      "training 20 on cuda:1...5000\t           Train Loss:6.7009 Valid Loss:4842.8022\t           Train accuracy:1.0000 Valid accuracy:0.3400           \u001b\u001b\u001b\u001b\u001b\n",
      "training 30 on cuda:1...5000\t           Train Loss:5.1718 Valid Loss:6200.8335\t           Train accuracy:1.0000 Valid accuracy:0.0800           \u001b\u001b\u001b\u001b\u001b\n",
      "training 40 on cuda:1...5000\t           Train Loss:5.7519 Valid Loss:7389.6821\t           Train accuracy:1.0000 Valid accuracy:0.0200           \u001b\u001b\u001b\u001b\n",
      "training 50 on cuda:1...5000\t           Train Loss:6.7911 Valid Loss:7166.8022\t           Train accuracy:1.0000 Valid accuracy:0.0000           \u001b\u001b\u001b\u001b\n",
      "          epoch: 24999/25000\t           Train Loss:4.2146 Valid Loss:6364.0298\t           Train accuracy:1.0000 Valid accuracy:0.0000           \u001b\u001b\u001b\r"
     ]
    }
   ],
   "source": [
    "return_dict = {}\n",
    "for length in range(10, 60, 10):\n",
    "    data = expermentDataloader(\n",
    "        f\"{folder}/index.csv\",\n",
    "        f\"{folder}\", \n",
    "        length=oneMinInFPS*length\n",
    "    )\n",
    "    rawData = [d for d in data]\n",
    "    featIn = len(rawData[0][0])\n",
    "    featIn = len(rawData[0][0])\n",
    "    trainValidData = []\n",
    "    testData = []\n",
    "    addData(testData, trainValidData, rawData, rhsSize=300)\n",
    "\n",
    "\n",
    "    np.random.shuffle(trainValidData)\n",
    "    trainData = []\n",
    "    validData = []\n",
    "    addData(trainData, validData, trainValidData, rhsSize=int(len(trainValidData)*(1/3)))\n",
    "\n",
    "    trainDataset = DataLoader(trainData, batch_size=batch_size, shuffle=True, num_workers=num_workers, pin_memory=True) \n",
    "    validDataset = DataLoader(validData, batch_size=batch_size, shuffle=True, num_workers=num_workers, pin_memory=True)\n",
    "    testDataset = DataLoader(testData, batch_size=len(testData), shuffle=True, num_workers=num_workers, pin_memory=True)\n",
    "\n",
    "    train(trainData=trainDataset, validData=validDataset, name=f\"{length}\", featIn=featIn, return_dict=return_dict, epochs=25000, device=device, printStatus=True, capacity=1200)"
   ]
  },
  {
   "attachments": {},
   "cell_type": "markdown",
   "metadata": {},
   "source": [
    "<pre>\n",
    "training 10 on cuda:1...5000\t           Train Loss:6.5410 Valid Loss:2969.7488\t           Train accuracy:1.0000 Valid accuracy:0.4600\n",
    "training 20 on cuda:1...5000\t           Train Loss:7.4455 Valid Loss:6505.9922\t           Train accuracy:1.0000 Valid accuracy:0.0800         \n",
    "training 30 on cuda:1...5000\t           Train Loss:8.3460 Valid Loss:6982.2554\t           Train accuracy:1.0000 Valid accuracy:0.0100       \n",
    "training 40 on cuda:1...         \n",
    "          epoch: 11603/25000\t           Train Loss:9.9520 Valid Loss:5950.2725\t           Train accuracy:1.0000 Valid accuracy:0.0000\n",
    "</pre>"
   ]
  },
  {
   "cell_type": "code",
   "execution_count": null,
   "metadata": {},
   "outputs": [
    {
     "data": {
      "text/plain": [
       "{'10': {'path': './Models/smallTrain/10.pt', 'acc': 0.34},\n",
       " '20': {'path': './Models/smallTrain/20.pt', 'acc': 0.08},\n",
       " '30': {'path': './Models/smallTrain/30.pt', 'acc': 0.02},\n",
       " '40': {'path': './Models/smallTrain/40.pt', 'acc': 0.0},\n",
       " '50': {'path': './Models/smallTrain/50.pt', 'acc': 0.0}}"
      ]
     },
     "execution_count": 12,
     "metadata": {},
     "output_type": "execute_result"
    }
   ],
   "source": [
    "return_dict"
   ]
  },
  {
   "cell_type": "code",
   "execution_count": null,
   "metadata": {},
   "outputs": [],
   "source": []
  }
 ],
 "metadata": {
  "kernelspec": {
   "display_name": "torchbenchmark",
   "language": "python",
   "name": "python3"
  },
  "language_info": {
   "codemirror_mode": {
    "name": "ipython",
    "version": 3
   },
   "file_extension": ".py",
   "mimetype": "text/x-python",
   "name": "python",
   "nbconvert_exporter": "python",
   "pygments_lexer": "ipython3",
   "version": "3.10.11"
  },
  "orig_nbformat": 4
 },
 "nbformat": 4,
 "nbformat_minor": 2
}
