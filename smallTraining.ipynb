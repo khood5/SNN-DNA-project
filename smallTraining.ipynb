{
 "cells": [
  {
   "cell_type": "code",
   "execution_count": 8,
   "metadata": {},
   "outputs": [],
   "source": [
    "import torch\n",
    "import json\n",
    "import os\n",
    "import random\n",
    "import numpy as np\n",
    "import torch\n",
    "from sklearn import preprocessing\n",
    "import torch.multiprocessing as mp\n",
    "import torch\n",
    "from torch.utils.data import DataLoader\n",
    "import copy\n",
    "from torch import nn\n",
    "%matplotlib inline\n",
    "import matplotlib.pyplot as plt\n",
    "from dnaDataloader import expermentDataloader\n",
    "from dnaDataloader import addData\n",
    "from scipy import stats as st\n",
    "from dnaModelUtil import train\n"
   ]
  },
  {
   "cell_type": "code",
   "execution_count": 9,
   "metadata": {},
   "outputs": [
    {
     "data": {
      "text/plain": [
       "device(type='cuda', index=1)"
      ]
     },
     "execution_count": 9,
     "metadata": {},
     "output_type": "execute_result"
    }
   ],
   "source": [
    "try:\n",
    "   mp.set_start_method('spawn')\n",
    "except RuntimeError:\n",
    "   pass # throws error if run twice without resetting the kernal, if its already set we dont care that this errors\n",
    "device = torch.device(\"cuda:1\" if torch.cuda.is_available() else \"cpu\")\n",
    "cpu = torch.device(\"cpu\")\n",
    "num_workers = 25\n",
    "batch_size = 25\n",
    "device"
   ]
  },
  {
   "attachments": {},
   "cell_type": "markdown",
   "metadata": {},
   "source": [
    "## Eval with small traing sets\n",
    "The goal here is to eval the model while training on small sets of data. That is how well can MLP learn from 100-200 examples of single-molecule experiments.\n",
    "A verity of samples have been provided anf preprocessed (converted from excel to csv and had empty frames added) to the folder <pre>/home/khood/GitHub/SNN-DNA-project/Prepocessing/sorted</pre>"
   ]
  },
  {
   "cell_type": "code",
   "execution_count": 10,
   "metadata": {},
   "outputs": [
    {
     "data": {
      "text/plain": [
       "42"
      ]
     },
     "execution_count": 10,
     "metadata": {},
     "output_type": "execute_result"
    }
   ],
   "source": [
    "folders = [d[0] for d in os.walk(\"/home/khood/GitHub/SNN-DNA-project/Prepocessing/sorted\")][1:] # remove first one is it is \"/home/khood/GitHub/SNN-DNA-project/Prepocessing/sorted\"\n",
    "len(folders)"
   ]
  },
  {
   "cell_type": "code",
   "execution_count": 11,
   "metadata": {},
   "outputs": [],
   "source": [
    "datasets = []\n",
    "featIn = 0\n",
    "for d in folders:\n",
    "    data = expermentDataloader(\n",
    "        f\"{d}/index.csv\",\n",
    "        f\"{d}\", \n",
    "    )\n",
    "    rawData = [d for d in data]\n",
    "    featIn = len(rawData[0][0])\n",
    "    trainValidData = []\n",
    "    testData = []\n",
    "    addData(testData, trainValidData, rawData, rhsSize=300)\n",
    "\n",
    "\n",
    "    np.random.shuffle(trainValidData)\n",
    "    trainData = []\n",
    "    validData = []\n",
    "    addData(trainData, validData, trainValidData, rhsSize=int(len(trainValidData)*(1/3)))\n",
    "\n",
    "    datasets.append({\"name\": f\"{os.path.basename(d)}\", \n",
    "                     \"train\":DataLoader(trainData, batch_size=batch_size, num_workers=num_workers, shuffle=True) , \n",
    "                     \"valid\":DataLoader(validData, batch_size=batch_size, num_workers=num_workers, shuffle=True) , \n",
    "                     \"test\":DataLoader(testData, batch_size=len(testData), num_workers=num_workers, shuffle=True) ,\n",
    "                     \"featIn\": featIn,\n",
    "                     \"model\": {}}\n",
    "                    )"
   ]
  },
  {
   "cell_type": "code",
   "execution_count": 12,
   "metadata": {},
   "outputs": [
    {
     "name": "stdout",
     "output_type": "stream",
     "text": [
      "datasets:\n",
      "{'name': '1800_nM_AR_2100', 'train': <torch.utils.data.dataloader.DataLoader object at 0x7f7769ef8190>, 'valid': <torch.utils.data.dataloader.DataLoader object at 0x7f76ccff41f0>, 'test': <torch.utils.data.dataloader.DataLoader object at 0x7f770bcc3c40>, 'featIn': 42000, 'model': {}}\n",
      "{'name': '800_nM_AR_1200', 'train': <torch.utils.data.dataloader.DataLoader object at 0x7f76602dffd0>, 'valid': <torch.utils.data.dataloader.DataLoader object at 0x7f76602781f0>, 'test': <torch.utils.data.dataloader.DataLoader object at 0x7f76602f7c70>, 'featIn': 24000, 'model': {}}\n",
      "{'name': '100_nM_AR_2100', 'train': <torch.utils.data.dataloader.DataLoader object at 0x7f78d031ad10>, 'valid': <torch.utils.data.dataloader.DataLoader object at 0x7f76602f63b0>, 'test': <torch.utils.data.dataloader.DataLoader object at 0x7f77633e7eb0>, 'featIn': 42000, 'model': {}}\n",
      "{'name': '400_nM_AR_2400', 'train': <torch.utils.data.dataloader.DataLoader object at 0x7f76602f7b80>, 'valid': <torch.utils.data.dataloader.DataLoader object at 0x7f77633e4220>, 'test': <torch.utils.data.dataloader.DataLoader object at 0x7f7763473c70>, 'featIn': 48000, 'model': {}}\n",
      "{'name': '400_nM_AR_1800', 'train': <torch.utils.data.dataloader.DataLoader object at 0x7f77633e7fa0>, 'valid': <torch.utils.data.dataloader.DataLoader object at 0x7f7763470340>, 'test': <torch.utils.data.dataloader.DataLoader object at 0x7f776349bd30>, 'featIn': 36000, 'model': {}}\n",
      "{'name': '1200_nM_AR_1200', 'train': <torch.utils.data.dataloader.DataLoader object at 0x7f7763473d30>, 'valid': <torch.utils.data.dataloader.DataLoader object at 0x7f77634981c0>, 'test': <torch.utils.data.dataloader.DataLoader object at 0x7f77634447c0>, 'featIn': 24000, 'model': {}}\n",
      "{'name': '400_nM_AR_900', 'train': <torch.utils.data.dataloader.DataLoader object at 0x7f776349bc70>, 'valid': <torch.utils.data.dataloader.DataLoader object at 0x7f7763487eb0>, 'test': <torch.utils.data.dataloader.DataLoader object at 0x7f7660283c70>, 'featIn': 18000, 'model': {}}\n",
      "{'name': '1200_nM_AR_600', 'train': <torch.utils.data.dataloader.DataLoader object at 0x7f77634841f0>, 'valid': <torch.utils.data.dataloader.DataLoader object at 0x7f77629981f0>, 'test': <torch.utils.data.dataloader.DataLoader object at 0x7f77628f01f0>, 'featIn': 12000, 'model': {}}\n",
      "{'name': '100_nM_AR_900', 'train': <torch.utils.data.dataloader.DataLoader object at 0x7f7660283d30>, 'valid': <torch.utils.data.dataloader.DataLoader object at 0x7f7660288220>, 'test': <torch.utils.data.dataloader.DataLoader object at 0x7f77628e7eb0>, 'featIn': 18000, 'model': {}}\n",
      "{'name': '1800_nM_AR_600', 'train': <torch.utils.data.dataloader.DataLoader object at 0x7f766028b910>, 'valid': <torch.utils.data.dataloader.DataLoader object at 0x7f7762c6c0d0>, 'test': <torch.utils.data.dataloader.DataLoader object at 0x7f76602e8c10>, 'featIn': 12000, 'model': {}}\n",
      "{'name': '1800_nM_AR_2400', 'train': <torch.utils.data.dataloader.DataLoader object at 0x7f76ccfd40d0>, 'valid': <torch.utils.data.dataloader.DataLoader object at 0x7f77628e7fa0>, 'test': <torch.utils.data.dataloader.DataLoader object at 0x7f76cd0640a0>, 'featIn': 48000, 'model': {}}\n",
      "{'name': '1200_nM_AR_1800', 'train': <torch.utils.data.dataloader.DataLoader object at 0x7f76ccffc040>, 'valid': <torch.utils.data.dataloader.DataLoader object at 0x7f7762c380d0>, 'test': <torch.utils.data.dataloader.DataLoader object at 0x7f76cd07ffa0>, 'featIn': 36000, 'model': {}}\n",
      "{'name': '1800_nM_AR_1800', 'train': <torch.utils.data.dataloader.DataLoader object at 0x7f76cd0647f0>, 'valid': <torch.utils.data.dataloader.DataLoader object at 0x7f76cd07c340>, 'test': <torch.utils.data.dataloader.DataLoader object at 0x7f7762c13eb0>, 'featIn': 36000, 'model': {}}\n",
      "{'name': '50_nM_AR_1200', 'train': <torch.utils.data.dataloader.DataLoader object at 0x7f76cd07fdc0>, 'valid': <torch.utils.data.dataloader.DataLoader object at 0x7f7762c10430>, 'test': <torch.utils.data.dataloader.DataLoader object at 0x7f76b0d3feb0>, 'featIn': 24000, 'model': {}}\n",
      "{'name': '100_nM_AR_1200', 'train': <torch.utils.data.dataloader.DataLoader object at 0x7f7762c13fa0>, 'valid': <torch.utils.data.dataloader.DataLoader object at 0x7f76b0d3c160>, 'test': <torch.utils.data.dataloader.DataLoader object at 0x7f76b0d5ffa0>, 'featIn': 24000, 'model': {}}\n",
      "{'name': '50_nM_AR_2400', 'train': <torch.utils.data.dataloader.DataLoader object at 0x7f76b0d3ffa0>, 'valid': <torch.utils.data.dataloader.DataLoader object at 0x7f76b0d5c430>, 'test': <torch.utils.data.dataloader.DataLoader object at 0x7f76b0d9bfa0>, 'featIn': 48000, 'model': {}}\n",
      "{'name': '100_nM_AR_600', 'train': <torch.utils.data.dataloader.DataLoader object at 0x7f76b0d5feb0>, 'valid': <torch.utils.data.dataloader.DataLoader object at 0x7f7762e201f0>, 'test': <torch.utils.data.dataloader.DataLoader object at 0x7f7762e8c1f0>, 'featIn': 12000, 'model': {}}\n",
      "{'name': '1800_nM_AR_1200', 'train': <torch.utils.data.dataloader.DataLoader object at 0x7f7762f682b0>, 'valid': <torch.utils.data.dataloader.DataLoader object at 0x7f76b0d9beb0>, 'test': <torch.utils.data.dataloader.DataLoader object at 0x7f7762eabf40>, 'featIn': 24000, 'model': {}}\n",
      "{'name': '400_nM_AR_1500', 'train': <torch.utils.data.dataloader.DataLoader object at 0x7f7762ed3eb0>, 'valid': <torch.utils.data.dataloader.DataLoader object at 0x7f7762ea81c0>, 'test': <torch.utils.data.dataloader.DataLoader object at 0x7f7762f57d30>, 'featIn': 30000, 'model': {}}\n",
      "{'name': '800_nM_AR_900', 'train': <torch.utils.data.dataloader.DataLoader object at 0x7f7762eabb80>, 'valid': <torch.utils.data.dataloader.DataLoader object at 0x7f7762f542e0>, 'test': <torch.utils.data.dataloader.DataLoader object at 0x7f7762ec3f70>, 'featIn': 18000, 'model': {}}\n",
      "{'name': '50_nM_AR_900', 'train': <torch.utils.data.dataloader.DataLoader object at 0x7f7762f57c70>, 'valid': <torch.utils.data.dataloader.DataLoader object at 0x7f7762ec0430>, 'test': <torch.utils.data.dataloader.DataLoader object at 0x7f7762ef3eb0>, 'featIn': 18000, 'model': {}}\n",
      "{'name': '400_nM_AR_2100', 'train': <torch.utils.data.dataloader.DataLoader object at 0x7f7762ec0160>, 'valid': <torch.utils.data.dataloader.DataLoader object at 0x7f7762ef0430>, 'test': <torch.utils.data.dataloader.DataLoader object at 0x7f7762cdffa0>, 'featIn': 42000, 'model': {}}\n",
      "{'name': '100_nM_AR_2400', 'train': <torch.utils.data.dataloader.DataLoader object at 0x7f7762ef3fa0>, 'valid': <torch.utils.data.dataloader.DataLoader object at 0x7f7762cdc430>, 'test': <torch.utils.data.dataloader.DataLoader object at 0x7f7762d03d30>, 'featIn': 48000, 'model': {}}\n",
      "{'name': '1800_nM_AR_1500', 'train': <torch.utils.data.dataloader.DataLoader object at 0x7f7762d040d0>, 'valid': <torch.utils.data.dataloader.DataLoader object at 0x7f7762cdfeb0>, 'test': <torch.utils.data.dataloader.DataLoader object at 0x7f7762ce2cb0>, 'featIn': 30000, 'model': {}}\n",
      "{'name': '50_nM_AR_1500', 'train': <torch.utils.data.dataloader.DataLoader object at 0x7f7762d03c70>, 'valid': <torch.utils.data.dataloader.DataLoader object at 0x7f7762ce0430>, 'test': <torch.utils.data.dataloader.DataLoader object at 0x7f7762d5feb0>, 'featIn': 30000, 'model': {}}\n",
      "{'name': '1800_nM_AR_900', 'train': <torch.utils.data.dataloader.DataLoader object at 0x7f7762ce3eb0>, 'valid': <torch.utils.data.dataloader.DataLoader object at 0x7f7762d5c430>, 'test': <torch.utils.data.dataloader.DataLoader object at 0x7f7762827eb0>, 'featIn': 18000, 'model': {}}\n",
      "{'name': '800_nM_AR_600', 'train': <torch.utils.data.dataloader.DataLoader object at 0x7f7762d5ffa0>, 'valid': <torch.utils.data.dataloader.DataLoader object at 0x7f77631780d0>, 'test': <torch.utils.data.dataloader.DataLoader object at 0x7f776286fdc0>, 'featIn': 12000, 'model': {}}\n",
      "{'name': '400_nM_AR_1200', 'train': <torch.utils.data.dataloader.DataLoader object at 0x7f7762827fa0>, 'valid': <torch.utils.data.dataloader.DataLoader object at 0x7f776286c430>, 'test': <torch.utils.data.dataloader.DataLoader object at 0x7f77633b7c70>, 'featIn': 24000, 'model': {}}\n",
      "{'name': '1200_nM_AR_1500', 'train': <torch.utils.data.dataloader.DataLoader object at 0x7f77631380d0>, 'valid': <torch.utils.data.dataloader.DataLoader object at 0x7f77633b4430>, 'test': <torch.utils.data.dataloader.DataLoader object at 0x7f776338ffa0>, 'featIn': 30000, 'model': {}}\n",
      "{'name': '1200_nM_AR_2400', 'train': <torch.utils.data.dataloader.DataLoader object at 0x7f77628c4610>, 'valid': <torch.utils.data.dataloader.DataLoader object at 0x7f77633b7d30>, 'test': <torch.utils.data.dataloader.DataLoader object at 0x7f77627f4220>, 'featIn': 48000, 'model': {}}\n",
      "{'name': '50_nM_AR_2100', 'train': <torch.utils.data.dataloader.DataLoader object at 0x7f776338feb0>, 'valid': <torch.utils.data.dataloader.DataLoader object at 0x7f77627f40d0>, 'test': <torch.utils.data.dataloader.DataLoader object at 0x7f776288ffa0>, 'featIn': 42000, 'model': {}}\n",
      "{'name': '1200_nM_AR_900', 'train': <torch.utils.data.dataloader.DataLoader object at 0x7f77627f4400>, 'valid': <torch.utils.data.dataloader.DataLoader object at 0x7f776288c220>, 'test': <torch.utils.data.dataloader.DataLoader object at 0x7f776261ffa0>, 'featIn': 18000, 'model': {}}\n",
      "{'name': '800_nM_AR_2400', 'train': <torch.utils.data.dataloader.DataLoader object at 0x7f776288feb0>, 'valid': <torch.utils.data.dataloader.DataLoader object at 0x7f776261c220>, 'test': <torch.utils.data.dataloader.DataLoader object at 0x7f7762673fa0>, 'featIn': 48000, 'model': {}}\n",
      "{'name': '800_nM_AR_1500', 'train': <torch.utils.data.dataloader.DataLoader object at 0x7f776261feb0>, 'valid': <torch.utils.data.dataloader.DataLoader object at 0x7f77626701c0>, 'test': <torch.utils.data.dataloader.DataLoader object at 0x7f77626b3fa0>, 'featIn': 30000, 'model': {}}\n",
      "{'name': '50_nM_AR_1800', 'train': <torch.utils.data.dataloader.DataLoader object at 0x7f7762673eb0>, 'valid': <torch.utils.data.dataloader.DataLoader object at 0x7f77626b01c0>, 'test': <torch.utils.data.dataloader.DataLoader object at 0x7f77625dfc70>, 'featIn': 36000, 'model': {}}\n",
      "{'name': '800_nM_AR_2100', 'train': <torch.utils.data.dataloader.DataLoader object at 0x7f77626b3eb0>, 'valid': <torch.utils.data.dataloader.DataLoader object at 0x7f77625dc2e0>, 'test': <torch.utils.data.dataloader.DataLoader object at 0x7f7763004760>, 'featIn': 42000, 'model': {}}\n",
      "{'name': '100_nM_AR_1800', 'train': <torch.utils.data.dataloader.DataLoader object at 0x7f77625dfd30>, 'valid': <torch.utils.data.dataloader.DataLoader object at 0x7f7763004400>, 'test': <torch.utils.data.dataloader.DataLoader object at 0x7f7763013eb0>, 'featIn': 36000, 'model': {}}\n",
      "{'name': '1200_nM_AR_2100', 'train': <torch.utils.data.dataloader.DataLoader object at 0x7f7763004130>, 'valid': <torch.utils.data.dataloader.DataLoader object at 0x7f77630101c0>, 'test': <torch.utils.data.dataloader.DataLoader object at 0x7f776305beb0>, 'featIn': 42000, 'model': {}}\n",
      "{'name': '800_nM_AR_1800', 'train': <torch.utils.data.dataloader.DataLoader object at 0x7f7763013fa0>, 'valid': <torch.utils.data.dataloader.DataLoader object at 0x7f7763058340>, 'test': <torch.utils.data.dataloader.DataLoader object at 0x7f776309feb0>, 'featIn': 36000, 'model': {}}\n",
      "{'name': '400_nM_AR_600', 'train': <torch.utils.data.dataloader.DataLoader object at 0x7f776305bfa0>, 'valid': <torch.utils.data.dataloader.DataLoader object at 0x7f77632b00d0>, 'test': <torch.utils.data.dataloader.DataLoader object at 0x7f77631d9cc0>, 'featIn': 12000, 'model': {}}\n",
      "{'name': '100_nM_AR_1500', 'train': <torch.utils.data.dataloader.DataLoader object at 0x7f776309ffa0>, 'valid': <torch.utils.data.dataloader.DataLoader object at 0x7f77631d8430>, 'test': <torch.utils.data.dataloader.DataLoader object at 0x7f76322f7fa0>, 'featIn': 30000, 'model': {}}\n",
      "{'name': '50_nM_AR_600', 'train': <torch.utils.data.dataloader.DataLoader object at 0x7f77632700d0>, 'valid': <torch.utils.data.dataloader.DataLoader object at 0x7f763207c1f0>, 'test': <torch.utils.data.dataloader.DataLoader object at 0x7f76320c81f0>, 'featIn': 12000, 'model': {}}\n",
      "42\n",
      "featIn: 12000\n"
     ]
    }
   ],
   "source": [
    "print(f\"datasets:\")\n",
    "for d in datasets:\n",
    "    print(d)\n",
    "print(f\"{len(datasets)}\")\n",
    "print(f\"featIn: {featIn}\")"
   ]
  },
  {
   "cell_type": "code",
   "execution_count": 13,
   "metadata": {},
   "outputs": [
    {
     "name": "stdout",
     "output_type": "stream",
     "text": [
      "-- 1800_nM_AR_2100 --\n",
      "train: 8\n",
      "valid: 4\n",
      "test : 1\n",
      "-- 800_nM_AR_1200 --\n",
      "train: 8\n",
      "valid: 4\n",
      "test : 1\n",
      "-- 100_nM_AR_2100 --\n",
      "train: 8\n",
      "valid: 4\n",
      "test : 1\n",
      "-- 400_nM_AR_2400 --\n",
      "train: 8\n",
      "valid: 4\n",
      "test : 1\n",
      "-- 400_nM_AR_1800 --\n",
      "train: 8\n",
      "valid: 4\n",
      "test : 1\n",
      "-- 1200_nM_AR_1200 --\n",
      "train: 8\n",
      "valid: 4\n",
      "test : 1\n",
      "-- 400_nM_AR_900 --\n",
      "train: 8\n",
      "valid: 4\n",
      "test : 1\n",
      "-- 1200_nM_AR_600 --\n",
      "train: 8\n",
      "valid: 4\n",
      "test : 1\n",
      "-- 100_nM_AR_900 --\n",
      "train: 8\n",
      "valid: 4\n",
      "test : 1\n",
      "-- 1800_nM_AR_600 --\n",
      "train: 8\n",
      "valid: 4\n",
      "test : 1\n",
      "-- 1800_nM_AR_2400 --\n",
      "train: 8\n",
      "valid: 4\n",
      "test : 1\n",
      "-- 1200_nM_AR_1800 --\n",
      "train: 8\n",
      "valid: 4\n",
      "test : 1\n",
      "-- 1800_nM_AR_1800 --\n",
      "train: 8\n",
      "valid: 4\n",
      "test : 1\n",
      "-- 50_nM_AR_1200 --\n",
      "train: 8\n",
      "valid: 4\n",
      "test : 1\n",
      "-- 100_nM_AR_1200 --\n",
      "train: 8\n",
      "valid: 4\n",
      "test : 1\n",
      "-- 50_nM_AR_2400 --\n",
      "train: 8\n",
      "valid: 4\n",
      "test : 1\n",
      "-- 100_nM_AR_600 --\n",
      "train: 8\n",
      "valid: 4\n",
      "test : 1\n",
      "-- 1800_nM_AR_1200 --\n",
      "train: 8\n",
      "valid: 4\n",
      "test : 1\n",
      "-- 400_nM_AR_1500 --\n",
      "train: 8\n",
      "valid: 4\n",
      "test : 1\n",
      "-- 800_nM_AR_900 --\n",
      "train: 8\n",
      "valid: 4\n",
      "test : 1\n",
      "-- 50_nM_AR_900 --\n",
      "train: 8\n",
      "valid: 4\n",
      "test : 1\n",
      "-- 400_nM_AR_2100 --\n",
      "train: 8\n",
      "valid: 4\n",
      "test : 1\n",
      "-- 100_nM_AR_2400 --\n",
      "train: 8\n",
      "valid: 4\n",
      "test : 1\n",
      "-- 1800_nM_AR_1500 --\n",
      "train: 8\n",
      "valid: 4\n",
      "test : 1\n",
      "-- 50_nM_AR_1500 --\n",
      "train: 8\n",
      "valid: 4\n",
      "test : 1\n",
      "-- 1800_nM_AR_900 --\n",
      "train: 8\n",
      "valid: 4\n",
      "test : 1\n",
      "-- 800_nM_AR_600 --\n",
      "train: 8\n",
      "valid: 4\n",
      "test : 1\n",
      "-- 400_nM_AR_1200 --\n",
      "train: 8\n",
      "valid: 4\n",
      "test : 1\n",
      "-- 1200_nM_AR_1500 --\n",
      "train: 8\n",
      "valid: 4\n",
      "test : 1\n",
      "-- 1200_nM_AR_2400 --\n",
      "train: 8\n",
      "valid: 4\n",
      "test : 1\n",
      "-- 50_nM_AR_2100 --\n",
      "train: 8\n",
      "valid: 4\n",
      "test : 1\n",
      "-- 1200_nM_AR_900 --\n",
      "train: 8\n",
      "valid: 4\n",
      "test : 1\n",
      "-- 800_nM_AR_2400 --\n",
      "train: 8\n",
      "valid: 4\n",
      "test : 1\n",
      "-- 800_nM_AR_1500 --\n",
      "train: 8\n",
      "valid: 4\n",
      "test : 1\n",
      "-- 50_nM_AR_1800 --\n",
      "train: 8\n",
      "valid: 4\n",
      "test : 1\n",
      "-- 800_nM_AR_2100 --\n",
      "train: 8\n",
      "valid: 4\n",
      "test : 1\n",
      "-- 100_nM_AR_1800 --\n",
      "train: 8\n",
      "valid: 4\n",
      "test : 1\n",
      "-- 1200_nM_AR_2100 --\n",
      "train: 8\n",
      "valid: 4\n",
      "test : 1\n",
      "-- 800_nM_AR_1800 --\n",
      "train: 8\n",
      "valid: 4\n",
      "test : 1\n",
      "-- 400_nM_AR_600 --\n",
      "train: 8\n",
      "valid: 4\n",
      "test : 1\n",
      "-- 100_nM_AR_1500 --\n",
      "train: 8\n",
      "valid: 4\n",
      "test : 1\n",
      "-- 50_nM_AR_600 --\n",
      "train: 8\n",
      "valid: 4\n",
      "test : 1\n"
     ]
    }
   ],
   "source": [
    "for d in datasets:\n",
    "    print(f\"-- {d['name']} --\")\n",
    "    print(f\"train: {len(d['train'])}\")\n",
    "    print(f\"valid: {len(d['valid'])}\")\n",
    "    print(f\"test : {len(d['test'])}\")"
   ]
  },
  {
   "cell_type": "code",
   "execution_count": 14,
   "metadata": {},
   "outputs": [
    {
     "data": {
      "text/plain": [
       "{'name': '1800_nM_AR_2100',\n",
       " 'train': <torch.utils.data.dataloader.DataLoader at 0x7f7769ef8190>,\n",
       " 'valid': <torch.utils.data.dataloader.DataLoader at 0x7f76ccff41f0>,\n",
       " 'test': <torch.utils.data.dataloader.DataLoader at 0x7f770bcc3c40>,\n",
       " 'featIn': 42000,\n",
       " 'model': {}}"
      ]
     },
     "execution_count": 14,
     "metadata": {},
     "output_type": "execute_result"
    }
   ],
   "source": [
    "datasets[0]"
   ]
  },
  {
   "cell_type": "code",
   "execution_count": 7,
   "metadata": {},
   "outputs": [],
   "source": [
    "manager = mp.Manager()\n",
    "return_dict = manager.dict()"
   ]
  },
  {
   "cell_type": "code",
   "execution_count": 8,
   "metadata": {},
   "outputs": [
    {
     "data": {
      "text/plain": [
       "[<Process name='Process-2' parent=1575574 initial>,\n",
       " <Process name='Process-3' parent=1575574 initial>,\n",
       " <Process name='Process-4' parent=1575574 initial>,\n",
       " <Process name='Process-5' parent=1575574 initial>,\n",
       " <Process name='Process-6' parent=1575574 initial>,\n",
       " <Process name='Process-7' parent=1575574 initial>]"
      ]
     },
     "execution_count": 8,
     "metadata": {},
     "output_type": "execute_result"
    }
   ],
   "source": [
    "processes = []\n",
    "devices = [torch.device(\"cuda:0\"),torch.device(\"cuda:1\"),torch.device(\"cuda:2\"),torch.device(\"cuda:3\")]\n",
    "epochs = 10000\n",
    "error_margin = 20\n",
    "for d in datasets:\n",
    "    processes.append(mp.Process(target=train, args=(d[\"train\"], d[\"valid\"], d[\"name\"], d[\"featIn\"], return_dict, epochs, error_margin, devices[0])))\n",
    "    devices.append(devices.pop(0))\n",
    "    \n",
    "processes"
   ]
  },
  {
   "cell_type": "code",
   "execution_count": 9,
   "metadata": {},
   "outputs": [
    {
     "name": "stdout",
     "output_type": "stream",
     "text": [
      "{}\n"
     ]
    }
   ],
   "source": [
    "print(return_dict)"
   ]
  },
  {
   "cell_type": "code",
   "execution_count": 10,
   "metadata": {},
   "outputs": [
    {
     "name": "stdout",
     "output_type": "stream",
     "text": [
      "training 1800_nM_AR_out on cuda:0...\n",
      "training 800_nM_AR_out on cuda:1...\n",
      "training 1200_nM_AR_out on cuda:2...\n",
      "training 400_nM_AR_out on cuda:3...\n",
      "training 50_nM_AR_out on cuda:0...\n",
      "training 100_nM_AR_out on cuda:1...\n",
      "{'1800_nM_AR_out': {'path': './Models/smallTrain/1800_nM_AR_out.pt', 'acc': 0.54}, '800_nM_AR_out': {'path': './Models/smallTrain/800_nM_AR_out.pt', 'acc': 0.37000000000000005}, '1200_nM_AR_out': {'path': './Models/smallTrain/1200_nM_AR_out.pt', 'acc': 0.53}, '400_nM_AR_out': {'path': './Models/smallTrain/400_nM_AR_out.pt', 'acc': 0.43000000000000005}, '50_nM_AR_out': {'path': './Models/smallTrain/50_nM_AR_out.pt', 'acc': 0.8500000000000001}, '100_nM_AR_out': {'path': './Models/smallTrain/100_nM_AR_out.pt', 'acc': 0.52}}\n"
     ]
    }
   ],
   "source": [
    "processesList = list(range(len(processes)))\n",
    "\n",
    "while processesList:\n",
    "    run = processesList[:4]\n",
    "    processesList = processesList[4:]\n",
    "    for i in run:\n",
    "        processes[i].start()\n",
    "    for i in run:\n",
    "        processes[i].join()\n",
    "        processes[i].terminate()\n",
    "print(return_dict)"
   ]
  },
  {
   "cell_type": "code",
   "execution_count": 11,
   "metadata": {},
   "outputs": [],
   "source": [
    "results = dict(return_dict)\n",
    "with open(\"./Models/smallTrain/results.json\", 'w') as file:\n",
    "    json_object = json.dumps(results, indent=4)\n",
    "    file.write(json_object)"
   ]
  }
 ],
 "metadata": {
  "kernelspec": {
   "display_name": "dna",
   "language": "python",
   "name": "python3"
  },
  "language_info": {
   "codemirror_mode": {
    "name": "ipython",
    "version": 3
   },
   "file_extension": ".py",
   "mimetype": "text/x-python",
   "name": "python",
   "nbconvert_exporter": "python",
   "pygments_lexer": "ipython3",
   "version": "3.10.9"
  },
  "orig_nbformat": 4
 },
 "nbformat": 4,
 "nbformat_minor": 2
}
