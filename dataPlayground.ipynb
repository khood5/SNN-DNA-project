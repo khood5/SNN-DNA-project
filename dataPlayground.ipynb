{
 "cells": [
  {
   "cell_type": "code",
   "execution_count": 1,
   "metadata": {},
   "outputs": [
    {
     "data": {
      "text/plain": [
       "device(type='cuda', index=1)"
      ]
     },
     "execution_count": 1,
     "metadata": {},
     "output_type": "execute_result"
    }
   ],
   "source": [
    "import pandas as pd\n",
    "import os\n",
    "import h5py\n",
    "import numpy as np\n",
    "import matplotlib.pyplot as plt\n",
    "import torch\n",
    "from torch.utils.data import Dataset, DataLoader\n",
    "import IPython.display as display\n",
    "from matplotlib import animation\n",
    "import torch\n",
    "from torch.utils.data import DataLoader\n",
    "import copy\n",
    "from torch import nn\n",
    "%matplotlib inline\n",
    "import matplotlib.pyplot as plt\n",
    "import random\n",
    "from scipy import stats as st\n",
    "from dnaDataloader import expermentDataloader\n",
    "from dnaDataloader import addData\n",
    "device = torch.device(\"cuda:1\" if torch.cuda.is_available() else \"cpu\")\n",
    "device"
   ]
  },
  {
   "attachments": {},
   "cell_type": "markdown",
   "metadata": {},
   "source": [
    "# Single-molecule experiment prediction model\n",
    "\n",
    "This notebook is the step by step development process for making a SNN to predict the reactivity level and number of reactions in Single-molecule experiments\n",
    "Data is provided via the Kent State University chemistry department. The model development is provided by the Kent State University computer science department\n",
    "\n",
    "<table style=\"border:none;padding: 10px;margin: auto;\">\n",
    "    <tr style=\"border:none;padding: 10px;margin: auto;\">\n",
    "<td style=\"border:none;padding: 10px;margin: auto;\">\n",
    "    <b>Contacts from the chem dept.</b><br>\n",
    "            Li Zuo <br>\n",
    "            Email: lzuo4@kent.edu <br>\n",
    "            Office: 303B Willems Hall (ISB) <br>\n",
    "            <br>\n",
    "            Dr. Hao Shen<br>\n",
    "            Email: hshen7@kent.edu<br>\n",
    "        </td>\n",
    "        <td style=\"border:none;padding: 10px;margin: auto;\">\n",
    "            <b>Contacts from the CS dept.</b><br>\n",
    "    Kendric Hood<br>\n",
    "            Email: khood5@kent.edu<br>\n",
    "            Office: 160 Math and Science Building (MSB)<br>\n",
    "            <br>\n",
    "            Dr. Qiang Guan <br>\n",
    "            Email: qguan@kent.edu<br>\n",
    "        </td>\n",
    "    </tr>\n",
    "</table>"
   ]
  },
  {
   "attachments": {},
   "cell_type": "markdown",
   "metadata": {},
   "source": [
    "Working with data from <code>Prepocessing/data/</code> should have folder for each experment setup (in terms of disctance of magnent in mm). Each folder should have a list of events and their frame numbers as excel file. Events are recorded as events per 0.05 secs. The raw excel files are converted to CSV files with preprocess.py.\n",
    "\n",
    "The processed file are shorted versions of the orignal files, i.e. its only the first X secs. These csv files have a 1 or a 0 for each 0.05 sec inteval. 1 means event 0 menas no event.  The index file has the list of each processed file path and the target (total number of events) they are in. "
   ]
  },
  {
   "attachments": {},
   "cell_type": "markdown",
   "metadata": {},
   "source": [
    "- ran for 20 mins ~ 12000 frames\n",
    "<table>\n",
    "    <tr>\n",
    "        <td> folder </td><td>total number of files</td>\n",
    "    </tr>\n",
    "    <tr>\n",
    "        <td> 1.5mm_35.14pN </td><td>27</td>\n",
    "    </tr>\n",
    "    <tr>\n",
    "        <td> 2mm_22.6pN </td><td>29</td>\n",
    "    </tr>\n",
    "    <tr>\n",
    "        <td> 3mm_9.24pN </td><td>16</td>\n",
    "    </tr>\n",
    "    <tr>\n",
    "        <td> 5mm_1.46pN </td><td>63</td>\n",
    "    </tr>\n",
    "    <tr>\n",
    "        <td> 9mm_0.002pN </td><td>21</td>\n",
    "    </tr>\n",
    "</table>\n",
    " Total number of examples <em>156</em>"
   ]
  },
  {
   "cell_type": "code",
   "execution_count": 2,
   "metadata": {},
   "outputs": [
    {
     "name": "stdout",
     "output_type": "stream",
     "text": [
      "datasetlow:56\n",
      "datasetmedium:16\n",
      "datasetHigh:84\n",
      "Total: 156\n"
     ]
    }
   ],
   "source": [
    "datasetlow = expermentDataloader(\n",
    "    \"/home/khood/GitHub/SNN-DNA-project/Prepocessing/data/seperatedData/low/index.csv\",\n",
    "    \"/home/khood/GitHub/SNN-DNA-project/Prepocessing/data/seperatedData/low\", \n",
    ")\n",
    "datasetmedium = expermentDataloader(\n",
    "    \"/home/khood/GitHub/SNN-DNA-project/Prepocessing/data/seperatedData/medium/index.csv\",\n",
    "    \"/home/khood/GitHub/SNN-DNA-project/Prepocessing/data/seperatedData/medium\", \n",
    ")\n",
    "datasetHigh = expermentDataloader(\n",
    "    \"/home/khood/GitHub/SNN-DNA-project/Prepocessing/data/seperatedData/high/index.csv\",\n",
    "    \"/home/khood/GitHub/SNN-DNA-project/Prepocessing/data/seperatedData/high\", \n",
    ")\n",
    "\n",
    "print(f\"datasetlow:{len(datasetlow)}\")\n",
    "print(f\"datasetmedium:{len(datasetmedium)}\")\n",
    "print(f\"datasetHigh:{len(datasetHigh)}\")\n",
    "print(f\"Total: {len(datasetlow) + len(datasetmedium) + len(datasetHigh)}\")"
   ]
  },
  {
   "cell_type": "code",
   "execution_count": 3,
   "metadata": {},
   "outputs": [
    {
     "data": {
      "text/plain": [
       "[339,\n",
       " 296,\n",
       " 303,\n",
       " 283,\n",
       " 337,\n",
       " 301,\n",
       " 305,\n",
       " 342,\n",
       " 310,\n",
       " 321,\n",
       " 321,\n",
       " 298,\n",
       " 392,\n",
       " 328,\n",
       " 379,\n",
       " 340,\n",
       " 340,\n",
       " 285,\n",
       " 274,\n",
       " 285,\n",
       " 282,\n",
       " 105,\n",
       " 51,\n",
       " 297,\n",
       " 191,\n",
       " 352,\n",
       " 238,\n",
       " 80,\n",
       " 303,\n",
       " 167,\n",
       " 103,\n",
       " 107,\n",
       " 184,\n",
       " 379,\n",
       " 55,\n",
       " 89,\n",
       " 484,\n",
       " 535,\n",
       " 262,\n",
       " 113,\n",
       " 501,\n",
       " 196,\n",
       " 179,\n",
       " 488,\n",
       " 165,\n",
       " 327,\n",
       " 710,\n",
       " 135,\n",
       " 87,\n",
       " 167,\n",
       " 133,\n",
       " 258,\n",
       " 635,\n",
       " 224,\n",
       " 53,\n",
       " 538,\n",
       " 462,\n",
       " 311,\n",
       " 187,\n",
       " 219,\n",
       " 57,\n",
       " 34,\n",
       " 165,\n",
       " 446,\n",
       " 175,\n",
       " 219,\n",
       " 363,\n",
       " 243,\n",
       " 375,\n",
       " 413,\n",
       " 210,\n",
       " 155,\n",
       " 342,\n",
       " 252,\n",
       " 55,\n",
       " 234,\n",
       " 336,\n",
       " 248,\n",
       " 90,\n",
       " 93,\n",
       " 228,\n",
       " 61,\n",
       " 280,\n",
       " 456]"
      ]
     },
     "execution_count": 3,
     "metadata": {},
     "output_type": "execute_result"
    }
   ],
   "source": [
    "highTargets = [i[1][0] for i in datasetHigh]\n",
    "mediumTargets = [i[1][0] for i in datasetmedium]\n",
    "lowTargets = [i[1][0] for i in datasetlow]\n",
    "highTargets"
   ]
  },
  {
   "cell_type": "code",
   "execution_count": 4,
   "metadata": {},
   "outputs": [],
   "source": [
    "def averageDiff(data: list):\n",
    "    diffs = []\n",
    "    while data:\n",
    "        point = data.pop()\n",
    "        for i in data:\n",
    "            diffs.append(abs(point - i))\n",
    "    return np.sum(diffs)/len(diffs)"
   ]
  },
  {
   "cell_type": "code",
   "execution_count": 5,
   "metadata": {},
   "outputs": [],
   "source": [
    "def printStats(data: list):\n",
    "    print(\"+------------------\")\n",
    "    print(f\"| total number of experments: {len(data)}\")\n",
    "    print(f\"| min: {np.min(data)}\")\n",
    "    print(f\"| max: {np.max(data)}\")\n",
    "    print(f\"| average: {np.average(data)}\")\n",
    "    print(f\"| median: {np.median(data)}\")\n",
    "    print(f\"| mode: {st.mode(data, keepdims=False)}\")\n",
    "    print(f\"| average difference: {averageDiff(data)}\")\n",
    "    print(\"+------------------\")"
   ]
  },
  {
   "cell_type": "code",
   "execution_count": 6,
   "metadata": {},
   "outputs": [
    {
     "name": "stdout",
     "output_type": "stream",
     "text": [
      "High\n",
      "+------------------\n",
      "| total number of experments: 84\n",
      "| min: 34\n",
      "| max: 710\n",
      "| average: 265.01190476190476\n",
      "| median: 277.0\n",
      "| mode: ModeResult(mode=55, count=2)\n",
      "| average difference: 156.210843373494\n",
      "+------------------\n",
      "Medium\n",
      "+------------------\n",
      "| total number of experments: 16\n",
      "| min: 20\n",
      "| max: 172\n",
      "| average: 107.25\n",
      "| median: 127.0\n",
      "| mode: ModeResult(mode=132, count=2)\n",
      "| average difference: 55.6\n",
      "+------------------\n",
      "Low\n",
      "+------------------\n",
      "| total number of experments: 56\n",
      "| min: 13\n",
      "| max: 93\n",
      "| average: 35.42857142857143\n",
      "| median: 30.5\n",
      "| mode: ModeResult(mode=29, count=4)\n",
      "| average difference: 16.967532467532468\n",
      "+------------------\n"
     ]
    },
    {
     "data": {
      "image/png": "[encoded data removed]",
      "text/plain": [
       "<Figure size 640x480 with 1 Axes>"
      ]
     },
     "metadata": {},
     "output_type": "display_data"
    }
   ],
   "source": [
    "plt.plot(list(range(len(highTargets))), highTargets, '.', color='red', label=\"highTargets\")\n",
    "plt.plot(list(range(len(mediumTargets))), mediumTargets, 'x', color='green', label=\"mediumTargets\")\n",
    "plt.plot(list(range(len(lowTargets))), lowTargets, '+', color='blue', label=\"lowTargets\")\n",
    "plt.legend(numpoints=1)\n",
    "print(\"High\")\n",
    "printStats(highTargets)\n",
    "print(\"Medium\")\n",
    "printStats(mediumTargets)\n",
    "print(\"Low\")\n",
    "printStats(lowTargets)"
   ]
  },
  {
   "attachments": {},
   "cell_type": "markdown",
   "metadata": {},
   "source": [
    "## Working with new data\n",
    "\n",
    "- ran for 1 hour ~ 72000 frames\n",
    "<table>\n",
    "    <tr>\n",
    "        <td> folder </td><td>total number of files</td>\n",
    "    </tr>\n",
    "    <tr>\n",
    "        <td> 50_nM_AR </td><td>640</td>\n",
    "    </tr>\n",
    "    <tr>\n",
    "        <td> 100_nM_AR </td><td>499</td>\n",
    "    </tr>\n",
    "    <tr>\n",
    "        <td> 400_nM_AR </td><td>477</td>\n",
    "    </tr>\n",
    "    <tr>\n",
    "        <td> 800_nM_AR </td><td>564</td>\n",
    "    </tr>\n",
    "    <tr>\n",
    "        <td> 1200_nM_AR </td><td>794</td>\n",
    "    </tr>\n",
    "    <tr>\n",
    "        <td> 1800_nM_AR </td><td>888</td>\n",
    "    </tr>\n",
    "</table>\n",
    " Total number of examples <em>3862</em>"
   ]
  },
  {
   "cell_type": "code",
   "execution_count": 7,
   "metadata": {},
   "outputs": [
    {
     "name": "stdout",
     "output_type": "stream",
     "text": [
      "datasetLarge:3862\n"
     ]
    }
   ],
   "source": [
    "datasetLarge = expermentDataloader(\n",
    "    \"/home/khood/GitHub/SNN-DNA-project/Prepocessing/large_dataset/allData/index.csv\",\n",
    "    \"/home/khood/GitHub/SNN-DNA-project/Prepocessing/large_dataset/allData/\", \n",
    ")\n",
    "print(f\"datasetLarge:{len(datasetLarge)}\")"
   ]
  },
  {
   "cell_type": "code",
   "execution_count": 8,
   "metadata": {},
   "outputs": [
    {
     "name": "stdout",
     "output_type": "stream",
     "text": [
      "Large Dataset\n",
      "+------------------\n",
      "| total number of experments: 3862\n",
      "| min: 35\n",
      "| max: 382\n",
      "| average: 83.42050750906266\n",
      "| median: 68.0\n",
      "| mode: ModeResult(mode=51, count=83)\n",
      "| average difference: 45.66128694559559\n",
      "+------------------\n"
     ]
    },
    {
     "data": {
      "image/png": "[encoded data removed]",
      "text/plain": [
       "<Figure size 640x480 with 1 Axes>"
      ]
     },
     "metadata": {},
     "output_type": "display_data"
    }
   ],
   "source": [
    "targets = [i[1][0] for i in datasetLarge]\n",
    "plt.plot(list(range(len(targets))), targets, '.', color='black', label=\"targets\")\n",
    "plt.legend(numpoints=1)\n",
    "print(\"Large Dataset\")\n",
    "printStats(targets)"
   ]
  },
  {
   "cell_type": "code",
   "execution_count": 11,
   "metadata": {},
   "outputs": [
    {
     "data": {
      "text/plain": [
       "12000"
      ]
     },
     "execution_count": 11,
     "metadata": {},
     "output_type": "execute_result"
    }
   ],
   "source": [
    "len(datasetLarge[0][0])"
   ]
  },
  {
   "cell_type": "code",
   "execution_count": null,
   "metadata": {},
   "outputs": [],
   "source": []
  }
 ],
 "metadata": {
  "kernelspec": {
   "display_name": "dna",
   "language": "python",
   "name": "python3"
  },
  "language_info": {
   "codemirror_mode": {
    "name": "ipython",
    "version": 3
   },
   "file_extension": ".py",
   "mimetype": "text/x-python",
   "name": "python",
   "nbconvert_exporter": "python",
   "pygments_lexer": "ipython3",
   "version": "3.10.9"
  },
  "orig_nbformat": 4
 },
 "nbformat": 4,
 "nbformat_minor": 2
}
