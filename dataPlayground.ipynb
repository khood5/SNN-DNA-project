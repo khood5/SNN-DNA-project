{
 "cells": [
  {
   "cell_type": "code",
   "execution_count": 2,
   "metadata": {},
   "outputs": [
    {
     "data": {
      "text/plain": [
       "device(type='cuda', index=1)"
      ]
     },
     "execution_count": 2,
     "metadata": {},
     "output_type": "execute_result"
    }
   ],
   "source": [
    "import pandas as pd\n",
    "import os\n",
    "import h5py\n",
    "import numpy as np\n",
    "import matplotlib.pyplot as plt\n",
    "import torch\n",
    "from torch.utils.data import Dataset, DataLoader\n",
    "import IPython.display as display\n",
    "from matplotlib import animation\n",
    "import torch\n",
    "from torch.utils.data import DataLoader\n",
    "import copy\n",
    "from torch import nn\n",
    "%matplotlib inline\n",
    "import matplotlib.pyplot as plt\n",
    "import random\n",
    "from scipy import stats as st\n",
    "device = torch.device(\"cuda:1\" if torch.cuda.is_available() else \"cpu\")\n",
    "device"
   ]
  },
  {
   "cell_type": "code",
   "execution_count": 3,
   "metadata": {},
   "outputs": [],
   "source": [
    "class expermentDataloader(Dataset):\n",
    "    def __init__(\n",
    "        self,\n",
    "        index_file: str, \n",
    "        data_path: str,\n",
    "        startIndex = 0,\n",
    "        endIndex = -1\n",
    "    ):\n",
    "        self.root_dir = data_path\n",
    "        self.expermentSikeTrainsIndex = np.array(pd.read_csv(index_file,header=None))[startIndex:endIndex]\n",
    "        self.spikeTrains = [\n",
    "            f\"{os.path.join(self.expermentSikeTrainsIndex[i][0])}\" for i in range(len(self.expermentSikeTrainsIndex)) \n",
    "        ]\n",
    "        self.targets = self.expermentSikeTrainsIndex[:, 1]\n",
    "\n",
    "    def __getitem__(self, index):\n",
    "        inputCSVlines = pd.read_csv(os.path.join(self.root_dir,self.spikeTrains[index]), header=None).to_numpy()\n",
    "        targetCSVLines = self.targets[index]\n",
    "        return inputCSVlines.flatten(), np.array([targetCSVLines])\n",
    "\n",
    "    def __len__(self):\n",
    "        return len(self.expermentSikeTrainsIndex)"
   ]
  },
  {
   "cell_type": "code",
   "execution_count": 4,
   "metadata": {},
   "outputs": [
    {
     "name": "stdout",
     "output_type": "stream",
     "text": [
      "datasetlow:56\n",
      "datasetmedium:16\n",
      "datasetHigh:83\n",
      "Total: 155\n"
     ]
    }
   ],
   "source": [
    "datasetlow = expermentDataloader(\n",
    "    \"/home/khood/GitHub/SNN-DNA-project/Prepocessing/data/seperatedData/low/index.csv\",\n",
    "    \"/home/khood/GitHub/SNN-DNA-project/Prepocessing/data/seperatedData/low\", \n",
    "    startIndex=0, endIndex=70\n",
    ")\n",
    "datasetmedium = expermentDataloader(\n",
    "    \"/home/khood/GitHub/SNN-DNA-project/Prepocessing/data/seperatedData/medium/index.csv\",\n",
    "    \"/home/khood/GitHub/SNN-DNA-project/Prepocessing/data/seperatedData/medium\", \n",
    "    startIndex=0, endIndex=60)\n",
    "\n",
    "datasetHigh = expermentDataloader(\n",
    "    \"/home/khood/GitHub/SNN-DNA-project/Prepocessing/data/seperatedData/high/index.csv\",\n",
    "    \"/home/khood/GitHub/SNN-DNA-project/Prepocessing/data/seperatedData/high\", \n",
    "    startIndex=0, endIndex=-1\n",
    ")\n",
    "\n",
    "print(f\"datasetlow:{len(datasetlow)}\")\n",
    "print(f\"datasetmedium:{len(datasetmedium)}\")\n",
    "print(f\"datasetHigh:{len(datasetHigh)}\")\n",
    "print(f\"Total: {len(datasetlow) + len(datasetmedium) + len(datasetHigh)}\")"
   ]
  },
  {
   "cell_type": "code",
   "execution_count": 5,
   "metadata": {},
   "outputs": [
    {
     "data": {
      "text/plain": [
       "[339,\n",
       " 296,\n",
       " 303,\n",
       " 283,\n",
       " 337,\n",
       " 301,\n",
       " 305,\n",
       " 342,\n",
       " 310,\n",
       " 321,\n",
       " 321,\n",
       " 298,\n",
       " 392,\n",
       " 328,\n",
       " 379,\n",
       " 340,\n",
       " 340,\n",
       " 285,\n",
       " 274,\n",
       " 285,\n",
       " 282,\n",
       " 105,\n",
       " 51,\n",
       " 297,\n",
       " 191,\n",
       " 352,\n",
       " 238,\n",
       " 80,\n",
       " 303,\n",
       " 167,\n",
       " 103,\n",
       " 107,\n",
       " 184,\n",
       " 379,\n",
       " 55,\n",
       " 89,\n",
       " 484,\n",
       " 535,\n",
       " 262,\n",
       " 113,\n",
       " 501,\n",
       " 196,\n",
       " 179,\n",
       " 488,\n",
       " 165,\n",
       " 327,\n",
       " 710,\n",
       " 135,\n",
       " 87,\n",
       " 167,\n",
       " 133,\n",
       " 258,\n",
       " 635,\n",
       " 224,\n",
       " 53,\n",
       " 538,\n",
       " 462,\n",
       " 311,\n",
       " 187,\n",
       " 219,\n",
       " 57,\n",
       " 34,\n",
       " 165,\n",
       " 446,\n",
       " 175,\n",
       " 219,\n",
       " 363,\n",
       " 243,\n",
       " 375,\n",
       " 413,\n",
       " 210,\n",
       " 155,\n",
       " 342,\n",
       " 252,\n",
       " 55,\n",
       " 234,\n",
       " 336,\n",
       " 248,\n",
       " 90,\n",
       " 93,\n",
       " 228,\n",
       " 61,\n",
       " 280]"
      ]
     },
     "execution_count": 5,
     "metadata": {},
     "output_type": "execute_result"
    }
   ],
   "source": [
    "highTargets = [i[1][0] for i in datasetHigh]\n",
    "mediumTargets = [i[1][0] for i in datasetmedium]\n",
    "lowTargets = [i[1][0] for i in datasetlow]\n",
    "highTargets"
   ]
  },
  {
   "cell_type": "code",
   "execution_count": 6,
   "metadata": {},
   "outputs": [],
   "source": [
    "def printStats(data: list):\n",
    "    print(\"+------------------\")\n",
    "    print(f\"| total number of experments: {len(data)}\")\n",
    "    print(f\"| min: {np.min(data)}\")\n",
    "    print(f\"| max: {np.max(data)}\")\n",
    "    print(f\"| average: {np.average(data)}\")\n",
    "    print(f\"| median: {np.median(data)}\")\n",
    "    print(f\"| mode: {st.mode(data, keepdims=False)}\")\n",
    "    print(\"+------------------\")"
   ]
  },
  {
   "cell_type": "code",
   "execution_count": 7,
   "metadata": {},
   "outputs": [
    {
     "name": "stdout",
     "output_type": "stream",
     "text": [
      "High\n",
      "+------------------\n",
      "| total number of experments: 83\n",
      "| min: 34\n",
      "| max: 710\n",
      "| average: 262.71084337349396\n",
      "| median: 274.0\n",
      "| mode: ModeResult(mode=55, count=2)\n",
      "+------------------\n",
      "Medium\n",
      "+------------------\n",
      "| total number of experments: 16\n",
      "| min: 20\n",
      "| max: 172\n",
      "| average: 107.25\n",
      "| median: 127.0\n",
      "| mode: ModeResult(mode=132, count=2)\n",
      "+------------------\n",
      "Low\n",
      "+------------------\n",
      "| total number of experments: 56\n",
      "| min: 13\n",
      "| max: 93\n",
      "| average: 35.42857142857143\n",
      "| median: 30.5\n",
      "| mode: ModeResult(mode=29, count=4)\n",
      "+------------------\n"
     ]
    },
    {
     "data": {
      "image/png": "[encoded data removed]",
      "text/plain": [
       "<Figure size 640x480 with 1 Axes>"
      ]
     },
     "metadata": {},
     "output_type": "display_data"
    }
   ],
   "source": [
    "plt.plot(list(range(len(highTargets))), highTargets, '.', color='red', label=\"highTargets\")\n",
    "plt.plot(list(range(len(mediumTargets))), mediumTargets, 'x', color='green', label=\"mediumTargets\")\n",
    "plt.plot(list(range(len(lowTargets))), lowTargets, '+', color='blue', label=\"lowTargets\")\n",
    "plt.legend(numpoints=1)\n",
    "print(\"High\")\n",
    "printStats(highTargets)\n",
    "print(\"Medium\")\n",
    "printStats(mediumTargets)\n",
    "print(\"Low\")\n",
    "printStats(lowTargets)"
   ]
  },
  {
   "attachments": {},
   "cell_type": "markdown",
   "metadata": {},
   "source": [
    "## Working with new data\n",
    "\n",
    "- ran for 1 hour ~ 72000 frames"
   ]
  },
  {
   "cell_type": "code",
   "execution_count": null,
   "metadata": {},
   "outputs": [],
   "source": []
  }
 ],
 "metadata": {
  "kernelspec": {
   "display_name": "dna",
   "language": "python",
   "name": "python3"
  },
  "language_info": {
   "codemirror_mode": {
    "name": "ipython",
    "version": 3
   },
   "file_extension": ".py",
   "mimetype": "text/x-python",
   "name": "python",
   "nbconvert_exporter": "python",
   "pygments_lexer": "ipython3",
   "version": "3.10.9"
  },
  "orig_nbformat": 4
 },
 "nbformat": 4,
 "nbformat_minor": 2
}
