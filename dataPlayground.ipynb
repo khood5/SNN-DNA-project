{
 "cells": [
  {
   "cell_type": "code",
   "execution_count": 61,
   "metadata": {},
   "outputs": [
    {
     "data": {
      "text/plain": [
       "device(type='cuda', index=1)"
      ]
     },
     "execution_count": 61,
     "metadata": {},
     "output_type": "execute_result"
    }
   ],
   "source": [
    "import os\n",
    "import numpy as np\n",
    "import matplotlib.pyplot as plt\n",
    "import torch\n",
    "import torch\n",
    "import copy\n",
    "%matplotlib inline\n",
    "import matplotlib.pyplot as plt\n",
    "from sklearn import preprocessing\n",
    "from scipy import stats as st\n",
    "from dnaDataloader import expermentDataloader\n",
    "import os\n",
    "import random\n",
    "import matplotlib.colors as mcolors\n",
    "from IPython.core.interactiveshell import InteractiveShell\n",
    "device = torch.device(\"cuda:1\" if torch.cuda.is_available() else \"cpu\")\n",
    "device"
   ]
  },
  {
   "attachments": {},
   "cell_type": "markdown",
   "metadata": {},
   "source": [
    "# Single-molecule experiment prediction model\n",
    "\n",
    "This notebook is the step by step development process for making a SNN to predict the reactivity level and number of reactions in Single-molecule experiments\n",
    "Data is provided via the Kent State University chemistry department. The model development is provided by the Kent State University computer science department\n",
    "\n",
    "<table style=\"border:none;padding: 10px;margin: auto;\">\n",
    "    <tr style=\"border:none;padding: 10px;margin: auto;\">\n",
    "<td style=\"border:none;padding: 10px;margin: auto;\">\n",
    "    <b>Contacts from the chem dept.</b><br>\n",
    "            Li Zuo <br>\n",
    "            Email: lzuo4@kent.edu <br>\n",
    "            Office: 303B Willems Hall (ISB) <br>\n",
    "            <br>\n",
    "            Dr. Hao Shen<br>\n",
    "            Email: hshen7@kent.edu<br>\n",
    "        </td>\n",
    "        <td style=\"border:none;padding: 10px;margin: auto;\">\n",
    "            <b>Contacts from the CS dept.</b><br>\n",
    "    Kendric Hood<br>\n",
    "            Email: khood5@kent.edu<br>\n",
    "            Office: 160 Math and Science Building (MSB)<br>\n",
    "            <br>\n",
    "            Dr. Qiang Guan <br>\n",
    "            Email: qguan@kent.edu<br>\n",
    "        </td>\n",
    "    </tr>\n",
    "</table>"
   ]
  },
  {
   "attachments": {},
   "cell_type": "markdown",
   "metadata": {},
   "source": [
    "Working with data from <code>Prepocessing/data/</code> should have folder for each experment setup (in terms of disctance of magnent in mm). Each folder should have a list of events and their frame numbers as excel file. Events are recorded as events per 0.05 secs. The raw excel files are converted to CSV files with preprocess.py.\n",
    "\n",
    "The processed file are shorted versions of the orignal files, i.e. its only the first X secs. These csv files have a 1 or a 0 for each 0.05 sec inteval. 1 means event 0 menas no event.  The index file has the list of each processed file path and the target (total number of events) they are in. "
   ]
  },
  {
   "attachments": {},
   "cell_type": "markdown",
   "metadata": {},
   "source": [
    "- ran for 20 mins ~ 12000 frames\n",
    "<table>\n",
    "    <tr>\n",
    "        <td> folder </td><td>total number of files</td>\n",
    "    </tr>\n",
    "    <tr>\n",
    "        <td> 1.5mm_35.14pN </td><td>27</td>\n",
    "    </tr>\n",
    "    <tr>\n",
    "        <td> 2mm_22.6pN </td><td>29</td>\n",
    "    </tr>\n",
    "    <tr>\n",
    "        <td> 3mm_9.24pN </td><td>16</td>\n",
    "    </tr>\n",
    "    <tr>\n",
    "        <td> 5mm_1.46pN </td><td>63</td>\n",
    "    </tr>\n",
    "    <tr>\n",
    "        <td> 9mm_0.002pN </td><td>21</td>\n",
    "    </tr>\n",
    "</table>\n",
    " Total number of examples <em>156</em>"
   ]
  },
  {
   "cell_type": "code",
   "execution_count": 2,
   "metadata": {},
   "outputs": [
    {
     "name": "stdout",
     "output_type": "stream",
     "text": [
      "datasetlow:56\n",
      "datasetmedium:16\n",
      "datasetHigh:84\n",
      "Total: 156\n"
     ]
    }
   ],
   "source": [
    "datasetlow = expermentDataloader(\n",
    "    \"/home/khood/GitHub/SNN-DNA-project/Prepocessing/data/seperatedData/low/index.csv\",\n",
    "    \"/home/khood/GitHub/SNN-DNA-project/Prepocessing/data/seperatedData/low\", \n",
    ")\n",
    "datasetmedium = expermentDataloader(\n",
    "    \"/home/khood/GitHub/SNN-DNA-project/Prepocessing/data/seperatedData/medium/index.csv\",\n",
    "    \"/home/khood/GitHub/SNN-DNA-project/Prepocessing/data/seperatedData/medium\", \n",
    ")\n",
    "datasetHigh = expermentDataloader(\n",
    "    \"/home/khood/GitHub/SNN-DNA-project/Prepocessing/data/seperatedData/high/index.csv\",\n",
    "    \"/home/khood/GitHub/SNN-DNA-project/Prepocessing/data/seperatedData/high\", \n",
    ")\n",
    "\n",
    "print(f\"datasetlow:{len(datasetlow)}\")\n",
    "print(f\"datasetmedium:{len(datasetmedium)}\")\n",
    "print(f\"datasetHigh:{len(datasetHigh)}\")\n",
    "print(f\"Total: {len(datasetlow) + len(datasetmedium) + len(datasetHigh)}\")"
   ]
  },
  {
   "cell_type": "code",
   "execution_count": 3,
   "metadata": {},
   "outputs": [
    {
     "data": {
      "text/plain": [
       "[339,\n",
       " 296,\n",
       " 303,\n",
       " 283,\n",
       " 337,\n",
       " 301,\n",
       " 305,\n",
       " 342,\n",
       " 310,\n",
       " 321,\n",
       " 321,\n",
       " 298,\n",
       " 392,\n",
       " 328,\n",
       " 379,\n",
       " 340,\n",
       " 340,\n",
       " 285,\n",
       " 274,\n",
       " 285,\n",
       " 282,\n",
       " 105,\n",
       " 51,\n",
       " 297,\n",
       " 191,\n",
       " 352,\n",
       " 238,\n",
       " 80,\n",
       " 303,\n",
       " 167,\n",
       " 103,\n",
       " 107,\n",
       " 184,\n",
       " 379,\n",
       " 55,\n",
       " 89,\n",
       " 484,\n",
       " 535,\n",
       " 262,\n",
       " 113,\n",
       " 501,\n",
       " 196,\n",
       " 179,\n",
       " 488,\n",
       " 165,\n",
       " 327,\n",
       " 710,\n",
       " 135,\n",
       " 87,\n",
       " 167,\n",
       " 133,\n",
       " 258,\n",
       " 635,\n",
       " 224,\n",
       " 53,\n",
       " 538,\n",
       " 462,\n",
       " 311,\n",
       " 187,\n",
       " 219,\n",
       " 57,\n",
       " 34,\n",
       " 165,\n",
       " 446,\n",
       " 175,\n",
       " 219,\n",
       " 363,\n",
       " 243,\n",
       " 375,\n",
       " 413,\n",
       " 210,\n",
       " 155,\n",
       " 342,\n",
       " 252,\n",
       " 55,\n",
       " 234,\n",
       " 336,\n",
       " 248,\n",
       " 90,\n",
       " 93,\n",
       " 228,\n",
       " 61,\n",
       " 280,\n",
       " 456]"
      ]
     },
     "execution_count": 3,
     "metadata": {},
     "output_type": "execute_result"
    }
   ],
   "source": [
    "highTargets = [i[1][0] for i in datasetHigh]\n",
    "mediumTargets = [i[1][0] for i in datasetmedium]\n",
    "lowTargets = [i[1][0] for i in datasetlow]\n",
    "highTargets"
   ]
  },
  {
   "cell_type": "code",
   "execution_count": 4,
   "metadata": {},
   "outputs": [],
   "source": [
    "def averageDiff(data: list):\n",
    "    diffs = []\n",
    "    while data:\n",
    "        point = data.pop()\n",
    "        for i in data:\n",
    "            diffs.append(abs(point - i))\n",
    "    return np.sum(diffs)/len(diffs)"
   ]
  },
  {
   "cell_type": "code",
   "execution_count": 5,
   "metadata": {},
   "outputs": [],
   "source": [
    "def printStats(data: list):\n",
    "    print(\"+------------------\")\n",
    "    print(f\"| total number of experments: {len(data)}\")\n",
    "    print(f\"| min: {np.min(data)}\")\n",
    "    print(f\"| max: {np.max(data)}\")\n",
    "    print(f\"| average: {np.average(data)}\")\n",
    "    print(f\"| median: {np.median(data)}\")\n",
    "    print(f\"| mode: {st.mode(data, keepdims=False)}\")\n",
    "    print(f\"| average difference: {averageDiff(data)}\")\n",
    "    print(\"+------------------\")"
   ]
  },
  {
   "cell_type": "code",
   "execution_count": 6,
   "metadata": {},
   "outputs": [
    {
     "name": "stdout",
     "output_type": "stream",
     "text": [
      "High\n",
      "+------------------\n",
      "| total number of experments: 84\n",
      "| min: 34\n",
      "| max: 710\n",
      "| average: 265.01190476190476\n",
      "| median: 277.0\n",
      "| mode: ModeResult(mode=55, count=2)\n",
      "| average difference: 156.210843373494\n",
      "+------------------\n",
      "Medium\n",
      "+------------------\n",
      "| total number of experments: 16\n",
      "| min: 20\n",
      "| max: 172\n",
      "| average: 107.25\n",
      "| median: 127.0\n",
      "| mode: ModeResult(mode=132, count=2)\n",
      "| average difference: 55.6\n",
      "+------------------\n",
      "Low\n",
      "+------------------\n",
      "| total number of experments: 56\n",
      "| min: 13\n",
      "| max: 93\n",
      "| average: 35.42857142857143\n",
      "| median: 30.5\n",
      "| mode: ModeResult(mode=29, count=4)\n",
      "| average difference: 16.967532467532468\n",
      "+------------------\n"
     ]
    },
    {
     "data": {
      "image/png": "[encoded data removed]",
      "text/plain": [
       "<Figure size 640x480 with 1 Axes>"
      ]
     },
     "metadata": {},
     "output_type": "display_data"
    }
   ],
   "source": [
    "plt.plot(list(range(len(highTargets))), highTargets, '.', color='red', label=\"highTargets\")\n",
    "plt.plot(list(range(len(mediumTargets))), mediumTargets, 'x', color='green', label=\"mediumTargets\")\n",
    "plt.plot(list(range(len(lowTargets))), lowTargets, '+', color='blue', label=\"lowTargets\")\n",
    "plt.legend(numpoints=1)\n",
    "print(\"High\")\n",
    "printStats(highTargets)\n",
    "print(\"Medium\")\n",
    "printStats(mediumTargets)\n",
    "print(\"Low\")\n",
    "printStats(lowTargets)"
   ]
  },
  {
   "attachments": {},
   "cell_type": "markdown",
   "metadata": {},
   "source": [
    "## Working with new data\n",
    "\n",
    "- ran for 1 hour ~ 72000 frames\n",
    "<table>\n",
    "    <tr>\n",
    "        <td> folder </td><td>total number of files</td>\n",
    "    </tr>\n",
    "    <tr>\n",
    "        <td> 50_nM_AR </td><td>640</td>\n",
    "    </tr>\n",
    "    <tr>\n",
    "        <td> 100_nM_AR </td><td>499</td>\n",
    "    </tr>\n",
    "    <tr>\n",
    "        <td> 400_nM_AR </td><td>477</td>\n",
    "    </tr>\n",
    "    <tr>\n",
    "        <td> 800_nM_AR </td><td>564</td>\n",
    "    </tr>\n",
    "    <tr>\n",
    "        <td> 1200_nM_AR </td><td>794</td>\n",
    "    </tr>\n",
    "    <tr>\n",
    "        <td> 1800_nM_AR </td><td>888</td>\n",
    "    </tr>\n",
    "</table>\n",
    " Total number of examples <em>3862</em>"
   ]
  },
  {
   "cell_type": "code",
   "execution_count": 7,
   "metadata": {},
   "outputs": [
    {
     "name": "stdout",
     "output_type": "stream",
     "text": [
      "datasetLarge:3862\n"
     ]
    }
   ],
   "source": [
    "datasetLarge = expermentDataloader(\n",
    "    \"/home/khood/GitHub/SNN-DNA-project/Prepocessing/large_dataset/allData/index.csv\",\n",
    "    \"/home/khood/GitHub/SNN-DNA-project/Prepocessing/large_dataset/allData/\", \n",
    ")\n",
    "print(f\"datasetLarge:{len(datasetLarge)}\")"
   ]
  },
  {
   "cell_type": "code",
   "execution_count": 8,
   "metadata": {},
   "outputs": [
    {
     "name": "stdout",
     "output_type": "stream",
     "text": [
      "Large Dataset\n",
      "+------------------\n",
      "| total number of experments: 3862\n",
      "| min: 35\n",
      "| max: 382\n",
      "| average: 83.42050750906266\n",
      "| median: 68.0\n",
      "| mode: ModeResult(mode=51, count=83)\n",
      "| average difference: 45.66128694559559\n",
      "+------------------\n"
     ]
    },
    {
     "data": {
      "image/png": "[encoded data removed]",
      "text/plain": [
       "<Figure size 640x480 with 1 Axes>"
      ]
     },
     "metadata": {},
     "output_type": "display_data"
    }
   ],
   "source": [
    "targets = [i[1][0] for i in datasetLarge]\n",
    "plt.plot(list(range(len(targets))), targets, '.', color='black', label=\"targets\")\n",
    "plt.legend(numpoints=1)\n",
    "print(\"Large Dataset\")\n",
    "printStats(targets)"
   ]
  },
  {
   "cell_type": "code",
   "execution_count": 9,
   "metadata": {},
   "outputs": [
    {
     "data": {
      "text/plain": [
       "12000"
      ]
     },
     "execution_count": 9,
     "metadata": {},
     "output_type": "execute_result"
    }
   ],
   "source": [
    "len(datasetLarge[0][0])"
   ]
  },
  {
   "cell_type": "code",
   "execution_count": 10,
   "metadata": {},
   "outputs": [
    {
     "name": "stdout",
     "output_type": "stream",
     "text": [
      "input: [0 0 0 ... 0 0 0]\n",
      "output: [50]\n"
     ]
    }
   ],
   "source": [
    "rawData = [datasetLarge[i] for i in list(range(len(datasetLarge)))]\n",
    "def switchToDurration(expermentFrames):\n",
    "    lastOne = 0\n",
    "    for i in range(len(expermentFrames)):\n",
    "        if expermentFrames[i]:\n",
    "            expermentFrames[i] = i - lastOne if lastOne != 0 else 0\n",
    "            lastOne = i\n",
    "    return expermentFrames\n",
    "\n",
    "for i in rawData:\n",
    "    i = (switchToDurration(i[0]), i[1])\n",
    "print(f\"input: {rawData[0][0]}\")\n",
    "print(f\"output: {rawData[0][1]}\")"
   ]
  },
  {
   "cell_type": "code",
   "execution_count": 11,
   "metadata": {},
   "outputs": [
    {
     "data": {
      "text/plain": [
       "2990"
      ]
     },
     "execution_count": 11,
     "metadata": {},
     "output_type": "execute_result"
    }
   ],
   "source": [
    "np.max(rawData[0][0])"
   ]
  },
  {
   "cell_type": "code",
   "execution_count": 12,
   "metadata": {},
   "outputs": [
    {
     "name": "stdout",
     "output_type": "stream",
     "text": [
      "+------------------\n",
      "| total number of experments: 26537\n",
      "| min: 1\n",
      "| max: 11904\n",
      "| average: 1182.0039190564119\n",
      "| median: 641.0\n",
      "| mode: ModeResult(mode=2, count=319)\n",
      "| average difference: 1390.3879774224142\n",
      "+------------------\n"
     ]
    },
    {
     "data": {
      "text/plain": [
       "26537"
      ]
     },
     "execution_count": 12,
     "metadata": {},
     "output_type": "execute_result"
    },
    {
     "data": {
      "image/png": "[encoded data removed]",
      "text/plain": [
       "<Figure size 640x480 with 1 Axes>"
      ]
     },
     "metadata": {},
     "output_type": "display_data"
    }
   ],
   "source": [
    "durrations = []\n",
    "for i in rawData:\n",
    "    for event in i[0]:\n",
    "        if event:\n",
    "            durrations.append(event)\n",
    "printStats(copy.deepcopy(durrations))\n",
    "plt.plot(list(range(len(durrations))), durrations, '.', color='black', label=\"durrations\")\n",
    "plt.legend(numpoints=1)\n",
    "len(durrations)"
   ]
  },
  {
   "cell_type": "code",
   "execution_count": 13,
   "metadata": {},
   "outputs": [
    {
     "name": "stdout",
     "output_type": "stream",
     "text": [
      "26537\n"
     ]
    },
    {
     "data": {
      "text/plain": [
       "[1.2100911148131834,\n",
       " -0.44508687947273134,\n",
       " -0.19744601498191514,\n",
       " -0.018743012768272095,\n",
       " -0.7596577073394438,\n",
       " -0.5555213190429602,\n",
       " -0.6545776648392867,\n",
       " 0.6572496173282802,\n",
       " 1.2689894825839723,\n",
       " 0.5407914810542207,\n",
       " -0.4839062582307512,\n",
       " 0.47586941657960136,\n",
       " 0.8346140202744053,\n",
       " -0.5120168428486276,\n",
       " 0.5883117550511071,\n",
       " 0.20547236454098042,\n",
       " -0.2650452779915704,\n",
       " -0.03815270214728202,\n",
       " 0.7235102810704176,\n",
       " -0.21886360326220194,\n",
       " 1.6866324540495647,\n",
       " 2.3934128672990296,\n",
       " -0.45780357251415166,\n",
       " -0.7335550216228442,\n",
       " -0.2570136823864628,\n",
       " -0.5073317454123148,\n",
       " -0.3346524399025025,\n",
       " -0.40559820108095257,\n",
       " 2.0975824291775678,\n",
       " -0.07563348163778393,\n",
       " -0.4544570743453568,\n",
       " -0.6431995710653843,\n",
       " -0.27173827432916,\n",
       " -0.5876477014633904,\n",
       " -0.44307898057145445,\n",
       " -0.5996950948710518,\n",
       " -0.45780357251415166,\n",
       " 1.0809162854977037,\n",
       " 0.15460559237529925,\n",
       " 0.7141400861977921,\n",
       " 0.9048904818190965,\n",
       " -0.5454818245365758,\n",
       " -0.5120168428486276,\n",
       " -0.6378451739953126,\n",
       " -0.3687867212242096,\n",
       " -0.6579241630080815,\n",
       " -0.5013080487084842,\n",
       " 1.4724565712466968,\n",
       " 1.934273318540381,\n",
       " -0.39689730584208605,\n",
       " -0.4276850889949983,\n",
       " -0.42701578936123935,\n",
       " -0.595679297068498,\n",
       " -0.44508687947273134,\n",
       " -0.7302085234540495,\n",
       " -0.7308778230878085,\n",
       " -0.7154839315113523,\n",
       " -0.7302085234540495,\n",
       " -0.613081087546231,\n",
       " -0.4203227930236497,\n",
       " -0.24965138641511422,\n",
       " 0.47185361877704757,\n",
       " -0.6237898816863744,\n",
       " -0.5561906186767192,\n",
       " -0.7121374333425575,\n",
       " -0.6726487549507787,\n",
       " -0.5280800340588427,\n",
       " -0.649892567402974,\n",
       " -0.26571457762532935,\n",
       " -0.5843012032945956,\n",
       " 0.19409427076707805,\n",
       " -0.4551263739791158,\n",
       " -0.6264670802214103,\n",
       " -0.45111057617656203,\n",
       " -0.7148146318775933,\n",
       " 2.906096386758395,\n",
       " -0.487252756399546,\n",
       " 2.5138868013756426,\n",
       " -0.35205423038023553,\n",
       " 1.4965513580620193,\n",
       " -0.4644965688517413,\n",
       " -0.3574086274503072,\n",
       " 0.27574882608567153,\n",
       " -0.7710358011133462,\n",
       " -0.4524491754440799,\n",
       " 0.3654349770093725,\n",
       " 0.6907145990162284,\n",
       " -0.2563443827527039,\n",
       " -0.6806803505558863,\n",
       " -0.720169028947665,\n",
       " -0.6880426465272348,\n",
       " -0.200123213516951,\n",
       " -0.379495515364353,\n",
       " -0.1412248457461623,\n",
       " -0.6960742421323424,\n",
       " -0.6244591813201333,\n",
       " -0.16732753146276183,\n",
       " 0.33063139605390646,\n",
       " 1.2100911148131834,\n",
       " 1.5300163397499675,\n",
       " -0.7275313249190136,\n",
       " 0.36878147517816734,\n",
       " -0.5742617087882111,\n",
       " -0.4905992545683408,\n",
       " -0.1693354303640387,\n",
       " -0.7007593395686551,\n",
       " -0.47386676372436676,\n",
       " -0.44174038130393656,\n",
       " 3.786225405151431,\n",
       " -0.5883170010971494,\n",
       " 3.3759447296571867,\n",
       " -0.757649808438167,\n",
       " 0.40090785759859754,\n",
       " -0.1566187373226184,\n",
       " -0.6097345893774362,\n",
       " -0.5970178963360159,\n",
       " 0.6753207074397722,\n",
       " -0.7322164223553264,\n",
       " -0.7369015197916391,\n",
       " -0.3165813497910105,\n",
       " -0.6431995710653843,\n",
       " -0.6030415930398465,\n",
       " -0.576938907323247,\n",
       " 0.2924813169296456,\n",
       " 0.2382680465951696,\n",
       " -0.1572880369563774,\n",
       " -0.07697208090530185,\n",
       " 0.27574882608567153,\n",
       " 0.059565044381526544,\n",
       " 0.8024876378539751,\n",
       " 1.1250900613257953,\n",
       " 0.7261874796054534,\n",
       " 3.365235935517043,\n",
       " 1.003277527981664,\n",
       " -0.15461083842134152,\n",
       " -0.3600858259853431,\n",
       " 1.0481206034435144,\n",
       " 0.1787003791906219,\n",
       " -0.5468204238040937,\n",
       " 2.0982517288113267,\n",
       " -0.7456024150305056,\n",
       " -0.33197524136746664,\n",
       " 0.19543287003459597,\n",
       " 0.18137757772565777,\n",
       " -0.42099209265740867,\n",
       " -0.6030415930398465,\n",
       " 0.08365983119684921,\n",
       " 1.3472975397337708,\n",
       " -0.5381195285652272,\n",
       " -0.5555213190429602,\n",
       " 2.038684061406779,\n",
       " -0.2523285849501501,\n",
       " -0.2965023607782416,\n",
       " -0.7884375915910792,\n",
       " -0.756980508804408,\n",
       " 0.10976251691344875,\n",
       " 0.5113422971688264,\n",
       " -0.35673932781654827,\n",
       " -0.5709152106194163,\n",
       " -0.054215893357497116,\n",
       " -0.451779875810321,\n",
       " 0.26370143267801016,\n",
       " -0.5742617087882111,\n",
       " 0.5461458781242925,\n",
       " -0.34067613660633317,\n",
       " 0.9611116510548493,\n",
       " -0.6237898816863744,\n",
       " -0.2623680794565345,\n",
       " -0.6746566538520555,\n",
       " -0.7804059959859717,\n",
       " -0.7670200033107925,\n",
       " -0.7543033102693721,\n",
       " -0.6197740838838206,\n",
       " -0.7723744003808641,\n",
       " -0.75564190953689,\n",
       " -0.7522954113680952,\n",
       " -0.7583191080719259,\n",
       " -0.5749310084219701,\n",
       " -0.42166139229116767,\n",
       " -0.5762696076894881,\n",
       " -0.6646171593456711,\n",
       " -0.7583191080719259,\n",
       " -0.6632785600781532,\n",
       " 0.08432913083060817,\n",
       " -0.7087909351737627,\n",
       " -0.7342243212566033,\n",
       " 0.42567194404767916,\n",
       " -0.7596577073394438,\n",
       " -0.04350709921735372,\n",
       " -0.22957239740234536,\n",
       " -0.3152427505234926,\n",
       " -0.2884707651731341,\n",
       " -0.6759952531195735,\n",
       " -0.7616656062407208,\n",
       " -0.3694560208579686,\n",
       " 2.0862043354036657,\n",
       " 3.79961139782661,\n",
       " 0.1827161769931757,\n",
       " 1.2120990137144603,\n",
       " 0.3942148612610079,\n",
       " 1.9617146035244986,\n",
       " 1.1726103353226816,\n",
       " 0.0046824744132916,\n",
       " 0.20279516600594458,\n",
       " 0.18673197479572945,\n",
       " -0.5735924091544522,\n",
       " -0.557529217944237,\n",
       " -0.05957029042756882,\n",
       " -0.42366929119244456,\n",
       " 1.576198014479336,\n",
       " -0.45713427288039266,\n",
       " -0.27575407213171377,\n",
       " 0.08700632936564402,\n",
       " -0.5535134201416834,\n",
       " -0.30386465674959023,\n",
       " -0.5976871959697748,\n",
       " 0.2001179674709087,\n",
       " -0.6800110509221273,\n",
       " 1.5280084408486907,\n",
       " -0.7522954113680952,\n",
       " 3.8129973905017893,\n",
       " -0.6927277439635475,\n",
       " -0.487252756399546,\n",
       " 1.7636019119318456,\n",
       " -0.6465460692341791,\n",
       " -0.0816571783416146,\n",
       " -0.10173616735438347,\n",
       " -0.2737461732304369,\n",
       " 0.7723691543348219,\n",
       " 0.19476357040083703,\n",
       " 3.320392860055193,\n",
       " 1.6096629961672841,\n",
       " -0.38886571023697847,\n",
       " -0.4986308501734484,\n",
       " 4.804899447732572,\n",
       " 0.2235434546524724,\n",
       " 0.1606292890791299,\n",
       " -0.6090652897436772,\n",
       " -0.43772458350138277,\n",
       " 0.28244182242326116,\n",
       " 0.14121959970012,\n",
       " -0.3025260574820723,\n",
       " -0.52339493662253,\n",
       " -0.007364918994369729,\n",
       " 0.44173513525789426,\n",
       " -0.774382299282141,\n",
       " -0.5970178963360159,\n",
       " -0.6907198450622707,\n",
       " 3.0620432014242334,\n",
       " -0.2951637615107237,\n",
       " 0.248976840735313,\n",
       " -0.32795944356491286,\n",
       " -0.4276850889949983,\n",
       " -0.2650452779915704,\n",
       " -0.7723744003808641,\n",
       " -0.6304828780239641,\n",
       " -0.44307898057145445,\n",
       " -0.611742488278713,\n",
       " -0.7589884077056849,\n",
       " 0.0890142282669209,\n",
       " -0.7241848267502188,\n",
       " 2.4663665273787565,\n",
       " -0.7891068912248382,\n",
       " -0.7897761908585972,\n",
       " -0.4404017820364186,\n",
       " -0.6940663432310655,\n",
       " 0.025430763059819447,\n",
       " 0.0890142282669209,\n",
       " -0.7322164223553264,\n",
       " -0.738240119059157,\n",
       " -0.7696972018458282,\n",
       " -0.4765439622594026,\n",
       " 0.41697104880881264,\n",
       " 0.13452660336253036,\n",
       " -0.31591205015725154,\n",
       " -0.5735924091544522,\n",
       " 0.31055240704113757,\n",
       " -0.29181726334192887,\n",
       " -0.40760609998222946,\n",
       " -0.38016481499811194,\n",
       " -0.7623349058744797,\n",
       " -0.18606792120801277,\n",
       " -0.09437387138303488,\n",
       " -0.6512311666704919,\n",
       " 1.9630532027920164,\n",
       " -0.45579567361287476,\n",
       " -0.6786724516546093,\n",
       " 0.41897894771008953,\n",
       " 2.1886071793687867,\n",
       " -0.36477092342165585,\n",
       " -0.7141453322438344,\n",
       " -0.5622143153805498,\n",
       " -0.7482796135655415,\n",
       " 0.949064257647188,\n",
       " -0.17000472999779767,\n",
       " -0.757649808438167,\n",
       " 0.7509515660545351,\n",
       " -0.40693680034847046,\n",
       " -0.43906318276890066,\n",
       " -0.4122911974185422,\n",
       " -0.4678430670205361,\n",
       " -0.49193785383585875,\n",
       " -0.7623349058744797,\n",
       " -0.48122905969571533,\n",
       " -0.325282245029877,\n",
       " 5.336992656570947,\n",
       " -0.023428110204584834,\n",
       " 1.9235645244002375,\n",
       " -0.7295392238202905,\n",
       " 0.4203175469776075,\n",
       " 1.9757698958334367,\n",
       " 2.0460463573781276,\n",
       " 0.13318800409501244,\n",
       " -0.7696972018458282,\n",
       " -0.25500578348518593,\n",
       " -0.36610952268917374,\n",
       " 0.2871269198595739,\n",
       " -0.5876477014633904,\n",
       " 0.27574882608567153,\n",
       " -0.4685123666542951,\n",
       " -0.40292100254591673,\n",
       " -0.6813496501896452,\n",
       " -0.19008371901056656,\n",
       " -0.6037108926736056,\n",
       " -0.4745360633581257,\n",
       " -0.3580779270840662,\n",
       " -0.6365065747277947,\n",
       " 0.3172454033787272,\n",
       " -0.24563558861256046,\n",
       " -0.6191047842500617,\n",
       " -0.7288699241865315,\n",
       " -0.7877682919573202,\n",
       " -0.702767238469932,\n",
       " -0.7081216355400037,\n",
       " 0.33464719385646025,\n",
       " 3.5305529450555073,\n",
       " -0.6820189498234042,\n",
       " -0.03748340251352305,\n",
       " 1.8512801639542695,\n",
       " 1.060167996851176,\n",
       " -0.5642222142818267,\n",
       " -0.6017029937723286,\n",
       " -0.7589884077056849,\n",
       " -0.6338293761927588,\n",
       " -0.42701578936123935,\n",
       " -0.7429252164954697,\n",
       " -0.4825676589632333,\n",
       " -0.6907198450622707,\n",
       " -0.5702459109856574,\n",
       " -0.4912685542020998,\n",
       " -0.44107108167017756,\n",
       " -0.6880426465272348,\n",
       " 1.200720919940558,\n",
       " 0.19610216966835495,\n",
       " -0.5528441205079243,\n",
       " -0.11177566186076791,\n",
       " 1.5052522533008859,\n",
       " -0.575600308055729,\n",
       " 0.6779979059748081,\n",
       " -0.5976871959697748,\n",
       " 1.2094218151794245,\n",
       " -0.541466026734022,\n",
       " -0.2643759783578114,\n",
       " 0.6090600436976349,\n",
       " -0.47185886482308986,\n",
       " 0.4250026444139202,\n",
       " -0.6191047842500617,\n",
       " -0.6177661849825438,\n",
       " -0.6846961483584401,\n",
       " 0.3065366092385838,\n",
       " 2.2160484643529044,\n",
       " -0.026105308739620685,\n",
       " -0.3734718186605223,\n",
       " -0.6646171593456711,\n",
       " -0.6231205820526154,\n",
       " 1.4717872716129377,\n",
       " -0.26571457762532935,\n",
       " -0.14925644135126984,\n",
       " 0.8453228144145488,\n",
       " 0.2603549345092154,\n",
       " 0.7663454576309912,\n",
       " 0.3292927967863885,\n",
       " -0.6110731886449541,\n",
       " 0.1860626751619705,\n",
       " 0.5106729975350675,\n",
       " -0.06626328676515846,\n",
       " -0.5856398025621136,\n",
       " -0.775720898549659,\n",
       " 0.6733128085384954,\n",
       " 2.3880584702289576,\n",
       " -0.5133554421161456,\n",
       " 0.6358320290479934,\n",
       " -0.5635529146480678,\n",
       " -0.6713101556832608,\n",
       " -0.5287493336926017,\n",
       " -0.2630373790902935,\n",
       " -0.36276302452037895,\n",
       " 3.2795655823958962,\n",
       " 0.27374092718439463,\n",
       " -0.7061137366387268,\n",
       " -0.756980508804408,\n",
       " 3.730004235915678,\n",
       " -0.32461294539611807,\n",
       " -0.34870773221144075,\n",
       " -0.5843012032945956,\n",
       " -0.7636735051419976,\n",
       " -0.24228909044376565,\n",
       " -0.7830831945210075,\n",
       " -0.6431995710653843,\n",
       " -0.6940663432310655,\n",
       " 0.14121959970012,\n",
       " -0.7904454904923561,\n",
       " 0.5200431924076929,\n",
       " 0.5996898488250094,\n",
       " 1.1003259748767136,\n",
       " -0.49729225090593043,\n",
       " -0.6472153688679381,\n",
       " -0.70410583773745,\n",
       " -0.7248541263839777,\n",
       " -0.7275313249190136,\n",
       " 0.07897473376053646,\n",
       " 2.0092348775213846,\n",
       " -0.2965023607782416,\n",
       " -0.7676893029445514,\n",
       " -0.631152177657723,\n",
       " 0.4203175469776075,\n",
       " -0.034136904344728235,\n",
       " -0.7897761908585972,\n",
       " -0.05756239152629193,\n",
       " -0.1532722391538236,\n",
       " -0.6940663432310655,\n",
       " -0.3734718186605223,\n",
       " 0.5755950620096868,\n",
       " 2.148449201343249,\n",
       " 0.022753564524783595,\n",
       " -0.6873733468934758,\n",
       " -0.3232743461286001,\n",
       " 1.7214360350050308,\n",
       " 2.1732132877923305,\n",
       " 2.1785676848624025,\n",
       " 2.218056363254181,\n",
       " -0.4644965688517413,\n",
       " 1.6732464613743856,\n",
       " -0.38217271389938884,\n",
       " 0.9437098605771163,\n",
       " -0.6994207403011372,\n",
       " -0.028113207640897572,\n",
       " -0.35004633147895864,\n",
       " 2.9261753757711637,\n",
       " -0.6157582860812668,\n",
       " 1.113711967551893,\n",
       " 0.22086625611743657,\n",
       " 3.4134255091476886,\n",
       " -0.020750911669548983,\n",
       " 1.1793033316602712,\n",
       " 3.784886805883913,\n",
       " -0.5026466479760021,\n",
       " -0.1606345351251722,\n",
       " 0.24964614036907196,\n",
       " -0.7623349058744797,\n",
       " -0.5508362216066475,\n",
       " 0.12247920995486904,\n",
       " -0.7476103139317825,\n",
       " 0.020076365989747744,\n",
       " 0.1827161769931757,\n",
       " -0.6693022567819839,\n",
       " 1.6023007001959355,\n",
       " -0.7797366963522128,\n",
       " -0.29181726334192887,\n",
       " -0.7462717146642646,\n",
       " -0.6552469644730456,\n",
       " -0.738240119059157,\n",
       " -0.5006387490747253,\n",
       " 0.3072059088723428,\n",
       " 4.841041627955556,\n",
       " 1.0166635206568433,\n",
       " -0.06224748896260467,\n",
       " -0.6425302714316253,\n",
       " -0.3774876164630761,\n",
       " -0.06960978493395326,\n",
       " -0.02275881057082587,\n",
       " 0.3640963777418546,\n",
       " 0.8567009081884511,\n",
       " -0.35673932781654827,\n",
       " -0.6365065747277947,\n",
       " 0.4223254458788843,\n",
       " -0.4644965688517413,\n",
       " -0.2965023607782416,\n",
       " -0.4731974640906078,\n",
       " 0.11913271178607422,\n",
       " 1.1183970649882056,\n",
       " -0.4584728721479106,\n",
       " -0.6191047842500617,\n",
       " 2.075495541263522,\n",
       " -0.5039852472435201,\n",
       " 2.3699873801174656,\n",
       " -0.47721326189316154,\n",
       " -0.7884375915910792,\n",
       " -0.7864296926898023,\n",
       " -0.7877682919573202,\n",
       " -0.17000472999779767,\n",
       " 1.8204923808013573,\n",
       " 1.5380479353550751,\n",
       " 0.9470563587459111,\n",
       " -0.7114681337087985,\n",
       " -0.0582316911600509,\n",
       " 0.23559084806013375,\n",
       " 1.4885197624569118,\n",
       " 0.17334598212055022,\n",
       " -0.7275313249190136,\n",
       " -0.4363859842338648,\n",
       " -0.3212664472273232,\n",
       " -0.3694560208579686,\n",
       " -0.2864628662718572,\n",
       " -0.7295392238202905,\n",
       " -0.07496418200402497,\n",
       " 0.823905226134262,\n",
       " 6.080584549677155,\n",
       " -0.7804059959859717,\n",
       " -0.2991795593132775,\n",
       " -0.6512311666704919,\n",
       " 0.8567009081884511,\n",
       " 0.0073596729483274516,\n",
       " 2.5306192922196167,\n",
       " 0.3634270781080956,\n",
       " -0.42500789045996246,\n",
       " -0.2590215812877397,\n",
       " -0.577608206957006,\n",
       " 1.21879201005205,\n",
       " 6.6180321555856025,\n",
       " -0.7877682919573202,\n",
       " -0.4203227930236497,\n",
       " -0.5367809292977093,\n",
       " -0.667294357880707,\n",
       " -0.44709477837400824,\n",
       " -0.5722538098869343,\n",
       " 0.09303002606947468,\n",
       " -0.343353335141369,\n",
       " -0.7750515989159,\n",
       " -0.5006387490747253,\n",
       " 1.2469025946699264,\n",
       " 1.8619889580944131,\n",
       " -0.38953500987073747,\n",
       " -0.6954049424985834,\n",
       " -0.5916634992659442,\n",
       " 0.6953996964525412,\n",
       " -0.7282006245527726,\n",
       " -0.7456024150305056,\n",
       " 0.1264950077574228,\n",
       " 0.09035282753443882,\n",
       " -0.5227256369887711,\n",
       " -0.22555659959979157,\n",
       " -0.5100089439473507,\n",
       " 0.555516072996918,\n",
       " -0.20280041205198684,\n",
       " -0.720169028947665,\n",
       " -0.41697629485485493,\n",
       " -0.7643428047757566,\n",
       " 2.0453770577443686,\n",
       " -0.1572880369563774,\n",
       " 0.46181412427066315,\n",
       " -0.11512216002956273,\n",
       " -0.3714639197592455,\n",
       " -0.593671398167221,\n",
       " -0.702097938836173,\n",
       " -0.1766977263353873,\n",
       " -0.2730768735966779,\n",
       " -0.5622143153805498,\n",
       " 0.4685071206082528,\n",
       " 1.8532880628555466,\n",
       " -0.47587466262564365,\n",
       " 0.6565803176945213,\n",
       " 0.3232691000825579,\n",
       " -0.757649808438167,\n",
       " -0.19209161791184345,\n",
       " 1.1518620466761538,\n",
       " 0.4035850561336334,\n",
       " 0.7850858473762421,\n",
       " 1.666553465036796,\n",
       " -0.6170968853487848,\n",
       " -0.720838328581424,\n",
       " -0.4745360633581257,\n",
       " 0.013383369652158117,\n",
       " -0.30587255565086713,\n",
       " 3.1115713743223963,\n",
       " -0.5548520194092013,\n",
       " -0.03212900544345135,\n",
       " 3.6463417816958077,\n",
       " 0.3246076993500758,\n",
       " -0.3052032560171081,\n",
       " -0.7496182128330594,\n",
       " -0.44307898057145445,\n",
       " 0.23224434989133894,\n",
       " -0.7703665014795872,\n",
       " 2.7608583662327,\n",
       " 0.5461458781242925,\n",
       " -0.034136904344728235,\n",
       " 0.805164836389011,\n",
       " 1.9088399324575405,\n",
       " 0.06157294328280343,\n",
       " -0.11378356076204481,\n",
       " -0.7897761908585972,\n",
       " -0.6947356428648245,\n",
       " 0.1626371879804068,\n",
       " -0.3145734508897336,\n",
       " 1.218122710418291,\n",
       " -0.7268620252852547,\n",
       " -0.7817445952534896,\n",
       " 1.4624170767403122,\n",
       " -0.015396514599477282,\n",
       " 0.6244539352740911,\n",
       " 1.1806419309277891,\n",
       " 0.07362033669046476,\n",
       " 1.0769004876951498,\n",
       " 0.12381780922238697,\n",
       " -0.6083959901099183,\n",
       " -0.44508687947273134,\n",
       " 0.49594840559237025,\n",
       " 1.558126924367844,\n",
       " 0.14389679823515586,\n",
       " 1.5681664188742284,\n",
       " 1.538717234988834,\n",
       " 0.23291364952509788,\n",
       " -0.33398314026874354,\n",
       " 1.344620341198735,\n",
       " -0.3902043095044964,\n",
       " -0.4444175798389724,\n",
       " 2.9837351442744344,\n",
       " -0.521387037721253,\n",
       " -0.23492679447241704,\n",
       " -0.4531184750778389,\n",
       " 0.45980622536938626,\n",
       " 1.2944228686668129,\n",
       " 0.7215023821691406,\n",
       " -0.0294518069084155,\n",
       " -0.5080010450460738,\n",
       " -0.7710358011133462,\n",
       " 0.7596524612934016,\n",
       " 0.056887845846490696,\n",
       " -0.38418061280066573,\n",
       " 0.15259769347402236,\n",
       " -0.5454818245365758,\n",
       " 0.1666529857829606,\n",
       " -0.21150130729085337,\n",
       " -0.6445381703329023,\n",
       " -0.5996950948710518,\n",
       " -0.7476103139317825,\n",
       " -0.5568599183104781,\n",
       " -0.23894259227497083,\n",
       " -0.7101295344412806,\n",
       " -0.4424096809376955,\n",
       " 1.7067114430623336,\n",
       " 1.7575782152280148,\n",
       " -0.7261927256514957,\n",
       " -0.6960742421323424,\n",
       " -0.22823379813482744,\n",
       " -0.6191047842500617,\n",
       " -0.6632785600781532,\n",
       " -0.3962280062083271,\n",
       " -0.39689730584208605,\n",
       " 1.484503964654358,\n",
       " -0.13587044867609058,\n",
       " 0.7750463528698577,\n",
       " -0.6505618670367329,\n",
       " -0.4946150523708946,\n",
       " -0.34870773221144075,\n",
       " -0.7850910934222844,\n",
       " -0.5749310084219701,\n",
       " -0.1572880369563774,\n",
       " -0.4544570743453568,\n",
       " 2.938892068812584,\n",
       " 0.24496104293275922,\n",
       " -0.47587466262564365,\n",
       " -0.5996950948710518,\n",
       " 2.00588837935259,\n",
       " 0.6117372422326708,\n",
       " -0.5722538098869343,\n",
       " -0.3420147358738511,\n",
       " -0.2503206860488732,\n",
       " -0.7482796135655415,\n",
       " 0.07897473376053646,\n",
       " -0.7502875124668184,\n",
       " -0.7509568121005773,\n",
       " -0.5126861424823866,\n",
       " 0.05755714548024966,\n",
       " -0.2610294801890166,\n",
       " 0.5053186004649958,\n",
       " -0.2971716604120006,\n",
       " 0.2610242341429743,\n",
       " 0.7148093858315511,\n",
       " -0.7690279022120693,\n",
       " -0.2770926713992317,\n",
       " -0.36209372488661995,\n",
       " 2.0373454621392613,\n",
       " -0.4276850889949983,\n",
       " 1.3734002254503703,\n",
       " 0.20279516600594458,\n",
       " -0.7489489131993005,\n",
       " -0.42701578936123935,\n",
       " 1.6491516745590629,\n",
       " 1.3974950122656928,\n",
       " 1.2141069126157373,\n",
       " -0.5133554421161456,\n",
       " -0.738240119059157,\n",
       " -0.028113207640897572,\n",
       " 1.1371374547334565,\n",
       " -0.2603601805552576,\n",
       " -0.6880426465272348,\n",
       " 0.5749257623759279,\n",
       " 1.3988336115332107,\n",
       " -0.17000472999779767,\n",
       " 2.8277883296085964,\n",
       " -0.08634227577792733,\n",
       " 0.0006666766107378242,\n",
       " -0.558867817211755,\n",
       " 0.26437073231176916,\n",
       " 0.3098831074073786,\n",
       " 1.971084798397124,\n",
       " -0.20413901131950477,\n",
       " -0.7844217937885255,\n",
       " 0.23492154842637478,\n",
       " -0.7248541263839777,\n",
       " -0.48792205603330496,\n",
       " -0.2804391695680265,\n",
       " 0.8694176012298714,\n",
       " 1.7415150240177997,\n",
       " 1.4262748965173282,\n",
       " -0.45713427288039266,\n",
       " -0.7456024150305056,\n",
       " -0.7870989923235613,\n",
       " 0.42767984294895606,\n",
       " -0.7783980970846948,\n",
       " -0.4926071534696177,\n",
       " -0.3741411182942813,\n",
       " -0.7891068912248382,\n",
       " 0.7804007499399294,\n",
       " -0.5990257952372928,\n",
       " 0.9129220774242041,\n",
       " -0.3239436457623591,\n",
       " -0.5494976223391296,\n",
       " -0.7141453322438344,\n",
       " -0.5086703446798329,\n",
       " 0.6826830034111209,\n",
       " -0.4818983593294743,\n",
       " -0.7188304296801471,\n",
       " -0.7777287974509358,\n",
       " -0.5100089439473507,\n",
       " -0.6465460692341791,\n",
       " -0.2811084692017855,\n",
       " -0.5066624457785559,\n",
       " -0.7884375915910792,\n",
       " -0.23693469337369394,\n",
       " -0.5548520194092013,\n",
       " -0.6626092604443943,\n",
       " -0.3875271109694606,\n",
       " -0.7114681337087985,\n",
       " -0.6585934626418405,\n",
       " -0.7529647110018542,\n",
       " -0.09169667284799904,\n",
       " -0.48122905969571533,\n",
       " 1.2957614679343308,\n",
       " 1.0809162854977037,\n",
       " 0.7295339777742482,\n",
       " -0.1084291636919731,\n",
       " -0.7630042055082387,\n",
       " 0.1285029066586997,\n",
       " 2.5393201874584834,\n",
       " -0.07161768383523015,\n",
       " -0.7703665014795872,\n",
       " -0.3761490171955582,\n",
       " 2.0815192379673526,\n",
       " -0.7302085234540495,\n",
       " -0.5695766113518984,\n",
       " 0.35071038506667535,\n",
       " -0.6646171593456711,\n",
       " -0.6606013615431173,\n",
       " 0.04818695060762418,\n",
       " 0.2382680465951696,\n",
       " -0.6873733468934758,\n",
       " -0.47520536299188465,\n",
       " -0.004687720459333878,\n",
       " 0.18673197479572945,\n",
       " 0.3098831074073786,\n",
       " -0.5642222142818267,\n",
       " 1.5239926430461368,\n",
       " -0.10976776295949102,\n",
       " -0.10173616735438347,\n",
       " 0.20814956307601626,\n",
       " 0.80583413602277,\n",
       " -0.24228909044376565,\n",
       " -0.20280041205198684,\n",
       " -0.6110731886449541,\n",
       " -0.39288150803953226,\n",
       " 1.553441826931531,\n",
       " -0.6793417512883683,\n",
       " 1.503244354399609,\n",
       " -0.4644965688517413,\n",
       " -0.5341037307626734,\n",
       " 0.44708953232796594,\n",
       " -0.07161768383523015,\n",
       " 0.9831985389688951,\n",
       " 0.40492365540115133,\n",
       " 0.43303424001902774,\n",
       " -0.20480831095326374,\n",
       " -0.7891068912248382,\n",
       " -0.5093396443135918,\n",
       " -0.46315796958422334,\n",
       " 2.921490278334851,\n",
       " -0.5615450157467908,\n",
       " 4.604109557604883,\n",
       " -0.4444175798389724,\n",
       " -0.48992995493458186,\n",
       " -0.7442638157629877,\n",
       " 0.005351774047050563,\n",
       " 0.2222048553849545,\n",
       " -0.7188304296801471,\n",
       " 0.7656761579972322,\n",
       " -0.6960742421323424,\n",
       " -0.07563348163778393,\n",
       " -0.7723744003808641,\n",
       " -0.7616656062407208,\n",
       " -0.7717051007471052,\n",
       " -0.1331932501410547,\n",
       " 0.9182764744942757,\n",
       " -0.6037108926736056,\n",
       " -0.182052123405459,\n",
       " -0.5080010450460738,\n",
       " 1.4577319793039996,\n",
       " -0.7241848267502188,\n",
       " -0.49796155053968943,\n",
       " 0.2610242341429743,\n",
       " 0.045509752072588325,\n",
       " 1.7254518328075845,\n",
       " 0.6150837404014656,\n",
       " -0.1512643402525467,\n",
       " -0.539458127832745,\n",
       " 1.3412738430299402,\n",
       " 1.9014776364861918,\n",
       " -0.7897761908585972,\n",
       " -0.15929593585765428,\n",
       " -0.613081087546231,\n",
       " 1.9965181844799644,\n",
       " -0.13453184940857266,\n",
       " -0.7817445952534896,\n",
       " 1.2033981184755937,\n",
       " -0.3962280062083271,\n",
       " -0.6063880912086413,\n",
       " -0.6431995710653843,\n",
       " -0.739578718326675,\n",
       " 1.1920200247016914,\n",
       " 0.10306952057585912,\n",
       " -0.6686329571482249,\n",
       " -0.49327645310337664,\n",
       " 0.1264950077574228,\n",
       " 0.2924813169296456,\n",
       " -0.5668994128168626,\n",
       " -0.5930020985334621,\n",
       " -0.6699715564157428,\n",
       " -0.3507156311127176,\n",
       " 0.7583138620258836,\n",
       " -0.595679297068498,\n",
       " -0.7589884077056849,\n",
       " 0.8011490385864573,\n",
       " 4.9414365730194,\n",
       " -0.39288150803953226,\n",
       " -0.17335122816659249,\n",
       " 1.129105859128349,\n",
       " 1.7769879046070247,\n",
       " -0.7462717146642646,\n",
       " -0.4839062582307512,\n",
       " -0.7844217937885255,\n",
       " -0.5501669219728885,\n",
       " -0.7710358011133462,\n",
       " -0.6987514406673783,\n",
       " -0.631821477291482,\n",
       " -0.6324907769252409,\n",
       " -0.44174038130393656,\n",
       " 0.7295339777742482,\n",
       " 1.2141069126157373,\n",
       " -0.6278056794889282,\n",
       " -0.2088241087558175,\n",
       " -0.70410583773745,\n",
       " -0.1927609175456024,\n",
       " -0.31591205015725154,\n",
       " 2.4877841156590432,\n",
       " -0.7636735051419976,\n",
       " 0.44976673086300184,\n",
       " -0.5280800340588427,\n",
       " -0.6713101556832608,\n",
       " -0.4176455944886139,\n",
       " -0.7763901981834179,\n",
       " 3.569372323813527,\n",
       " 0.7228409814366586,\n",
       " -0.20547761058702269,\n",
       " -0.6887119461609937,\n",
       " 0.25566983707290264,\n",
       " -0.7670200033107925,\n",
       " -0.1191379578321165,\n",
       " 0.7141400861977921,\n",
       " -0.03012110654217446,\n",
       " -0.17335122816659249,\n",
       " -0.773712999648382,\n",
       " -0.5916634992659442,\n",
       " -0.5829626040270777,\n",
       " -0.7596577073394438,\n",
       " -0.1967767153481562,\n",
       " 4.510407608878628,\n",
       " -0.521387037721253,\n",
       " -0.505993146144797,\n",
       " 0.36878147517816734,\n",
       " 2.381365473891368,\n",
       " 2.318451308318026,\n",
       " 1.648482374925304,\n",
       " 0.607721444430117,\n",
       " -0.7335550216228442,\n",
       " -0.5481590230716116,\n",
       " -0.6324907769252409,\n",
       " -0.19343021717936137,\n",
       " -0.2985102596795185,\n",
       " -0.775720898549659,\n",
       " 0.39488416089476686,\n",
       " 0.5923275528536609,\n",
       " -0.1726819285328335,\n",
       " 0.859378106723487,\n",
       " 1.7649405111993635,\n",
       " -0.20815480912205855,\n",
       " -0.6987514406673783,\n",
       " 1.1799726312940302,\n",
       " -0.36075512561910206,\n",
       " 1.9824628921710263,\n",
       " 2.5125482021081247,\n",
       " 0.4343728392865457,\n",
       " 1.1344602561984207,\n",
       " -0.09102737321424006,\n",
       " -0.12248445600091132,\n",
       " -0.5468204238040937,\n",
       " -0.6003643945048107,\n",
       " -0.7462717146642646,\n",
       " -0.773712999648382,\n",
       " 0.1070853183784129,\n",
       " -0.48591415713202807,\n",
       " -0.7134760326100754,\n",
       " -0.6907198450622707,\n",
       " -0.701428639202414,\n",
       " -0.3922122084057733,\n",
       " 0.09905372277330535,\n",
       " 0.08767562899940298,\n",
       " -0.38217271389938884,\n",
       " -0.38016481499811194,\n",
       " -0.6813496501896452,\n",
       " -0.5468204238040937,\n",
       " -0.6900505454285117,\n",
       " 0.21015746197729315,\n",
       " -0.6264670802214103,\n",
       " -0.7302085234540495,\n",
       " -0.2342574948386581,\n",
       " 0.0073596729483274516,\n",
       " -0.7603270069732028,\n",
       " 0.3580726810380239,\n",
       " -0.6278056794889282,\n",
       " -0.03547550361224616,\n",
       " -0.6505618670367329,\n",
       " -0.6565855637405635,\n",
       " -0.6846961483584401,\n",
       " 0.9095755792554092,\n",
       " 0.5026414019299599,\n",
       " 1.6069857976322481,\n",
       " -0.13653974830984952,\n",
       " -0.7643428047757566,\n",
       " 1.9630532027920164,\n",
       " -0.32862874319867186,\n",
       " -0.7422559168617108,\n",
       " -0.7844217937885255,\n",
       " -0.7670200033107925,\n",
       " -0.5193791388199762,\n",
       " -0.61375038717999,\n",
       " -0.6559162641068046,\n",
       " -0.6606013615431173,\n",
       " -0.3881964106032195,\n",
       " -0.7623349058744797,\n",
       " -0.34469193440888696,\n",
       " -0.6880426465272348,\n",
       " -0.6719794553170197,\n",
       " -0.6157582860812668,\n",
       " -0.7435945161292288,\n",
       " -0.5461511241703347,\n",
       " -0.5066624457785559,\n",
       " 0.5320905858153542,\n",
       " -0.3674481219566917,\n",
       " -0.4196534933898908,\n",
       " -0.20681620985454063,\n",
       " 0.8694176012298714,\n",
       " -0.5160326406511814,\n",
       " 0.356064782136747,\n",
       " -0.092365972481758,\n",
       " -0.2523285849501501,\n",
       " -0.7476103139317825,\n",
       " -0.39823590510960394,\n",
       " -0.5247335358900479,\n",
       " -0.43906318276890066,\n",
       " ...]"
      ]
     },
     "execution_count": 13,
     "metadata": {},
     "output_type": "execute_result"
    }
   ],
   "source": [
    "\n",
    "std_scale = preprocessing.StandardScaler().fit([[i] for i in durrations])\n",
    "normalized_durrations = std_scale.transform([[i] for i in durrations])\n",
    "print(len(normalized_durrations))\n",
    "normalized_durrations = [i[0] for i in normalized_durrations]\n",
    "normalized_durrations"
   ]
  },
  {
   "cell_type": "code",
   "execution_count": 14,
   "metadata": {},
   "outputs": [
    {
     "name": "stderr",
     "output_type": "stream",
     "text": [
      "/tmp/ipykernel_1867033/2366011641.py:6: MatplotlibDeprecationWarning: Auto-removal of overlapping axes is deprecated since 3.6 and will be removed two minor releases later; explicitly call ax.remove() as needed.\n",
      "  plt.subplot(1, 2, 1)\n"
     ]
    },
    {
     "data": {
      "image/png": "[encoded data removed]",
      "text/plain": [
       "<Figure size 640x480 with 2 Axes>"
      ]
     },
     "metadata": {},
     "output_type": "display_data"
    }
   ],
   "source": [
    "plt.plot(list(range(len(normalized_durrations))), normalized_durrations, '.', color='black', label=\"normalized_durrations\")\n",
    "plt.legend(numpoints=1)\n",
    "\n",
    "defultePlotSize = plt.rcParams['figure.figsize']\n",
    "plt.rcParams['figure.figsize'] = [200, 5]\n",
    "plt.subplot(1, 2, 1)\n",
    "plt.title('normalized_durrations')\n",
    "plt.plot(list(range(len(normalized_durrations))), normalized_durrations, '-', color='black', )\n",
    "plt.subplot(1, 2, 2)\n",
    "plt.title('durrations')\n",
    "plt.plot(list(range(len(durrations))), durrations, '-', color='black')\n",
    "plt.rcParams['figure.figsize'] = defultePlotSize"
   ]
  },
  {
   "attachments": {},
   "cell_type": "markdown",
   "metadata": {},
   "source": [
    "## Baseline estimates via naive approach\n",
    "----"
   ]
  },
  {
   "attachments": {},
   "cell_type": "markdown",
   "metadata": {},
   "source": [
    "Small data set"
   ]
  },
  {
   "cell_type": "code",
   "execution_count": 15,
   "metadata": {},
   "outputs": [
    {
     "name": "stdout",
     "output_type": "stream",
     "text": [
      "datasetlow:56\n",
      "datasetmedium:16\n",
      "datasetHigh:84\n",
      "Total: 156\n",
      "156\n"
     ]
    },
    {
     "data": {
      "text/plain": [
       "[(array([0, 0, 0, ..., 0, 0, 0]), array([34])),\n",
       " (array([0, 0, 0, ..., 0, 0, 0]), array([30])),\n",
       " (array([0, 0, 0, ..., 0, 0, 0]), array([45]))]"
      ]
     },
     "execution_count": 15,
     "metadata": {},
     "output_type": "execute_result"
    }
   ],
   "source": [
    "datasetlow = expermentDataloader(\n",
    "    \"/home/khood/GitHub/SNN-DNA-project/Prepocessing/data/seperatedData/low/index.csv\",\n",
    "    \"/home/khood/GitHub/SNN-DNA-project/Prepocessing/data/seperatedData/low\", \n",
    ")\n",
    "datasetmedium = expermentDataloader(\n",
    "    \"/home/khood/GitHub/SNN-DNA-project/Prepocessing/data/seperatedData/medium/index.csv\",\n",
    "    \"/home/khood/GitHub/SNN-DNA-project/Prepocessing/data/seperatedData/medium\", \n",
    ")\n",
    "datasetHigh = expermentDataloader(\n",
    "    \"/home/khood/GitHub/SNN-DNA-project/Prepocessing/data/seperatedData/high/index.csv\",\n",
    "    \"/home/khood/GitHub/SNN-DNA-project/Prepocessing/data/seperatedData/high\", \n",
    ")\n",
    "\n",
    "print(f\"datasetlow:{len(datasetlow)}\")\n",
    "print(f\"datasetmedium:{len(datasetmedium)}\")\n",
    "print(f\"datasetHigh:{len(datasetHigh)}\")\n",
    "print(f\"Total: {len(datasetlow) + len(datasetmedium) + len(datasetHigh)}\")\n",
    "rawData = [i for i in datasetlow] + [i for i in datasetmedium] + [i for i in datasetHigh]\n",
    "print(len(rawData))\n",
    "rawData[:3]\n"
   ]
  },
  {
   "attachments": {},
   "cell_type": "markdown",
   "metadata": {},
   "source": [
    "Dumb method is to just assume that the rate of events is constant (i.e. this data has the first half of the experment we will just double the sum of events)"
   ]
  },
  {
   "cell_type": "code",
   "execution_count": 16,
   "metadata": {},
   "outputs": [
    {
     "data": {
      "text/plain": [
       "[26, 40, 66]"
      ]
     },
     "execution_count": 16,
     "metadata": {},
     "output_type": "execute_result"
    }
   ],
   "source": [
    "predictions = [np.sum(i[0])*2 for i in rawData]\n",
    "predictions[:3]"
   ]
  },
  {
   "cell_type": "code",
   "execution_count": 17,
   "metadata": {},
   "outputs": [
    {
     "data": {
      "text/plain": [
       "[34, 30, 45]"
      ]
     },
     "execution_count": 17,
     "metadata": {},
     "output_type": "execute_result"
    }
   ],
   "source": [
    "targets = [i[1][0] for i in rawData]\n",
    "targets[:3]"
   ]
  },
  {
   "cell_type": "code",
   "execution_count": 18,
   "metadata": {},
   "outputs": [
    {
     "name": "stdout",
     "output_type": "stream",
     "text": [
      "accurate within 0 events 0% of the time\n",
      "accurate within 1 events 7% of the time\n",
      "accurate within 2 events 9% of the time\n",
      "accurate within 3 events 10% of the time\n",
      "accurate within 4 events 12% of the time\n",
      "accurate within 5 events 14% of the time\n",
      "accurate within 6 events 17% of the time\n",
      "accurate within 7 events 19% of the time\n",
      "accurate within 8 events 20% of the time\n",
      "accurate within 9 events 25% of the time\n",
      "accurate within 10 events 26% of the time\n",
      "accurate within 11 events 30% of the time\n",
      "accurate within 12 events 30% of the time\n",
      "accurate within 13 events 34% of the time\n",
      "accurate within 14 events 36% of the time\n",
      "accurate within 15 events 39% of the time\n",
      "accurate within 16 events 41% of the time\n",
      "accurate within 17 events 44% of the time\n",
      "accurate within 18 events 46% of the time\n",
      "accurate within 19 events 49% of the time\n",
      "accurate within 20 events 50% of the time\n"
     ]
    }
   ],
   "source": [
    "for em in range(21):\n",
    "    acc = np.isclose(predictions,targets, atol=em)\n",
    "    print(f\"accurate within {em} events {int((np.sum(acc)/len(acc))*100)}% of the time\")"
   ]
  },
  {
   "attachments": {},
   "cell_type": "markdown",
   "metadata": {},
   "source": [
    "Large data set"
   ]
  },
  {
   "cell_type": "code",
   "execution_count": 19,
   "metadata": {},
   "outputs": [
    {
     "name": "stdout",
     "output_type": "stream",
     "text": [
      "datasetLarge:3862\n",
      "3862\n"
     ]
    },
    {
     "data": {
      "text/plain": [
       "[(array([0, 0, 0, ..., 0, 0, 0]), array([50])),\n",
       " (array([0, 0, 0, ..., 0, 0, 0]), array([79])),\n",
       " (array([0, 0, 0, ..., 0, 0, 0]), array([48]))]"
      ]
     },
     "execution_count": 19,
     "metadata": {},
     "output_type": "execute_result"
    }
   ],
   "source": [
    "datasetLarge = expermentDataloader(\n",
    "    \"/home/khood/GitHub/SNN-DNA-project/Prepocessing/large_dataset/allData/index.csv\",\n",
    "    \"/home/khood/GitHub/SNN-DNA-project/Prepocessing/large_dataset/allData/\", \n",
    ")\n",
    "print(f\"datasetLarge:{len(datasetLarge)}\")\n",
    "rawData = [i for i in datasetLarge]\n",
    "print(len(rawData))\n",
    "rawData[:3]"
   ]
  },
  {
   "cell_type": "code",
   "execution_count": 20,
   "metadata": {},
   "outputs": [
    {
     "data": {
      "text/plain": [
       "[30, 42, 24]"
      ]
     },
     "execution_count": 20,
     "metadata": {},
     "output_type": "execute_result"
    }
   ],
   "source": [
    "predictions = [np.sum(i[0])*6 for i in rawData]\n",
    "predictions[:3]"
   ]
  },
  {
   "cell_type": "code",
   "execution_count": 21,
   "metadata": {},
   "outputs": [
    {
     "data": {
      "text/plain": [
       "[50, 79, 48]"
      ]
     },
     "execution_count": 21,
     "metadata": {},
     "output_type": "execute_result"
    }
   ],
   "source": [
    "targets = [i[1][0] for i in rawData]\n",
    "targets[:3]"
   ]
  },
  {
   "cell_type": "code",
   "execution_count": 22,
   "metadata": {},
   "outputs": [
    {
     "name": "stdout",
     "output_type": "stream",
     "text": [
      "accurate within 0 events 0% of the time\n",
      "accurate within 1 events 2% of the time\n",
      "accurate within 2 events 3% of the time\n",
      "accurate within 3 events 5% of the time\n",
      "accurate within 4 events 6% of the time\n",
      "accurate within 5 events 7% of the time\n",
      "accurate within 6 events 9% of the time\n",
      "accurate within 7 events 10% of the time\n",
      "accurate within 8 events 11% of the time\n",
      "accurate within 9 events 12% of the time\n",
      "accurate within 10 events 14% of the time\n",
      "accurate within 11 events 15% of the time\n",
      "accurate within 12 events 16% of the time\n",
      "accurate within 13 events 18% of the time\n",
      "accurate within 14 events 19% of the time\n",
      "accurate within 15 events 20% of the time\n",
      "accurate within 16 events 22% of the time\n",
      "accurate within 17 events 24% of the time\n",
      "accurate within 18 events 25% of the time\n",
      "accurate within 19 events 26% of the time\n",
      "accurate within 20 events 27% of the time\n"
     ]
    }
   ],
   "source": [
    "for em in range(21):\n",
    "    acc = np.isclose(predictions,targets, atol=em)\n",
    "    print(f\"accurate within {em} events {int((np.sum(acc)/len(acc))*100)}% of the time\")"
   ]
  },
  {
   "attachments": {},
   "cell_type": "markdown",
   "metadata": {},
   "source": [
    "#### working with old data set expect its only the first 3.33 min (200sec)\n",
    "----"
   ]
  },
  {
   "cell_type": "code",
   "execution_count": 23,
   "metadata": {},
   "outputs": [
    {
     "name": "stdout",
     "output_type": "stream",
     "text": [
      "datasetLarge:156\n"
     ]
    },
    {
     "data": {
      "text/plain": [
       "4000"
      ]
     },
     "execution_count": 23,
     "metadata": {},
     "output_type": "execute_result"
    }
   ],
   "source": [
    "datasetLarge = expermentDataloader(\n",
    "    \"/home/khood/GitHub/SNN-DNA-project/Prepocessing/smallData6min/allData/index.csv\",\n",
    "    \"/home/khood/GitHub/SNN-DNA-project/Prepocessing/smallData6min/allData\", \n",
    ")\n",
    "print(f\"datasetLarge:{len(datasetLarge)}\")\n",
    "rawData = [i for i in datasetLarge]\n",
    "len(rawData[0][0])"
   ]
  },
  {
   "attachments": {},
   "cell_type": "markdown",
   "metadata": {},
   "source": [
    "#### working with data in seprated folders \n",
    "----"
   ]
  },
  {
   "cell_type": "code",
   "execution_count": 24,
   "metadata": {},
   "outputs": [
    {
     "data": {
      "text/plain": [
       "['/home/khood/GitHub/SNN-DNA-project/Prepocessing/sorted/3mm_9.24pN_out',\n",
       " '/home/khood/GitHub/SNN-DNA-project/Prepocessing/sorted/1800_nM_AR_out',\n",
       " '/home/khood/GitHub/SNN-DNA-project/Prepocessing/sorted/800_nM_AR_out',\n",
       " '/home/khood/GitHub/SNN-DNA-project/Prepocessing/sorted/9mm_0.002pN_out',\n",
       " '/home/khood/GitHub/SNN-DNA-project/Prepocessing/sorted/1200_nM_AR_out',\n",
       " '/home/khood/GitHub/SNN-DNA-project/Prepocessing/sorted/400_nM_AR_out',\n",
       " '/home/khood/GitHub/SNN-DNA-project/Prepocessing/sorted/50_nM_AR_out',\n",
       " '/home/khood/GitHub/SNN-DNA-project/Prepocessing/sorted/5mm_1.46pN_out',\n",
       " '/home/khood/GitHub/SNN-DNA-project/Prepocessing/sorted/2mm_22.6pN_out',\n",
       " '/home/khood/GitHub/SNN-DNA-project/Prepocessing/sorted/1.5mm_35.14pN_out',\n",
       " '/home/khood/GitHub/SNN-DNA-project/Prepocessing/sorted/100_nM_AR_out']"
      ]
     },
     "execution_count": 24,
     "metadata": {},
     "output_type": "execute_result"
    }
   ],
   "source": [
    "folders = [d[0] for d in os.walk(\"/home/khood/GitHub/SNN-DNA-project/Prepocessing/sorted\")][1:] # remove first one is it is \"/home/khood/GitHub/SNN-DNA-project/Prepocessing/sorted\"\n",
    "folders"
   ]
  },
  {
   "cell_type": "code",
   "execution_count": 25,
   "metadata": {},
   "outputs": [],
   "source": [
    "datasets = []\n",
    "for d in folders:\n",
    "    datasets.append(expermentDataloader(\n",
    "        f\"{d}/index.csv\",\n",
    "        f\"{d}\", \n",
    "    ))"
   ]
  },
  {
   "cell_type": "code",
   "execution_count": 57,
   "metadata": {},
   "outputs": [],
   "source": [
    "colors = ['black','brown','red','darkred','olive','yellow','olivedrab','forestgreen','green','darkslategray','teal','slategray','midnightblue']\n",
    "# for c in list(mcolors.CSS4_COLORS.keys()):\n",
    "#     colors.append(c)"
   ]
  },
  {
   "cell_type": "code",
   "execution_count": 58,
   "metadata": {},
   "outputs": [],
   "source": [
    "assert(len(colors) >= len(datasets))"
   ]
  },
  {
   "cell_type": "code",
   "execution_count": 59,
   "metadata": {},
   "outputs": [
    {
     "data": {
      "text/plain": [
       "'all'"
      ]
     },
     "execution_count": 59,
     "metadata": {},
     "output_type": "execute_result"
    }
   ],
   "source": [
    "defulte_ast_node_interactivity = InteractiveShell.ast_node_interactivity\n",
    "defultePlotSize = plt.rcParams['figure.figsize']\n",
    "InteractiveShell.ast_node_interactivity = 'all'\n",
    "InteractiveShell.ast_node_interactivity"
   ]
  },
  {
   "cell_type": "code",
   "execution_count": 60,
   "metadata": {},
   "outputs": [
    {
     "data": {
      "text/plain": [
       "[<matplotlib.lines.Line2D at 0x7fb8a66f6230>]"
      ]
     },
     "execution_count": 60,
     "metadata": {},
     "output_type": "execute_result"
    },
    {
     "name": "stdout",
     "output_type": "stream",
     "text": [
      "dataset 0\n",
      "+------------------\n",
      "| total number of experments: 16\n",
      "| min: 20\n",
      "| max: 172\n",
      "| average: 107.25\n",
      "| median: 127.0\n",
      "| mode: ModeResult(mode=array([132]), count=array([2]))\n",
      "| average difference: 55.6\n",
      "+------------------\n"
     ]
    },
    {
     "data": {
      "text/plain": [
       "[<matplotlib.lines.Line2D at 0x7fb8a66f64a0>]"
      ]
     },
     "execution_count": 60,
     "metadata": {},
     "output_type": "execute_result"
    },
    {
     "name": "stdout",
     "output_type": "stream",
     "text": [
      "dataset 1\n",
      "+------------------\n",
      "| total number of experments: 888\n",
      "| min: 40\n",
      "| max: 314\n",
      "| average: 90.42792792792793\n",
      "| median: 72.0\n",
      "| mode: ModeResult(mode=array([40]), count=array([22]))\n",
      "| average difference: 53.028403262337875\n",
      "+------------------\n"
     ]
    },
    {
     "data": {
      "text/plain": [
       "[<matplotlib.lines.Line2D at 0x7fb8a66f6770>]"
      ]
     },
     "execution_count": 60,
     "metadata": {},
     "output_type": "execute_result"
    },
    {
     "name": "stdout",
     "output_type": "stream",
     "text": [
      "dataset 2\n",
      "+------------------\n",
      "| total number of experments: 564\n",
      "| min: 55\n",
      "| max: 321\n",
      "| average: 99.34219858156028\n",
      "| median: 87.0\n",
      "| mode: ModeResult(mode=array([56]), count=array([16]))\n",
      "| average difference: 43.4588954814003\n",
      "+------------------\n"
     ]
    },
    {
     "data": {
      "text/plain": [
       "[<matplotlib.lines.Line2D at 0x7fb8a66f6a10>]"
      ]
     },
     "execution_count": 60,
     "metadata": {},
     "output_type": "execute_result"
    },
    {
     "name": "stdout",
     "output_type": "stream",
     "text": [
      "dataset 3\n",
      "+------------------\n",
      "| total number of experments: 21\n",
      "| min: 274\n",
      "| max: 392\n",
      "| average: 317.1904761904762\n",
      "| median: 310.0\n",
      "| mode: ModeResult(mode=array([285]), count=array([2]))\n",
      "| average difference: 35.65714285714286\n",
      "+------------------\n"
     ]
    },
    {
     "data": {
      "text/plain": [
       "[<matplotlib.lines.Line2D at 0x7fb8a66f6c80>]"
      ]
     },
     "execution_count": 60,
     "metadata": {},
     "output_type": "execute_result"
    },
    {
     "name": "stdout",
     "output_type": "stream",
     "text": [
      "dataset 4\n",
      "+------------------\n",
      "| total number of experments: 794\n",
      "| min: 40\n",
      "| max: 335\n",
      "| average: 88.81863979848866\n",
      "| median: 71.0\n",
      "| mode: ModeResult(mode=array([40]), count=array([30]))\n",
      "| average difference: 52.46033777924598\n",
      "+------------------\n"
     ]
    },
    {
     "data": {
      "text/plain": [
       "[<matplotlib.lines.Line2D at 0x7fb8a66f6f50>]"
      ]
     },
     "execution_count": 60,
     "metadata": {},
     "output_type": "execute_result"
    },
    {
     "name": "stdout",
     "output_type": "stream",
     "text": [
      "dataset 5\n",
      "+------------------\n",
      "| total number of experments: 477\n",
      "| min: 50\n",
      "| max: 289\n",
      "| average: 93.79874213836477\n",
      "| median: 81.0\n",
      "| mode: ModeResult(mode=array([53]), count=array([15]))\n",
      "| average difference: 44.79590578369713\n",
      "+------------------\n"
     ]
    },
    {
     "data": {
      "text/plain": [
       "[<matplotlib.lines.Line2D at 0x7fb8a66f71f0>]"
      ]
     },
     "execution_count": 60,
     "metadata": {},
     "output_type": "execute_result"
    },
    {
     "name": "stdout",
     "output_type": "stream",
     "text": [
      "dataset 6\n",
      "+------------------\n",
      "| total number of experments: 640\n",
      "| min: 35\n",
      "| max: 327\n",
      "| average: 53.5765625\n",
      "| median: 46.0\n",
      "| mode: ModeResult(mode=array([35]), count=array([45]))\n",
      "| average difference: 21.00057218309859\n",
      "+------------------\n"
     ]
    },
    {
     "data": {
      "text/plain": [
       "[<matplotlib.lines.Line2D at 0x7fb8a66f7460>]"
      ]
     },
     "execution_count": 60,
     "metadata": {},
     "output_type": "execute_result"
    },
    {
     "name": "stdout",
     "output_type": "stream",
     "text": [
      "dataset 7\n",
      "+------------------\n",
      "| total number of experments: 63\n",
      "| min: 34\n",
      "| max: 710\n",
      "| average: 247.61904761904762\n",
      "| median: 219.0\n",
      "| mode: ModeResult(mode=array([55]), count=array([2]))\n",
      "| average difference: 174.59600614439324\n",
      "+------------------\n"
     ]
    },
    {
     "data": {
      "text/plain": [
       "[<matplotlib.lines.Line2D at 0x7fb8a66f7700>]"
      ]
     },
     "execution_count": 60,
     "metadata": {},
     "output_type": "execute_result"
    },
    {
     "name": "stdout",
     "output_type": "stream",
     "text": [
      "dataset 8\n",
      "+------------------\n",
      "| total number of experments: 29\n",
      "| min: 13\n",
      "| max: 93\n",
      "| average: 41.241379310344826\n",
      "| median: 39.0\n",
      "| mode: ModeResult(mode=array([30]), count=array([3]))\n",
      "| average difference: 18.8128078817734\n",
      "+------------------\n"
     ]
    },
    {
     "data": {
      "text/plain": [
       "[<matplotlib.lines.Line2D at 0x7fb8a66f79a0>]"
      ]
     },
     "execution_count": 60,
     "metadata": {},
     "output_type": "execute_result"
    },
    {
     "name": "stdout",
     "output_type": "stream",
     "text": [
      "dataset 9\n",
      "+------------------\n",
      "| total number of experments: 27\n",
      "| min: 16\n",
      "| max: 67\n",
      "| average: 29.185185185185187\n",
      "| median: 27.0\n",
      "| mode: ModeResult(mode=array([17]), count=array([3]))\n",
      "| average difference: 12.256410256410257\n",
      "+------------------\n"
     ]
    },
    {
     "data": {
      "text/plain": [
       "[<matplotlib.lines.Line2D at 0x7fb8a66f7c40>]"
      ]
     },
     "execution_count": 60,
     "metadata": {},
     "output_type": "execute_result"
    },
    {
     "name": "stdout",
     "output_type": "stream",
     "text": [
      "dataset 10\n",
      "+------------------\n",
      "| total number of experments: 499\n",
      "| min: 50\n",
      "| max: 382\n",
      "| average: 72.72144288577154\n",
      "| median: 64.0\n",
      "| mode: ModeResult(mode=array([50]), count=array([23]))\n",
      "| average difference: 24.575013480776814\n",
      "+------------------\n"
     ]
    },
    {
     "data": {
      "text/plain": [
       "<matplotlib.legend.Legend at 0x7fb8ac523310>"
      ]
     },
     "execution_count": 60,
     "metadata": {},
     "output_type": "execute_result"
    },
    {
     "data": {
      "image/png": "[encoded data removed]",
      "text/plain": [
       "<Figure size 2000x500 with 1 Axes>"
      ]
     },
     "metadata": {},
     "output_type": "display_data"
    }
   ],
   "source": [
    "targets = []\n",
    "for d in datasets:\n",
    "    targets.append([i[1] for i in d])\n",
    "\n",
    "\n",
    "plt.rcParams['figure.figsize'] = [20, 5]\n",
    "for i in range(len(targets)):\n",
    "    c = colors.pop(random.randrange(len(colors)))\n",
    "    plt.plot(list(range(len(targets[i]))), targets[i], '.', color=c, label=f\"dataset {i}\")\n",
    "    print(f\"dataset {i}\")\n",
    "    printStats(targets[i])\n",
    "plt.legend(numpoints=1)"
   ]
  },
  {
   "cell_type": "code",
   "execution_count": null,
   "metadata": {},
   "outputs": [],
   "source": [
    "plt.rcParams['figure.figsize'] = defultePlotSize\n",
    "InteractiveShell.ast_node_interactivity = defulte_ast_node_interactivity"
   ]
  }
 ],
 "metadata": {
  "kernelspec": {
   "display_name": "dna",
   "language": "python",
   "name": "python3"
  },
  "language_info": {
   "codemirror_mode": {
    "name": "ipython",
    "version": 3
   },
   "file_extension": ".py",
   "mimetype": "text/x-python",
   "name": "python",
   "nbconvert_exporter": "python",
   "pygments_lexer": "ipython3",
   "version": "3.10.9"
  },
  "orig_nbformat": 4
 },
 "nbformat": 4,
 "nbformat_minor": 2
}
