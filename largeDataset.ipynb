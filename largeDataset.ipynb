{
 "cells": [
  {
   "cell_type": "code",
   "execution_count": 1,
   "metadata": {},
   "outputs": [
    {
     "data": {
      "text/plain": [
       "device(type='cuda', index=2)"
      ]
     },
     "execution_count": 1,
     "metadata": {},
     "output_type": "execute_result"
    }
   ],
   "source": [
    "import pandas as pd\n",
    "import os\n",
    "import h5py\n",
    "import numpy as np\n",
    "import matplotlib.pyplot as plt\n",
    "import torch\n",
    "from torch.utils.data import Dataset, DataLoader\n",
    "import IPython.display as display\n",
    "from matplotlib import animation\n",
    "import torch\n",
    "from torch.utils.data import DataLoader\n",
    "import copy\n",
    "from torch import nn\n",
    "%matplotlib inline\n",
    "import matplotlib.pyplot as plt\n",
    "import random\n",
    "from dnaDataloader import expermentDataloader\n",
    "from dnaDataloader import addData\n",
    "device = torch.device(\"cuda:2\" if torch.cuda.is_available() else \"cpu\")\n",
    "batch_size = 10\n",
    "device"
   ]
  },
  {
   "cell_type": "markdown",
   "metadata": {},
   "source": [
    "#### large dataset\n",
    "----"
   ]
  },
  {
   "cell_type": "code",
   "execution_count": 2,
   "metadata": {},
   "outputs": [
    {
     "name": "stdout",
     "output_type": "stream",
     "text": [
      "datasetLarge:3862\n"
     ]
    }
   ],
   "source": [
    "datasetLarge = expermentDataloader(\n",
    "    \"/home/khood/GitHub/SNN-DNA-project/Prepocessing/large_dataset/allData/index.csv\",\n",
    "    \"/home/khood/GitHub/SNN-DNA-project/Prepocessing/large_dataset/allData/\", \n",
    ")\n",
    "print(f\"datasetLarge:{len(datasetLarge)}\")"
   ]
  },
  {
   "cell_type": "code",
   "execution_count": 3,
   "metadata": {},
   "outputs": [
    {
     "name": "stdout",
     "output_type": "stream",
     "text": [
      "Training dataset size: 3090\n",
      "Testing dataset size: 463\n",
      "Valid dataset size: 309\n",
      "Total: 3862\n",
      "number train batches:309\n",
      "number test batches:31\n",
      "number valid batches:47\n"
     ]
    }
   ],
   "source": [
    "rawData = [datasetLarge[i] for i in list(range(len(datasetLarge)))]\n",
    "trainData = []\n",
    "testValid = []\n",
    "addData(trainData, testValid, rawData, rhsSize=int(len(rawData)*0.2))\n",
    "testData = []\n",
    "validData = []\n",
    "addData(testData, validData, testValid, rhsSize=int(len(testValid)*0.6))\n",
    "\n",
    "trainDataset = DataLoader(trainData, batch_size=batch_size, shuffle=True)\n",
    "testDataset = DataLoader(testData, batch_size=batch_size, shuffle=True)\n",
    "validDataset = DataLoader(validData, batch_size=batch_size, shuffle=True)\n",
    "print(f\"Training dataset size: {len(trainData)}\")\n",
    "print(f\"Testing dataset size: {len(validData)}\")\n",
    "print(f\"Valid dataset size: {len(testData)}\")\n",
    "print(f\"Total: {len(trainData) + len(validData) + len(testData)}\")\n",
    "print(f\"number train batches:{len(trainDataset)}\")\n",
    "print(f\"number test batches:{len(testDataset)}\")\n",
    "print(f\"number valid batches:{len(validDataset)}\")"
   ]
  },
  {
   "cell_type": "code",
   "execution_count": 4,
   "metadata": {},
   "outputs": [
    {
     "name": "stdout",
     "output_type": "stream",
     "text": [
      "training...\n",
      "        epoch: 49/100\t         loss:13488.28035135472\t         accuracy:0.45886524822695035         \u001b\u001b\r"
     ]
    },
    {
     "ename": "KeyboardInterrupt",
     "evalue": "",
     "output_type": "error",
     "traceback": [
      "\u001b[0;31m---------------------------------------------------------------------------\u001b[0m",
      "\u001b[0;31mKeyboardInterrupt\u001b[0m                         Traceback (most recent call last)",
      "Cell \u001b[0;32mIn[4], line 23\u001b[0m\n\u001b[1;32m     21\u001b[0m model\u001b[39m.\u001b[39mtrain()\n\u001b[1;32m     22\u001b[0m \u001b[39mfor\u001b[39;00m i, (inputs, targets) \u001b[39min\u001b[39;00m \u001b[39menumerate\u001b[39m(trainDataset):\n\u001b[0;32m---> 23\u001b[0m     inputs, targets\u001b[39m=\u001b[39m inputs\u001b[39m.\u001b[39;49mfloat()\u001b[39m.\u001b[39;49mto(device), targets\u001b[39m.\u001b[39mfloat()\u001b[39m.\u001b[39mto(device)\n\u001b[1;32m     24\u001b[0m     outputs \u001b[39m=\u001b[39m model(inputs)\n\u001b[1;32m     25\u001b[0m     loss \u001b[39m=\u001b[39m MSE(outputs, targets)\n",
      "\u001b[0;31mKeyboardInterrupt\u001b[0m: "
     ]
    }
   ],
   "source": [
    "featIn = 12000\n",
    "model = nn.Sequential(\n",
    "          nn.Linear(featIn,24000),\n",
    "          nn.ReLU(),\n",
    "          nn.Linear(24000,24000),\n",
    "          nn.ReLU(),\n",
    "          nn.Linear(24000,24000),\n",
    "          nn.ReLU(),\n",
    "          nn.Linear(24000,1),\n",
    "        )\n",
    "model.to(device)\n",
    "MSE = nn.MSELoss(reduction = 'sum')\n",
    "adam = torch.optim.Adam(model.parameters(),lr=0.000001)\n",
    "\n",
    "em = 20\n",
    "epochs = 100\n",
    "losses = []\n",
    "accs = []\n",
    "print(\"training...\")\n",
    "for e in range(epochs): \n",
    "    model.train()\n",
    "    for i, (inputs, targets) in enumerate(trainDataset):\n",
    "        inputs, targets= inputs.float().to(device), targets.float().to(device)\n",
    "        outputs = model(inputs)\n",
    "        loss = MSE(outputs, targets)\n",
    "        adam.zero_grad()\n",
    "        loss.backward()\n",
    "        adam.step()\n",
    "        \n",
    "    avgLoss = []\n",
    "    currentAcc = []\n",
    "    model.eval()\n",
    "    for i, (inputs, targets) in enumerate(validDataset):\n",
    "        inputs, targets= inputs.float().to(device), targets.float().to(device)\n",
    "        outputs = model(inputs)\n",
    "        loss = MSE(outputs, targets)\n",
    "        outputPlot = outputs.clone().detach().cpu().numpy()\n",
    "        targetsPlot = targets.clone().detach().cpu().numpy()\n",
    "        avgLoss.append(float(loss.clone().detach().cpu().numpy()))\n",
    "        totalCorrect = torch.sum(torch.isclose(outputs.int(), targets.int(), atol=em))\n",
    "        totalCorrect = totalCorrect.clone().detach().cpu().numpy()\n",
    "        currentAcc.append(float(totalCorrect/len(targets)))\n",
    "        print(f\"\\\n",
    "        epoch: {e}/{epochs}\\t \\\n",
    "        loss:{np.sum(avgLoss)/len(avgLoss)}\\t \\\n",
    "        accuracy:{np.sum(currentAcc)/len(currentAcc)} \\\n",
    "        \",end=\"\\x1b\\r\")\n",
    "    accs.append(float(np.sum(currentAcc)/len(currentAcc)))\n",
    "    losses.append(float(np.sum(avgLoss)/len(avgLoss)))"
   ]
  },
  {
   "cell_type": "code",
   "execution_count": null,
   "metadata": {},
   "outputs": [],
   "source": [
    "defultePlotSize = plt.rcParams['figure.figsize']\n",
    "plt.rcParams['figure.figsize'] = [20, 5]\n",
    "plt.subplot(1, 2, 1)\n",
    "plt.title('accuracy vs epochs')\n",
    "plt.plot(list(range(len(accs))), accs, '-', color='black', )\n",
    "plt.subplot(1, 2, 2)\n",
    "plt.title('losse vs epochs')\n",
    "plt.plot(list(range(len(losses))), losses, '-', color='black')\n",
    "plt.rcParams['figure.figsize'] = defultePlotSize\n",
    "epochs*len(validDataset)"
   ]
  },
  {
   "cell_type": "code",
   "execution_count": null,
   "metadata": {},
   "outputs": [],
   "source": [
    "from datetime import datetime\n",
    "title = \"working with large dataset\"\n",
    "dt_string = datetime.now().strftime(\"%d.%m.%Y_%H-%M-%S-%f\")\n",
    "modelPath = f\"./Models/{title.replace(' ', '_')}_{dt_string}.pt\"\n",
    "torch.save(model.state_dict(),modelPath)\n",
    "print(f\"saved to {modelPath}\")"
   ]
  },
  {
   "cell_type": "code",
   "execution_count": null,
   "metadata": {},
   "outputs": [
    {
     "name": "stdout",
     "output_type": "stream",
     "text": [
      "test...\n",
      "    accuracy:0.48057512953367876     \u001b\r"
     ]
    },
    {
     "data": {
      "text/plain": [
       "[<matplotlib.lines.Line2D at 0x7fdd505fff70>]"
      ]
     },
     "metadata": {},
     "output_type": "display_data"
    },
    {
     "data": {
      "image/png": "[encoded data removed]",
      "text/plain": [
       "<Figure size 640x480 with 1 Axes>"
      ]
     },
     "metadata": {},
     "output_type": "display_data"
    }
   ],
   "source": [
    "em =40\n",
    "epochs = 50\n",
    "accs = []\n",
    "model.eval()\n",
    "print(\"test...\")\n",
    "for e in range(epochs): \n",
    "    avgLoss = []\n",
    "    currentAcc = []\n",
    "    for i, (inputs, targets) in enumerate(largeDataset):\n",
    "        inputs, targets= inputs.float().to(device), targets.float().to(device)\n",
    "        outputs = model(inputs)\n",
    "        if(len(outputs) == batch_size):\n",
    "            outputPlot = outputs.clone().detach().cpu().numpy()\n",
    "            targetsPlot = targets.clone().detach().cpu().numpy()\n",
    "            totalCorrect = torch.sum(torch.isclose(outputs.int(), targets.int(), atol=em))\n",
    "            totalCorrect = totalCorrect.clone().detach().cpu().numpy()\n",
    "            currentAcc.append(float(totalCorrect/len(targets)))\n",
    "            accs.append(float(totalCorrect/len(targets)))\n",
    "\n",
    "print(f\"\\\n",
    "    accuracy:{np.sum(accs)/len(accs)} \\\n",
    "    \",end=\"\\x1b\\r\")\n",
    "\n",
    "plt.plot(list(range(len(outputPlot))), outputPlot, 'o', color='black')\n",
    "plt.plot(list(range(len(targetsPlot))), targetsPlot, 'o', color='green')"
   ]
  }
 ],
 "metadata": {
  "kernelspec": {
   "display_name": "dna",
   "language": "python",
   "name": "python3"
  },
  "language_info": {
   "codemirror_mode": {
    "name": "ipython",
    "version": 3
   },
   "file_extension": ".py",
   "mimetype": "text/x-python",
   "name": "python",
   "nbconvert_exporter": "python",
   "pygments_lexer": "ipython3",
   "version": "3.10.9"
  },
  "orig_nbformat": 4
 },
 "nbformat": 4,
 "nbformat_minor": 2
}
