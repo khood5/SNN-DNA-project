{
 "cells": [
  {
   "cell_type": "code",
   "execution_count": 12,
   "metadata": {},
   "outputs": [
    {
     "data": {
      "text/plain": [
       "device(type='cuda', index=1)"
      ]
     },
     "execution_count": 12,
     "metadata": {},
     "output_type": "execute_result"
    }
   ],
   "source": [
    "import numpy as np\n",
    "import matplotlib.pyplot as plt\n",
    "import torch\n",
    "from torch.utils.data import DataLoader\n",
    "from sklearn import preprocessing\n",
    "import torch\n",
    "from torch.utils.data import DataLoader\n",
    "import copy\n",
    "from torch import nn\n",
    "%matplotlib inline\n",
    "import matplotlib.pyplot as plt\n",
    "from dnaDataloader import expermentDataloader\n",
    "from dnaDataloader import addData\n",
    "from dnaModelUtil import printStats\n",
    "from scipy import stats as st\n",
    "from datetime import datetime\n",
    "\n",
    "device = torch.device(\"cuda:1\" if torch.cuda.is_available() else \"cpu\")\n",
    "batch_size = 100\n",
    "device"
   ]
  },
  {
   "attachments": {},
   "cell_type": "markdown",
   "metadata": {},
   "source": [
    "#### large dataset\n",
    "----"
   ]
  },
  {
   "cell_type": "code",
   "execution_count": 13,
   "metadata": {},
   "outputs": [
    {
     "name": "stdout",
     "output_type": "stream",
     "text": [
      "datasetLarge:3862\n"
     ]
    }
   ],
   "source": [
    "datasetLarge = expermentDataloader(\n",
    "    \"/home/khood/GitHub/SNN-DNA-project/Prepocessing/large_dataset/allData/index.csv\",\n",
    "    \"/home/khood/GitHub/SNN-DNA-project/Prepocessing/large_dataset/allData/\", \n",
    ")\n",
    "print(f\"datasetLarge:{len(datasetLarge)}\")"
   ]
  },
  {
   "cell_type": "code",
   "execution_count": 14,
   "metadata": {},
   "outputs": [
    {
     "name": "stdout",
     "output_type": "stream",
     "text": [
      "input: [0 0 0 ... 0 0 0]\n",
      "output: [50]\n"
     ]
    }
   ],
   "source": [
    "rawData = [datasetLarge[i] for i in list(range(len(datasetLarge)))]\n",
    "print(f\"input: {rawData[0][0]}\")\n",
    "print(f\"output: {rawData[0][1]}\")"
   ]
  },
  {
   "cell_type": "code",
   "execution_count": 15,
   "metadata": {},
   "outputs": [],
   "source": [
    "# def switchToDurration(expermentFrames):\n",
    "#     lastOne = 0\n",
    "#     for i in range(len(expermentFrames)):\n",
    "#         if expermentFrames[i]:\n",
    "#             expermentFrames[i] = i - lastOne if lastOne != 0 else 0\n",
    "#             lastOne = i\n",
    "#     return expermentFrames\n",
    "\n",
    "# for i in rawData:\n",
    "#     i = (switchToDurration(i[0]), i[1])\n",
    "# print(f\"input: {rawData[0][0]}\")\n",
    "# print(f\"output: {rawData[0][1]}\")"
   ]
  },
  {
   "cell_type": "code",
   "execution_count": 16,
   "metadata": {},
   "outputs": [
    {
     "name": "stdout",
     "output_type": "stream",
     "text": [
      "featIn 12000\n"
     ]
    },
    {
     "data": {
      "image/png": "[encoded data removed]",
      "text/plain": [
       "<Figure size 640x480 with 1 Axes>"
      ]
     },
     "metadata": {},
     "output_type": "display_data"
    }
   ],
   "source": [
    "plt.plot(list(range(len(rawData[0][0]))), rawData[0][0], 'o', color='black')\n",
    "featIn = len(rawData[0][0])\n",
    "print(f\"featIn {featIn}\")"
   ]
  },
  {
   "cell_type": "code",
   "execution_count": 17,
   "metadata": {},
   "outputs": [
    {
     "name": "stdout",
     "output_type": "stream",
     "text": [
      "Training dataset size: 194\n",
      "Testing dataset size: 3475\n",
      "Valid dataset size: 193\n",
      "Total: 3862\n",
      "number train batches:2\n",
      "number test batches:1\n",
      "number valid batches:2\n"
     ]
    }
   ],
   "source": [
    "trainValidData = []\n",
    "testData = []\n",
    "addData(trainValidData, testData, rawData, rhsSize=int(len(rawData)*0.90))\n",
    "\n",
    "\n",
    "np.random.shuffle(trainValidData)\n",
    "trainData = []\n",
    "validData = []\n",
    "addData(trainData, validData, trainValidData, rhsSize=int(len(trainValidData)*0.5))\n",
    "\n",
    "trainDataset = DataLoader(trainData, batch_size=batch_size, shuffle=True, num_workers=16)\n",
    "testDataset = DataLoader(testData, batch_size=len(testData), shuffle=True, num_workers=16)\n",
    "validDataset = DataLoader(validData, batch_size=batch_size, shuffle=True, num_workers=16)\n",
    "print(f\"Training dataset size: {len(trainData)}\")\n",
    "print(f\"Testing dataset size: {len(testData)}\")\n",
    "print(f\"Valid dataset size: {len(validData)}\")\n",
    "print(f\"Total: {len(trainData) + len(validData) + len(testData)}\")\n",
    "print(f\"number train batches:{len(trainDataset)}\")\n",
    "print(f\"number test batches:{len(testDataset)}\")\n",
    "print(f\"number valid batches:{len(validDataset)}\")"
   ]
  },
  {
   "cell_type": "code",
   "execution_count": 18,
   "metadata": {},
   "outputs": [
    {
     "data": {
      "text/plain": [
       "device(type='cuda', index=1)"
      ]
     },
     "execution_count": 18,
     "metadata": {},
     "output_type": "execute_result"
    }
   ],
   "source": [
    "device"
   ]
  },
  {
   "cell_type": "code",
   "execution_count": 19,
   "metadata": {},
   "outputs": [
    {
     "name": "stdout",
     "output_type": "stream",
     "text": [
      "training...\n",
      "        epoch: 148/10000\t         Train Loss:844942.6875 Valid Loss:819405.8438\t         Train accuracy:0.0000 Valid accuracy:0.0000         \u001b\r"
     ]
    },
    {
     "ename": "KeyboardInterrupt",
     "evalue": "",
     "output_type": "error",
     "traceback": [
      "\u001b[0;31m---------------------------------------------------------------------------\u001b[0m",
      "\u001b[0;31mKeyboardInterrupt\u001b[0m                         Traceback (most recent call last)",
      "Cell \u001b[0;32mIn[19], line 25\u001b[0m\n\u001b[1;32m     23\u001b[0m currentAccTrain \u001b[39m=\u001b[39m []\n\u001b[1;32m     24\u001b[0m model\u001b[39m.\u001b[39mtrain()\n\u001b[0;32m---> 25\u001b[0m \u001b[39mfor\u001b[39;00m i, (inputs, targets) \u001b[39min\u001b[39;00m \u001b[39menumerate\u001b[39m(trainDataset):\n\u001b[1;32m     26\u001b[0m     inputs, targets\u001b[39m=\u001b[39m inputs\u001b[39m.\u001b[39mfloat()\u001b[39m.\u001b[39mto(device), targets\u001b[39m.\u001b[39mfloat()\u001b[39m.\u001b[39mto(device)\n\u001b[1;32m     27\u001b[0m     outputs \u001b[39m=\u001b[39m model(inputs)\n",
      "File \u001b[0;32m~/anaconda3/envs/torchbenchmark/lib/python3.10/site-packages/torch/utils/data/dataloader.py:633\u001b[0m, in \u001b[0;36m_BaseDataLoaderIter.__next__\u001b[0;34m(self)\u001b[0m\n\u001b[1;32m    630\u001b[0m \u001b[39mif\u001b[39;00m \u001b[39mself\u001b[39m\u001b[39m.\u001b[39m_sampler_iter \u001b[39mis\u001b[39;00m \u001b[39mNone\u001b[39;00m:\n\u001b[1;32m    631\u001b[0m     \u001b[39m# TODO(https://github.com/pytorch/pytorch/issues/76750)\u001b[39;00m\n\u001b[1;32m    632\u001b[0m     \u001b[39mself\u001b[39m\u001b[39m.\u001b[39m_reset()  \u001b[39m# type: ignore[call-arg]\u001b[39;00m\n\u001b[0;32m--> 633\u001b[0m data \u001b[39m=\u001b[39m \u001b[39mself\u001b[39;49m\u001b[39m.\u001b[39;49m_next_data()\n\u001b[1;32m    634\u001b[0m \u001b[39mself\u001b[39m\u001b[39m.\u001b[39m_num_yielded \u001b[39m+\u001b[39m\u001b[39m=\u001b[39m \u001b[39m1\u001b[39m\n\u001b[1;32m    635\u001b[0m \u001b[39mif\u001b[39;00m \u001b[39mself\u001b[39m\u001b[39m.\u001b[39m_dataset_kind \u001b[39m==\u001b[39m _DatasetKind\u001b[39m.\u001b[39mIterable \u001b[39mand\u001b[39;00m \\\n\u001b[1;32m    636\u001b[0m         \u001b[39mself\u001b[39m\u001b[39m.\u001b[39m_IterableDataset_len_called \u001b[39mis\u001b[39;00m \u001b[39mnot\u001b[39;00m \u001b[39mNone\u001b[39;00m \u001b[39mand\u001b[39;00m \\\n\u001b[1;32m    637\u001b[0m         \u001b[39mself\u001b[39m\u001b[39m.\u001b[39m_num_yielded \u001b[39m>\u001b[39m \u001b[39mself\u001b[39m\u001b[39m.\u001b[39m_IterableDataset_len_called:\n",
      "File \u001b[0;32m~/anaconda3/envs/torchbenchmark/lib/python3.10/site-packages/torch/utils/data/dataloader.py:1331\u001b[0m, in \u001b[0;36m_MultiProcessingDataLoaderIter._next_data\u001b[0;34m(self)\u001b[0m\n\u001b[1;32m   1328\u001b[0m     \u001b[39mreturn\u001b[39;00m \u001b[39mself\u001b[39m\u001b[39m.\u001b[39m_process_data(data)\n\u001b[1;32m   1330\u001b[0m \u001b[39massert\u001b[39;00m \u001b[39mnot\u001b[39;00m \u001b[39mself\u001b[39m\u001b[39m.\u001b[39m_shutdown \u001b[39mand\u001b[39;00m \u001b[39mself\u001b[39m\u001b[39m.\u001b[39m_tasks_outstanding \u001b[39m>\u001b[39m \u001b[39m0\u001b[39m\n\u001b[0;32m-> 1331\u001b[0m idx, data \u001b[39m=\u001b[39m \u001b[39mself\u001b[39;49m\u001b[39m.\u001b[39;49m_get_data()\n\u001b[1;32m   1332\u001b[0m \u001b[39mself\u001b[39m\u001b[39m.\u001b[39m_tasks_outstanding \u001b[39m-\u001b[39m\u001b[39m=\u001b[39m \u001b[39m1\u001b[39m\n\u001b[1;32m   1333\u001b[0m \u001b[39mif\u001b[39;00m \u001b[39mself\u001b[39m\u001b[39m.\u001b[39m_dataset_kind \u001b[39m==\u001b[39m _DatasetKind\u001b[39m.\u001b[39mIterable:\n\u001b[1;32m   1334\u001b[0m     \u001b[39m# Check for _IterableDatasetStopIteration\u001b[39;00m\n",
      "File \u001b[0;32m~/anaconda3/envs/torchbenchmark/lib/python3.10/site-packages/torch/utils/data/dataloader.py:1297\u001b[0m, in \u001b[0;36m_MultiProcessingDataLoaderIter._get_data\u001b[0;34m(self)\u001b[0m\n\u001b[1;32m   1293\u001b[0m     \u001b[39m# In this case, `self._data_queue` is a `queue.Queue`,. But we don't\u001b[39;00m\n\u001b[1;32m   1294\u001b[0m     \u001b[39m# need to call `.task_done()` because we don't use `.join()`.\u001b[39;00m\n\u001b[1;32m   1295\u001b[0m \u001b[39melse\u001b[39;00m:\n\u001b[1;32m   1296\u001b[0m     \u001b[39mwhile\u001b[39;00m \u001b[39mTrue\u001b[39;00m:\n\u001b[0;32m-> 1297\u001b[0m         success, data \u001b[39m=\u001b[39m \u001b[39mself\u001b[39;49m\u001b[39m.\u001b[39;49m_try_get_data()\n\u001b[1;32m   1298\u001b[0m         \u001b[39mif\u001b[39;00m success:\n\u001b[1;32m   1299\u001b[0m             \u001b[39mreturn\u001b[39;00m data\n",
      "File \u001b[0;32m~/anaconda3/envs/torchbenchmark/lib/python3.10/site-packages/torch/utils/data/dataloader.py:1135\u001b[0m, in \u001b[0;36m_MultiProcessingDataLoaderIter._try_get_data\u001b[0;34m(self, timeout)\u001b[0m\n\u001b[1;32m   1122\u001b[0m \u001b[39mdef\u001b[39;00m \u001b[39m_try_get_data\u001b[39m(\u001b[39mself\u001b[39m, timeout\u001b[39m=\u001b[39m_utils\u001b[39m.\u001b[39mMP_STATUS_CHECK_INTERVAL):\n\u001b[1;32m   1123\u001b[0m     \u001b[39m# Tries to fetch data from `self._data_queue` once for a given timeout.\u001b[39;00m\n\u001b[1;32m   1124\u001b[0m     \u001b[39m# This can also be used as inner loop of fetching without timeout, with\u001b[39;00m\n\u001b[0;32m   (...)\u001b[0m\n\u001b[1;32m   1132\u001b[0m     \u001b[39m# Returns a 2-tuple:\u001b[39;00m\n\u001b[1;32m   1133\u001b[0m     \u001b[39m#   (bool: whether successfully get data, any: data if successful else None)\u001b[39;00m\n\u001b[1;32m   1134\u001b[0m     \u001b[39mtry\u001b[39;00m:\n\u001b[0;32m-> 1135\u001b[0m         data \u001b[39m=\u001b[39m \u001b[39mself\u001b[39;49m\u001b[39m.\u001b[39;49m_data_queue\u001b[39m.\u001b[39;49mget(timeout\u001b[39m=\u001b[39;49mtimeout)\n\u001b[1;32m   1136\u001b[0m         \u001b[39mreturn\u001b[39;00m (\u001b[39mTrue\u001b[39;00m, data)\n\u001b[1;32m   1137\u001b[0m     \u001b[39mexcept\u001b[39;00m \u001b[39mException\u001b[39;00m \u001b[39mas\u001b[39;00m e:\n\u001b[1;32m   1138\u001b[0m         \u001b[39m# At timeout and error, we manually check whether any worker has\u001b[39;00m\n\u001b[1;32m   1139\u001b[0m         \u001b[39m# failed. Note that this is the only mechanism for Windows to detect\u001b[39;00m\n\u001b[1;32m   1140\u001b[0m         \u001b[39m# worker failures.\u001b[39;00m\n",
      "File \u001b[0;32m~/anaconda3/envs/torchbenchmark/lib/python3.10/multiprocessing/queues.py:113\u001b[0m, in \u001b[0;36mQueue.get\u001b[0;34m(self, block, timeout)\u001b[0m\n\u001b[1;32m    111\u001b[0m \u001b[39mif\u001b[39;00m block:\n\u001b[1;32m    112\u001b[0m     timeout \u001b[39m=\u001b[39m deadline \u001b[39m-\u001b[39m time\u001b[39m.\u001b[39mmonotonic()\n\u001b[0;32m--> 113\u001b[0m     \u001b[39mif\u001b[39;00m \u001b[39mnot\u001b[39;00m \u001b[39mself\u001b[39;49m\u001b[39m.\u001b[39;49m_poll(timeout):\n\u001b[1;32m    114\u001b[0m         \u001b[39mraise\u001b[39;00m Empty\n\u001b[1;32m    115\u001b[0m \u001b[39melif\u001b[39;00m \u001b[39mnot\u001b[39;00m \u001b[39mself\u001b[39m\u001b[39m.\u001b[39m_poll():\n",
      "File \u001b[0;32m~/anaconda3/envs/torchbenchmark/lib/python3.10/multiprocessing/connection.py:257\u001b[0m, in \u001b[0;36m_ConnectionBase.poll\u001b[0;34m(self, timeout)\u001b[0m\n\u001b[1;32m    255\u001b[0m \u001b[39mself\u001b[39m\u001b[39m.\u001b[39m_check_closed()\n\u001b[1;32m    256\u001b[0m \u001b[39mself\u001b[39m\u001b[39m.\u001b[39m_check_readable()\n\u001b[0;32m--> 257\u001b[0m \u001b[39mreturn\u001b[39;00m \u001b[39mself\u001b[39;49m\u001b[39m.\u001b[39;49m_poll(timeout)\n",
      "File \u001b[0;32m~/anaconda3/envs/torchbenchmark/lib/python3.10/multiprocessing/connection.py:424\u001b[0m, in \u001b[0;36mConnection._poll\u001b[0;34m(self, timeout)\u001b[0m\n\u001b[1;32m    423\u001b[0m \u001b[39mdef\u001b[39;00m \u001b[39m_poll\u001b[39m(\u001b[39mself\u001b[39m, timeout):\n\u001b[0;32m--> 424\u001b[0m     r \u001b[39m=\u001b[39m wait([\u001b[39mself\u001b[39;49m], timeout)\n\u001b[1;32m    425\u001b[0m     \u001b[39mreturn\u001b[39;00m \u001b[39mbool\u001b[39m(r)\n",
      "File \u001b[0;32m~/anaconda3/envs/torchbenchmark/lib/python3.10/multiprocessing/connection.py:931\u001b[0m, in \u001b[0;36mwait\u001b[0;34m(object_list, timeout)\u001b[0m\n\u001b[1;32m    928\u001b[0m     deadline \u001b[39m=\u001b[39m time\u001b[39m.\u001b[39mmonotonic() \u001b[39m+\u001b[39m timeout\n\u001b[1;32m    930\u001b[0m \u001b[39mwhile\u001b[39;00m \u001b[39mTrue\u001b[39;00m:\n\u001b[0;32m--> 931\u001b[0m     ready \u001b[39m=\u001b[39m selector\u001b[39m.\u001b[39;49mselect(timeout)\n\u001b[1;32m    932\u001b[0m     \u001b[39mif\u001b[39;00m ready:\n\u001b[1;32m    933\u001b[0m         \u001b[39mreturn\u001b[39;00m [key\u001b[39m.\u001b[39mfileobj \u001b[39mfor\u001b[39;00m (key, events) \u001b[39min\u001b[39;00m ready]\n",
      "File \u001b[0;32m~/anaconda3/envs/torchbenchmark/lib/python3.10/selectors.py:416\u001b[0m, in \u001b[0;36m_PollLikeSelector.select\u001b[0;34m(self, timeout)\u001b[0m\n\u001b[1;32m    414\u001b[0m ready \u001b[39m=\u001b[39m []\n\u001b[1;32m    415\u001b[0m \u001b[39mtry\u001b[39;00m:\n\u001b[0;32m--> 416\u001b[0m     fd_event_list \u001b[39m=\u001b[39m \u001b[39mself\u001b[39;49m\u001b[39m.\u001b[39;49m_selector\u001b[39m.\u001b[39;49mpoll(timeout)\n\u001b[1;32m    417\u001b[0m \u001b[39mexcept\u001b[39;00m \u001b[39mInterruptedError\u001b[39;00m:\n\u001b[1;32m    418\u001b[0m     \u001b[39mreturn\u001b[39;00m ready\n",
      "\u001b[0;31mKeyboardInterrupt\u001b[0m: "
     ]
    }
   ],
   "source": [
    "model = nn.Sequential(\n",
    "          nn.Linear(featIn,700),\n",
    "          nn.ReLU(),\n",
    "          nn.Dropout(p=0.2),\n",
    "          nn.Linear(700,700),\n",
    "          nn.ReLU(),\n",
    "          nn.Dropout(p=0.2),\n",
    "          nn.Linear(700,700),\n",
    "          nn.ReLU(),\n",
    "          nn.Linear(700,1),\n",
    "        )\n",
    "model.to(device)\n",
    "MSE = nn.MSELoss(reduction = 'sum')\n",
    "adam = torch.optim.Adam(model.parameters(),lr=0.000001,weight_decay=1e-5)\n",
    "\n",
    "em = 20\n",
    "epochs = 10000\n",
    "losses = []\n",
    "accs = []\n",
    "print(\"training...\")\n",
    "for e in range(epochs): \n",
    "    avgLossTrain = []\n",
    "    currentAccTrain = []\n",
    "    model.train()\n",
    "    for i, (inputs, targets) in enumerate(trainDataset):\n",
    "        inputs, targets= inputs.float().to(device), targets.float().to(device)\n",
    "        outputs = model(inputs)\n",
    "        loss = MSE(outputs, targets)\n",
    "        avgLossTrain.append(float(loss.item()))\n",
    "        adam.zero_grad()\n",
    "        loss.backward()\n",
    "        adam.step()\n",
    "        totalCorrect = torch.sum(torch.isclose(outputs.int(), targets.int(), atol=em))\n",
    "        totalCorrect = totalCorrect.item()\n",
    "        currentAccTrain.append(float(totalCorrect/len(targets)))\n",
    "        \n",
    "    avgLoss = []\n",
    "    currentAcc = []\n",
    "    model.eval()\n",
    "    for i, (inputs, targets) in enumerate(validDataset):\n",
    "        inputs, targets= inputs.float().to(device), targets.float().to(device)\n",
    "        outputs = model(inputs)\n",
    "        loss = MSE(outputs, targets)\n",
    "        outputPlot = outputs.clone().detach().cpu().numpy()\n",
    "        targetsPlot = targets.clone().detach().cpu().numpy()\n",
    "        avgLoss.append(float(loss.clone().detach().cpu().numpy()))\n",
    "        totalCorrect = torch.sum(torch.isclose(outputs.int(), targets.int(), atol=em))\n",
    "        totalCorrect = totalCorrect.clone().detach().cpu().numpy()\n",
    "        currentAcc.append(float(totalCorrect/len(targets)))\n",
    "        print(f\"\\\n",
    "        epoch: {e}/{epochs}\\t \\\n",
    "        Train Loss:{'%.4f' % (np.sum(avgLossTrain)/len(avgLossTrain))} Valid Loss:{'%.4f' % (np.sum(avgLoss)/len(avgLoss))}\\t \\\n",
    "        Train accuracy:{'%.4f' % (np.sum(currentAccTrain)/len(currentAccTrain))} Valid accuracy:{'%.4f' % (np.sum(currentAcc)/len(currentAcc))} \\\n",
    "        \",end=\"\\x1b\\r\")\n",
    "    accs.append(float(np.sum(currentAcc)/len(currentAcc)))\n",
    "    losses.append(float(np.sum(avgLoss)/len(avgLoss)))"
   ]
  },
  {
   "cell_type": "code",
   "execution_count": null,
   "metadata": {},
   "outputs": [],
   "source": [
    "defultePlotSize = plt.rcParams['figure.figsize']\n",
    "plt.rcParams['figure.figsize'] = [20, 5]\n",
    "plt.subplot(1, 2, 1)\n",
    "plt.title('accuracy vs epochs')\n",
    "plt.plot(list(range(len(accs[:]))), accs[:], '-', color='black', )\n",
    "plt.subplot(1, 2, 2)\n",
    "plt.title('losse vs epochs')\n",
    "plt.plot(list(range(len(losses)))[:], losses[:], '-', color='black')\n",
    "plt.rcParams['figure.figsize'] = defultePlotSize\n",
    "epochs*len(validDataset)"
   ]
  },
  {
   "cell_type": "code",
   "execution_count": null,
   "metadata": {},
   "outputs": [],
   "source": [
    "title = \"working with large dataset small training set nnLinearfeatIn-700-nnReLU-nnDropoutp-02-nnLinear700-nnReLU-nnDropoutp-02-nnLinear700-nnReLU-nnLinear700-1\"\n",
    "dt_string = datetime.now().strftime(\"%d.%m.%Y_%H-%M-%S-%f\")\n",
    "modelPath = f\"./Models/{title.replace(' ', '_')}_{dt_string}.pt\"\n",
    "torch.save(model.state_dict(),modelPath)\n",
    "print(f\"saved to {modelPath}\")"
   ]
  },
  {
   "attachments": {},
   "cell_type": "markdown",
   "metadata": {},
   "source": [
    "## eval\n",
    "----"
   ]
  },
  {
   "cell_type": "code",
   "execution_count": null,
   "metadata": {},
   "outputs": [],
   "source": [
    "em =40\n",
    "epochs = 50\n",
    "accs = []\n",
    "model.eval()\n",
    "print(\"test...\")\n",
    "for e in range(epochs): \n",
    "    avgLoss = []\n",
    "    currentAcc = []\n",
    "    for i, (inputs, targets) in enumerate(testDataset):\n",
    "        inputs, targets= inputs.float().to(device), targets.float().to(device)\n",
    "        outputs = model(inputs)\n",
    "        outputPlot = outputs.clone().detach().cpu().numpy()\n",
    "        targetsPlot = targets.clone().detach().cpu().numpy()\n",
    "        totalCorrect = torch.sum(torch.isclose(outputs.int(), targets.int(), atol=em))\n",
    "        totalCorrect = totalCorrect.clone().detach().cpu().numpy()\n",
    "        currentAcc.append(float(totalCorrect/len(targets)))\n",
    "        accs.append(float(totalCorrect/len(targets)))\n",
    "\n",
    "print(f\"\\\n",
    "    accuracy:{np.sum(accs)/len(accs)} \\\n",
    "    \",end=\"\\x1b\\r\")"
   ]
  },
  {
   "cell_type": "code",
   "execution_count": null,
   "metadata": {},
   "outputs": [],
   "source": [
    "defultePlotSize = plt.rcParams['figure.figsize']\n",
    "plt.rcParams['figure.figsize'] = [20, 5]\n",
    "plt.plot(list(range(len(outputPlot))), outputPlot, 'o', color='black', label=\"predicted\")\n",
    "plt.plot(list(range(len(targetsPlot))), targetsPlot, 'o', color='green', label=\"true\" )\n",
    "plt.xlabel('test case')\n",
    "plt.ylabel('number of reactions')\n",
    "plt.title('Large dataset')\n",
    "plt.legend(loc='upper right')\n",
    "plt.rcParams['figure.figsize'] = defultePlotSize\n",
    "diffs = []\n",
    "for i in range(len(outputPlot)):\n",
    "    diffs.append(abs(outputPlot[i] - targetsPlot[i]))\n",
    "printStats(diffs)"
   ]
  },
  {
   "attachments": {},
   "cell_type": "markdown",
   "metadata": {},
   "source": [
    "#### eval on old data\n",
    "----"
   ]
  },
  {
   "cell_type": "code",
   "execution_count": null,
   "metadata": {},
   "outputs": [],
   "source": [
    "datasetLoaderlow = expermentDataloader(\n",
    "    \"/home/khood/GitHub/SNN-DNA-project/Prepocessing/data/seperatedData/low/index.csv\",\n",
    "    \"/home/khood/GitHub/SNN-DNA-project/Prepocessing/data/seperatedData/low\", \n",
    ")\n",
    "datasetLoadermedium = expermentDataloader(\n",
    "    \"/home/khood/GitHub/SNN-DNA-project/Prepocessing/data/seperatedData/medium/index.csv\",\n",
    "    \"/home/khood/GitHub/SNN-DNA-project/Prepocessing/data/seperatedData/medium\", \n",
    "    # startIndex=0, endIndex=60\n",
    ")\n",
    "datasetLoaderHigh = expermentDataloader(\n",
    "    \"/home/khood/GitHub/SNN-DNA-project/Prepocessing/data/seperatedData/high/index.csv\",\n",
    "    \"/home/khood/GitHub/SNN-DNA-project/Prepocessing/data/seperatedData/high\", \n",
    "    # startIndex=0, endIndex=-1\n",
    ")\n",
    "\n",
    "\n",
    "\n",
    "rawData = [datasetLoaderlow[i] for i in list(range(len(datasetLoaderlow)))]\n",
    "rawData = rawData + [datasetLoadermedium[i] for i in list(range(len(datasetLoadermedium)))]\n",
    "rawData = rawData + [datasetLoaderHigh[i] for i in list(range(len(datasetLoaderHigh)))]\n",
    "# rawData = [(switchToDurration(rawData[i][0]), rawData[i][1]) for i in list(range(len(rawData)))]\n",
    "rawData = [[k,v] for k,v in rawData]\n",
    "print(f\"datasetlow:{len(datasetLoaderlow)}\")\n",
    "print(f\"datasetmedium:{len(datasetLoadermedium)}\")\n",
    "print(f\"datasetHigh:{len(datasetLoaderHigh)}\")\n",
    "print(f\"Total: {len(datasetLoaderlow) + len(datasetLoadermedium) + len(datasetLoaderHigh)}\")"
   ]
  },
  {
   "cell_type": "code",
   "execution_count": null,
   "metadata": {},
   "outputs": [],
   "source": [
    "oldDataset = DataLoader(rawData, batch_size=len(rawData), shuffle=True)"
   ]
  },
  {
   "cell_type": "code",
   "execution_count": null,
   "metadata": {},
   "outputs": [],
   "source": [
    "em =40\n",
    "epochs = 50\n",
    "accs = []\n",
    "model.eval()\n",
    "print(\"test...\")\n",
    "for e in range(epochs): \n",
    "    avgLoss = []\n",
    "    currentAcc = []\n",
    "    for i, (inputs, targets) in enumerate(oldDataset):\n",
    "        inputs, targets= inputs.float().to(device), targets.float().to(device)\n",
    "        outputs = model(inputs)\n",
    "        outputPlot = outputs.clone().detach().cpu().numpy()\n",
    "        targetsPlot = targets.clone().detach().cpu().numpy()\n",
    "        totalCorrect = torch.sum(torch.isclose(outputs.int(), targets.int(), atol=em))\n",
    "        totalCorrect = totalCorrect.clone().detach().cpu().numpy()\n",
    "        currentAcc.append(float(totalCorrect/len(targets)))\n",
    "        accs.append(float(totalCorrect/len(targets)))\n",
    "\n",
    "print(f\"\\\n",
    "    accuracy:{np.sum(accs)/len(accs)} \\\n",
    "    \",end=\"\\x1b\\r\")"
   ]
  },
  {
   "cell_type": "code",
   "execution_count": null,
   "metadata": {},
   "outputs": [],
   "source": [
    "defultePlotSize = plt.rcParams['figure.figsize']\n",
    "plt.rcParams['figure.figsize'] = [20, 5]\n",
    "plt.plot(list(range(len(outputPlot))), outputPlot, 'o', color='black', label=\"predicted\")\n",
    "plt.plot(list(range(len(targetsPlot))), targetsPlot, 'o', color='green', label=\"true\" )\n",
    "plt.xlabel('test case')\n",
    "plt.ylabel('number of reactions')\n",
    "plt.title('Large dataset')\n",
    "plt.legend(loc='upper right')\n",
    "plt.rcParams['figure.figsize'] = defultePlotSize\n",
    "diffs = []\n",
    "for i in range(len(outputPlot)):\n",
    "    diffs.append(outputPlot[i] - targetsPlot[i])\n",
    "printStats(diffs)"
   ]
  }
 ],
 "metadata": {
  "kernelspec": {
   "display_name": "dna",
   "language": "python",
   "name": "python3"
  },
  "language_info": {
   "codemirror_mode": {
    "name": "ipython",
    "version": 3
   },
   "file_extension": ".py",
   "mimetype": "text/x-python",
   "name": "python",
   "nbconvert_exporter": "python",
   "pygments_lexer": "ipython3",
   "version": "3.10.11"
  },
  "orig_nbformat": 4
 },
 "nbformat": 4,
 "nbformat_minor": 2
}
