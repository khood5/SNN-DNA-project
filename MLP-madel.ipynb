{
 "cells": [
  {
   "cell_type": "code",
   "execution_count": 1,
   "metadata": {},
   "outputs": [
    {
     "data": {
      "text/plain": [
       "device(type='cuda', index=2)"
      ]
     },
     "execution_count": 1,
     "metadata": {},
     "output_type": "execute_result"
    }
   ],
   "source": [
    "import numpy as np\n",
    "import matplotlib.pyplot as plt\n",
    "import torch\n",
    "from torch.utils.data import DataLoader\n",
    "import torch\n",
    "from torch import nn\n",
    "%matplotlib inline\n",
    "import matplotlib.pyplot as plt\n",
    "from dnaDataloader import expermentDataloader\n",
    "from dnaDataloader import addData\n",
    "from dnaModelUtil import MLPModel\n",
    "from datetime import datetime\n",
    "device = torch.device(\"cuda:2\" if torch.cuda.is_available() else \"cpu\")\n",
    "folder = '/home/khood/GitHub/SNN-DNA-project/Prepocessing/sorted/1800_nM_AR_5000'\n",
    "oneMinInFPS = 1200\n",
    "batch_size = 10\n",
    "num_workers = 0\n",
    "device"
   ]
  },
  {
   "cell_type": "code",
   "execution_count": 2,
   "metadata": {},
   "outputs": [],
   "source": [
    "\n",
    "data = expermentDataloader(\n",
    "    f\"{folder}/index.csv\",\n",
    "    f\"{folder}\", \n",
    "    length = 10*oneMinInFPS\n",
    "    # length=36000 # 30 min half movie length \n",
    "    # length=12000 # 10 min movie length \n",
    ")\n",
    "# rawData = [(d[0][20*oneMinInFPS:], d[1])for d in data]\n",
    "rawData = [d for d in data]"
   ]
  },
  {
   "cell_type": "code",
   "execution_count": 3,
   "metadata": {},
   "outputs": [
    {
     "name": "stdout",
     "output_type": "stream",
     "text": [
      "featIn 12000\n"
     ]
    },
    {
     "data": {
      "image/png": "[encoded data removed]",
      "text/plain": [
       "<Figure size 640x480 with 1 Axes>"
      ]
     },
     "metadata": {},
     "output_type": "display_data"
    }
   ],
   "source": [
    "plt.plot(list(range(len(rawData[0][0]))), rawData[0][0], 'o', color='black')\n",
    "featIn = len(rawData[0][0])\n",
    "print(f\"featIn {featIn}\")"
   ]
  },
  {
   "cell_type": "code",
   "execution_count": 4,
   "metadata": {},
   "outputs": [
    {
     "data": {
      "text/plain": [
       "888"
      ]
     },
     "execution_count": 4,
     "metadata": {},
     "output_type": "execute_result"
    }
   ],
   "source": [
    "len(rawData)"
   ]
  },
  {
   "cell_type": "code",
   "execution_count": 5,
   "metadata": {},
   "outputs": [
    {
     "name": "stdout",
     "output_type": "stream",
     "text": [
      "Training dataset size: 200\n",
      "Valid dataset size: 100\n",
      "Testing dataset size: 588\n",
      "Total: 888\n",
      "number train batches:20\n",
      "number valid batches:10\n",
      "number test batches:1\n"
     ]
    }
   ],
   "source": [
    "featIn = len(rawData[0][0])\n",
    "trainValidData = []\n",
    "testData = []\n",
    "addData(testData, trainValidData, rawData, rhsSize=300)\n",
    "\n",
    "\n",
    "np.random.shuffle(trainValidData)\n",
    "trainData = []\n",
    "validData = []\n",
    "addData(trainData, validData, trainValidData, rhsSize=int(len(trainValidData)*(1/3)))\n",
    "\n",
    "trainDataset = DataLoader(trainData, batch_size=batch_size, shuffle=True, num_workers=num_workers, pin_memory=True) \n",
    "validDataset = DataLoader(validData, batch_size=batch_size, shuffle=True, num_workers=num_workers, pin_memory=True)\n",
    "testDataset = DataLoader(testData, batch_size=len(testData), shuffle=True, num_workers=num_workers, pin_memory=True)\n",
    "print(f\"Training dataset size: {len(trainData)}\")\n",
    "print(f\"Valid dataset size: {len(validData)}\")\n",
    "print(f\"Testing dataset size: {len(testData)}\")\n",
    "print(f\"Total: {len(trainData) + len(validData) + len(testData)}\")\n",
    "print(f\"number train batches:{len(trainDataset)}\")\n",
    "print(f\"number valid batches:{len(validDataset)}\")\n",
    "print(f\"number test batches:{len(testDataset)}\")"
   ]
  },
  {
   "cell_type": "code",
   "execution_count": 6,
   "metadata": {},
   "outputs": [
    {
     "data": {
      "text/plain": [
       "2160"
      ]
     },
     "execution_count": 6,
     "metadata": {},
     "output_type": "execute_result"
    }
   ],
   "source": [
    "size = int(featIn*0.06)\n",
    "size = 2160\n",
    "size"
   ]
  },
  {
   "cell_type": "code",
   "execution_count": 7,
   "metadata": {},
   "outputs": [
    {
     "name": "stdout",
     "output_type": "stream",
     "text": [
      "training...\n",
      "        epoch: 26/10000\t         Train Loss:3345.8442 Valid Loss:4417.4895\t         Train accuracy:0.50 Valid accuracy:0.50         \u001b\u001b\r"
     ]
    }
   ],
   "source": [
    "model = MLPModel(featIn=featIn, capacity=int(featIn*0.06))\n",
    "model = model.to(device)\n",
    "MSE = nn.MSELoss(reduction = 'mean')\n",
    "adam = torch.optim.Adam(model.parameters(),lr=0.0001,weight_decay=1e-5)\n",
    "\n",
    "em = 20\n",
    "epochs = 10000\n",
    "losses = []\n",
    "accs = []\n",
    "print(\"training...\")\n",
    "for e in range(epochs): \n",
    "    avgLossTrain = []\n",
    "    currentAccTrain = []\n",
    "    model.train()\n",
    "    for i, (inputs, targets) in enumerate(trainDataset):\n",
    "        inputs, targets= inputs.float().to(device), targets.float().to(device)\n",
    "        outputs = model(inputs)\n",
    "        loss = MSE(outputs, targets)\n",
    "        avgLossTrain.append(float(loss.item()))\n",
    "        adam.zero_grad()\n",
    "        loss.backward()\n",
    "        adam.step()\n",
    "        totalCorrect = torch.sum(torch.isclose(outputs.int(), targets.int(), atol=em))\n",
    "        totalCorrect = totalCorrect.item()\n",
    "        currentAccTrain.append(float(totalCorrect/len(targets)))\n",
    "        \n",
    "    avgLoss = []\n",
    "    currentAcc = []\n",
    "    model.eval()\n",
    "    for i, (inputs, targets) in enumerate(validDataset):\n",
    "        inputs, targets= inputs.float().to(device), targets.float().to(device)\n",
    "        outputs = model(inputs)\n",
    "        loss = MSE(outputs, targets)\n",
    "        outputPlot = outputs.clone().detach().cpu().numpy()\n",
    "        targetsPlot = targets.clone().detach().cpu().numpy()\n",
    "        avgLoss.append(float(loss.clone().detach().cpu().numpy()))\n",
    "        totalCorrect = torch.sum(torch.isclose(outputs.int(), targets.int(), atol=em))\n",
    "        totalCorrect = totalCorrect.clone().detach().cpu().numpy()\n",
    "        currentAcc.append(float(totalCorrect/len(targets)))\n",
    "        print(f\"\\\n",
    "        epoch: {e}/{epochs}\\t \\\n",
    "        Train Loss:{'%.4f' % (np.sum(avgLossTrain)/len(avgLossTrain))} Valid Loss:{'%.4f' % (np.sum(avgLoss)/len(avgLoss))}\\t \\\n",
    "        Train accuracy:{'%.2f' % (np.sum(currentAccTrain)/len(currentAccTrain))} Valid accuracy:{'%.2f' % (np.sum(currentAcc)/len(currentAcc))} \\\n",
    "        \",end=\"\\x1b\\r\")\n",
    "    accs.append(float(np.sum(currentAcc)/len(currentAcc)))\n",
    "    losses.append(float(np.sum(avgLoss)/len(avgLoss)))"
   ]
  },
  {
   "cell_type": "code",
   "execution_count": null,
   "metadata": {},
   "outputs": [],
   "source": [
    "defultePlotSize = plt.rcParams['figure.figsize']\n",
    "plt.rcParams['figure.figsize'] = [20, 5]\n",
    "plt.subplot(1, 2, 1)\n",
    "plt.title('accuracy vs epochs 10min')\n",
    "plt.plot(list(range(len(accs[:]))), accs[:], '-', color='black', )\n",
    "plt.subplot(1, 2, 2)\n",
    "plt.title('losse vs epochs 10min')\n",
    "plt.plot(list(range(len(losses)))[:], losses[:], '-', color='black')\n",
    "plt.rcParams['figure.figsize'] = defultePlotSize\n",
    "epochs*len(validDataset)"
   ]
  },
  {
   "cell_type": "code",
   "execution_count": null,
   "metadata": {},
   "outputs": [],
   "source": [
    "title = \"trying varied movie length\"\n",
    "dt_string = datetime.now().strftime(\"%d.%m.%Y_%H-%M-%S-%f\")\n",
    "modelPath = f\"./Models/{title.replace(' ', '_')}_{dt_string}.pt\"\n",
    "torch.save(model.state_dict(),modelPath)\n",
    "print(f\"saved to {modelPath}\")"
   ]
  }
 ],
 "metadata": {
  "kernelspec": {
   "display_name": "torch-gpu",
   "language": "python",
   "name": "python3"
  },
  "language_info": {
   "codemirror_mode": {
    "name": "ipython",
    "version": 3
   },
   "file_extension": ".py",
   "mimetype": "text/x-python",
   "name": "python",
   "nbconvert_exporter": "python",
   "pygments_lexer": "ipython3",
   "version": "3.10.11"
  },
  "orig_nbformat": 4
 },
 "nbformat": 4,
 "nbformat_minor": 2
}
