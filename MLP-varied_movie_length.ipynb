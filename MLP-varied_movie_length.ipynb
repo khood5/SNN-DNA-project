{
 "cells": [
  {
   "cell_type": "code",
   "execution_count": 3,
   "metadata": {},
   "outputs": [
    {
     "data": {
      "text/plain": [
       "device(type='cuda', index=1)"
      ]
     },
     "execution_count": 3,
     "metadata": {},
     "output_type": "execute_result"
    }
   ],
   "source": [
    "import numpy as np\n",
    "import matplotlib.pyplot as plt\n",
    "from torch.utils.data import DataLoader\n",
    "import torch\n",
    "import torch.nn as nn\n",
    "%matplotlib inline\n",
    "import matplotlib.pyplot as plt\n",
    "from dnaDataloader import expermentDataloader\n",
    "from dnaDataloader import addData\n",
    "from dnaModelUtil import MLPModel\n",
    "from dnaModelUtil import train\n",
    "device = torch.device(\"cuda:1\" if torch.cuda.is_available() else \"cpu\")\n",
    "folder = '/home/khood/GitHub/SNN-DNA-project/Prepocessing/sorted/1800_nM_AR_5000'\n",
    "oneMinInFPS = 1200\n",
    "batch_size = 10\n",
    "num_workers = 0\n",
    "device"
   ]
  },
  {
   "attachments": {},
   "cell_type": "markdown",
   "metadata": {},
   "source": [
    "## MLP running from 1 min to 30 min\n",
    "get reults under varied movie length "
   ]
  },
  {
   "cell_type": "code",
   "execution_count": 4,
   "metadata": {},
   "outputs": [
    {
     "name": "stdout",
     "output_type": "stream",
     "text": [
      "training MLP_1_min on cuda:1...\n",
      "training MLP_2_min on cuda:1...       Train Loss:183.5659 Valid Loss:2518.4385\t           Train accuracy:0.9400 Valid accuracy:0.5300           \u001b\u001b\n",
      "training MLP_3_min on cuda:1...       Train Loss:16.3681 Valid Loss:2972.5558\t           Train accuracy:0.9950 Valid accuracy:0.4800           \u001b\u001b\u001b\u001b\n",
      "training MLP_4_min on cuda:1...       Train Loss:13.8116 Valid Loss:4965.7258\t           Train accuracy:0.9900 Valid accuracy:0.4200           \u001b\u001b\u001b\n",
      "training MLP_5_min on cuda:1...       Train Loss:14.1541 Valid Loss:5556.0620\t           Train accuracy:0.9900 Valid accuracy:0.5000           \u001b\u001b\u001b\n",
      "training MLP_6_min on cuda:1...       Train Loss:3.4535 Valid Loss:3604.4270\t           Train accuracy:1.0000 Valid accuracy:0.5000           \u001b\u001b\u001b\n",
      "training MLP_7_min on cuda:1...       Train Loss:3.3823 Valid Loss:4393.7351\t           Train accuracy:1.0000 Valid accuracy:0.3800           \u001b\u001b\u001b\u001b\n",
      "training MLP_8_min on cuda:1...       Train Loss:1.2886 Valid Loss:3017.5247\t           Train accuracy:1.0000 Valid accuracy:0.4400           \u001b\u001b\u001b\n",
      "training MLP_9_min on cuda:1...       Train Loss:1.6744 Valid Loss:3255.6893\t           Train accuracy:1.0000 Valid accuracy:0.5200           \u001b\u001b\u001b\n",
      "training MLP_10_min on cuda:1...      Train Loss:1.0630 Valid Loss:3273.6606\t           Train accuracy:1.0000 Valid accuracy:0.4800           \u001b\u001b\u001b\n",
      "          epoch: 4648/7500\t           Train Loss:0.7546 Valid Loss:4595.0802\t           Train accuracy:1.0000 Valid accuracy:0.3800           \u001b\u001b\u001b\u001b\r"
     ]
    },
    {
     "ename": "KeyboardInterrupt",
     "evalue": "",
     "output_type": "error",
     "traceback": [
      "\u001b[0;31m---------------------------------------------------------------------------\u001b[0m",
      "\u001b[0;31mKeyboardInterrupt\u001b[0m                         Traceback (most recent call last)",
      "Cell \u001b[0;32mIn[4], line 30\u001b[0m\n\u001b[1;32m     27\u001b[0m MSE \u001b[39m=\u001b[39m nn\u001b[39m.\u001b[39mMSELoss(reduction \u001b[39m=\u001b[39m \u001b[39m'\u001b[39m\u001b[39mmean\u001b[39m\u001b[39m'\u001b[39m)\n\u001b[1;32m     28\u001b[0m adam \u001b[39m=\u001b[39m torch\u001b[39m.\u001b[39moptim\u001b[39m.\u001b[39mAdam(model\u001b[39m.\u001b[39mparameters(),lr\u001b[39m=\u001b[39m\u001b[39m0.00001\u001b[39m,weight_decay\u001b[39m=\u001b[39m\u001b[39m1e-5\u001b[39m)\n\u001b[0;32m---> 30\u001b[0m train(trainData\u001b[39m=\u001b[39;49mtrainDataset, validData\u001b[39m=\u001b[39;49mvalidDataset, name\u001b[39m=\u001b[39;49m\u001b[39mf\u001b[39;49m\u001b[39m\"\u001b[39;49m\u001b[39mMLP_\u001b[39;49m\u001b[39m{\u001b[39;49;00mlength\u001b[39m}\u001b[39;49;00m\u001b[39m_min\u001b[39;49m\u001b[39m\"\u001b[39;49m, model\u001b[39m=\u001b[39;49mmodel,\n\u001b[1;32m     31\u001b[0m       lossfunction\u001b[39m=\u001b[39;49mMSE, optim\u001b[39m=\u001b[39;49madam, return_dict\u001b[39m=\u001b[39;49mmlp_return_dict, epochs\u001b[39m=\u001b[39;49mepochs, \n\u001b[1;32m     32\u001b[0m       device\u001b[39m=\u001b[39;49mdevice, printStatus\u001b[39m=\u001b[39;49m\u001b[39mTrue\u001b[39;49;00m, savePath\u001b[39m=\u001b[39;49mmodelSavePath)\n",
      "File \u001b[0;32m~/GitHub/SNN-DNA-project/dnaModelUtil.py:33\u001b[0m, in \u001b[0;36mtrain\u001b[0;34m(trainData, validData, name, savePath, model, lossfunction, optim, return_dict, epochs, margin_of_error, device, printStatus)\u001b[0m\n\u001b[1;32m     31\u001b[0m optim\u001b[39m.\u001b[39mzero_grad()\n\u001b[1;32m     32\u001b[0m loss\u001b[39m.\u001b[39mbackward()\n\u001b[0;32m---> 33\u001b[0m optim\u001b[39m.\u001b[39;49mstep()\n\u001b[1;32m     34\u001b[0m totalCorrect \u001b[39m=\u001b[39m torch\u001b[39m.\u001b[39msum(torch\u001b[39m.\u001b[39misclose(outputs\u001b[39m.\u001b[39mint(), targets\u001b[39m.\u001b[39mint(), atol\u001b[39m=\u001b[39mmargin_of_error))\n\u001b[1;32m     35\u001b[0m totalCorrect \u001b[39m=\u001b[39m totalCorrect\u001b[39m.\u001b[39mitem()\n",
      "File \u001b[0;32m~/anaconda3/envs/torch-gpu/lib/python3.10/site-packages/torch/optim/optimizer.py:280\u001b[0m, in \u001b[0;36mOptimizer.profile_hook_step.<locals>.wrapper\u001b[0;34m(*args, **kwargs)\u001b[0m\n\u001b[1;32m    276\u001b[0m         \u001b[39melse\u001b[39;00m:\n\u001b[1;32m    277\u001b[0m             \u001b[39mraise\u001b[39;00m \u001b[39mRuntimeError\u001b[39;00m(\u001b[39mf\u001b[39m\u001b[39m\"\u001b[39m\u001b[39m{\u001b[39;00mfunc\u001b[39m}\u001b[39;00m\u001b[39m must return None or a tuple of (new_args, new_kwargs),\u001b[39m\u001b[39m\"\u001b[39m\n\u001b[1;32m    278\u001b[0m                                \u001b[39mf\u001b[39m\u001b[39m\"\u001b[39m\u001b[39mbut got \u001b[39m\u001b[39m{\u001b[39;00mresult\u001b[39m}\u001b[39;00m\u001b[39m.\u001b[39m\u001b[39m\"\u001b[39m)\n\u001b[0;32m--> 280\u001b[0m out \u001b[39m=\u001b[39m func(\u001b[39m*\u001b[39;49margs, \u001b[39m*\u001b[39;49m\u001b[39m*\u001b[39;49mkwargs)\n\u001b[1;32m    281\u001b[0m \u001b[39mself\u001b[39m\u001b[39m.\u001b[39m_optimizer_step_code()\n\u001b[1;32m    283\u001b[0m \u001b[39m# call optimizer step post hooks\u001b[39;00m\n",
      "File \u001b[0;32m~/anaconda3/envs/torch-gpu/lib/python3.10/site-packages/torch/optim/optimizer.py:33\u001b[0m, in \u001b[0;36m_use_grad_for_differentiable.<locals>._use_grad\u001b[0;34m(self, *args, **kwargs)\u001b[0m\n\u001b[1;32m     31\u001b[0m \u001b[39mtry\u001b[39;00m:\n\u001b[1;32m     32\u001b[0m     torch\u001b[39m.\u001b[39mset_grad_enabled(\u001b[39mself\u001b[39m\u001b[39m.\u001b[39mdefaults[\u001b[39m'\u001b[39m\u001b[39mdifferentiable\u001b[39m\u001b[39m'\u001b[39m])\n\u001b[0;32m---> 33\u001b[0m     ret \u001b[39m=\u001b[39m func(\u001b[39mself\u001b[39;49m, \u001b[39m*\u001b[39;49margs, \u001b[39m*\u001b[39;49m\u001b[39m*\u001b[39;49mkwargs)\n\u001b[1;32m     34\u001b[0m \u001b[39mfinally\u001b[39;00m:\n\u001b[1;32m     35\u001b[0m     torch\u001b[39m.\u001b[39mset_grad_enabled(prev_grad)\n",
      "File \u001b[0;32m~/anaconda3/envs/torch-gpu/lib/python3.10/site-packages/torch/optim/adam.py:143\u001b[0m, in \u001b[0;36mAdam.step\u001b[0;34m(self, closure)\u001b[0m\n\u001b[1;32m    132\u001b[0m     beta1, beta2 \u001b[39m=\u001b[39m group[\u001b[39m'\u001b[39m\u001b[39mbetas\u001b[39m\u001b[39m'\u001b[39m]\n\u001b[1;32m    134\u001b[0m     \u001b[39mself\u001b[39m\u001b[39m.\u001b[39m_init_group(\n\u001b[1;32m    135\u001b[0m         group,\n\u001b[1;32m    136\u001b[0m         params_with_grad,\n\u001b[0;32m   (...)\u001b[0m\n\u001b[1;32m    140\u001b[0m         max_exp_avg_sqs,\n\u001b[1;32m    141\u001b[0m         state_steps)\n\u001b[0;32m--> 143\u001b[0m     adam(\n\u001b[1;32m    144\u001b[0m         params_with_grad,\n\u001b[1;32m    145\u001b[0m         grads,\n\u001b[1;32m    146\u001b[0m         exp_avgs,\n\u001b[1;32m    147\u001b[0m         exp_avg_sqs,\n\u001b[1;32m    148\u001b[0m         max_exp_avg_sqs,\n\u001b[1;32m    149\u001b[0m         state_steps,\n\u001b[1;32m    150\u001b[0m         amsgrad\u001b[39m=\u001b[39;49mgroup[\u001b[39m'\u001b[39;49m\u001b[39mamsgrad\u001b[39;49m\u001b[39m'\u001b[39;49m],\n\u001b[1;32m    151\u001b[0m         beta1\u001b[39m=\u001b[39;49mbeta1,\n\u001b[1;32m    152\u001b[0m         beta2\u001b[39m=\u001b[39;49mbeta2,\n\u001b[1;32m    153\u001b[0m         lr\u001b[39m=\u001b[39;49mgroup[\u001b[39m'\u001b[39;49m\u001b[39mlr\u001b[39;49m\u001b[39m'\u001b[39;49m],\n\u001b[1;32m    154\u001b[0m         weight_decay\u001b[39m=\u001b[39;49mgroup[\u001b[39m'\u001b[39;49m\u001b[39mweight_decay\u001b[39;49m\u001b[39m'\u001b[39;49m],\n\u001b[1;32m    155\u001b[0m         eps\u001b[39m=\u001b[39;49mgroup[\u001b[39m'\u001b[39;49m\u001b[39meps\u001b[39;49m\u001b[39m'\u001b[39;49m],\n\u001b[1;32m    156\u001b[0m         maximize\u001b[39m=\u001b[39;49mgroup[\u001b[39m'\u001b[39;49m\u001b[39mmaximize\u001b[39;49m\u001b[39m'\u001b[39;49m],\n\u001b[1;32m    157\u001b[0m         foreach\u001b[39m=\u001b[39;49mgroup[\u001b[39m'\u001b[39;49m\u001b[39mforeach\u001b[39;49m\u001b[39m'\u001b[39;49m],\n\u001b[1;32m    158\u001b[0m         capturable\u001b[39m=\u001b[39;49mgroup[\u001b[39m'\u001b[39;49m\u001b[39mcapturable\u001b[39;49m\u001b[39m'\u001b[39;49m],\n\u001b[1;32m    159\u001b[0m         differentiable\u001b[39m=\u001b[39;49mgroup[\u001b[39m'\u001b[39;49m\u001b[39mdifferentiable\u001b[39;49m\u001b[39m'\u001b[39;49m],\n\u001b[1;32m    160\u001b[0m         fused\u001b[39m=\u001b[39;49mgroup[\u001b[39m'\u001b[39;49m\u001b[39mfused\u001b[39;49m\u001b[39m'\u001b[39;49m],\n\u001b[1;32m    161\u001b[0m         grad_scale\u001b[39m=\u001b[39;49m\u001b[39mgetattr\u001b[39;49m(\u001b[39mself\u001b[39;49m, \u001b[39m\"\u001b[39;49m\u001b[39mgrad_scale\u001b[39;49m\u001b[39m\"\u001b[39;49m, \u001b[39mNone\u001b[39;49;00m),\n\u001b[1;32m    162\u001b[0m         found_inf\u001b[39m=\u001b[39;49m\u001b[39mgetattr\u001b[39;49m(\u001b[39mself\u001b[39;49m, \u001b[39m\"\u001b[39;49m\u001b[39mfound_inf\u001b[39;49m\u001b[39m\"\u001b[39;49m, \u001b[39mNone\u001b[39;49;00m),\n\u001b[1;32m    163\u001b[0m     )\n\u001b[1;32m    165\u001b[0m \u001b[39mreturn\u001b[39;00m loss\n",
      "File \u001b[0;32m~/anaconda3/envs/torch-gpu/lib/python3.10/site-packages/torch/optim/adam.py:283\u001b[0m, in \u001b[0;36madam\u001b[0;34m(params, grads, exp_avgs, exp_avg_sqs, max_exp_avg_sqs, state_steps, foreach, capturable, differentiable, fused, grad_scale, found_inf, amsgrad, beta1, beta2, lr, weight_decay, eps, maximize)\u001b[0m\n\u001b[1;32m    280\u001b[0m \u001b[39melse\u001b[39;00m:\n\u001b[1;32m    281\u001b[0m     func \u001b[39m=\u001b[39m _single_tensor_adam\n\u001b[0;32m--> 283\u001b[0m func(params,\n\u001b[1;32m    284\u001b[0m      grads,\n\u001b[1;32m    285\u001b[0m      exp_avgs,\n\u001b[1;32m    286\u001b[0m      exp_avg_sqs,\n\u001b[1;32m    287\u001b[0m      max_exp_avg_sqs,\n\u001b[1;32m    288\u001b[0m      state_steps,\n\u001b[1;32m    289\u001b[0m      amsgrad\u001b[39m=\u001b[39;49mamsgrad,\n\u001b[1;32m    290\u001b[0m      beta1\u001b[39m=\u001b[39;49mbeta1,\n\u001b[1;32m    291\u001b[0m      beta2\u001b[39m=\u001b[39;49mbeta2,\n\u001b[1;32m    292\u001b[0m      lr\u001b[39m=\u001b[39;49mlr,\n\u001b[1;32m    293\u001b[0m      weight_decay\u001b[39m=\u001b[39;49mweight_decay,\n\u001b[1;32m    294\u001b[0m      eps\u001b[39m=\u001b[39;49meps,\n\u001b[1;32m    295\u001b[0m      maximize\u001b[39m=\u001b[39;49mmaximize,\n\u001b[1;32m    296\u001b[0m      capturable\u001b[39m=\u001b[39;49mcapturable,\n\u001b[1;32m    297\u001b[0m      differentiable\u001b[39m=\u001b[39;49mdifferentiable,\n\u001b[1;32m    298\u001b[0m      grad_scale\u001b[39m=\u001b[39;49mgrad_scale,\n\u001b[1;32m    299\u001b[0m      found_inf\u001b[39m=\u001b[39;49mfound_inf)\n",
      "File \u001b[0;32m~/anaconda3/envs/torch-gpu/lib/python3.10/site-packages/torch/optim/adam.py:451\u001b[0m, in \u001b[0;36m_multi_tensor_adam\u001b[0;34m(params, grads, exp_avgs, exp_avg_sqs, max_exp_avg_sqs, state_steps, grad_scale, found_inf, amsgrad, beta1, beta2, lr, weight_decay, eps, maximize, capturable, differentiable)\u001b[0m\n\u001b[1;32m    448\u001b[0m torch\u001b[39m.\u001b[39m_foreach_add_(device_exp_avgs, device_grads, alpha\u001b[39m=\u001b[39m\u001b[39m1\u001b[39m \u001b[39m-\u001b[39m beta1)\n\u001b[1;32m    450\u001b[0m torch\u001b[39m.\u001b[39m_foreach_mul_(device_exp_avg_sqs, beta2)\n\u001b[0;32m--> 451\u001b[0m torch\u001b[39m.\u001b[39;49m_foreach_addcmul_(device_exp_avg_sqs, device_grads, device_grads, \u001b[39m1\u001b[39;49m \u001b[39m-\u001b[39;49m beta2)\n\u001b[1;32m    453\u001b[0m \u001b[39mif\u001b[39;00m capturable:\n\u001b[1;32m    454\u001b[0m     bias_correction1 \u001b[39m=\u001b[39m torch\u001b[39m.\u001b[39m_foreach_pow(beta1, device_state_steps)\n",
      "\u001b[0;31mKeyboardInterrupt\u001b[0m: "
     ]
    }
   ],
   "source": [
    "mlp_return_dict = {}\n",
    "epochs = 7500\n",
    "modelSavePath = \"./Models/variedMovie/\"\n",
    "for length in range(1, 31):\n",
    "    data = expermentDataloader(\n",
    "        f\"{folder}/index.csv\",\n",
    "        f\"{folder}\", \n",
    "        length=oneMinInFPS*length\n",
    "    )\n",
    "    rawData = [d for d in data]\n",
    "    featIn = len(rawData[0][0])\n",
    "    trainValidData = []\n",
    "    testData = []\n",
    "    addData(testData, trainValidData, rawData, rhsSize=300)\n",
    "\n",
    "\n",
    "    np.random.shuffle(trainValidData)\n",
    "    trainData = []\n",
    "    validData = []\n",
    "    addData(trainData, validData, trainValidData, rhsSize=int(len(trainValidData)*(1/3)))\n",
    "\n",
    "    trainDataset = DataLoader(trainData, batch_size=batch_size, shuffle=True, num_workers=num_workers, pin_memory=True) \n",
    "    validDataset = DataLoader(validData, batch_size=batch_size, shuffle=True, num_workers=num_workers, pin_memory=True)\n",
    "    testDataset = DataLoader(testData, batch_size=len(testData), shuffle=True, num_workers=num_workers, pin_memory=True)\n",
    "\n",
    "    model = MLPModel(featIn=oneMinInFPS*length, capacity=int(featIn*0.25)).to(device)\n",
    "    MSE = nn.MSELoss(reduction = 'mean')\n",
    "    adam = torch.optim.Adam(model.parameters(),lr=0.00001,weight_decay=1e-5)\n",
    "\n",
    "    train(trainData=trainDataset, validData=validDataset, name=f\"MLP_{length}_min\", model=model,\n",
    "          lossfunction=MSE, optim=adam, return_dict=mlp_return_dict, epochs=epochs, \n",
    "          device=device, printStatus=True, savePath=modelSavePath)"
   ]
  },
  {
   "cell_type": "code",
   "execution_count": null,
   "metadata": {},
   "outputs": [],
   "source": [
    "mlp_return_dict"
   ]
  }
 ],
 "metadata": {
  "kernelspec": {
   "display_name": "torchbenchmark",
   "language": "python",
   "name": "python3"
  },
  "language_info": {
   "codemirror_mode": {
    "name": "ipython",
    "version": 3
   },
   "file_extension": ".py",
   "mimetype": "text/x-python",
   "name": "python",
   "nbconvert_exporter": "python",
   "pygments_lexer": "ipython3",
   "version": "3.10.11"
  },
  "orig_nbformat": 4
 },
 "nbformat": 4,
 "nbformat_minor": 2
}
