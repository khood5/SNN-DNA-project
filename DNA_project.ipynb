{
 "cells": [
  {
   "attachments": {},
   "cell_type": "markdown",
   "metadata": {},
   "source": [
    "Working with data from <code>Prepocessing/data/spikeTrains</code> should have folder for each experment setup (in terms of disctance of magnent in mm). Each folder should have a list of spike trains as csv files. Spike trains are recorded as events per 0.05 secs. The index file has the list of each spike train path and the class they are in. Classes are configureable via the preprocessing but should be somthing like this \n",
    "\n",
    "<table style=\"border:none;padding: 10px;margin: auto;\">\n",
    "    <tr style=\"border:none;padding: 10px;margin: auto;\">\n",
    "        <td style=\"border:none;padding: 10px;margin: auto;\">\n",
    "        9/5mm\n",
    "        <table>\n",
    "            <th>Class</th><th>Number of reactions</th>\n",
    "            <tr> <td>High</td> <td>>300</td> </tr>\n",
    "            <tr> <td>Medium</td> <td>300-230</td> </tr>\n",
    "            <tr> <td>Low</td> <td>&lt;230</td> </tr>\n",
    "        </table>\n",
    "        </td>\n",
    "        <td style=\"border:none;padding: 10px;margin: auto;\">\n",
    "        3mm\n",
    "        <table>\n",
    "            <th>Class</th><th>Number of reactions</th>\n",
    "            <tr> <td>High</td> <td>>150</td> </tr>\n",
    "            <tr> <td>Medium</td> <td>100-150</td> </tr>\n",
    "            <tr> <td>Low</td> <td>&lt;100</td> </tr>\n",
    "        </table>\n",
    "        </td>\n",
    "        <td style=\"border:none;padding: 10px;margin: auto;\">\n",
    "        2/1.5mm\n",
    "        <table>\n",
    "            <th>Class</th><th>Number of reactions</th>\n",
    "            <tr> <td>High</td> <td>>50</td> </tr>\n",
    "            <tr> <td>Medium</td> <td>30-50</td> </tr>\n",
    "            <tr> <td>Low</td> <td>&lt;30</td> </tr>\n",
    "        </table>\n",
    "        </td>\n",
    "    </tr>\n",
    "</table>\n",
    "\n",
    "We are using Intel's lava-nc framework https://lava-nc.org"
   ]
  },
  {
   "cell_type": "code",
   "execution_count": 1,
   "metadata": {},
   "outputs": [],
   "source": [
    "%reset"
   ]
  },
  {
   "attachments": {},
   "cell_type": "markdown",
   "metadata": {},
   "source": [
    "----\n",
    "#### DataLoader"
   ]
  },
  {
   "attachments": {},
   "cell_type": "markdown",
   "metadata": {},
   "source": [
    "This is our data loader. Should get an index file for an experment type (9mm,5mm etc). The index file should contain a path to each indiviual training experiment and the class it belongs to high, medium, or low.\n",
    "Note that the class is represented as a int, the map is shown below\n",
    "\n",
    "|class         | numerical value|\n",
    "|--------------|----------------|\n",
    "|<i>high</i>   |               2|\n",
    "|<i>medium</i> |               1|\n",
    "|<i>low</i>    |               0|"
   ]
  },
  {
   "attachments": {},
   "cell_type": "markdown",
   "metadata": {},
   "source": [
    "Example index file (Prepocessing/data/spikeTrains/1.5-SpikeTrains/index.csv)\n",
    "<pre>\n",
    "spikeTrain_1.csv,0\n",
    "spikeTrain_2.csv,0\n",
    "spikeTrain_3.csv,1\n",
    "spikeTrain_4.csv,0\n",
    "spikeTrain_5.csv,2\n",
    "spikeTrain_6.csv,1\n",
    "</pre>\n",
    "\n",
    "\n",
    "Example spik train file (Prepocessing/data/spikeTrains/1.5-SpikeTrains/spikeTrain_1.csv)\n",
    "<pre>\n",
    "0\n",
    "0\n",
    "0\n",
    ".\n",
    ".\n",
    ".\n",
    "0\n",
    "0\n",
    "1\n",
    "0\n",
    ".\n",
    ".\n",
    ".\n",
    "</pre>"
   ]
  },
  {
   "cell_type": "code",
   "execution_count": 2,
   "metadata": {},
   "outputs": [],
   "source": [
    "import numpy as np\n",
    "import pandas as pd\n",
    "import os\n",
    "\n",
    "class expermentDataloader:\n",
    "    def __init__(\n",
    "        self,\n",
    "        index_file: str, \n",
    "        data_path: str,\n",
    "    ):\n",
    "        self.root_dir = data_path\n",
    "        self.expermentSikeTrainsIndex = pd.read_csv(index_file) # self.landmarks_frame = pd.read_csv(csv_file)\n",
    "        self.spikeTrains = [\n",
    "            f\"{os.path.join(self.expermentSikeTrainsIndex.iloc[i, 0])}\" for i in range(len(self.expermentSikeTrainsIndex)) \n",
    "        ]\n",
    "        self.expermentClasses = self.expermentSikeTrainsIndex.iloc[:, 1]\n",
    "\n",
    "    def __getitem__(self, index):\n",
    "        CSVlines = pd.read_csv(os.path.join(self.root_dir,self.spikeTrains[index])).to_numpy()\n",
    "        eventClass = self.expermentClasses[index]\n",
    "        return np.array(list(CSVlines.flatten())), int(eventClass)\n",
    "\n",
    "    def __len__(self):\n",
    "        return len(self.expermentSikeTrainsIndex)"
   ]
  },
  {
   "cell_type": "code",
   "execution_count": 3,
   "metadata": {},
   "outputs": [
    {
     "name": "stdout",
     "output_type": "stream",
     "text": [
      "Is NOT all zeros: True\n"
     ]
    },
    {
     "data": {
      "text/plain": [
       "(array([0, 0, 0, ..., 0, 0, 0]), 0)"
      ]
     },
     "execution_count": 3,
     "metadata": {},
     "output_type": "execute_result"
    }
   ],
   "source": [
    "indexFile5mm = \"./Prepocessing/data/spikeTrains/5-SpikeTrains/index.csv\"\n",
    "PathTo5mmSpikeTrains = \"./Prepocessing/data/spikeTrains/5-SpikeTrains\"\n",
    "\n",
    "trainingData = expermentDataloader(indexFile5mm,PathTo5mmSpikeTrains)\n",
    "\n",
    "print(f\"Is NOT all zeros: {np.any(trainingData[0][0])}\")\n",
    "trainingData[0]\n"
   ]
  },
  {
   "attachments": {},
   "cell_type": "markdown",
   "metadata": {},
   "source": [
    "----\n",
    "#### Spike Input Process"
   ]
  },
  {
   "attachments": {},
   "cell_type": "markdown",
   "metadata": {},
   "source": [
    "Our input processes should read spike trains from the data loader and just feed them into lava-nc models"
   ]
  },
  {
   "cell_type": "code",
   "execution_count": 4,
   "metadata": {},
   "outputs": [],
   "source": [
    "# Import Processes and Process level primitives\n",
    "from lava.magma.core.process.process import AbstractProcess\n",
    "from lava.magma.core.process.variable import Var\n",
    "from lava.magma.core.process.ports.ports import  OutPort\n",
    "\n",
    "# Import ProcessModels and ProcessModels level primitives\n",
    "from lava.magma.core.model.py.model import PyLoihiProcessModel\n",
    "from lava.magma.core.model.py.ports import PyOutPort\n",
    "from lava.magma.core.model.py.type import LavaPyType\n",
    "\n",
    "# Import execution protocol and hardware resources\n",
    "from lava.magma.core.sync.protocols.loihi_protocol import LoihiProtocol\n",
    "from lava.magma.core.resources import CPU\n",
    "\n",
    "# Import decorators\n",
    "from lava.magma.core.decorator import implements, requires"
   ]
  },
  {
   "cell_type": "code",
   "execution_count": 5,
   "metadata": {},
   "outputs": [],
   "source": [
    "import typing as ty\n",
    "\n",
    "np.set_printoptions(linewidth=np.inf)\n",
    "\n",
    "class SpikeInput(AbstractProcess):\n",
    "    def __init__(self,\n",
    "                 vth: int,\n",
    "                 num_spike_trains: ty.Optional[int], # no defulte depends on input experment setting (i.e. 5mm, 3mm etc)\n",
    "                 spike_train_length: ty.Optional[int] = 3000, # Number of steps recorded every 0.05 secs\n",
    "                 output_shape = (3,)\n",
    "                 ):\n",
    "        super().__init__()\n",
    "        self.spikes_out = OutPort(shape=output_shape)  # Input spikes to the classifier\n",
    "        self.label_out = OutPort(shape=(1,))  # Ground truth labels to OutputProc\n",
    "        self.num_spike_trains = Var(shape=(1,), init=num_spike_trains)\n",
    "        self.spike_train_length = Var(shape=(1,), init=spike_train_length)\n",
    "        self.input_spike_train = Var(shape=(spike_train_length,))\n",
    "        self.ground_truth_label = Var(shape=(1,))\n",
    "        self.v = Var(shape=(1,), init=0)\n",
    "        self.vth = Var(shape=(1,), init=vth)\n",
    "        \n",
    "@implements(proc=SpikeInput, protocol=LoihiProtocol)\n",
    "@requires(CPU)\n",
    "class PySpikeInputModel(PyLoihiProcessModel):\n",
    "    # num_images: int = LavaPyType(int, int, precision=32)\n",
    "    num_spike_trains: int = LavaPyType(int, int, precision=32)\n",
    "    \n",
    "    spikes_out: PyOutPort = LavaPyType(PyOutPort.VEC_DENSE, bool, precision=1)\n",
    "    label_out: PyOutPort = LavaPyType(PyOutPort.VEC_DENSE, np.int32,\n",
    "                                      precision=32)\n",
    "    \n",
    "    # num_steps_per_image: int = LavaPyType(int, int, precision=32)\n",
    "    spike_train_length: int = LavaPyType(int, int, precision=32)\n",
    "    \n",
    "    # input_img: np.ndarray = LavaPyType(np.ndarray, int, precision=32)\n",
    "    input_spike_train: np.ndarray = LavaPyType(np.ndarray, int, precision=32)\n",
    "    \n",
    "    ground_truth_label: int = LavaPyType(int, int, precision=32)\n",
    "    v: np.ndarray = LavaPyType(np.ndarray, int, precision=32)\n",
    "    vth: int = LavaPyType(int, int, precision=32)\n",
    "    \n",
    "    def __init__(self, proc_params):\n",
    "        super().__init__(proc_params=proc_params)\n",
    "        self.curr_spike_train_id = 0\n",
    "\n",
    "    def post_guard(self):\n",
    "        \"\"\"Guard function for PostManagement phase.\n",
    "        \"\"\"\n",
    "        # self.time_step: global time\n",
    "        if self.time_step % self.spike_train_length == 1:\n",
    "            return True\n",
    "        return False\n",
    "\n",
    "    def run_post_mgmt(self):\n",
    "        \"\"\"Post-Management phase: executed only when guard function above \n",
    "        returns True.\n",
    "        \"\"\"\n",
    "        self.ground_truth_label = trainingData[self.curr_spike_train_id][1]\n",
    "        self.input_spike_train = trainingData[self.curr_spike_train_id][0].astype(np.int32)\n",
    "        self.v = np.zeros(self.v.shape)\n",
    "        self.label_out.send(np.array([self.ground_truth_label]))\n",
    "        self.curr_spike_train_id += 1\n",
    "\n",
    "    def run_spk(self):\n",
    "        \"\"\"Spiking phase: executed unconditionally at every time-step\n",
    "        \"\"\"\n",
    "        if self.time_step % 500 == 0:\n",
    "            print('.',end=\"\")\n",
    "        spike, self.input_spike_train = self.input_spike_train[0], self.input_spike_train[1:]\n",
    "        # self.v[:] = self.v + spike\n",
    "        # s_out = self.v > self.vth\n",
    "        # self.v[s_out] = 0  # reset voltage to 0 after a spike\n",
    "        output = np.zeros(self.spikes_out.shape)\n",
    "        output += spike\n",
    "        self.spikes_out.send(output)"
   ]
  },
  {
   "cell_type": "code",
   "execution_count": 6,
   "metadata": {},
   "outputs": [],
   "source": [
    "from lava.proc.monitor.process import Monitor\n",
    "from lava.magma.core.run_conditions import RunSteps, RunContinuous\n",
    "\n",
    "num_steps = 3000 \n",
    "run_condition = RunContinuous()\n",
    "run_condition = RunSteps(num_steps=num_steps)\n",
    "\n",
    "spike_input = SpikeInput(vth=1,\n",
    "                         num_spike_trains=len(trainingData))\n",
    "\n",
    "monitor_input = Monitor()\n",
    "monitor_input.probe(spike_input.spikes_out, num_steps)\n"
   ]
  },
  {
   "cell_type": "code",
   "execution_count": 7,
   "metadata": {},
   "outputs": [
    {
     "name": "stdout",
     "output_type": "stream",
     "text": [
      "......"
     ]
    }
   ],
   "source": [
    "from lava.magma.core.run_configs import Loihi1SimCfg\n",
    "\n",
    "run_cfg = Loihi1SimCfg(select_tag=\"floating_pt\")\n",
    "spike_input.run(condition=run_condition, run_cfg=run_cfg)"
   ]
  },
  {
   "attachments": {},
   "cell_type": "markdown",
   "metadata": {},
   "source": [
    "We should see 6 dots come out of this, means we ran for the right length of time (one dot means 500 simulated time steps). and below we should see a chart that shows the spikes coming out of the input neuron. "
   ]
  },
  {
   "cell_type": "code",
   "execution_count": 8,
   "metadata": {},
   "outputs": [
    {
     "data": {
      "image/png": "[encoded data removed]",
      "text/plain": [
       "<Figure size 1600x500 with 1 Axes>"
      ]
     },
     "metadata": {},
     "output_type": "display_data"
    }
   ],
   "source": [
    "import matplotlib\n",
    "%matplotlib inline\n",
    "from matplotlib import pyplot as plt\n",
    "\n",
    "# Create a subplot for each monitor\n",
    "fig = plt.figure(figsize=(16, 5))\n",
    "ax0 = fig.add_subplot(121)\n",
    "\n",
    "# Plot the recorded data\n",
    "monitor_input.plot(ax0, spike_input.spikes_out)"
   ]
  },
  {
   "cell_type": "code",
   "execution_count": 9,
   "metadata": {},
   "outputs": [],
   "source": [
    "spike_input.stop()"
   ]
  },
  {
   "attachments": {},
   "cell_type": "markdown",
   "metadata": {},
   "source": [
    "----\n",
    "#### Making SNN"
   ]
  },
  {
   "attachments": {},
   "cell_type": "markdown",
   "metadata": {},
   "source": [
    "Now we take our spike input process and connect it to the rest of our network. We will build a simple 2 LIF layer network. Each layer will be fully connected (i.e. dense). \n",
    "The SpikeInput Generator take an output shape as an argument. This will allow us to control how many LIF neurons are in the next layer. The spikes from the input spike train are sent to all LIF nuerons innthe next layer. "
   ]
  },
  {
   "cell_type": "code",
   "execution_count": 10,
   "metadata": {},
   "outputs": [],
   "source": [
    "from lava.proc.dense.process import Dense\n",
    "from lava.proc.lif.process import LIF\n",
    "\n",
    "# Create processes\n",
    "spike_input = SpikeInput(vth=1,                                 # Membrane threshold\n",
    "                         num_spike_trains=len(trainingData),    # Number of spikes per spike train\n",
    "                         output_shape=(3,))                     # output shape i.e. outputs to 3 nuerons (3,) 4 nuerons (4,) etc.\n",
    "\n",
    "dense0 = Dense(weights=np.random.rand(3, 3),     # Initial value of the weights, chosen randomly\n",
    "              name='dense')\n",
    "\n",
    "lif1 = LIF(shape=(3, ),                         # Number and topological layout of units in the process\n",
    "           vth=10.,                             # Membrane threshold\n",
    "           dv=0.1,                              # Inverse membrane time-constant\n",
    "           du=0.1,                              # Inverse synaptic time-constant\n",
    "           bias_mant=(1.1, 1.2, 1.3),           # Bias added to the membrane voltage in every timestep\n",
    "           name=\"lif1\")\n",
    "\n",
    "dense2 = Dense(weights=np.random.rand(2, 3),     # Initial value of the weights, chosen randomly\n",
    "              name='dense')\n",
    "\n",
    "lif3 = LIF(shape=(2, ),                         # Number and topological layout of units in the process\n",
    "           vth=10.,                             # Membrane threshold\n",
    "           dv=0.1,                              # Inverse membrane time-constant\n",
    "           du=0.1,                              # Inverse synaptic time-constant\n",
    "           bias_mant=0.,                        # Bias added to the membrane voltage in every timestep\n",
    "           name='lif2')"
   ]
  },
  {
   "cell_type": "code",
   "execution_count": 11,
   "metadata": {},
   "outputs": [],
   "source": [
    "spike_input.spikes_out.connect(dense0.s_in)\n",
    "dense0.a_out.connect(lif1.a_in)\n",
    "lif1.s_out.connect(dense2.s_in)\n",
    "dense2.a_out.connect(lif3.a_in)"
   ]
  },
  {
   "attachments": {},
   "cell_type": "markdown",
   "metadata": {},
   "source": [
    "If either of the two above cell have <code>errors</code> here due to incompatable shapes remeber that Dense layers wight shape is (number of next layer nuerons, number of prevous layer nuerons), see below\n",
    "\n",
    "<pre>\n",
    "import numpy as np\n",
    "\n",
    "# Create processes\n",
    "lif1 = LIF(shape=(3, ),                         # Number and topological layout of units in the process\n",
    "           vth=10.,                             # Membrane threshold\n",
    "           dv=0.1,                              # Inverse membrane time-constant\n",
    "           du=0.1,                              # Inverse synaptic time-constant\n",
    "           bias_mant=(1.1, 1.2, 1.3),           # Bias added to the membrane voltage in every timestep\n",
    "           name=\"lif1\")\n",
    "\n",
    "dense = Dense(weights=np.random.rand(2, 3),     # Initial value of the weights, chosen randomly\n",
    "              name='dense')\n",
    "\n",
    "lif2 = LIF(shape=(2, ),                         # Number and topological layout of units in the process\n",
    "           vth=10.,                             # Membrane threshold\n",
    "           dv=0.1,                              # Inverse membrane time-constant\n",
    "           du=0.1,                              # Inverse synaptic time-constant\n",
    "           bias_mant=0.,                        # Bias added to the membrane voltage in every timestep\n",
    "           name='lif2')\n",
    "</pre>"
   ]
  },
  {
   "cell_type": "code",
   "execution_count": 12,
   "metadata": {},
   "outputs": [],
   "source": [
    "monitor_input = Monitor()\n",
    "monitor_output = Monitor()\n",
    "monitor_input.probe(spike_input.spikes_out, num_steps)\n",
    "monitor_output.probe(lif3.s_out, num_steps)\n"
   ]
  },
  {
   "cell_type": "code",
   "execution_count": 13,
   "metadata": {},
   "outputs": [
    {
     "name": "stdout",
     "output_type": "stream",
     "text": [
      "......"
     ]
    }
   ],
   "source": [
    "num_steps = 3000 \n",
    "run_condition = RunContinuous()\n",
    "run_condition = RunSteps(num_steps=num_steps)\n",
    "run_cfg = Loihi1SimCfg(select_tag=\"floating_pt\")\n",
    "lif3.run(condition=run_condition, run_cfg=run_cfg)"
   ]
  },
  {
   "attachments": {},
   "cell_type": "markdown",
   "metadata": {},
   "source": [
    "Now we graph the input and output for comparison, we should see some spikes come out."
   ]
  },
  {
   "cell_type": "code",
   "execution_count": 14,
   "metadata": {},
   "outputs": [
    {
     "data": {
      "image/png": "[encoded data removed]",
      "text/plain": [
       "<Figure size 1600x500 with 2 Axes>"
      ]
     },
     "metadata": {},
     "output_type": "display_data"
    }
   ],
   "source": [
    "import matplotlib\n",
    "%matplotlib inline\n",
    "from matplotlib import pyplot as plt\n",
    "\n",
    "# Create a subplot for each monitor\n",
    "fig = plt.figure(figsize=(16, 5))\n",
    "ax0 = fig.add_subplot(121)\n",
    "ax1 = fig.add_subplot(122)\n",
    "\n",
    "# Plot the recorded data\n",
    "monitor_input.plot(ax0, spike_input.spikes_out)\n",
    "monitor_output.plot(ax1, lif3.s_out)"
   ]
  },
  {
   "attachments": {},
   "cell_type": "markdown",
   "metadata": {},
   "source": [
    "> **Note**:\n",
    ">\n",
    "> The graph on the right will not be consistant sense we are using random weights and nothing is being trained, each time we run it we will get diffrent spikes, but we should always see some spikes. i.e. the graph on the right should never be flat, but will change after each run"
   ]
  },
  {
   "cell_type": "code",
   "execution_count": 15,
   "metadata": {},
   "outputs": [],
   "source": [
    "lif3.stop()"
   ]
  },
  {
   "attachments": {},
   "cell_type": "markdown",
   "metadata": {},
   "source": [
    "----\n",
    "#### Classification Process"
   ]
  },
  {
   "attachments": {},
   "cell_type": "markdown",
   "metadata": {},
   "source": [
    "Now that we have out SpikeInput process to read the spike trains, and we have our SNN model we need to make a classifer to take the output of the SNN and map it to a class. As a reminder we have the following setup\n",
    "\n",
    "<p><center><code>Raw data classification based on reactions per experment</code></center></p>\n",
    "<table style=\"border:none;padding: 10px;margin: auto;\">\n",
    "    <tr style=\"border:none;padding: 10px;margin: auto;\">\n",
    "        <td style=\"border:none;padding: 10px;margin: auto;\">\n",
    "        9/5mm\n",
    "        <table>\n",
    "            <th>Class</th><th>Number of reactions</th>\n",
    "            <tr> <td>High</td> <td>>300</td> </tr>\n",
    "            <tr> <td>Medium</td> <td>300-230</td> </tr>\n",
    "            <tr> <td>Low</td> <td>&lt;230</td> </tr>\n",
    "        </table>\n",
    "        </td>\n",
    "        <td style=\"border:none;padding: 10px;margin: auto;\">\n",
    "        3mm\n",
    "        <table>\n",
    "            <th>Class</th><th>Number of reactions</th>\n",
    "            <tr> <td>High</td> <td>>150</td> </tr>\n",
    "            <tr> <td>Medium</td> <td>100-150</td> </tr>\n",
    "            <tr> <td>Low</td> <td>&lt;100</td> </tr>\n",
    "        </table>\n",
    "        </td>\n",
    "        <td style=\"border:none;padding: 10px;margin: auto;\">\n",
    "        2/1.5mm\n",
    "        <table>\n",
    "            <th>Class</th><th>Number of reactions</th>\n",
    "            <tr> <td>High</td> <td>>50</td> </tr>\n",
    "            <tr> <td>Medium</td> <td>30-50</td> </tr>\n",
    "            <tr> <td>Low</td> <td>&lt;30</td> </tr>\n",
    "        </table>\n",
    "        </td>\n",
    "    </tr>\n",
    "</table>\n",
    "<br>\n",
    "<br>\n",
    "<center>\n",
    "<code>Class mapping for our data loader</code>\n",
    "<br><br><br>\n",
    "\n",
    "|Class         | Numerical value <br>given by dataloader|\n",
    "|--------------|----------------|\n",
    "|<i>high</i>   |               2|\n",
    "|<i>medium</i> |               1|\n",
    "|<i>low</i>    |               0|\n",
    "</center>"
   ]
  },
  {
   "attachments": {},
   "cell_type": "markdown",
   "metadata": {},
   "source": [
    "Out ClassificationProcess will connected to the laster layer. The last layer should have 3 neurons (one for each class). The ClassificationProcess counts the number of spikes generated from each of the final 3 neurons. The neuron with the most spikes (i.e. the highest activation value) correlates to the predicted class. "
   ]
  },
  {
   "cell_type": "code",
   "execution_count": 16,
   "metadata": {},
   "outputs": [],
   "source": [
    "from lava.magma.core.process.ports.ports import InPort\n",
    "from lava.magma.core.model.py.ports import PyInPort\n",
    "\n",
    "NUM_CLASSES = 3\n",
    "\n",
    "class ClassificationProcess(AbstractProcess):\n",
    "    \"\"\"Process to gather spikes from output of LIF neurons and interpret the\n",
    "    highest spiking rate as the classifier output. There should be 3 LIF neurons (one for each class)\"\"\"\n",
    "\n",
    "    def __init__(self,\n",
    "                 num_spike_trains: ty.Optional[int], # no defulte depends on input experment setting (i.e. 5mm, 3mm etc)\n",
    "                 spike_train_length: ty.Optional[int] = 3000, # Number of steps recorded every 0.05 secs\n",
    "                 output_shape = (NUM_CLASSES,)\n",
    "                 ):\n",
    "        super().__init__()\n",
    "        n_spike_trains = num_spike_trains\n",
    "        self.num_spike_trains = Var(shape=(1,), init=n_spike_trains)\n",
    "        self.spikes_in = InPort(shape=output_shape)\n",
    "        self.label_in = InPort(shape=(1,))\n",
    "        self.spikes_accum = Var(shape=output_shape)  # Accumulated spikes for classification\n",
    "        self.num_steps_per_spike_train = Var(shape=(1,), init=spike_train_length)\n",
    "        self.pred_labels = Var(shape=(n_spike_trains,))\n",
    "        self.gt_labels = Var(shape=(n_spike_trains,))\n",
    "        \n",
    "@implements(proc=ClassificationProcess, protocol=LoihiProtocol)\n",
    "@requires(CPU)\n",
    "class PyClassificationProcessModel(PyLoihiProcessModel):\n",
    "    label_in: PyInPort = LavaPyType(PyInPort.VEC_DENSE, int, precision=32)\n",
    "    spikes_in: PyInPort = LavaPyType(PyInPort.VEC_DENSE, bool, precision=1)\n",
    "    num_spike_trains: int = LavaPyType(int, int, precision=32)\n",
    "    spikes_accum: np.ndarray = LavaPyType(np.ndarray, np.int32, precision=32)\n",
    "    num_steps_per_spike_train: int = LavaPyType(int, int, precision=32)\n",
    "    pred_labels: np.ndarray = LavaPyType(np.ndarray, int, precision=32)\n",
    "    gt_labels: np.ndarray = LavaPyType(np.ndarray, int, precision=32)\n",
    "        \n",
    "    def __init__(self, proc_params):\n",
    "        super().__init__(proc_params=proc_params)\n",
    "        self.curr_spike_train_id = 0\n",
    "\n",
    "    def post_guard(self):\n",
    "        \"\"\"Guard function for PostManagement phase.\n",
    "        \"\"\"\n",
    "        if self.time_step % self.num_steps_per_spike_train == 0 and \\\n",
    "                self.time_step > 1:\n",
    "            return True\n",
    "        return False\n",
    "\n",
    "    def run_post_mgmt(self):\n",
    "        \"\"\"Post-Management phase: executed only when guard function above \n",
    "        returns True.\n",
    "        \"\"\"\n",
    "        gt_label = self.label_in.recv()\n",
    "        pred_label = np.argmax(self.spikes_accum)\n",
    "        self.gt_labels[self.curr_spike_train_id] = gt_label\n",
    "        self.pred_labels[self.curr_spike_train_id] = pred_label\n",
    "        self.curr_spike_train_id += 1\n",
    "        self.spikes_accum = np.zeros_like(self.spikes_accum)\n",
    "\n",
    "    def run_spk(self):\n",
    "        \"\"\"Spiking phase: executed unconditionally at every time-step\n",
    "        \"\"\"\n",
    "        spk_in = self.spikes_in.recv()\n",
    "        self.spikes_accum = self.spikes_accum + spk_in"
   ]
  },
  {
   "attachments": {},
   "cell_type": "markdown",
   "metadata": {},
   "source": [
    "Now we build our SNN but with our ClassificationProcess connected. We connect it to the last layer and the first. The last layer output spike trains are what is used for the prediced class. There is a link between the first layer (SpikeInput) and the ClassificationProcess. This connection serves as a way for the ClassificationProcess to get the ground truth of the experment being run though the SNN. "
   ]
  },
  {
   "cell_type": "code",
   "execution_count": 27,
   "metadata": {},
   "outputs": [],
   "source": [
    "num_experments = 1\n",
    "\n",
    "# Create processes\n",
    "spike_input = SpikeInput(vth=1,                                 # Membrane threshold\n",
    "                         num_spike_trains=len(trainingData),    # Number of spikes per spike train\n",
    "                         output_shape=(3,))                     # output shape i.e. outputs to 3 nuerons (3,) 4 nuerons (4,) etc.\n",
    "\n",
    "dense0 = Dense(weights=np.random.rand(3, 3),     # Initial value of the weights, chosen randomly\n",
    "              name='dense')\n",
    "\n",
    "lif1 = LIF(shape=(3, ),                         # Number and topological layout of units in the process\n",
    "           vth=10.,                             # Membrane threshold\n",
    "           dv=0.1,                              # Inverse membrane time-constant\n",
    "           du=0.1,                              # Inverse synaptic time-constant\n",
    "           bias_mant=(1.1, 1.2, 1.3),           # Bias added to the membrane voltage in every timestep\n",
    "           name=\"lif1\")\n",
    "\n",
    "dense2 = Dense(weights=np.random.rand(3, 3),     # Initial value of the weights, chosen randomly\n",
    "              name='dense')\n",
    "\n",
    "lif3 = LIF(shape=(3, ),                         # Number and topological layout of units in the process\n",
    "           vth=10.,                             # Membrane threshold\n",
    "           dv=0.1,                              # Inverse membrane time-constant\n",
    "           du=0.1,                              # Inverse synaptic time-constant\n",
    "           bias_mant=0.,                        # Bias added to the membrane voltage in every timestep\n",
    "           name='lif2')\n",
    "\n",
    "dense4 = Dense(weights=np.random.rand(3, 3),     # Initial value of the weights, chosen randomly\n",
    "              name='dense')\n",
    "\n",
    "classifier = ClassificationProcess(num_spike_trains=num_experments)\n",
    "\n",
    "\n",
    "spike_input.spikes_out.connect(dense0.s_in)\n",
    "dense0.a_out.connect(lif1.a_in)\n",
    "lif1.s_out.connect(dense2.s_in)\n",
    "dense2.a_out.connect(lif3.a_in)\n",
    "lif3.s_out.connect(dense4.s_in)\n",
    "dense4.a_out.connect(classifier.spikes_in) # connecting to last layer\n",
    "spike_input.label_out.connect(classifier.label_in) # connecting to ground turth from first layer\n",
    "\n",
    "monitor_input = Monitor()\n",
    "monitor_output = Monitor()\n",
    "monitor_input.probe(spike_input.spikes_out, num_steps)\n",
    "monitor_output.probe(lif3.s_out, num_steps)"
   ]
  },
  {
   "attachments": {},
   "cell_type": "markdown",
   "metadata": {},
   "source": [
    "Now let calculate some accuracy"
   ]
  },
  {
   "cell_type": "code",
   "execution_count": 28,
   "metadata": {},
   "outputs": [
    {
     "name": "stdout",
     "output_type": "stream",
     "text": [
      "Current experment: 1......\n",
      "Ground truth: [0]\n",
      "Predictions : [0]\n",
      "Accuracy    : 100.0\n"
     ]
    }
   ],
   "source": [
    "from lava.magma.core.run_conditions import RunSteps\n",
    "\n",
    "num_steps = 3000 \n",
    "\n",
    "# Loop over all experments\n",
    "for experment_id in range(num_experments):\n",
    "    print(f\"\\rCurrent experment: {experment_id+1}\", end=\"\")\n",
    "    \n",
    "    # Run each experment-inference for fixed number of steps\n",
    "    classifier.run(\n",
    "        condition=RunSteps(num_steps=num_steps),\n",
    "        run_cfg=Loihi1SimCfg(select_sub_proc_model=True,\n",
    "                             select_tag='floating_pt'))\n",
    "    \n",
    "    # Reset internal neural state of LIF neurons\n",
    "    # lif1.u.set(np.zeros((64,), dtype=np.int32))\n",
    "    # lif1.v.set(np.zeros((64,), dtype=np.int32))\n",
    "    # lif3.u.set(np.zeros((64,), dtype=np.int32))\n",
    "    # lif3.v.set(np.zeros((64,), dtype=np.int32))\n",
    "\n",
    "# Gather ground truth and predictions before stopping exec\n",
    "ground_truth = classifier.gt_labels.get().astype(np.int32)\n",
    "predictions = classifier.pred_labels.get().astype(np.int32)\n",
    "\n",
    "accuracy = np.sum(ground_truth==predictions)/ground_truth.size * 100\n",
    "\n",
    "print(f\"\\nGround truth: {ground_truth}\\n\"\n",
    "      f\"Predictions : {predictions}\\n\"\n",
    "      f\"Accuracy    : {accuracy}\")"
   ]
  },
  {
   "attachments": {},
   "cell_type": "markdown",
   "metadata": {},
   "source": [
    "We can graph the input and output layers to check and make sure everything is still working. We can skip this step if we are pretty sure things are working"
   ]
  },
  {
   "cell_type": "code",
   "execution_count": 29,
   "metadata": {},
   "outputs": [
    {
     "data": {
      "image/png": "[encoded data removed]",
      "text/plain": [
       "<Figure size 1600x500 with 2 Axes>"
      ]
     },
     "metadata": {},
     "output_type": "display_data"
    }
   ],
   "source": [
    "import matplotlib\n",
    "%matplotlib inline\n",
    "from matplotlib import pyplot as plt\n",
    "\n",
    "# Create a subplot for each monitor\n",
    "fig = plt.figure(figsize=(16, 5))\n",
    "ax0 = fig.add_subplot(121)\n",
    "ax1 = fig.add_subplot(122)\n",
    "\n",
    "# Plot the recorded data\n",
    "monitor_input.plot(ax0, spike_input.spikes_out)\n",
    "monitor_output.plot(ax1, lif3.s_out)"
   ]
  },
  {
   "cell_type": "code",
   "execution_count": 156,
   "metadata": {},
   "outputs": [],
   "source": [
    "classifier.stop()"
   ]
  }
 ],
 "metadata": {
  "kernelspec": {
   "display_name": "dna",
   "language": "python",
   "name": "python3"
  },
  "language_info": {
   "codemirror_mode": {
    "name": "ipython",
    "version": 3
   },
   "file_extension": ".py",
   "mimetype": "text/x-python",
   "name": "python",
   "nbconvert_exporter": "python",
   "pygments_lexer": "ipython3",
   "version": "3.10.9"
  },
  "orig_nbformat": 4,
  "vscode": {
   "interpreter": {
    "hash": "366a53c283de3ac239fad2923e36904e6cb28c586fdc23988bad2bc80f7d8984"
   }
  }
 },
 "nbformat": 4,
 "nbformat_minor": 2
}
